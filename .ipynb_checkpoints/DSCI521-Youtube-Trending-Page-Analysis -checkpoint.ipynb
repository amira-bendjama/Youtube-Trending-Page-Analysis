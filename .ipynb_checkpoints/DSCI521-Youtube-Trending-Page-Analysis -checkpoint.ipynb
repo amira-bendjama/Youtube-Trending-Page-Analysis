{
 "cells": [
  {
   "cell_type": "markdown",
   "id": "ffb6222c",
   "metadata": {},
   "source": [
    "# DSCI 521: Data Analysis and Interpretation <br> Term Project Phase 2: Youtube trending page analysis"
   ]
  },
  {
   "cell_type": "markdown",
   "id": "d96ad5a4",
   "metadata": {},
   "source": [
    "## Group members \n",
    "- Group member \n",
    "    - Name: Amira Bendjama\n",
    "    - Email: ab4745@drexel.edu\n",
    "- Group member \n",
    "    - Name: Thuy Hong Doan\n",
    "    - Email: td688@drexel.edu\n",
    "- Group member \n",
    "    - Name: Alsulami Meznah\n",
    "    - Email: mha54@drexel.edu"
   ]
  },
  {
   "cell_type": "markdown",
   "id": "fffda877",
   "metadata": {},
   "source": [
    "## Cleaning Youtube trending dataset \n",
    "\n",
    "Before starting the anaylsis, it is important to clean the dataset that the project relies on. The project cleaning consisted of: \n",
    "- Finding and deleting rows with a missing values, which were mainly in the Description column. \n",
    "- Replacing NaN in description with space.\n",
    "- Deleting rows with comments_disabled=True or ratings_disabled=True.\n",
    "- Fixing the Tags column,by Replacing \"[None]\" with space, and spliting tags with '|' and convert list to one string.\n",
    "- Dropping duplicates rows in video id column.\n",
    "- Converting date columns 'publishedAt', 'trending_date' to datetime type.\n",
    "- Reseting indexing of the dataframe\n"
   ]
  },
  {
   "cell_type": "code",
   "execution_count": 5,
   "id": "565e7698",
   "metadata": {},
   "outputs": [],
   "source": [
    "import pandas as pd\n",
    "import matplotlib.pyplot as plt\n",
    "import numpy as np\n",
    "import seaborn as sns\n",
    "sns.set(style='darkgrid')\n",
    "\n",
    "US_category_id = pd.read_json('data/US_category_id.json')\n",
    "trending_youtube = pd.read_csv('data/US_youtube_trending_data.csv')\n"
   ]
  },
  {
   "cell_type": "code",
   "execution_count": 7,
   "id": "ad0f3e45",
   "metadata": {},
   "outputs": [
    {
     "name": "stdout",
     "output_type": "stream",
     "text": [
      "<class 'pandas.core.frame.DataFrame'>\n",
      "RangeIndex: 180390 entries, 0 to 180389\n",
      "Data columns (total 16 columns):\n",
      " #   Column             Non-Null Count   Dtype \n",
      "---  ------             --------------   ----- \n",
      " 0   video_id           180390 non-null  object\n",
      " 1   title              180390 non-null  object\n",
      " 2   publishedAt        180390 non-null  object\n",
      " 3   channelId          180390 non-null  object\n",
      " 4   channelTitle       180390 non-null  object\n",
      " 5   categoryId         180390 non-null  int64 \n",
      " 6   trending_date      180390 non-null  object\n",
      " 7   tags               180390 non-null  object\n",
      " 8   view_count         180390 non-null  int64 \n",
      " 9   likes              180390 non-null  int64 \n",
      " 10  dislikes           180390 non-null  int64 \n",
      " 11  comment_count      180390 non-null  int64 \n",
      " 12  thumbnail_link     180390 non-null  object\n",
      " 13  comments_disabled  180390 non-null  bool  \n",
      " 14  ratings_disabled   180390 non-null  bool  \n",
      " 15  description        180390 non-null  object\n",
      "dtypes: bool(2), int64(5), object(9)\n",
      "memory usage: 19.6+ MB\n"
     ]
    }
   ],
   "source": [
    "# getting information about the dataset\n",
    "trending_youtube.info()"
   ]
  },
  {
   "cell_type": "code",
   "execution_count": 9,
   "id": "653576bf",
   "metadata": {},
   "outputs": [
    {
     "data": {
      "text/plain": [
       "video_id             0\n",
       "title                0\n",
       "publishedAt          0\n",
       "channelId            0\n",
       "channelTitle         0\n",
       "categoryId           0\n",
       "trending_date        0\n",
       "tags                 0\n",
       "view_count           0\n",
       "likes                0\n",
       "dislikes             0\n",
       "comment_count        0\n",
       "thumbnail_link       0\n",
       "comments_disabled    0\n",
       "ratings_disabled     0\n",
       "description          0\n",
       "dtype: int64"
      ]
     },
     "execution_count": 9,
     "metadata": {},
     "output_type": "execute_result"
    }
   ],
   "source": [
    "# cleaning dataset \n",
    "# number of null values in the dataset\n",
    "trending_youtube.isnull().sum()"
   ]
  },
  {
   "cell_type": "markdown",
   "id": "1bd5b653",
   "metadata": {},
   "source": [
    "The description column has all null values. These are some of the rows whose description values are null."
   ]
  },
  {
   "cell_type": "code",
   "execution_count": 11,
   "id": "65e1bb7d",
   "metadata": {},
   "outputs": [
    {
     "data": {
      "text/html": [
       "<div>\n",
       "<style scoped>\n",
       "    .dataframe tbody tr th:only-of-type {\n",
       "        vertical-align: middle;\n",
       "    }\n",
       "\n",
       "    .dataframe tbody tr th {\n",
       "        vertical-align: top;\n",
       "    }\n",
       "\n",
       "    .dataframe thead th {\n",
       "        text-align: right;\n",
       "    }\n",
       "</style>\n",
       "<table border=\"1\" class=\"dataframe\">\n",
       "  <thead>\n",
       "    <tr style=\"text-align: right;\">\n",
       "      <th></th>\n",
       "      <th>video_id</th>\n",
       "      <th>title</th>\n",
       "      <th>publishedAt</th>\n",
       "      <th>channelId</th>\n",
       "      <th>channelTitle</th>\n",
       "      <th>categoryId</th>\n",
       "      <th>trending_date</th>\n",
       "      <th>tags</th>\n",
       "      <th>view_count</th>\n",
       "      <th>likes</th>\n",
       "      <th>dislikes</th>\n",
       "      <th>comment_count</th>\n",
       "      <th>thumbnail_link</th>\n",
       "      <th>comments_disabled</th>\n",
       "      <th>ratings_disabled</th>\n",
       "      <th>description</th>\n",
       "    </tr>\n",
       "  </thead>\n",
       "  <tbody>\n",
       "  </tbody>\n",
       "</table>\n",
       "</div>"
      ],
      "text/plain": [
       "Empty DataFrame\n",
       "Columns: [video_id, title, publishedAt, channelId, channelTitle, categoryId, trending_date, tags, view_count, likes, dislikes, comment_count, thumbnail_link, comments_disabled, ratings_disabled, description]\n",
       "Index: []"
      ]
     },
     "execution_count": 11,
     "metadata": {},
     "output_type": "execute_result"
    }
   ],
   "source": [
    "trending_youtube[trending_youtube[\"description\"].apply(lambda x: pd.isna(x))].head(3)"
   ]
  },
  {
   "cell_type": "code",
   "execution_count": 13,
   "id": "ae50ecec",
   "metadata": {},
   "outputs": [],
   "source": [
    "# Replace NaN in description with space\n",
    "trending_youtube[\"description\"].fillna(\" \", inplace=True)\n",
    "# Delete all rows with a missing values if any\n",
    "trending_youtube.dropna(inplace=True)"
   ]
  },
  {
   "cell_type": "code",
   "execution_count": 15,
   "id": "e90d891c",
   "metadata": {
    "scrolled": false
   },
   "outputs": [
    {
     "data": {
      "text/plain": [
       "0"
      ]
     },
     "execution_count": 15,
     "metadata": {},
     "output_type": "execute_result"
    }
   ],
   "source": [
    "# checking for the NAN values\n",
    "trending_youtube.isnull().sum().sum()"
   ]
  },
  {
   "cell_type": "code",
   "execution_count": 17,
   "id": "26a0c19c",
   "metadata": {},
   "outputs": [
    {
     "data": {
      "text/plain": [
       "(177001, 16)"
      ]
     },
     "execution_count": 17,
     "metadata": {},
     "output_type": "execute_result"
    }
   ],
   "source": [
    "trending_youtube.shape"
   ]
  },
  {
   "cell_type": "markdown",
   "id": "0ea7da0f",
   "metadata": {},
   "source": [
    "Since our main focus is to find factors that effect the trending of a video, any videos with disbaled comments of ratings will be exculded from our project."
   ]
  },
  {
   "cell_type": "code",
   "execution_count": 19,
   "id": "51e4d117",
   "metadata": {},
   "outputs": [
    {
     "data": {
      "text/plain": [
       "(177001, 16)"
      ]
     },
     "execution_count": 19,
     "metadata": {},
     "output_type": "execute_result"
    }
   ],
   "source": [
    "# delete rows with comments_disabled=True or ratings_disabled=True\n",
    "trending_youtube = trending_youtube[(trending_youtube['comments_disabled'] == False) &\n",
    "                    (trending_youtube['ratings_disabled'] == False)]\n",
    "trending_youtube.shape"
   ]
  },
  {
   "cell_type": "code",
   "execution_count": 21,
   "id": "ccb09104",
   "metadata": {
    "scrolled": false
   },
   "outputs": [
    {
     "data": {
      "text/plain": [
       "0    brawadis prank basketball skits ghost funny vi...\n",
       "1    Apex Legends Apex Legends characters new Apex ...\n",
       "2    jacksepticeye funny funny meme memes jacksepti...\n",
       "3    xxl freshman xxl freshmen 2020 xxl freshman 20...\n",
       "4    The LaBrant Family DIY Interior Design Makeove...\n",
       "5    Professor injury professor achilles professor ...\n",
       "6                                                     \n",
       "7                     cgpgrey education hello internet\n",
       "8    surprising dad father papa with dream car truc...\n",
       "9    Vengo De Nada Aleman Ovi Big Soto Trap Ovi Nat...\n",
       "Name: tags, dtype: object"
      ]
     },
     "execution_count": 21,
     "metadata": {},
     "output_type": "execute_result"
    }
   ],
   "source": [
    "trending_youtube[\"tags\"].head(10)"
   ]
  },
  {
   "cell_type": "markdown",
   "id": "dcb233fd",
   "metadata": {},
   "source": [
    "Tags columns is not comphrensive, that's why we need to convert \"none\" values into empty string and remove \"|\" to form one string for each row."
   ]
  },
  {
   "cell_type": "code",
   "execution_count": 23,
   "id": "2c41c455",
   "metadata": {
    "scrolled": true
   },
   "outputs": [
    {
     "data": {
      "text/plain": [
       "0    brawadis prank basketball skits ghost funny vi...\n",
       "1    Apex Legends Apex Legends characters new Apex ...\n",
       "2    jacksepticeye funny funny meme memes jacksepti...\n",
       "3    xxl freshman xxl freshmen 2020 xxl freshman 20...\n",
       "4    The LaBrant Family DIY Interior Design Makeove...\n",
       "5    Professor injury professor achilles professor ...\n",
       "6                                                     \n",
       "7                     cgpgrey education hello internet\n",
       "8    surprising dad father papa with dream car truc...\n",
       "9    Vengo De Nada Aleman Ovi Big Soto Trap Ovi Nat...\n",
       "Name: tags, dtype: object"
      ]
     },
     "execution_count": 23,
     "metadata": {},
     "output_type": "execute_result"
    }
   ],
   "source": [
    "# Replace [None] in tags with space \n",
    "trending_youtube.loc[trending_youtube['tags'] == '[None]', 'tags'] = ' '\n",
    "# split tags with '|' and convert list to one string\n",
    "trending_youtube['tags'] = [' '.join(tag) \\\n",
    "                       for tag in trending_youtube['tags'].str.split('|')]\n",
    "\n",
    "trending_youtube[\"tags\"].head(10)"
   ]
  },
  {
   "cell_type": "markdown",
   "id": "5b2ad6bd",
   "metadata": {},
   "source": [
    "There is a lot of duplicates rows in the dataset, where we can verify using video id column and unique() to get the real size of nonduplicates rows. That's any row with duplicate title and video id will be dropped from the dataset."
   ]
  },
  {
   "cell_type": "code",
   "execution_count": 25,
   "id": "3c70b1cd",
   "metadata": {
    "scrolled": false
   },
   "outputs": [
    {
     "data": {
      "text/plain": [
       "32449"
      ]
     },
     "execution_count": 25,
     "metadata": {},
     "output_type": "execute_result"
    }
   ],
   "source": [
    "len(trending_youtube['video_id'].unique())"
   ]
  },
  {
   "cell_type": "code",
   "execution_count": 27,
   "id": "d0871887",
   "metadata": {},
   "outputs": [
    {
     "data": {
      "text/plain": [
       "177001"
      ]
     },
     "execution_count": 27,
     "metadata": {},
     "output_type": "execute_result"
    }
   ],
   "source": [
    "len(trending_youtube['video_id'])"
   ]
  },
  {
   "cell_type": "code",
   "execution_count": 29,
   "id": "c391fa75",
   "metadata": {
    "scrolled": false
   },
   "outputs": [
    {
     "data": {
      "text/html": [
       "<div>\n",
       "<style scoped>\n",
       "    .dataframe tbody tr th:only-of-type {\n",
       "        vertical-align: middle;\n",
       "    }\n",
       "\n",
       "    .dataframe tbody tr th {\n",
       "        vertical-align: top;\n",
       "    }\n",
       "\n",
       "    .dataframe thead th {\n",
       "        text-align: right;\n",
       "    }\n",
       "</style>\n",
       "<table border=\"1\" class=\"dataframe\">\n",
       "  <thead>\n",
       "    <tr style=\"text-align: right;\">\n",
       "      <th></th>\n",
       "      <th>video_id</th>\n",
       "      <th>title</th>\n",
       "      <th>publishedAt</th>\n",
       "      <th>channelId</th>\n",
       "      <th>channelTitle</th>\n",
       "      <th>categoryId</th>\n",
       "      <th>trending_date</th>\n",
       "      <th>tags</th>\n",
       "      <th>view_count</th>\n",
       "      <th>likes</th>\n",
       "      <th>dislikes</th>\n",
       "      <th>comment_count</th>\n",
       "      <th>thumbnail_link</th>\n",
       "      <th>comments_disabled</th>\n",
       "      <th>ratings_disabled</th>\n",
       "      <th>description</th>\n",
       "    </tr>\n",
       "  </thead>\n",
       "  <tbody>\n",
       "    <tr>\n",
       "      <th>751</th>\n",
       "      <td>fITRL6oXWao</td>\n",
       "      <td>Dame Drops 61 As Portland's Playoff Quest Cont...</td>\n",
       "      <td>2020-08-12T04:13:09Z</td>\n",
       "      <td>UCU7iRrk3xfpUk0R6VdyC1Ow</td>\n",
       "      <td>NBA on TNT</td>\n",
       "      <td>17</td>\n",
       "      <td>2020-08-15T00:00:00Z</td>\n",
       "      <td>NBA on TNT NBA Inside the NBA Charles Barkley ...</td>\n",
       "      <td>466256</td>\n",
       "      <td>5636</td>\n",
       "      <td>182</td>\n",
       "      <td>1130</td>\n",
       "      <td>https://i.ytimg.com/vi/fITRL6oXWao/default.jpg</td>\n",
       "      <td>False</td>\n",
       "      <td>False</td>\n",
       "      <td>The Tuesday crew discusses Damian Lillard's cl...</td>\n",
       "    </tr>\n",
       "    <tr>\n",
       "      <th>981</th>\n",
       "      <td>JJk1ji23Ey8</td>\n",
       "      <td>Veggie &amp; Fish Tank</td>\n",
       "      <td>2020-08-11T11:08:04Z</td>\n",
       "      <td>UCRxAgfYexGLlu1WHGIMUDqw</td>\n",
       "      <td>JunsKitchen</td>\n",
       "      <td>26</td>\n",
       "      <td>2020-08-16T00:00:00Z</td>\n",
       "      <td>taking cats walk jun junskitchen juns kitchen ...</td>\n",
       "      <td>616413</td>\n",
       "      <td>82601</td>\n",
       "      <td>236</td>\n",
       "      <td>4272</td>\n",
       "      <td>https://i.ytimg.com/vi/JJk1ji23Ey8/default.jpg</td>\n",
       "      <td>False</td>\n",
       "      <td>False</td>\n",
       "      <td>I've been wanting to do aquaponics (growing ve...</td>\n",
       "    </tr>\n",
       "    <tr>\n",
       "      <th>1161</th>\n",
       "      <td>W7VK4DUHvKU</td>\n",
       "      <td>Lil Yachty - Pardon Me ft. Future, Mike WiLL M...</td>\n",
       "      <td>2020-08-11T19:00:10Z</td>\n",
       "      <td>UC1X3TRsCt36QPjF1p5f3HTg</td>\n",
       "      <td>LilYachtyVEVO</td>\n",
       "      <td>10</td>\n",
       "      <td>2020-08-17T00:00:00Z</td>\n",
       "      <td>Lil Yachty Lil Boat 3 Future Lil Yachty Pardon...</td>\n",
       "      <td>1390669</td>\n",
       "      <td>70722</td>\n",
       "      <td>1051</td>\n",
       "      <td>3228</td>\n",
       "      <td>https://i.ytimg.com/vi/W7VK4DUHvKU/default.jpg</td>\n",
       "      <td>False</td>\n",
       "      <td>False</td>\n",
       "      <td>Watch the official video for Lil Yachty &amp; Futu...</td>\n",
       "    </tr>\n",
       "    <tr>\n",
       "      <th>1379</th>\n",
       "      <td>rYErvhVhlzU</td>\n",
       "      <td>Did Late Night TV Change in 2020?</td>\n",
       "      <td>2020-08-13T16:00:13Z</td>\n",
       "      <td>UCuo9VyowIT-ljA5G2ZuC6Yw</td>\n",
       "      <td>Eddy Burback</td>\n",
       "      <td>23</td>\n",
       "      <td>2020-08-18T00:00:00Z</td>\n",
       "      <td>eddy burback</td>\n",
       "      <td>378916</td>\n",
       "      <td>44584</td>\n",
       "      <td>439</td>\n",
       "      <td>2686</td>\n",
       "      <td>https://i.ytimg.com/vi/rYErvhVhlzU/default.jpg</td>\n",
       "      <td>False</td>\n",
       "      <td>False</td>\n",
       "      <td>Go to https://buyraycon.com/eddy for 15% off y...</td>\n",
       "    </tr>\n",
       "    <tr>\n",
       "      <th>1593</th>\n",
       "      <td>dANJlolAYyA</td>\n",
       "      <td>Machine Gun Kelly - concert for aliens</td>\n",
       "      <td>2020-08-13T17:00:11Z</td>\n",
       "      <td>UC2a9zmrdjvLsrRgi4G4blWw</td>\n",
       "      <td>MGKVEVO</td>\n",
       "      <td>10</td>\n",
       "      <td>2020-08-19T00:00:00Z</td>\n",
       "      <td>Machine Gun Kelly concert for aliens Bad Boy/I...</td>\n",
       "      <td>1834901</td>\n",
       "      <td>127127</td>\n",
       "      <td>4211</td>\n",
       "      <td>8808</td>\n",
       "      <td>https://i.ytimg.com/vi/dANJlolAYyA/default.jpg</td>\n",
       "      <td>False</td>\n",
       "      <td>False</td>\n",
       "      <td>Machine Gun Kelly - concert for aliens is avai...</td>\n",
       "    </tr>\n",
       "    <tr>\n",
       "      <th>...</th>\n",
       "      <td>...</td>\n",
       "      <td>...</td>\n",
       "      <td>...</td>\n",
       "      <td>...</td>\n",
       "      <td>...</td>\n",
       "      <td>...</td>\n",
       "      <td>...</td>\n",
       "      <td>...</td>\n",
       "      <td>...</td>\n",
       "      <td>...</td>\n",
       "      <td>...</td>\n",
       "      <td>...</td>\n",
       "      <td>...</td>\n",
       "      <td>...</td>\n",
       "      <td>...</td>\n",
       "      <td>...</td>\n",
       "    </tr>\n",
       "    <tr>\n",
       "      <th>180245</th>\n",
       "      <td>CwaKooHmJOM</td>\n",
       "      <td>Dallas Cowboys vs. San Francisco 49ers | 2022 ...</td>\n",
       "      <td>2023-01-23T02:58:23Z</td>\n",
       "      <td>UCDVYQ4Zhbm3S2dlz7P1GBDg</td>\n",
       "      <td>NFL</td>\n",
       "      <td>17</td>\n",
       "      <td>2023-01-26T00:00:00Z</td>\n",
       "      <td></td>\n",
       "      <td>4016354</td>\n",
       "      <td>41846</td>\n",
       "      <td>0</td>\n",
       "      <td>9508</td>\n",
       "      <td>https://i.ytimg.com/vi/CwaKooHmJOM/default.jpg</td>\n",
       "      <td>False</td>\n",
       "      <td>False</td>\n",
       "      <td>Check out our other channels:NFL Mundo https:/...</td>\n",
       "    </tr>\n",
       "    <tr>\n",
       "      <th>180257</th>\n",
       "      <td>A1Gy5nJ6GGE</td>\n",
       "      <td>The US Soldiers Leaking Nuclear Secrets | Inve...</td>\n",
       "      <td>2023-01-23T17:00:06Z</td>\n",
       "      <td>UCZaT_X_mc0BI-djXOlfhqWQ</td>\n",
       "      <td>VICE News</td>\n",
       "      <td>25</td>\n",
       "      <td>2023-01-26T00:00:00Z</td>\n",
       "      <td>VICE News VICE News Tonight VICE on HBO news v...</td>\n",
       "      <td>985371</td>\n",
       "      <td>25717</td>\n",
       "      <td>0</td>\n",
       "      <td>3115</td>\n",
       "      <td>https://i.ytimg.com/vi/A1Gy5nJ6GGE/default.jpg</td>\n",
       "      <td>False</td>\n",
       "      <td>False</td>\n",
       "      <td>US nuclear weapons are stored across Europe bu...</td>\n",
       "    </tr>\n",
       "    <tr>\n",
       "      <th>180283</th>\n",
       "      <td>UkeGQotnsDU</td>\n",
       "      <td>Why Fuel Injectors are AWESOME (28,000 fps Slo...</td>\n",
       "      <td>2023-01-22T14:59:32Z</td>\n",
       "      <td>UC6107grRI4m0o2-emgoDnAA</td>\n",
       "      <td>SmarterEveryDay</td>\n",
       "      <td>28</td>\n",
       "      <td>2023-01-26T00:00:00Z</td>\n",
       "      <td>Smarter Every Day Science Physics Destin Sandl...</td>\n",
       "      <td>1264730</td>\n",
       "      <td>57293</td>\n",
       "      <td>0</td>\n",
       "      <td>3638</td>\n",
       "      <td>https://i.ytimg.com/vi/UkeGQotnsDU/default.jpg</td>\n",
       "      <td>False</td>\n",
       "      <td>False</td>\n",
       "      <td>Smarter Every Day on Patreon: http://www.patre...</td>\n",
       "    </tr>\n",
       "    <tr>\n",
       "      <th>180291</th>\n",
       "      <td>PKvKOJZcT-s</td>\n",
       "      <td>Realities of Winter In A Ghost Town</td>\n",
       "      <td>2023-01-22T21:00:07Z</td>\n",
       "      <td>UCEjBDKfrqQI4TgzT9YLNT8g</td>\n",
       "      <td>Ghost Town Living</td>\n",
       "      <td>22</td>\n",
       "      <td>2023-01-26T00:00:00Z</td>\n",
       "      <td></td>\n",
       "      <td>464446</td>\n",
       "      <td>28176</td>\n",
       "      <td>0</td>\n",
       "      <td>2455</td>\n",
       "      <td>https://i.ytimg.com/vi/PKvKOJZcT-s/default.jpg</td>\n",
       "      <td>False</td>\n",
       "      <td>False</td>\n",
       "      <td>To get 5 free travel packs of AG1 and a year s...</td>\n",
       "    </tr>\n",
       "    <tr>\n",
       "      <th>180375</th>\n",
       "      <td>hYfysByS27Q</td>\n",
       "      <td>Snowmobile Grinds Skateboard Rail</td>\n",
       "      <td>2023-01-20T00:58:47Z</td>\n",
       "      <td>UCBNnILlexKYtJu-EGUvq_iA</td>\n",
       "      <td>CboysTV</td>\n",
       "      <td>22</td>\n",
       "      <td>2023-01-26T00:00:00Z</td>\n",
       "      <td>Cboystv fast facebook marketplace fail wheelie...</td>\n",
       "      <td>799055</td>\n",
       "      <td>31120</td>\n",
       "      <td>0</td>\n",
       "      <td>1446</td>\n",
       "      <td>https://i.ytimg.com/vi/hYfysByS27Q/default.jpg</td>\n",
       "      <td>False</td>\n",
       "      <td>False</td>\n",
       "      <td>Check out: https://www.celsius.com/ #celsiusli...</td>\n",
       "    </tr>\n",
       "  </tbody>\n",
       "</table>\n",
       "<p>1012 rows × 16 columns</p>\n",
       "</div>"
      ],
      "text/plain": [
       "           video_id                                              title  \\\n",
       "751     fITRL6oXWao  Dame Drops 61 As Portland's Playoff Quest Cont...   \n",
       "981     JJk1ji23Ey8                                 Veggie & Fish Tank   \n",
       "1161    W7VK4DUHvKU  Lil Yachty - Pardon Me ft. Future, Mike WiLL M...   \n",
       "1379    rYErvhVhlzU                  Did Late Night TV Change in 2020?   \n",
       "1593    dANJlolAYyA             Machine Gun Kelly - concert for aliens   \n",
       "...             ...                                                ...   \n",
       "180245  CwaKooHmJOM  Dallas Cowboys vs. San Francisco 49ers | 2022 ...   \n",
       "180257  A1Gy5nJ6GGE  The US Soldiers Leaking Nuclear Secrets | Inve...   \n",
       "180283  UkeGQotnsDU  Why Fuel Injectors are AWESOME (28,000 fps Slo...   \n",
       "180291  PKvKOJZcT-s                Realities of Winter In A Ghost Town   \n",
       "180375  hYfysByS27Q                  Snowmobile Grinds Skateboard Rail   \n",
       "\n",
       "                 publishedAt                 channelId       channelTitle  \\\n",
       "751     2020-08-12T04:13:09Z  UCU7iRrk3xfpUk0R6VdyC1Ow         NBA on TNT   \n",
       "981     2020-08-11T11:08:04Z  UCRxAgfYexGLlu1WHGIMUDqw        JunsKitchen   \n",
       "1161    2020-08-11T19:00:10Z  UC1X3TRsCt36QPjF1p5f3HTg      LilYachtyVEVO   \n",
       "1379    2020-08-13T16:00:13Z  UCuo9VyowIT-ljA5G2ZuC6Yw       Eddy Burback   \n",
       "1593    2020-08-13T17:00:11Z  UC2a9zmrdjvLsrRgi4G4blWw            MGKVEVO   \n",
       "...                      ...                       ...                ...   \n",
       "180245  2023-01-23T02:58:23Z  UCDVYQ4Zhbm3S2dlz7P1GBDg                NFL   \n",
       "180257  2023-01-23T17:00:06Z  UCZaT_X_mc0BI-djXOlfhqWQ          VICE News   \n",
       "180283  2023-01-22T14:59:32Z  UC6107grRI4m0o2-emgoDnAA    SmarterEveryDay   \n",
       "180291  2023-01-22T21:00:07Z  UCEjBDKfrqQI4TgzT9YLNT8g  Ghost Town Living   \n",
       "180375  2023-01-20T00:58:47Z  UCBNnILlexKYtJu-EGUvq_iA            CboysTV   \n",
       "\n",
       "        categoryId         trending_date  \\\n",
       "751             17  2020-08-15T00:00:00Z   \n",
       "981             26  2020-08-16T00:00:00Z   \n",
       "1161            10  2020-08-17T00:00:00Z   \n",
       "1379            23  2020-08-18T00:00:00Z   \n",
       "1593            10  2020-08-19T00:00:00Z   \n",
       "...            ...                   ...   \n",
       "180245          17  2023-01-26T00:00:00Z   \n",
       "180257          25  2023-01-26T00:00:00Z   \n",
       "180283          28  2023-01-26T00:00:00Z   \n",
       "180291          22  2023-01-26T00:00:00Z   \n",
       "180375          22  2023-01-26T00:00:00Z   \n",
       "\n",
       "                                                     tags  view_count   likes  \\\n",
       "751     NBA on TNT NBA Inside the NBA Charles Barkley ...      466256    5636   \n",
       "981     taking cats walk jun junskitchen juns kitchen ...      616413   82601   \n",
       "1161    Lil Yachty Lil Boat 3 Future Lil Yachty Pardon...     1390669   70722   \n",
       "1379                                         eddy burback      378916   44584   \n",
       "1593    Machine Gun Kelly concert for aliens Bad Boy/I...     1834901  127127   \n",
       "...                                                   ...         ...     ...   \n",
       "180245                                                        4016354   41846   \n",
       "180257  VICE News VICE News Tonight VICE on HBO news v...      985371   25717   \n",
       "180283  Smarter Every Day Science Physics Destin Sandl...     1264730   57293   \n",
       "180291                                                         464446   28176   \n",
       "180375  Cboystv fast facebook marketplace fail wheelie...      799055   31120   \n",
       "\n",
       "        dislikes  comment_count  \\\n",
       "751          182           1130   \n",
       "981          236           4272   \n",
       "1161        1051           3228   \n",
       "1379         439           2686   \n",
       "1593        4211           8808   \n",
       "...          ...            ...   \n",
       "180245         0           9508   \n",
       "180257         0           3115   \n",
       "180283         0           3638   \n",
       "180291         0           2455   \n",
       "180375         0           1446   \n",
       "\n",
       "                                        thumbnail_link  comments_disabled  \\\n",
       "751     https://i.ytimg.com/vi/fITRL6oXWao/default.jpg              False   \n",
       "981     https://i.ytimg.com/vi/JJk1ji23Ey8/default.jpg              False   \n",
       "1161    https://i.ytimg.com/vi/W7VK4DUHvKU/default.jpg              False   \n",
       "1379    https://i.ytimg.com/vi/rYErvhVhlzU/default.jpg              False   \n",
       "1593    https://i.ytimg.com/vi/dANJlolAYyA/default.jpg              False   \n",
       "...                                                ...                ...   \n",
       "180245  https://i.ytimg.com/vi/CwaKooHmJOM/default.jpg              False   \n",
       "180257  https://i.ytimg.com/vi/A1Gy5nJ6GGE/default.jpg              False   \n",
       "180283  https://i.ytimg.com/vi/UkeGQotnsDU/default.jpg              False   \n",
       "180291  https://i.ytimg.com/vi/PKvKOJZcT-s/default.jpg              False   \n",
       "180375  https://i.ytimg.com/vi/hYfysByS27Q/default.jpg              False   \n",
       "\n",
       "        ratings_disabled                                        description  \n",
       "751                False  The Tuesday crew discusses Damian Lillard's cl...  \n",
       "981                False  I've been wanting to do aquaponics (growing ve...  \n",
       "1161               False  Watch the official video for Lil Yachty & Futu...  \n",
       "1379               False  Go to https://buyraycon.com/eddy for 15% off y...  \n",
       "1593               False  Machine Gun Kelly - concert for aliens is avai...  \n",
       "...                  ...                                                ...  \n",
       "180245             False  Check out our other channels:NFL Mundo https:/...  \n",
       "180257             False  US nuclear weapons are stored across Europe bu...  \n",
       "180283             False  Smarter Every Day on Patreon: http://www.patre...  \n",
       "180291             False  To get 5 free travel packs of AG1 and a year s...  \n",
       "180375             False  Check out: https://www.celsius.com/ #celsiusli...  \n",
       "\n",
       "[1012 rows x 16 columns]"
      ]
     },
     "execution_count": 29,
     "metadata": {},
     "output_type": "execute_result"
    }
   ],
   "source": [
    "# .drop_duplicates()\n",
    "# these are the duplicate values with same video id\n",
    "duplicates = trending_youtube[trending_youtube['video_id'].duplicated() == True]\n",
    "duplicates"
   ]
  },
  {
   "cell_type": "markdown",
   "id": "0c355f74",
   "metadata": {},
   "source": [
    "There is almost 7 duplicates for a single video! since while collecting dataset, the video can remain in the trending page for a while so when collecting the dataset it will get the video multiple times but with different viewer count and comments and other variables. so when we drop our duplicates we make sure to leave the last time the video was trending. "
   ]
  },
  {
   "cell_type": "code",
   "execution_count": 31,
   "id": "78fbba55",
   "metadata": {},
   "outputs": [
    {
     "data": {
      "text/html": [
       "<div>\n",
       "<style scoped>\n",
       "    .dataframe tbody tr th:only-of-type {\n",
       "        vertical-align: middle;\n",
       "    }\n",
       "\n",
       "    .dataframe tbody tr th {\n",
       "        vertical-align: top;\n",
       "    }\n",
       "\n",
       "    .dataframe thead th {\n",
       "        text-align: right;\n",
       "    }\n",
       "</style>\n",
       "<table border=\"1\" class=\"dataframe\">\n",
       "  <thead>\n",
       "    <tr style=\"text-align: right;\">\n",
       "      <th></th>\n",
       "      <th>video_id</th>\n",
       "      <th>title</th>\n",
       "      <th>publishedAt</th>\n",
       "      <th>channelId</th>\n",
       "      <th>channelTitle</th>\n",
       "      <th>categoryId</th>\n",
       "      <th>trending_date</th>\n",
       "      <th>tags</th>\n",
       "      <th>view_count</th>\n",
       "      <th>likes</th>\n",
       "      <th>dislikes</th>\n",
       "      <th>comment_count</th>\n",
       "      <th>thumbnail_link</th>\n",
       "      <th>comments_disabled</th>\n",
       "      <th>ratings_disabled</th>\n",
       "      <th>description</th>\n",
       "    </tr>\n",
       "  </thead>\n",
       "  <tbody>\n",
       "    <tr>\n",
       "      <th>1399</th>\n",
       "      <td>J78aPJ3VyNs</td>\n",
       "      <td>I left youtube for a month and THIS is what ha...</td>\n",
       "      <td>2020-08-11T16:34:06Z</td>\n",
       "      <td>UCYzPXprvl5Y-Sf0g4vX-m6g</td>\n",
       "      <td>jacksepticeye</td>\n",
       "      <td>24</td>\n",
       "      <td>2020-08-18T00:00:00Z</td>\n",
       "      <td>jacksepticeye funny funny meme memes jacksepti...</td>\n",
       "      <td>3490530</td>\n",
       "      <td>457130</td>\n",
       "      <td>4269</td>\n",
       "      <td>47291</td>\n",
       "      <td>https://i.ytimg.com/vi/J78aPJ3VyNs/default.jpg</td>\n",
       "      <td>False</td>\n",
       "      <td>False</td>\n",
       "      <td>I left youtube for a month and this is what ha...</td>\n",
       "    </tr>\n",
       "  </tbody>\n",
       "</table>\n",
       "</div>"
      ],
      "text/plain": [
       "         video_id                                              title  \\\n",
       "1399  J78aPJ3VyNs  I left youtube for a month and THIS is what ha...   \n",
       "\n",
       "               publishedAt                 channelId   channelTitle  \\\n",
       "1399  2020-08-11T16:34:06Z  UCYzPXprvl5Y-Sf0g4vX-m6g  jacksepticeye   \n",
       "\n",
       "      categoryId         trending_date  \\\n",
       "1399          24  2020-08-18T00:00:00Z   \n",
       "\n",
       "                                                   tags  view_count   likes  \\\n",
       "1399  jacksepticeye funny funny meme memes jacksepti...     3490530  457130   \n",
       "\n",
       "      dislikes  comment_count                                  thumbnail_link  \\\n",
       "1399      4269          47291  https://i.ytimg.com/vi/J78aPJ3VyNs/default.jpg   \n",
       "\n",
       "      comments_disabled  ratings_disabled  \\\n",
       "1399              False             False   \n",
       "\n",
       "                                            description  \n",
       "1399  I left youtube for a month and this is what ha...  "
      ]
     },
     "execution_count": 31,
     "metadata": {},
     "output_type": "execute_result"
    }
   ],
   "source": [
    "trending_youtube[trending_youtube['video_id'] == \"J78aPJ3VyNs\"]"
   ]
  },
  {
   "cell_type": "code",
   "execution_count": 33,
   "id": "811ea33d",
   "metadata": {},
   "outputs": [
    {
     "data": {
      "text/plain": [
       "1012"
      ]
     },
     "execution_count": 33,
     "metadata": {},
     "output_type": "execute_result"
    }
   ],
   "source": [
    "len(duplicates['video_id'])"
   ]
  },
  {
   "cell_type": "code",
   "execution_count": 35,
   "id": "d3b34caf",
   "metadata": {},
   "outputs": [],
   "source": [
    "trending_youtube.drop_duplicates(subset=['title','video_id'], keep='last' , inplace= True)"
   ]
  },
  {
   "cell_type": "code",
   "execution_count": 37,
   "id": "06874b7a",
   "metadata": {},
   "outputs": [
    {
     "data": {
      "text/html": [
       "<div>\n",
       "<style scoped>\n",
       "    .dataframe tbody tr th:only-of-type {\n",
       "        vertical-align: middle;\n",
       "    }\n",
       "\n",
       "    .dataframe tbody tr th {\n",
       "        vertical-align: top;\n",
       "    }\n",
       "\n",
       "    .dataframe thead th {\n",
       "        text-align: right;\n",
       "    }\n",
       "</style>\n",
       "<table border=\"1\" class=\"dataframe\">\n",
       "  <thead>\n",
       "    <tr style=\"text-align: right;\">\n",
       "      <th></th>\n",
       "      <th>video_id</th>\n",
       "      <th>title</th>\n",
       "      <th>publishedAt</th>\n",
       "      <th>channelId</th>\n",
       "      <th>channelTitle</th>\n",
       "      <th>categoryId</th>\n",
       "      <th>trending_date</th>\n",
       "      <th>tags</th>\n",
       "      <th>view_count</th>\n",
       "      <th>likes</th>\n",
       "      <th>dislikes</th>\n",
       "      <th>comment_count</th>\n",
       "      <th>thumbnail_link</th>\n",
       "      <th>comments_disabled</th>\n",
       "      <th>ratings_disabled</th>\n",
       "      <th>description</th>\n",
       "    </tr>\n",
       "  </thead>\n",
       "  <tbody>\n",
       "    <tr>\n",
       "      <th>1399</th>\n",
       "      <td>J78aPJ3VyNs</td>\n",
       "      <td>I left youtube for a month and THIS is what ha...</td>\n",
       "      <td>2020-08-11T16:34:06Z</td>\n",
       "      <td>UCYzPXprvl5Y-Sf0g4vX-m6g</td>\n",
       "      <td>jacksepticeye</td>\n",
       "      <td>24</td>\n",
       "      <td>2020-08-18T00:00:00Z</td>\n",
       "      <td>jacksepticeye funny funny meme memes jacksepti...</td>\n",
       "      <td>3490530</td>\n",
       "      <td>457130</td>\n",
       "      <td>4269</td>\n",
       "      <td>47291</td>\n",
       "      <td>https://i.ytimg.com/vi/J78aPJ3VyNs/default.jpg</td>\n",
       "      <td>False</td>\n",
       "      <td>False</td>\n",
       "      <td>I left youtube for a month and this is what ha...</td>\n",
       "    </tr>\n",
       "  </tbody>\n",
       "</table>\n",
       "</div>"
      ],
      "text/plain": [
       "         video_id                                              title  \\\n",
       "1399  J78aPJ3VyNs  I left youtube for a month and THIS is what ha...   \n",
       "\n",
       "               publishedAt                 channelId   channelTitle  \\\n",
       "1399  2020-08-11T16:34:06Z  UCYzPXprvl5Y-Sf0g4vX-m6g  jacksepticeye   \n",
       "\n",
       "      categoryId         trending_date  \\\n",
       "1399          24  2020-08-18T00:00:00Z   \n",
       "\n",
       "                                                   tags  view_count   likes  \\\n",
       "1399  jacksepticeye funny funny meme memes jacksepti...     3490530  457130   \n",
       "\n",
       "      dislikes  comment_count                                  thumbnail_link  \\\n",
       "1399      4269          47291  https://i.ytimg.com/vi/J78aPJ3VyNs/default.jpg   \n",
       "\n",
       "      comments_disabled  ratings_disabled  \\\n",
       "1399              False             False   \n",
       "\n",
       "                                            description  \n",
       "1399  I left youtube for a month and this is what ha...  "
      ]
     },
     "execution_count": 37,
     "metadata": {},
     "output_type": "execute_result"
    }
   ],
   "source": [
    "# last updated video before leaving the trending page\n",
    "trending_youtube[trending_youtube['video_id'] == \"J78aPJ3VyNs\"]"
   ]
  },
  {
   "cell_type": "code",
   "execution_count": 39,
   "id": "d0f455fa",
   "metadata": {
    "scrolled": true
   },
   "outputs": [
    {
     "data": {
      "text/plain": [
       "33461"
      ]
     },
     "execution_count": 39,
     "metadata": {},
     "output_type": "execute_result"
    }
   ],
   "source": [
    "len(trending_youtube)"
   ]
  },
  {
   "cell_type": "markdown",
   "id": "3ff4a40b",
   "metadata": {},
   "source": [
    "Converting date columns from object to datetime type, to easily manipulate them in the analysis."
   ]
  },
  {
   "cell_type": "code",
   "execution_count": 41,
   "id": "14a13b96",
   "metadata": {},
   "outputs": [
    {
     "data": {
      "text/plain": [
       "video_id                     object\n",
       "title                        object\n",
       "publishedAt          datetime64[ns]\n",
       "channelId                    object\n",
       "channelTitle                 object\n",
       "categoryId                    int64\n",
       "trending_date        datetime64[ns]\n",
       "tags                         object\n",
       "view_count                    int64\n",
       "likes                         int64\n",
       "dislikes                      int64\n",
       "comment_count                 int64\n",
       "thumbnail_link               object\n",
       "comments_disabled              bool\n",
       "ratings_disabled               bool\n",
       "description                  object\n",
       "dtype: object"
      ]
     },
     "execution_count": 41,
     "metadata": {},
     "output_type": "execute_result"
    }
   ],
   "source": [
    "trending_youtube.dtypes"
   ]
  },
  {
   "cell_type": "code",
   "execution_count": 43,
   "id": "448e273e",
   "metadata": {},
   "outputs": [
    {
     "data": {
      "text/html": [
       "<div>\n",
       "<style scoped>\n",
       "    .dataframe tbody tr th:only-of-type {\n",
       "        vertical-align: middle;\n",
       "    }\n",
       "\n",
       "    .dataframe tbody tr th {\n",
       "        vertical-align: top;\n",
       "    }\n",
       "\n",
       "    .dataframe thead th {\n",
       "        text-align: right;\n",
       "    }\n",
       "</style>\n",
       "<table border=\"1\" class=\"dataframe\">\n",
       "  <thead>\n",
       "    <tr style=\"text-align: right;\">\n",
       "      <th></th>\n",
       "      <th>publishedAt</th>\n",
       "      <th>trending_date</th>\n",
       "    </tr>\n",
       "  </thead>\n",
       "  <tbody>\n",
       "    <tr>\n",
       "      <th>13</th>\n",
       "      <td>2020-08-11 19:00:10</td>\n",
       "      <td>2020-08-12</td>\n",
       "    </tr>\n",
       "    <tr>\n",
       "      <th>58</th>\n",
       "      <td>2020-08-11 11:08:04</td>\n",
       "      <td>2020-08-12</td>\n",
       "    </tr>\n",
       "    <tr>\n",
       "      <th>172</th>\n",
       "      <td>2020-08-07 18:30:06</td>\n",
       "      <td>2020-08-12</td>\n",
       "    </tr>\n",
       "    <tr>\n",
       "      <th>173</th>\n",
       "      <td>2020-08-07 09:30:04</td>\n",
       "      <td>2020-08-12</td>\n",
       "    </tr>\n",
       "    <tr>\n",
       "      <th>174</th>\n",
       "      <td>2020-08-06 19:47:12</td>\n",
       "      <td>2020-08-12</td>\n",
       "    </tr>\n",
       "  </tbody>\n",
       "</table>\n",
       "</div>"
      ],
      "text/plain": [
       "            publishedAt trending_date\n",
       "13  2020-08-11 19:00:10    2020-08-12\n",
       "58  2020-08-11 11:08:04    2020-08-12\n",
       "172 2020-08-07 18:30:06    2020-08-12\n",
       "173 2020-08-07 09:30:04    2020-08-12\n",
       "174 2020-08-06 19:47:12    2020-08-12"
      ]
     },
     "execution_count": 43,
     "metadata": {},
     "output_type": "execute_result"
    }
   ],
   "source": [
    "trending_youtube[['publishedAt', 'trending_date']].head()"
   ]
  },
  {
   "cell_type": "code",
   "execution_count": 45,
   "id": "3fcd62c3",
   "metadata": {},
   "outputs": [
    {
     "data": {
      "text/html": [
       "<div>\n",
       "<style scoped>\n",
       "    .dataframe tbody tr th:only-of-type {\n",
       "        vertical-align: middle;\n",
       "    }\n",
       "\n",
       "    .dataframe tbody tr th {\n",
       "        vertical-align: top;\n",
       "    }\n",
       "\n",
       "    .dataframe thead th {\n",
       "        text-align: right;\n",
       "    }\n",
       "</style>\n",
       "<table border=\"1\" class=\"dataframe\">\n",
       "  <thead>\n",
       "    <tr style=\"text-align: right;\">\n",
       "      <th></th>\n",
       "      <th>publishedAt</th>\n",
       "      <th>trending_date</th>\n",
       "    </tr>\n",
       "  </thead>\n",
       "  <tbody>\n",
       "    <tr>\n",
       "      <th>0</th>\n",
       "      <td>2020-08-11 19:00:10</td>\n",
       "      <td>2020-08-12</td>\n",
       "    </tr>\n",
       "    <tr>\n",
       "      <th>1</th>\n",
       "      <td>2020-08-11 11:08:04</td>\n",
       "      <td>2020-08-12</td>\n",
       "    </tr>\n",
       "    <tr>\n",
       "      <th>2</th>\n",
       "      <td>2020-08-07 18:30:06</td>\n",
       "      <td>2020-08-12</td>\n",
       "    </tr>\n",
       "    <tr>\n",
       "      <th>3</th>\n",
       "      <td>2020-08-07 09:30:04</td>\n",
       "      <td>2020-08-12</td>\n",
       "    </tr>\n",
       "    <tr>\n",
       "      <th>4</th>\n",
       "      <td>2020-08-06 19:47:12</td>\n",
       "      <td>2020-08-12</td>\n",
       "    </tr>\n",
       "  </tbody>\n",
       "</table>\n",
       "</div>"
      ],
      "text/plain": [
       "          publishedAt trending_date\n",
       "0 2020-08-11 19:00:10    2020-08-12\n",
       "1 2020-08-11 11:08:04    2020-08-12\n",
       "2 2020-08-07 18:30:06    2020-08-12\n",
       "3 2020-08-07 09:30:04    2020-08-12\n",
       "4 2020-08-06 19:47:12    2020-08-12"
      ]
     },
     "execution_count": 45,
     "metadata": {},
     "output_type": "execute_result"
    }
   ],
   "source": [
    "#Trending date column has object data type which needs to changed as datetime\n",
    "trending_youtube['trending_date'] = pd.to_datetime(trending_youtube['trending_date'], format = \"%Y-%m-%dT%H:%M:%SZ\")\n",
    "#The publishedAt column converted with the astype function\n",
    "trending_youtube['publishedAt'] = trending_youtube['publishedAt'].astype('datetime64[ns]')\n",
    "trending_youtube[['publishedAt', 'trending_date']].head()"
   ]
  },
  {
   "cell_type": "code",
   "execution_count": 47,
   "id": "c226655a",
   "metadata": {
    "scrolled": true
   },
   "outputs": [
    {
     "data": {
      "text/plain": [
       "trending_date    datetime64[ns]\n",
       "publishedAt      datetime64[ns]\n",
       "dtype: object"
      ]
     },
     "execution_count": 47,
     "metadata": {},
     "output_type": "execute_result"
    }
   ],
   "source": [
    "trending_youtube[['trending_date','publishedAt']].dtypes"
   ]
  },
  {
   "cell_type": "markdown",
   "id": "5c8b3c5d",
   "metadata": {},
   "source": [
    "Since we dropped rows and change few parts in the dataset, the indexing of the dataframe won't be coherent, we can simply reset it."
   ]
  },
  {
   "cell_type": "code",
   "execution_count": 48,
   "id": "b8c9863c",
   "metadata": {
    "scrolled": true
   },
   "outputs": [
    {
     "data": {
      "text/plain": [
       "RangeIndex(start=0, stop=33461, step=1)"
      ]
     },
     "execution_count": 48,
     "metadata": {},
     "output_type": "execute_result"
    }
   ],
   "source": [
    "trending_youtube.index"
   ]
  },
  {
   "cell_type": "code",
   "execution_count": 49,
   "id": "6c8460c8",
   "metadata": {},
   "outputs": [],
   "source": [
    "trending_youtube.reset_index(drop=True, inplace=True)"
   ]
  },
  {
   "cell_type": "code",
   "execution_count": 50,
   "id": "0a030ca5",
   "metadata": {
    "scrolled": true
   },
   "outputs": [
    {
     "data": {
      "text/plain": [
       "RangeIndex(start=0, stop=33461, step=1)"
      ]
     },
     "execution_count": 50,
     "metadata": {},
     "output_type": "execute_result"
    }
   ],
   "source": [
    "trending_youtube.index"
   ]
  }
 ],
 "metadata": {
  "kernelspec": {
   "display_name": "Python 3 (ipykernel)",
   "language": "python",
   "name": "python3"
  },
  "language_info": {
   "codemirror_mode": {
    "name": "ipython",
    "version": 3
   },
   "file_extension": ".py",
   "mimetype": "text/x-python",
   "name": "python",
   "nbconvert_exporter": "python",
   "pygments_lexer": "ipython3",
   "version": "3.9.13"
  }
 },
 "nbformat": 4,
 "nbformat_minor": 5
}

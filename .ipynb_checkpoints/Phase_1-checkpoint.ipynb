{
 "cells": [
  {
   "cell_type": "markdown",
   "id": "53c88197",
   "metadata": {
    "id": "53c88197"
   },
   "source": [
    "# DSCI 521: Data Analysis and Interpretation <br> Term Project Phase 1: Scoping an analytics project"
   ]
  },
  {
   "cell_type": "markdown",
   "id": "06276e19",
   "metadata": {
    "id": "06276e19"
   },
   "source": [
    "## Group members \n",
    "- Group member \n",
    "    - Name: Amira Bendjama\n",
    "    - Email: ab4745@drexel.edu\n",
    "- Group member \n",
    "    - Name: Thuy Hong Doan\n",
    "    - Email: td688@drexel.edu\n",
    "- Group member \n",
    "    - Name: Alsulami Meznah\n",
    "    - Email: mha54@drexel.edu"
   ]
  },
  {
   "cell_type": "markdown",
   "id": "9ef10126",
   "metadata": {
    "id": "9ef10126"
   },
   "source": [
    "## Team members background:\n",
    "\n",
    "What areas/skills/domains does the team member presently identify with?\n",
    "Into which areas/skills/domains would the team member like to grow?\n",
    "\n",
    "- __Amira Bendjama__: is an Algerian Fulbrighter with a bachelor’s in computer science, and a master’s in networks and distributed systems. Her skill set varies from different programming languages, to problem solving and critical thinking. She worked with Youtube API V3 to retrieve dataset for [Valorant comments on Youtube](https://github.com/amira-bendjama/VALORANT-COMMENTS). \n",
    "\n",
    "- __Alsulami Meznah__: is a graduate student in Data Science. She majored in bachelor's degree was in Information Systems.  She has a good background on Java, Visual Basic, SQL. She looks forward to improving my skills and learning more about Python and R.\n",
    "\n",
    "- __Thuy Hong Doan__: graduated with a bachelor of business administration in Computer Information Systems. Her skill set varies from different programming languages, to analytical and problem solving skills. She worked with HTML, CSS, SQL, JavaScript, and Python. She plans to use her previous coding experience and understanding of data structure to help successfully complete this project.\n",
    "\n",
    "### Growth area \n",
    "\n",
    "We are looking to take on a project that presents real world data analysis challenges in order to align our skills with the type of work we would undertake in the professional world. Analyzing dataset is particularly challenging because of different steps we need to take before actualy analysis the dataset such cleaning the dataset, checking the correcteness, and thus is a good way to learn about data analysis."
   ]
  },
  {
   "cell_type": "markdown",
   "id": "151eb4bf",
   "metadata": {
    "id": "151eb4bf"
   },
   "source": [
    "## Topic summary \n",
    "\n",
    "YouTube is one of the leading video sharing and social media platform in the world. Thus, It had a huge impact on changing the marketing startegies by video promotion or sponsoring independent Youtubers, with its captivating features such as the recommendation page, and trending page. However, the later doesn’t have a clear indication of what makes a Youtube video trending. Hence, the speculation on what makes a video trending such as [Researching The Trending Tab (BTS)](https://www.youtube.com/watch?v=sEvtpj-uChA&ab_channel=Coffeezilla), [What Is YouTube Trending And How It Works](https://www.notion.so/project-scooping-427deb3f9cbc4c32949c17248bdc0a30#04a09cb6fee248398f38d2fa43a72052). The goal of the project is to perform EDA analysis on the dataset to find the patterns among trending videos and develop a classification model to attribute the factor that affects how popular a Youtube video will be. Those insights might be used by Youtube channels owned by tradational companies that seek to break into the new marketing field, or they can be used by individual Youtubers that seek to increase the popularity of their videos, without effecting their content creation. This project will relay on [dataset](https://www.kaggle.com/datasets/rsrishav/youtube-trending-video-dataset) from Kaggle which was collected using the Youtube API.\n",
    "\n"
   ]
  },
  {
   "cell_type": "markdown",
   "id": "a1b155c0",
   "metadata": {
    "id": "a1b155c0"
   },
   "source": [
    "## Term Project Phase 1: details \n",
    "\n",
    "__What is our dataset?__\n",
    "\n",
    "Dataset is collected using Youtube API, for different regions. However, the project will focus on United states' dataset. The data includes the video title, channel title, publish time, tags, views, likes and dislikes, description, and comment count, category.\n",
    "\n",
    "__What is the availability of relevant pre-processed data?__\n",
    "\n",
    "The dataset is available for the public in [Kaggle](https://www.kaggle.com/datasets/rsrishav/youtube-trending-video-dataset). \n",
    "\n",
    "__What will the analysis to do, who/what it will support?__ \n",
    "\n",
    "The EDA analysis on the dataset to find the patterns among trending videos and develop a classification model to find the factors. The questions we are trying to solve are: \n",
    "1. what are top most trending Categories? \n",
    "2. what is the impact of Likes,Dislikes and Comments.\n",
    "3. what is the most used words for titles, video description, tags?\n",
    "\n",
    "__Who would be interested in the data analysis?__\n",
    "- Adverstiser to sponsor Youtube videos that have the potenial to be trending\n",
    "- Youtube channels owned by companies that want to keep up with the trends for better preforming product ads. \n",
    "- Independent Youtubers who wants to make trending videos\n",
    "- Researchers to derive insight about behavior from Youtube trends and marketing startegies \n",
    "\n",
    "__Limitations__\n",
    "\n",
    "- The dataset is limited to several months and only 200 videos per day, and hence it could add some bias on the predictions. \n",
    "- World events that are relevent to only several months can effect the prediction greatly in a small dataset.\n",
    "- Absence of duration column in dataset, which is considered one of the factors to impact the trending videos.\n",
    "\n",
    "__Potential solutions__ \n",
    "- The results can be improved by extending the data collection to few years back, \n",
    "- Improving  the predection to ignore the irrelevent events. \n",
    "- Adding the duration column to the dataset\n"
   ]
  },
  {
   "cell_type": "markdown",
   "id": "e1736d83",
   "metadata": {
    "id": "e1736d83"
   },
   "source": [
    "__How the analysis might fit into an application or investigation?__ \n",
    "\n",
    "\n",
    "__Selection data for continued analysis, including justification:__ \n",
    "\n",
    "\n",
    "__How our analysis might be completed and disseminated?__\n",
    "\n",
    "The duration of the project won't allow to compare different classification models, \n",
    "\n",
    "\n",
    "\n",
    "### Potential Software used \n",
    "- Juypter notebook \n",
    "\n",
    "### Hardware used \n",
    "- Acer processor i5 RAM 8GB\n",
    "- Hp processor i7 RAM 8GB\n",
    "- Macbook Pro processor i5 RAM 8GB\n",
    "\n"
   ]
  },
  {
   "cell_type": "markdown",
   "id": "88dafd2c",
   "metadata": {
    "id": "88dafd2c"
   },
   "source": [
    "## Data analysis\n",
    "\n",
    "https://www.kaggle.com/datasets/rsrishav/youtube-trending-video-dataset\n"
   ]
  },
  {
   "cell_type": "markdown",
   "id": "248ff51b",
   "metadata": {
    "id": "248ff51b"
   },
   "source": [
    "## Sample code "
   ]
  },
  {
   "cell_type": "code",
   "execution_count": null,
   "id": "54a80728-cc98-4ca0-a80e-88dca2db4128",
   "metadata": {
    "id": "54a80728-cc98-4ca0-a80e-88dca2db4128",
    "scrolled": true
   },
   "outputs": [],
   "source": []
  },
  {
   "cell_type": "code",
   "execution_count": null,
   "id": "f0db4aee",
   "metadata": {
    "id": "f0db4aee"
   },
   "outputs": [],
   "source": []
  }
 ],
 "metadata": {
  "colab": {
   "provenance": []
  },
  "kernelspec": {
   "display_name": "Python 3 (ipykernel)",
   "language": "python",
   "name": "python3"
  },
  "language_info": {
   "codemirror_mode": {
    "name": "ipython",
    "version": 3
   },
   "file_extension": ".py",
   "mimetype": "text/x-python",
   "name": "python",
   "nbconvert_exporter": "python",
   "pygments_lexer": "ipython3",
   "version": "3.9.12"
  }
 },
 "nbformat": 4,
 "nbformat_minor": 5
}

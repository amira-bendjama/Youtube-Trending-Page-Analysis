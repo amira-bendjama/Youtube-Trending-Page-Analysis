{
 "cells": [
  {
   "cell_type": "markdown",
   "id": "ffb6222c",
   "metadata": {},
   "source": [
    "# DSCI 521: Data Analysis and Interpretation <br> Term Project Phase 2: Youtube trending page analysis"
   ]
  },
  {
   "cell_type": "markdown",
   "id": "d96ad5a4",
   "metadata": {},
   "source": [
    "## Group members \n",
    "- Group member \n",
    "    - Name: Amira Bendjama\n",
    "    - Email: ab4745@drexel.edu\n",
    "- Group member \n",
    "    - Name: Thuy Hong Doan\n",
    "    - Email: td688@drexel.edu\n",
    "- Group member \n",
    "    - Name: Alsulami Meznah\n",
    "    - Email: mha54@drexel.edu"
   ]
  },
  {
   "cell_type": "markdown",
   "id": "fffda877",
   "metadata": {},
   "source": [
    "## Cleaning Youtube trending dataset \n",
    "\n",
    "Before starting the anaylsis, it is important to clean the dataset that the project relies on. The project cleaning consisted of: \n",
    "- Finding and deleting rows with a missing values, which were mainly in the Description column. \n",
    "- Replacing NaN in description with space.\n",
    "- Deleting rows with comments_disabled=True or ratings_disabled=True.\n",
    "- Fixing the Tags column,by Replacing \"[None]\" with space, and spliting tags with '|' and convert list to one string.\n",
    "- Dropping duplicates rows in video id column.\n",
    "- Converting date columns 'publishedAt', 'trending_date' to datetime type.\n",
    "- Reseting indexing of the dataframe\n"
   ]
  },
  {
   "cell_type": "code",
   "execution_count": 1,
   "id": "565e7698",
   "metadata": {},
   "outputs": [],
   "source": [
    "import pandas as pd\n",
    "import matplotlib.pyplot as plt\n",
    "import numpy as np\n",
    "import seaborn as sns\n",
    "sns.set(style='darkgrid')\n",
    "\n",
    "US_category_id = pd.read_json('data/US_category_id.json')\n",
    "trending_youtube = pd.read_csv('data/US_youtube_trending_data.csv')\n"
   ]
  },
  {
   "cell_type": "code",
   "execution_count": 2,
   "id": "ad0f3e45",
   "metadata": {},
   "outputs": [
    {
     "name": "stdout",
     "output_type": "stream",
     "text": [
      "<class 'pandas.core.frame.DataFrame'>\n",
      "RangeIndex: 180390 entries, 0 to 180389\n",
      "Data columns (total 16 columns):\n",
      " #   Column             Non-Null Count   Dtype \n",
      "---  ------             --------------   ----- \n",
      " 0   video_id           180390 non-null  object\n",
      " 1   title              180390 non-null  object\n",
      " 2   publishedAt        180390 non-null  object\n",
      " 3   channelId          180390 non-null  object\n",
      " 4   channelTitle       180390 non-null  object\n",
      " 5   categoryId         180390 non-null  int64 \n",
      " 6   trending_date      180390 non-null  object\n",
      " 7   tags               180390 non-null  object\n",
      " 8   view_count         180390 non-null  int64 \n",
      " 9   likes              180390 non-null  int64 \n",
      " 10  dislikes           180390 non-null  int64 \n",
      " 11  comment_count      180390 non-null  int64 \n",
      " 12  thumbnail_link     180390 non-null  object\n",
      " 13  comments_disabled  180390 non-null  bool  \n",
      " 14  ratings_disabled   180390 non-null  bool  \n",
      " 15  description        176384 non-null  object\n",
      "dtypes: bool(2), int64(5), object(9)\n",
      "memory usage: 19.6+ MB\n"
     ]
    }
   ],
   "source": [
    "# getting information about the dataset\n",
    "trending_youtube.info()"
   ]
  },
  {
   "cell_type": "code",
   "execution_count": 3,
   "id": "653576bf",
   "metadata": {},
   "outputs": [
    {
     "data": {
      "text/plain": [
       "video_id                0\n",
       "title                   0\n",
       "publishedAt             0\n",
       "channelId               0\n",
       "channelTitle            0\n",
       "categoryId              0\n",
       "trending_date           0\n",
       "tags                    0\n",
       "view_count              0\n",
       "likes                   0\n",
       "dislikes                0\n",
       "comment_count           0\n",
       "thumbnail_link          0\n",
       "comments_disabled       0\n",
       "ratings_disabled        0\n",
       "description          4006\n",
       "dtype: int64"
      ]
     },
     "execution_count": 3,
     "metadata": {},
     "output_type": "execute_result"
    }
   ],
   "source": [
    "# cleaning dataset \n",
    "# number of null values in the dataset\n",
    "trending_youtube.isnull().sum()"
   ]
  },
  {
   "cell_type": "markdown",
   "id": "1bd5b653",
   "metadata": {},
   "source": [
    "The description column has all null values. These are some of the rows whose description values are null."
   ]
  },
  {
   "cell_type": "code",
   "execution_count": 4,
   "id": "65e1bb7d",
   "metadata": {},
   "outputs": [
    {
     "data": {
      "text/html": [
       "<div>\n",
       "<style scoped>\n",
       "    .dataframe tbody tr th:only-of-type {\n",
       "        vertical-align: middle;\n",
       "    }\n",
       "\n",
       "    .dataframe tbody tr th {\n",
       "        vertical-align: top;\n",
       "    }\n",
       "\n",
       "    .dataframe thead th {\n",
       "        text-align: right;\n",
       "    }\n",
       "</style>\n",
       "<table border=\"1\" class=\"dataframe\">\n",
       "  <thead>\n",
       "    <tr style=\"text-align: right;\">\n",
       "      <th></th>\n",
       "      <th>video_id</th>\n",
       "      <th>title</th>\n",
       "      <th>publishedAt</th>\n",
       "      <th>channelId</th>\n",
       "      <th>channelTitle</th>\n",
       "      <th>categoryId</th>\n",
       "      <th>trending_date</th>\n",
       "      <th>tags</th>\n",
       "      <th>view_count</th>\n",
       "      <th>likes</th>\n",
       "      <th>dislikes</th>\n",
       "      <th>comment_count</th>\n",
       "      <th>thumbnail_link</th>\n",
       "      <th>comments_disabled</th>\n",
       "      <th>ratings_disabled</th>\n",
       "      <th>description</th>\n",
       "    </tr>\n",
       "  </thead>\n",
       "  <tbody>\n",
       "    <tr>\n",
       "      <th>223</th>\n",
       "      <td>NSuaUok-wTY</td>\n",
       "      <td>[1147] Locksmith Says My Videos Are BS... Lose...</td>\n",
       "      <td>2020-08-12T13:00:12Z</td>\n",
       "      <td>UCm9K6rby98W8JigLoZOh6FQ</td>\n",
       "      <td>LockPickingLawyer</td>\n",
       "      <td>27</td>\n",
       "      <td>2020-08-13T00:00:00Z</td>\n",
       "      <td>Lock|picking</td>\n",
       "      <td>422963</td>\n",
       "      <td>62939</td>\n",
       "      <td>168</td>\n",
       "      <td>7304</td>\n",
       "      <td>https://i.ytimg.com/vi/NSuaUok-wTY/default.jpg</td>\n",
       "      <td>False</td>\n",
       "      <td>False</td>\n",
       "      <td>NaN</td>\n",
       "    </tr>\n",
       "    <tr>\n",
       "      <th>249</th>\n",
       "      <td>NYXABBpPJss</td>\n",
       "      <td>When you get on the grill for your friends Bir...</td>\n",
       "      <td>2020-08-12T04:36:57Z</td>\n",
       "      <td>UCI8hY4ummWDZgFSjxU_HFNQ</td>\n",
       "      <td>Jeremiah Phillips</td>\n",
       "      <td>23</td>\n",
       "      <td>2020-08-13T00:00:00Z</td>\n",
       "      <td>[None]</td>\n",
       "      <td>193157</td>\n",
       "      <td>9057</td>\n",
       "      <td>148</td>\n",
       "      <td>666</td>\n",
       "      <td>https://i.ytimg.com/vi/NYXABBpPJss/default.jpg</td>\n",
       "      <td>False</td>\n",
       "      <td>False</td>\n",
       "      <td>NaN</td>\n",
       "    </tr>\n",
       "    <tr>\n",
       "      <th>446</th>\n",
       "      <td>NSuaUok-wTY</td>\n",
       "      <td>[1147] Locksmith Says My Videos Are BS... Lose...</td>\n",
       "      <td>2020-08-12T13:00:12Z</td>\n",
       "      <td>UCm9K6rby98W8JigLoZOh6FQ</td>\n",
       "      <td>LockPickingLawyer</td>\n",
       "      <td>27</td>\n",
       "      <td>2020-08-14T00:00:00Z</td>\n",
       "      <td>Lock|picking</td>\n",
       "      <td>511773</td>\n",
       "      <td>69610</td>\n",
       "      <td>214</td>\n",
       "      <td>7837</td>\n",
       "      <td>https://i.ytimg.com/vi/NSuaUok-wTY/default.jpg</td>\n",
       "      <td>False</td>\n",
       "      <td>False</td>\n",
       "      <td>NaN</td>\n",
       "    </tr>\n",
       "  </tbody>\n",
       "</table>\n",
       "</div>"
      ],
      "text/plain": [
       "        video_id                                              title  \\\n",
       "223  NSuaUok-wTY  [1147] Locksmith Says My Videos Are BS... Lose...   \n",
       "249  NYXABBpPJss  When you get on the grill for your friends Bir...   \n",
       "446  NSuaUok-wTY  [1147] Locksmith Says My Videos Are BS... Lose...   \n",
       "\n",
       "              publishedAt                 channelId       channelTitle  \\\n",
       "223  2020-08-12T13:00:12Z  UCm9K6rby98W8JigLoZOh6FQ  LockPickingLawyer   \n",
       "249  2020-08-12T04:36:57Z  UCI8hY4ummWDZgFSjxU_HFNQ  Jeremiah Phillips   \n",
       "446  2020-08-12T13:00:12Z  UCm9K6rby98W8JigLoZOh6FQ  LockPickingLawyer   \n",
       "\n",
       "     categoryId         trending_date          tags  view_count  likes  \\\n",
       "223          27  2020-08-13T00:00:00Z  Lock|picking      422963  62939   \n",
       "249          23  2020-08-13T00:00:00Z        [None]      193157   9057   \n",
       "446          27  2020-08-14T00:00:00Z  Lock|picking      511773  69610   \n",
       "\n",
       "     dislikes  comment_count                                  thumbnail_link  \\\n",
       "223       168           7304  https://i.ytimg.com/vi/NSuaUok-wTY/default.jpg   \n",
       "249       148            666  https://i.ytimg.com/vi/NYXABBpPJss/default.jpg   \n",
       "446       214           7837  https://i.ytimg.com/vi/NSuaUok-wTY/default.jpg   \n",
       "\n",
       "     comments_disabled  ratings_disabled description  \n",
       "223              False             False         NaN  \n",
       "249              False             False         NaN  \n",
       "446              False             False         NaN  "
      ]
     },
     "execution_count": 4,
     "metadata": {},
     "output_type": "execute_result"
    }
   ],
   "source": [
    "trending_youtube[trending_youtube[\"description\"].apply(lambda x: pd.isna(x))].head(3)"
   ]
  },
  {
   "cell_type": "code",
   "execution_count": 5,
   "id": "ae50ecec",
   "metadata": {},
   "outputs": [],
   "source": [
    "# Replace NaN in description with space\n",
    "trending_youtube[\"description\"].fillna(\" \", inplace=True)\n",
    "# Delete all rows with a missing values if any\n",
    "trending_youtube.dropna(inplace=True)"
   ]
  },
  {
   "cell_type": "code",
   "execution_count": 6,
   "id": "e90d891c",
   "metadata": {},
   "outputs": [
    {
     "data": {
      "text/plain": [
       "0"
      ]
     },
     "execution_count": 6,
     "metadata": {},
     "output_type": "execute_result"
    }
   ],
   "source": [
    "# checking for the NAN values\n",
    "trending_youtube.isnull().sum().sum()"
   ]
  },
  {
   "cell_type": "code",
   "execution_count": 7,
   "id": "26a0c19c",
   "metadata": {},
   "outputs": [
    {
     "data": {
      "text/plain": [
       "(180390, 16)"
      ]
     },
     "execution_count": 7,
     "metadata": {},
     "output_type": "execute_result"
    }
   ],
   "source": [
    "trending_youtube.shape"
   ]
  },
  {
   "cell_type": "markdown",
   "id": "0ea7da0f",
   "metadata": {},
   "source": [
    "Since our main focus is to find factors that effect the trending of a video, any videos with disbaled comments of ratings will be exculded from our project."
   ]
  },
  {
   "cell_type": "code",
   "execution_count": 8,
   "id": "51e4d117",
   "metadata": {},
   "outputs": [
    {
     "data": {
      "text/plain": [
       "(177001, 16)"
      ]
     },
     "execution_count": 8,
     "metadata": {},
     "output_type": "execute_result"
    }
   ],
   "source": [
    "# delete rows with comments_disabled=True or ratings_disabled=True\n",
    "trending_youtube = trending_youtube[(trending_youtube['comments_disabled'] == False) &\n",
    "                    (trending_youtube['ratings_disabled'] == False)]\n",
    "trending_youtube.shape"
   ]
  },
  {
   "cell_type": "code",
   "execution_count": 9,
   "id": "ccb09104",
   "metadata": {},
   "outputs": [
    {
     "data": {
      "text/plain": [
       "0    brawadis|prank|basketball|skits|ghost|funny vi...\n",
       "1    Apex Legends|Apex Legends characters|new Apex ...\n",
       "2    jacksepticeye|funny|funny meme|memes|jacksepti...\n",
       "3    xxl freshman|xxl freshmen|2020 xxl freshman|20...\n",
       "4    The LaBrant Family|DIY|Interior Design|Makeove...\n",
       "5    Professor injury|professor achilles|professor ...\n",
       "6                                               [None]\n",
       "7                     cgpgrey|education|hello internet\n",
       "8    surprising|dad|father|papa|with|dream|car|truc...\n",
       "9    Vengo De Nada|Aleman|Ovi|Big Soto|Trap|Ovi Nat...\n",
       "Name: tags, dtype: object"
      ]
     },
     "execution_count": 9,
     "metadata": {},
     "output_type": "execute_result"
    }
   ],
   "source": [
    "trending_youtube[\"tags\"].head(10)"
   ]
  },
  {
   "cell_type": "markdown",
   "id": "dcb233fd",
   "metadata": {},
   "source": [
    "Tags columns is not comphrensive, that's why we need to convert \"none\" values into empty string and remove \"|\" to form one string for each row."
   ]
  },
  {
   "cell_type": "code",
   "execution_count": 10,
   "id": "2c41c455",
   "metadata": {
    "scrolled": true
   },
   "outputs": [
    {
     "data": {
      "text/plain": [
       "0    brawadis prank basketball skits ghost funny vi...\n",
       "1    Apex Legends Apex Legends characters new Apex ...\n",
       "2    jacksepticeye funny funny meme memes jacksepti...\n",
       "3    xxl freshman xxl freshmen 2020 xxl freshman 20...\n",
       "4    The LaBrant Family DIY Interior Design Makeove...\n",
       "5    Professor injury professor achilles professor ...\n",
       "6                                                     \n",
       "7                     cgpgrey education hello internet\n",
       "8    surprising dad father papa with dream car truc...\n",
       "9    Vengo De Nada Aleman Ovi Big Soto Trap Ovi Nat...\n",
       "Name: tags, dtype: object"
      ]
     },
     "execution_count": 10,
     "metadata": {},
     "output_type": "execute_result"
    }
   ],
   "source": [
    "# Replace [None] in tags with space \n",
    "trending_youtube.loc[trending_youtube['tags'] == '[None]', 'tags'] = ' '\n",
    "# split tags with '|' and convert list to one string\n",
    "trending_youtube['tags'] = [' '.join(tag) \\\n",
    "                       for tag in trending_youtube['tags'].str.split('|')]\n",
    "\n",
    "trending_youtube[\"tags\"].head(10)"
   ]
  },
  {
   "cell_type": "markdown",
   "id": "5b2ad6bd",
   "metadata": {},
   "source": [
    "There is a lot of duplicates rows in the dataset, where we can verify using video id column and unique() to get the real size of nonduplicates rows. That's any row with duplicate title and video id will be dropped from the dataset."
   ]
  },
  {
   "cell_type": "code",
   "execution_count": 11,
   "id": "3c70b1cd",
   "metadata": {},
   "outputs": [
    {
     "data": {
      "text/plain": [
       "32449"
      ]
     },
     "execution_count": 11,
     "metadata": {},
     "output_type": "execute_result"
    }
   ],
   "source": [
    "len(trending_youtube['video_id'].unique())"
   ]
  },
  {
   "cell_type": "code",
   "execution_count": 12,
   "id": "d0871887",
   "metadata": {},
   "outputs": [
    {
     "data": {
      "text/plain": [
       "177001"
      ]
     },
     "execution_count": 12,
     "metadata": {},
     "output_type": "execute_result"
    }
   ],
   "source": [
    "len(trending_youtube['video_id'])"
   ]
  },
  {
   "cell_type": "code",
   "execution_count": 13,
   "id": "c391fa75",
   "metadata": {},
   "outputs": [
    {
     "data": {
      "text/html": [
       "<div>\n",
       "<style scoped>\n",
       "    .dataframe tbody tr th:only-of-type {\n",
       "        vertical-align: middle;\n",
       "    }\n",
       "\n",
       "    .dataframe tbody tr th {\n",
       "        vertical-align: top;\n",
       "    }\n",
       "\n",
       "    .dataframe thead th {\n",
       "        text-align: right;\n",
       "    }\n",
       "</style>\n",
       "<table border=\"1\" class=\"dataframe\">\n",
       "  <thead>\n",
       "    <tr style=\"text-align: right;\">\n",
       "      <th></th>\n",
       "      <th>video_id</th>\n",
       "      <th>title</th>\n",
       "      <th>publishedAt</th>\n",
       "      <th>channelId</th>\n",
       "      <th>channelTitle</th>\n",
       "      <th>categoryId</th>\n",
       "      <th>trending_date</th>\n",
       "      <th>tags</th>\n",
       "      <th>view_count</th>\n",
       "      <th>likes</th>\n",
       "      <th>dislikes</th>\n",
       "      <th>comment_count</th>\n",
       "      <th>thumbnail_link</th>\n",
       "      <th>comments_disabled</th>\n",
       "      <th>ratings_disabled</th>\n",
       "      <th>description</th>\n",
       "    </tr>\n",
       "  </thead>\n",
       "  <tbody>\n",
       "    <tr>\n",
       "      <th>202</th>\n",
       "      <td>3C66w5Z0ixs</td>\n",
       "      <td>I ASKED HER TO BE MY GIRLFRIEND...</td>\n",
       "      <td>2020-08-11T19:20:14Z</td>\n",
       "      <td>UCvtRTOMP2TqYqu51xNrqAzg</td>\n",
       "      <td>Brawadis</td>\n",
       "      <td>22</td>\n",
       "      <td>2020-08-13T00:00:00Z</td>\n",
       "      <td>brawadis prank basketball skits ghost funny vi...</td>\n",
       "      <td>3017834</td>\n",
       "      <td>183592</td>\n",
       "      <td>9506</td>\n",
       "      <td>41374</td>\n",
       "      <td>https://i.ytimg.com/vi/3C66w5Z0ixs/default.jpg</td>\n",
       "      <td>False</td>\n",
       "      <td>False</td>\n",
       "      <td>SUBSCRIBE to BRAWADIS ▶ http://bit.ly/Subscrib...</td>\n",
       "    </tr>\n",
       "    <tr>\n",
       "      <th>207</th>\n",
       "      <td>J78aPJ3VyNs</td>\n",
       "      <td>I left youtube for a month and THIS is what ha...</td>\n",
       "      <td>2020-08-11T16:34:06Z</td>\n",
       "      <td>UCYzPXprvl5Y-Sf0g4vX-m6g</td>\n",
       "      <td>jacksepticeye</td>\n",
       "      <td>24</td>\n",
       "      <td>2020-08-13T00:00:00Z</td>\n",
       "      <td>jacksepticeye funny funny meme memes jacksepti...</td>\n",
       "      <td>2802823</td>\n",
       "      <td>401421</td>\n",
       "      <td>3728</td>\n",
       "      <td>44546</td>\n",
       "      <td>https://i.ytimg.com/vi/J78aPJ3VyNs/default.jpg</td>\n",
       "      <td>False</td>\n",
       "      <td>False</td>\n",
       "      <td>I left youtube for a month and this is what ha...</td>\n",
       "    </tr>\n",
       "    <tr>\n",
       "      <th>209</th>\n",
       "      <td>M9Pmf9AB4Mo</td>\n",
       "      <td>Apex Legends | Stories from the Outlands – “Th...</td>\n",
       "      <td>2020-08-11T17:00:10Z</td>\n",
       "      <td>UC0ZV6M2THA81QT9hrVWJG3A</td>\n",
       "      <td>Apex Legends</td>\n",
       "      <td>20</td>\n",
       "      <td>2020-08-13T00:00:00Z</td>\n",
       "      <td>Apex Legends Apex Legends characters new Apex ...</td>\n",
       "      <td>2932421</td>\n",
       "      <td>153682</td>\n",
       "      <td>3281</td>\n",
       "      <td>17454</td>\n",
       "      <td>https://i.ytimg.com/vi/M9Pmf9AB4Mo/default.jpg</td>\n",
       "      <td>False</td>\n",
       "      <td>False</td>\n",
       "      <td>While running her own modding shop, Ramya Pare...</td>\n",
       "    </tr>\n",
       "    <tr>\n",
       "      <th>213</th>\n",
       "      <td>VIUo6yapDbc</td>\n",
       "      <td>Ultimate DIY Home Movie Theater for The LaBran...</td>\n",
       "      <td>2020-08-11T15:10:05Z</td>\n",
       "      <td>UCDVPcEbVLQgLZX0Rt6jo34A</td>\n",
       "      <td>Mr. Kate</td>\n",
       "      <td>26</td>\n",
       "      <td>2020-08-13T00:00:00Z</td>\n",
       "      <td>The LaBrant Family DIY Interior Design Makeove...</td>\n",
       "      <td>1922758</td>\n",
       "      <td>54959</td>\n",
       "      <td>1758</td>\n",
       "      <td>2662</td>\n",
       "      <td>https://i.ytimg.com/vi/VIUo6yapDbc/default.jpg</td>\n",
       "      <td>False</td>\n",
       "      <td>False</td>\n",
       "      <td>Transforming The LaBrant Family's empty white ...</td>\n",
       "    </tr>\n",
       "    <tr>\n",
       "      <th>214</th>\n",
       "      <td>kXLn3HkpjaA</td>\n",
       "      <td>XXL 2020 Freshman Class Revealed - Official An...</td>\n",
       "      <td>2020-08-11T16:38:55Z</td>\n",
       "      <td>UCbg_UMjlHJg_19SZckaKajg</td>\n",
       "      <td>XXL</td>\n",
       "      <td>10</td>\n",
       "      <td>2020-08-13T00:00:00Z</td>\n",
       "      <td>xxl freshman xxl freshmen 2020 xxl freshman 20...</td>\n",
       "      <td>944498</td>\n",
       "      <td>29016</td>\n",
       "      <td>2809</td>\n",
       "      <td>9278</td>\n",
       "      <td>https://i.ytimg.com/vi/kXLn3HkpjaA/default.jpg</td>\n",
       "      <td>False</td>\n",
       "      <td>False</td>\n",
       "      <td>Subscribe to XXL → http://bit.ly/subscribe-xxl...</td>\n",
       "    </tr>\n",
       "    <tr>\n",
       "      <th>...</th>\n",
       "      <td>...</td>\n",
       "      <td>...</td>\n",
       "      <td>...</td>\n",
       "      <td>...</td>\n",
       "      <td>...</td>\n",
       "      <td>...</td>\n",
       "      <td>...</td>\n",
       "      <td>...</td>\n",
       "      <td>...</td>\n",
       "      <td>...</td>\n",
       "      <td>...</td>\n",
       "      <td>...</td>\n",
       "      <td>...</td>\n",
       "      <td>...</td>\n",
       "      <td>...</td>\n",
       "      <td>...</td>\n",
       "    </tr>\n",
       "    <tr>\n",
       "      <th>180385</th>\n",
       "      <td>xxSyov0Hjz8</td>\n",
       "      <td>Tom Hanks Eats His Last Meal</td>\n",
       "      <td>2023-01-19T11:00:29Z</td>\n",
       "      <td>UCXGR70CkW_pXb8n52LzCCRw</td>\n",
       "      <td>Mythical Kitchen</td>\n",
       "      <td>24</td>\n",
       "      <td>2023-01-26T00:00:00Z</td>\n",
       "      <td>mythical kitchen mythical chef josh scherer ni...</td>\n",
       "      <td>1218886</td>\n",
       "      <td>67099</td>\n",
       "      <td>0</td>\n",
       "      <td>4899</td>\n",
       "      <td>https://i.ytimg.com/vi/xxSyov0Hjz8/default.jpg</td>\n",
       "      <td>False</td>\n",
       "      <td>False</td>\n",
       "      <td>Today, Josh is cooking Tom Hanks's last meal.D...</td>\n",
       "    </tr>\n",
       "    <tr>\n",
       "      <th>180386</th>\n",
       "      <td>rkXx6yqsgOY</td>\n",
       "      <td>Japan $1000 Crane Game Challenge Ft. @Daidus</td>\n",
       "      <td>2023-01-19T18:15:03Z</td>\n",
       "      <td>UCPsZ_0SkFdi551iYTG04R2g</td>\n",
       "      <td>CDawgVA</td>\n",
       "      <td>24</td>\n",
       "      <td>2023-01-26T00:00:00Z</td>\n",
       "      <td>Crane Game Japan UFO Catcher CDawg Daidus Conn...</td>\n",
       "      <td>925816</td>\n",
       "      <td>60351</td>\n",
       "      <td>0</td>\n",
       "      <td>2292</td>\n",
       "      <td>https://i.ytimg.com/vi/rkXx6yqsgOY/default.jpg</td>\n",
       "      <td>False</td>\n",
       "      <td>False</td>\n",
       "      <td>Use my code CDAWG15 at https://partner.bokksu....</td>\n",
       "    </tr>\n",
       "    <tr>\n",
       "      <th>180387</th>\n",
       "      <td>7nKMUkcSC2s</td>\n",
       "      <td>Wednesday Pitch Meeting</td>\n",
       "      <td>2023-01-19T20:15:00Z</td>\n",
       "      <td>UC9Kq-yEt1iYsbUzNOoIRK0g</td>\n",
       "      <td>Pitch Meeting</td>\n",
       "      <td>24</td>\n",
       "      <td>2023-01-26T00:00:00Z</td>\n",
       "      <td>Wednesday addams family christina ricci funny ...</td>\n",
       "      <td>1183539</td>\n",
       "      <td>82003</td>\n",
       "      <td>0</td>\n",
       "      <td>6272</td>\n",
       "      <td>https://i.ytimg.com/vi/7nKMUkcSC2s/default.jpg</td>\n",
       "      <td>False</td>\n",
       "      <td>False</td>\n",
       "      <td>Step inside the Pitch Meeting that led to Wedn...</td>\n",
       "    </tr>\n",
       "    <tr>\n",
       "      <th>180388</th>\n",
       "      <td>ZWj-Z4Z2W3k</td>\n",
       "      <td>The Kid LAROI - I Can’t Go Back To The Way It ...</td>\n",
       "      <td>2023-01-19T15:00:20Z</td>\n",
       "      <td>UC6G2vAJrt407lwiynW116Eg</td>\n",
       "      <td>The Kid LAROI.</td>\n",
       "      <td>10</td>\n",
       "      <td>2023-01-26T00:00:00Z</td>\n",
       "      <td>the kid laroi thekidlaroi laroi tkl the first ...</td>\n",
       "      <td>1195825</td>\n",
       "      <td>55682</td>\n",
       "      <td>0</td>\n",
       "      <td>2831</td>\n",
       "      <td>https://i.ytimg.com/vi/ZWj-Z4Z2W3k/default.jpg</td>\n",
       "      <td>False</td>\n",
       "      <td>False</td>\n",
       "      <td>The Kid LAROI I Can’t Go Back To The Way It Wa...</td>\n",
       "    </tr>\n",
       "    <tr>\n",
       "      <th>180389</th>\n",
       "      <td>2rTVM8wzW7o</td>\n",
       "      <td>Zach Bryan / The Burn, Burn, Burn Tour Announc...</td>\n",
       "      <td>2023-01-19T16:02:13Z</td>\n",
       "      <td>UCwK3C8Vgphad4PweezfUBAQ</td>\n",
       "      <td>Zach Bryan</td>\n",
       "      <td>10</td>\n",
       "      <td>2023-01-26T00:00:00Z</td>\n",
       "      <td></td>\n",
       "      <td>381014</td>\n",
       "      <td>14865</td>\n",
       "      <td>0</td>\n",
       "      <td>850</td>\n",
       "      <td>https://i.ytimg.com/vi/2rTVM8wzW7o/default.jpg</td>\n",
       "      <td>False</td>\n",
       "      <td>False</td>\n",
       "      <td></td>\n",
       "    </tr>\n",
       "  </tbody>\n",
       "</table>\n",
       "<p>144552 rows × 16 columns</p>\n",
       "</div>"
      ],
      "text/plain": [
       "           video_id                                              title  \\\n",
       "202     3C66w5Z0ixs                 I ASKED HER TO BE MY GIRLFRIEND...   \n",
       "207     J78aPJ3VyNs  I left youtube for a month and THIS is what ha...   \n",
       "209     M9Pmf9AB4Mo  Apex Legends | Stories from the Outlands – “Th...   \n",
       "213     VIUo6yapDbc  Ultimate DIY Home Movie Theater for The LaBran...   \n",
       "214     kXLn3HkpjaA  XXL 2020 Freshman Class Revealed - Official An...   \n",
       "...             ...                                                ...   \n",
       "180385  xxSyov0Hjz8                       Tom Hanks Eats His Last Meal   \n",
       "180386  rkXx6yqsgOY       Japan $1000 Crane Game Challenge Ft. @Daidus   \n",
       "180387  7nKMUkcSC2s                            Wednesday Pitch Meeting   \n",
       "180388  ZWj-Z4Z2W3k  The Kid LAROI - I Can’t Go Back To The Way It ...   \n",
       "180389  2rTVM8wzW7o  Zach Bryan / The Burn, Burn, Burn Tour Announc...   \n",
       "\n",
       "                 publishedAt                 channelId      channelTitle  \\\n",
       "202     2020-08-11T19:20:14Z  UCvtRTOMP2TqYqu51xNrqAzg          Brawadis   \n",
       "207     2020-08-11T16:34:06Z  UCYzPXprvl5Y-Sf0g4vX-m6g     jacksepticeye   \n",
       "209     2020-08-11T17:00:10Z  UC0ZV6M2THA81QT9hrVWJG3A      Apex Legends   \n",
       "213     2020-08-11T15:10:05Z  UCDVPcEbVLQgLZX0Rt6jo34A          Mr. Kate   \n",
       "214     2020-08-11T16:38:55Z  UCbg_UMjlHJg_19SZckaKajg               XXL   \n",
       "...                      ...                       ...               ...   \n",
       "180385  2023-01-19T11:00:29Z  UCXGR70CkW_pXb8n52LzCCRw  Mythical Kitchen   \n",
       "180386  2023-01-19T18:15:03Z  UCPsZ_0SkFdi551iYTG04R2g           CDawgVA   \n",
       "180387  2023-01-19T20:15:00Z  UC9Kq-yEt1iYsbUzNOoIRK0g     Pitch Meeting   \n",
       "180388  2023-01-19T15:00:20Z  UC6G2vAJrt407lwiynW116Eg    The Kid LAROI.   \n",
       "180389  2023-01-19T16:02:13Z  UCwK3C8Vgphad4PweezfUBAQ        Zach Bryan   \n",
       "\n",
       "        categoryId         trending_date  \\\n",
       "202             22  2020-08-13T00:00:00Z   \n",
       "207             24  2020-08-13T00:00:00Z   \n",
       "209             20  2020-08-13T00:00:00Z   \n",
       "213             26  2020-08-13T00:00:00Z   \n",
       "214             10  2020-08-13T00:00:00Z   \n",
       "...            ...                   ...   \n",
       "180385          24  2023-01-26T00:00:00Z   \n",
       "180386          24  2023-01-26T00:00:00Z   \n",
       "180387          24  2023-01-26T00:00:00Z   \n",
       "180388          10  2023-01-26T00:00:00Z   \n",
       "180389          10  2023-01-26T00:00:00Z   \n",
       "\n",
       "                                                     tags  view_count   likes  \\\n",
       "202     brawadis prank basketball skits ghost funny vi...     3017834  183592   \n",
       "207     jacksepticeye funny funny meme memes jacksepti...     2802823  401421   \n",
       "209     Apex Legends Apex Legends characters new Apex ...     2932421  153682   \n",
       "213     The LaBrant Family DIY Interior Design Makeove...     1922758   54959   \n",
       "214     xxl freshman xxl freshmen 2020 xxl freshman 20...      944498   29016   \n",
       "...                                                   ...         ...     ...   \n",
       "180385  mythical kitchen mythical chef josh scherer ni...     1218886   67099   \n",
       "180386  Crane Game Japan UFO Catcher CDawg Daidus Conn...      925816   60351   \n",
       "180387  Wednesday addams family christina ricci funny ...     1183539   82003   \n",
       "180388  the kid laroi thekidlaroi laroi tkl the first ...     1195825   55682   \n",
       "180389                                                         381014   14865   \n",
       "\n",
       "        dislikes  comment_count  \\\n",
       "202         9506          41374   \n",
       "207         3728          44546   \n",
       "209         3281          17454   \n",
       "213         1758           2662   \n",
       "214         2809           9278   \n",
       "...          ...            ...   \n",
       "180385         0           4899   \n",
       "180386         0           2292   \n",
       "180387         0           6272   \n",
       "180388         0           2831   \n",
       "180389         0            850   \n",
       "\n",
       "                                        thumbnail_link  comments_disabled  \\\n",
       "202     https://i.ytimg.com/vi/3C66w5Z0ixs/default.jpg              False   \n",
       "207     https://i.ytimg.com/vi/J78aPJ3VyNs/default.jpg              False   \n",
       "209     https://i.ytimg.com/vi/M9Pmf9AB4Mo/default.jpg              False   \n",
       "213     https://i.ytimg.com/vi/VIUo6yapDbc/default.jpg              False   \n",
       "214     https://i.ytimg.com/vi/kXLn3HkpjaA/default.jpg              False   \n",
       "...                                                ...                ...   \n",
       "180385  https://i.ytimg.com/vi/xxSyov0Hjz8/default.jpg              False   \n",
       "180386  https://i.ytimg.com/vi/rkXx6yqsgOY/default.jpg              False   \n",
       "180387  https://i.ytimg.com/vi/7nKMUkcSC2s/default.jpg              False   \n",
       "180388  https://i.ytimg.com/vi/ZWj-Z4Z2W3k/default.jpg              False   \n",
       "180389  https://i.ytimg.com/vi/2rTVM8wzW7o/default.jpg              False   \n",
       "\n",
       "        ratings_disabled                                        description  \n",
       "202                False  SUBSCRIBE to BRAWADIS ▶ http://bit.ly/Subscrib...  \n",
       "207                False  I left youtube for a month and this is what ha...  \n",
       "209                False  While running her own modding shop, Ramya Pare...  \n",
       "213                False  Transforming The LaBrant Family's empty white ...  \n",
       "214                False  Subscribe to XXL → http://bit.ly/subscribe-xxl...  \n",
       "...                  ...                                                ...  \n",
       "180385             False  Today, Josh is cooking Tom Hanks's last meal.D...  \n",
       "180386             False  Use my code CDAWG15 at https://partner.bokksu....  \n",
       "180387             False  Step inside the Pitch Meeting that led to Wedn...  \n",
       "180388             False  The Kid LAROI I Can’t Go Back To The Way It Wa...  \n",
       "180389             False                                                     \n",
       "\n",
       "[144552 rows x 16 columns]"
      ]
     },
     "execution_count": 13,
     "metadata": {},
     "output_type": "execute_result"
    }
   ],
   "source": [
    "# .drop_duplicates()\n",
    "# these are the duplicate values with same video id\n",
    "duplicates = trending_youtube[trending_youtube['video_id'].duplicated() == True]\n",
    "duplicates"
   ]
  },
  {
   "cell_type": "markdown",
   "id": "0c355f74",
   "metadata": {},
   "source": [
    "There is almost 7 duplicates for a single video! since while collecting dataset, the video can remain in the trending page for a while so when collecting the dataset it will get the video multiple times but with different viewer count and comments and other variables. so when we drop our duplicates we make sure to leave the last time the video was trending. "
   ]
  },
  {
   "cell_type": "code",
   "execution_count": 14,
   "id": "78fbba55",
   "metadata": {},
   "outputs": [
    {
     "data": {
      "text/html": [
       "<div>\n",
       "<style scoped>\n",
       "    .dataframe tbody tr th:only-of-type {\n",
       "        vertical-align: middle;\n",
       "    }\n",
       "\n",
       "    .dataframe tbody tr th {\n",
       "        vertical-align: top;\n",
       "    }\n",
       "\n",
       "    .dataframe thead th {\n",
       "        text-align: right;\n",
       "    }\n",
       "</style>\n",
       "<table border=\"1\" class=\"dataframe\">\n",
       "  <thead>\n",
       "    <tr style=\"text-align: right;\">\n",
       "      <th></th>\n",
       "      <th>video_id</th>\n",
       "      <th>title</th>\n",
       "      <th>publishedAt</th>\n",
       "      <th>channelId</th>\n",
       "      <th>channelTitle</th>\n",
       "      <th>categoryId</th>\n",
       "      <th>trending_date</th>\n",
       "      <th>tags</th>\n",
       "      <th>view_count</th>\n",
       "      <th>likes</th>\n",
       "      <th>dislikes</th>\n",
       "      <th>comment_count</th>\n",
       "      <th>thumbnail_link</th>\n",
       "      <th>comments_disabled</th>\n",
       "      <th>ratings_disabled</th>\n",
       "      <th>description</th>\n",
       "    </tr>\n",
       "  </thead>\n",
       "  <tbody>\n",
       "    <tr>\n",
       "      <th>2</th>\n",
       "      <td>J78aPJ3VyNs</td>\n",
       "      <td>I left youtube for a month and THIS is what ha...</td>\n",
       "      <td>2020-08-11T16:34:06Z</td>\n",
       "      <td>UCYzPXprvl5Y-Sf0g4vX-m6g</td>\n",
       "      <td>jacksepticeye</td>\n",
       "      <td>24</td>\n",
       "      <td>2020-08-12T00:00:00Z</td>\n",
       "      <td>jacksepticeye funny funny meme memes jacksepti...</td>\n",
       "      <td>2038853</td>\n",
       "      <td>353787</td>\n",
       "      <td>2628</td>\n",
       "      <td>40221</td>\n",
       "      <td>https://i.ytimg.com/vi/J78aPJ3VyNs/default.jpg</td>\n",
       "      <td>False</td>\n",
       "      <td>False</td>\n",
       "      <td>I left youtube for a month and this is what ha...</td>\n",
       "    </tr>\n",
       "    <tr>\n",
       "      <th>207</th>\n",
       "      <td>J78aPJ3VyNs</td>\n",
       "      <td>I left youtube for a month and THIS is what ha...</td>\n",
       "      <td>2020-08-11T16:34:06Z</td>\n",
       "      <td>UCYzPXprvl5Y-Sf0g4vX-m6g</td>\n",
       "      <td>jacksepticeye</td>\n",
       "      <td>24</td>\n",
       "      <td>2020-08-13T00:00:00Z</td>\n",
       "      <td>jacksepticeye funny funny meme memes jacksepti...</td>\n",
       "      <td>2802823</td>\n",
       "      <td>401421</td>\n",
       "      <td>3728</td>\n",
       "      <td>44546</td>\n",
       "      <td>https://i.ytimg.com/vi/J78aPJ3VyNs/default.jpg</td>\n",
       "      <td>False</td>\n",
       "      <td>False</td>\n",
       "      <td>I left youtube for a month and this is what ha...</td>\n",
       "    </tr>\n",
       "    <tr>\n",
       "      <th>442</th>\n",
       "      <td>J78aPJ3VyNs</td>\n",
       "      <td>I left youtube for a month and THIS is what ha...</td>\n",
       "      <td>2020-08-11T16:34:06Z</td>\n",
       "      <td>UCYzPXprvl5Y-Sf0g4vX-m6g</td>\n",
       "      <td>jacksepticeye</td>\n",
       "      <td>24</td>\n",
       "      <td>2020-08-14T00:00:00Z</td>\n",
       "      <td>jacksepticeye funny funny meme memes jacksepti...</td>\n",
       "      <td>3136088</td>\n",
       "      <td>427609</td>\n",
       "      <td>4009</td>\n",
       "      <td>46133</td>\n",
       "      <td>https://i.ytimg.com/vi/J78aPJ3VyNs/default.jpg</td>\n",
       "      <td>False</td>\n",
       "      <td>False</td>\n",
       "      <td>I left youtube for a month and this is what ha...</td>\n",
       "    </tr>\n",
       "    <tr>\n",
       "      <th>657</th>\n",
       "      <td>J78aPJ3VyNs</td>\n",
       "      <td>I left youtube for a month and THIS is what ha...</td>\n",
       "      <td>2020-08-11T16:34:06Z</td>\n",
       "      <td>UCYzPXprvl5Y-Sf0g4vX-m6g</td>\n",
       "      <td>jacksepticeye</td>\n",
       "      <td>24</td>\n",
       "      <td>2020-08-15T00:00:00Z</td>\n",
       "      <td>jacksepticeye funny funny meme memes jacksepti...</td>\n",
       "      <td>3309124</td>\n",
       "      <td>442555</td>\n",
       "      <td>4156</td>\n",
       "      <td>46699</td>\n",
       "      <td>https://i.ytimg.com/vi/J78aPJ3VyNs/default.jpg</td>\n",
       "      <td>False</td>\n",
       "      <td>False</td>\n",
       "      <td>I left youtube for a month and this is what ha...</td>\n",
       "    </tr>\n",
       "    <tr>\n",
       "      <th>909</th>\n",
       "      <td>J78aPJ3VyNs</td>\n",
       "      <td>I left youtube for a month and THIS is what ha...</td>\n",
       "      <td>2020-08-11T16:34:06Z</td>\n",
       "      <td>UCYzPXprvl5Y-Sf0g4vX-m6g</td>\n",
       "      <td>jacksepticeye</td>\n",
       "      <td>24</td>\n",
       "      <td>2020-08-16T00:00:00Z</td>\n",
       "      <td>jacksepticeye funny funny meme memes jacksepti...</td>\n",
       "      <td>3384892</td>\n",
       "      <td>448809</td>\n",
       "      <td>4209</td>\n",
       "      <td>47003</td>\n",
       "      <td>https://i.ytimg.com/vi/J78aPJ3VyNs/default.jpg</td>\n",
       "      <td>False</td>\n",
       "      <td>False</td>\n",
       "      <td>I left youtube for a month and this is what ha...</td>\n",
       "    </tr>\n",
       "    <tr>\n",
       "      <th>1159</th>\n",
       "      <td>J78aPJ3VyNs</td>\n",
       "      <td>I left youtube for a month and THIS is what ha...</td>\n",
       "      <td>2020-08-11T16:34:06Z</td>\n",
       "      <td>UCYzPXprvl5Y-Sf0g4vX-m6g</td>\n",
       "      <td>jacksepticeye</td>\n",
       "      <td>24</td>\n",
       "      <td>2020-08-17T00:00:00Z</td>\n",
       "      <td>jacksepticeye funny funny meme memes jacksepti...</td>\n",
       "      <td>3439181</td>\n",
       "      <td>453464</td>\n",
       "      <td>4246</td>\n",
       "      <td>47188</td>\n",
       "      <td>https://i.ytimg.com/vi/J78aPJ3VyNs/default.jpg</td>\n",
       "      <td>False</td>\n",
       "      <td>False</td>\n",
       "      <td>I left youtube for a month and this is what ha...</td>\n",
       "    </tr>\n",
       "    <tr>\n",
       "      <th>1399</th>\n",
       "      <td>J78aPJ3VyNs</td>\n",
       "      <td>I left youtube for a month and THIS is what ha...</td>\n",
       "      <td>2020-08-11T16:34:06Z</td>\n",
       "      <td>UCYzPXprvl5Y-Sf0g4vX-m6g</td>\n",
       "      <td>jacksepticeye</td>\n",
       "      <td>24</td>\n",
       "      <td>2020-08-18T00:00:00Z</td>\n",
       "      <td>jacksepticeye funny funny meme memes jacksepti...</td>\n",
       "      <td>3490530</td>\n",
       "      <td>457130</td>\n",
       "      <td>4269</td>\n",
       "      <td>47291</td>\n",
       "      <td>https://i.ytimg.com/vi/J78aPJ3VyNs/default.jpg</td>\n",
       "      <td>False</td>\n",
       "      <td>False</td>\n",
       "      <td>I left youtube for a month and this is what ha...</td>\n",
       "    </tr>\n",
       "  </tbody>\n",
       "</table>\n",
       "</div>"
      ],
      "text/plain": [
       "         video_id                                              title  \\\n",
       "2     J78aPJ3VyNs  I left youtube for a month and THIS is what ha...   \n",
       "207   J78aPJ3VyNs  I left youtube for a month and THIS is what ha...   \n",
       "442   J78aPJ3VyNs  I left youtube for a month and THIS is what ha...   \n",
       "657   J78aPJ3VyNs  I left youtube for a month and THIS is what ha...   \n",
       "909   J78aPJ3VyNs  I left youtube for a month and THIS is what ha...   \n",
       "1159  J78aPJ3VyNs  I left youtube for a month and THIS is what ha...   \n",
       "1399  J78aPJ3VyNs  I left youtube for a month and THIS is what ha...   \n",
       "\n",
       "               publishedAt                 channelId   channelTitle  \\\n",
       "2     2020-08-11T16:34:06Z  UCYzPXprvl5Y-Sf0g4vX-m6g  jacksepticeye   \n",
       "207   2020-08-11T16:34:06Z  UCYzPXprvl5Y-Sf0g4vX-m6g  jacksepticeye   \n",
       "442   2020-08-11T16:34:06Z  UCYzPXprvl5Y-Sf0g4vX-m6g  jacksepticeye   \n",
       "657   2020-08-11T16:34:06Z  UCYzPXprvl5Y-Sf0g4vX-m6g  jacksepticeye   \n",
       "909   2020-08-11T16:34:06Z  UCYzPXprvl5Y-Sf0g4vX-m6g  jacksepticeye   \n",
       "1159  2020-08-11T16:34:06Z  UCYzPXprvl5Y-Sf0g4vX-m6g  jacksepticeye   \n",
       "1399  2020-08-11T16:34:06Z  UCYzPXprvl5Y-Sf0g4vX-m6g  jacksepticeye   \n",
       "\n",
       "      categoryId         trending_date  \\\n",
       "2             24  2020-08-12T00:00:00Z   \n",
       "207           24  2020-08-13T00:00:00Z   \n",
       "442           24  2020-08-14T00:00:00Z   \n",
       "657           24  2020-08-15T00:00:00Z   \n",
       "909           24  2020-08-16T00:00:00Z   \n",
       "1159          24  2020-08-17T00:00:00Z   \n",
       "1399          24  2020-08-18T00:00:00Z   \n",
       "\n",
       "                                                   tags  view_count   likes  \\\n",
       "2     jacksepticeye funny funny meme memes jacksepti...     2038853  353787   \n",
       "207   jacksepticeye funny funny meme memes jacksepti...     2802823  401421   \n",
       "442   jacksepticeye funny funny meme memes jacksepti...     3136088  427609   \n",
       "657   jacksepticeye funny funny meme memes jacksepti...     3309124  442555   \n",
       "909   jacksepticeye funny funny meme memes jacksepti...     3384892  448809   \n",
       "1159  jacksepticeye funny funny meme memes jacksepti...     3439181  453464   \n",
       "1399  jacksepticeye funny funny meme memes jacksepti...     3490530  457130   \n",
       "\n",
       "      dislikes  comment_count                                  thumbnail_link  \\\n",
       "2         2628          40221  https://i.ytimg.com/vi/J78aPJ3VyNs/default.jpg   \n",
       "207       3728          44546  https://i.ytimg.com/vi/J78aPJ3VyNs/default.jpg   \n",
       "442       4009          46133  https://i.ytimg.com/vi/J78aPJ3VyNs/default.jpg   \n",
       "657       4156          46699  https://i.ytimg.com/vi/J78aPJ3VyNs/default.jpg   \n",
       "909       4209          47003  https://i.ytimg.com/vi/J78aPJ3VyNs/default.jpg   \n",
       "1159      4246          47188  https://i.ytimg.com/vi/J78aPJ3VyNs/default.jpg   \n",
       "1399      4269          47291  https://i.ytimg.com/vi/J78aPJ3VyNs/default.jpg   \n",
       "\n",
       "      comments_disabled  ratings_disabled  \\\n",
       "2                 False             False   \n",
       "207               False             False   \n",
       "442               False             False   \n",
       "657               False             False   \n",
       "909               False             False   \n",
       "1159              False             False   \n",
       "1399              False             False   \n",
       "\n",
       "                                            description  \n",
       "2     I left youtube for a month and this is what ha...  \n",
       "207   I left youtube for a month and this is what ha...  \n",
       "442   I left youtube for a month and this is what ha...  \n",
       "657   I left youtube for a month and this is what ha...  \n",
       "909   I left youtube for a month and this is what ha...  \n",
       "1159  I left youtube for a month and this is what ha...  \n",
       "1399  I left youtube for a month and this is what ha...  "
      ]
     },
     "execution_count": 14,
     "metadata": {},
     "output_type": "execute_result"
    }
   ],
   "source": [
    "trending_youtube[trending_youtube['video_id'] == \"J78aPJ3VyNs\"]"
   ]
  },
  {
   "cell_type": "code",
   "execution_count": 15,
   "id": "811ea33d",
   "metadata": {},
   "outputs": [
    {
     "data": {
      "text/plain": [
       "144552"
      ]
     },
     "execution_count": 15,
     "metadata": {},
     "output_type": "execute_result"
    }
   ],
   "source": [
    "len(duplicates['video_id'])"
   ]
  },
  {
   "cell_type": "code",
   "execution_count": 16,
   "id": "d3b34caf",
   "metadata": {},
   "outputs": [],
   "source": [
    "trending_youtube.drop_duplicates(subset=['title','video_id'], keep='last' , inplace= True)"
   ]
  },
  {
   "cell_type": "code",
   "execution_count": 17,
   "id": "06874b7a",
   "metadata": {},
   "outputs": [
    {
     "data": {
      "text/html": [
       "<div>\n",
       "<style scoped>\n",
       "    .dataframe tbody tr th:only-of-type {\n",
       "        vertical-align: middle;\n",
       "    }\n",
       "\n",
       "    .dataframe tbody tr th {\n",
       "        vertical-align: top;\n",
       "    }\n",
       "\n",
       "    .dataframe thead th {\n",
       "        text-align: right;\n",
       "    }\n",
       "</style>\n",
       "<table border=\"1\" class=\"dataframe\">\n",
       "  <thead>\n",
       "    <tr style=\"text-align: right;\">\n",
       "      <th></th>\n",
       "      <th>video_id</th>\n",
       "      <th>title</th>\n",
       "      <th>publishedAt</th>\n",
       "      <th>channelId</th>\n",
       "      <th>channelTitle</th>\n",
       "      <th>categoryId</th>\n",
       "      <th>trending_date</th>\n",
       "      <th>tags</th>\n",
       "      <th>view_count</th>\n",
       "      <th>likes</th>\n",
       "      <th>dislikes</th>\n",
       "      <th>comment_count</th>\n",
       "      <th>thumbnail_link</th>\n",
       "      <th>comments_disabled</th>\n",
       "      <th>ratings_disabled</th>\n",
       "      <th>description</th>\n",
       "    </tr>\n",
       "  </thead>\n",
       "  <tbody>\n",
       "    <tr>\n",
       "      <th>1399</th>\n",
       "      <td>J78aPJ3VyNs</td>\n",
       "      <td>I left youtube for a month and THIS is what ha...</td>\n",
       "      <td>2020-08-11T16:34:06Z</td>\n",
       "      <td>UCYzPXprvl5Y-Sf0g4vX-m6g</td>\n",
       "      <td>jacksepticeye</td>\n",
       "      <td>24</td>\n",
       "      <td>2020-08-18T00:00:00Z</td>\n",
       "      <td>jacksepticeye funny funny meme memes jacksepti...</td>\n",
       "      <td>3490530</td>\n",
       "      <td>457130</td>\n",
       "      <td>4269</td>\n",
       "      <td>47291</td>\n",
       "      <td>https://i.ytimg.com/vi/J78aPJ3VyNs/default.jpg</td>\n",
       "      <td>False</td>\n",
       "      <td>False</td>\n",
       "      <td>I left youtube for a month and this is what ha...</td>\n",
       "    </tr>\n",
       "  </tbody>\n",
       "</table>\n",
       "</div>"
      ],
      "text/plain": [
       "         video_id                                              title  \\\n",
       "1399  J78aPJ3VyNs  I left youtube for a month and THIS is what ha...   \n",
       "\n",
       "               publishedAt                 channelId   channelTitle  \\\n",
       "1399  2020-08-11T16:34:06Z  UCYzPXprvl5Y-Sf0g4vX-m6g  jacksepticeye   \n",
       "\n",
       "      categoryId         trending_date  \\\n",
       "1399          24  2020-08-18T00:00:00Z   \n",
       "\n",
       "                                                   tags  view_count   likes  \\\n",
       "1399  jacksepticeye funny funny meme memes jacksepti...     3490530  457130   \n",
       "\n",
       "      dislikes  comment_count                                  thumbnail_link  \\\n",
       "1399      4269          47291  https://i.ytimg.com/vi/J78aPJ3VyNs/default.jpg   \n",
       "\n",
       "      comments_disabled  ratings_disabled  \\\n",
       "1399              False             False   \n",
       "\n",
       "                                            description  \n",
       "1399  I left youtube for a month and this is what ha...  "
      ]
     },
     "execution_count": 17,
     "metadata": {},
     "output_type": "execute_result"
    }
   ],
   "source": [
    "# last updated video before leaving the trending page\n",
    "trending_youtube[trending_youtube['video_id'] == \"J78aPJ3VyNs\"]"
   ]
  },
  {
   "cell_type": "code",
   "execution_count": 18,
   "id": "d0f455fa",
   "metadata": {
    "scrolled": true
   },
   "outputs": [
    {
     "data": {
      "text/plain": [
       "33461"
      ]
     },
     "execution_count": 18,
     "metadata": {},
     "output_type": "execute_result"
    }
   ],
   "source": [
    "len(trending_youtube)"
   ]
  },
  {
   "cell_type": "markdown",
   "id": "3ff4a40b",
   "metadata": {},
   "source": [
    "Converting date columns from object to datetime type, to easily manipulate them in the analysis."
   ]
  },
  {
   "cell_type": "code",
   "execution_count": 19,
   "id": "14a13b96",
   "metadata": {},
   "outputs": [
    {
     "data": {
      "text/plain": [
       "video_id             object\n",
       "title                object\n",
       "publishedAt          object\n",
       "channelId            object\n",
       "channelTitle         object\n",
       "categoryId            int64\n",
       "trending_date        object\n",
       "tags                 object\n",
       "view_count            int64\n",
       "likes                 int64\n",
       "dislikes              int64\n",
       "comment_count         int64\n",
       "thumbnail_link       object\n",
       "comments_disabled      bool\n",
       "ratings_disabled       bool\n",
       "description          object\n",
       "dtype: object"
      ]
     },
     "execution_count": 19,
     "metadata": {},
     "output_type": "execute_result"
    }
   ],
   "source": [
    "trending_youtube.dtypes"
   ]
  },
  {
   "cell_type": "code",
   "execution_count": 20,
   "id": "448e273e",
   "metadata": {},
   "outputs": [
    {
     "data": {
      "text/html": [
       "<div>\n",
       "<style scoped>\n",
       "    .dataframe tbody tr th:only-of-type {\n",
       "        vertical-align: middle;\n",
       "    }\n",
       "\n",
       "    .dataframe tbody tr th {\n",
       "        vertical-align: top;\n",
       "    }\n",
       "\n",
       "    .dataframe thead th {\n",
       "        text-align: right;\n",
       "    }\n",
       "</style>\n",
       "<table border=\"1\" class=\"dataframe\">\n",
       "  <thead>\n",
       "    <tr style=\"text-align: right;\">\n",
       "      <th></th>\n",
       "      <th>publishedAt</th>\n",
       "      <th>trending_date</th>\n",
       "    </tr>\n",
       "  </thead>\n",
       "  <tbody>\n",
       "    <tr>\n",
       "      <th>13</th>\n",
       "      <td>2020-08-11T19:00:10Z</td>\n",
       "      <td>2020-08-12T00:00:00Z</td>\n",
       "    </tr>\n",
       "    <tr>\n",
       "      <th>58</th>\n",
       "      <td>2020-08-11T11:08:04Z</td>\n",
       "      <td>2020-08-12T00:00:00Z</td>\n",
       "    </tr>\n",
       "    <tr>\n",
       "      <th>172</th>\n",
       "      <td>2020-08-07T18:30:06Z</td>\n",
       "      <td>2020-08-12T00:00:00Z</td>\n",
       "    </tr>\n",
       "    <tr>\n",
       "      <th>173</th>\n",
       "      <td>2020-08-07T09:30:04Z</td>\n",
       "      <td>2020-08-12T00:00:00Z</td>\n",
       "    </tr>\n",
       "    <tr>\n",
       "      <th>174</th>\n",
       "      <td>2020-08-06T19:47:12Z</td>\n",
       "      <td>2020-08-12T00:00:00Z</td>\n",
       "    </tr>\n",
       "  </tbody>\n",
       "</table>\n",
       "</div>"
      ],
      "text/plain": [
       "              publishedAt         trending_date\n",
       "13   2020-08-11T19:00:10Z  2020-08-12T00:00:00Z\n",
       "58   2020-08-11T11:08:04Z  2020-08-12T00:00:00Z\n",
       "172  2020-08-07T18:30:06Z  2020-08-12T00:00:00Z\n",
       "173  2020-08-07T09:30:04Z  2020-08-12T00:00:00Z\n",
       "174  2020-08-06T19:47:12Z  2020-08-12T00:00:00Z"
      ]
     },
     "execution_count": 20,
     "metadata": {},
     "output_type": "execute_result"
    }
   ],
   "source": [
    "trending_youtube[['publishedAt', 'trending_date']].head()"
   ]
  },
  {
   "cell_type": "code",
   "execution_count": 21,
   "id": "3fcd62c3",
   "metadata": {},
   "outputs": [
    {
     "data": {
      "text/html": [
       "<div>\n",
       "<style scoped>\n",
       "    .dataframe tbody tr th:only-of-type {\n",
       "        vertical-align: middle;\n",
       "    }\n",
       "\n",
       "    .dataframe tbody tr th {\n",
       "        vertical-align: top;\n",
       "    }\n",
       "\n",
       "    .dataframe thead th {\n",
       "        text-align: right;\n",
       "    }\n",
       "</style>\n",
       "<table border=\"1\" class=\"dataframe\">\n",
       "  <thead>\n",
       "    <tr style=\"text-align: right;\">\n",
       "      <th></th>\n",
       "      <th>publishedAt</th>\n",
       "      <th>trending_date</th>\n",
       "    </tr>\n",
       "  </thead>\n",
       "  <tbody>\n",
       "    <tr>\n",
       "      <th>13</th>\n",
       "      <td>2020-08-11 19:00:10</td>\n",
       "      <td>2020-08-12</td>\n",
       "    </tr>\n",
       "    <tr>\n",
       "      <th>58</th>\n",
       "      <td>2020-08-11 11:08:04</td>\n",
       "      <td>2020-08-12</td>\n",
       "    </tr>\n",
       "    <tr>\n",
       "      <th>172</th>\n",
       "      <td>2020-08-07 18:30:06</td>\n",
       "      <td>2020-08-12</td>\n",
       "    </tr>\n",
       "    <tr>\n",
       "      <th>173</th>\n",
       "      <td>2020-08-07 09:30:04</td>\n",
       "      <td>2020-08-12</td>\n",
       "    </tr>\n",
       "    <tr>\n",
       "      <th>174</th>\n",
       "      <td>2020-08-06 19:47:12</td>\n",
       "      <td>2020-08-12</td>\n",
       "    </tr>\n",
       "  </tbody>\n",
       "</table>\n",
       "</div>"
      ],
      "text/plain": [
       "            publishedAt trending_date\n",
       "13  2020-08-11 19:00:10    2020-08-12\n",
       "58  2020-08-11 11:08:04    2020-08-12\n",
       "172 2020-08-07 18:30:06    2020-08-12\n",
       "173 2020-08-07 09:30:04    2020-08-12\n",
       "174 2020-08-06 19:47:12    2020-08-12"
      ]
     },
     "execution_count": 21,
     "metadata": {},
     "output_type": "execute_result"
    }
   ],
   "source": [
    "#Trending date column has object data type which needs to changed as datetime\n",
    "trending_youtube['trending_date'] = pd.to_datetime(trending_youtube['trending_date'], format = \"%Y-%m-%dT%H:%M:%SZ\")\n",
    "#The publishedAt column converted with the astype function\n",
    "trending_youtube['publishedAt'] = trending_youtube['publishedAt'].astype('datetime64[ns]')\n",
    "trending_youtube[['publishedAt', 'trending_date']].head()"
   ]
  },
  {
   "cell_type": "code",
   "execution_count": 22,
   "id": "c226655a",
   "metadata": {
    "scrolled": true
   },
   "outputs": [
    {
     "data": {
      "text/plain": [
       "trending_date    datetime64[ns]\n",
       "publishedAt      datetime64[ns]\n",
       "dtype: object"
      ]
     },
     "execution_count": 22,
     "metadata": {},
     "output_type": "execute_result"
    }
   ],
   "source": [
    "trending_youtube[['trending_date','publishedAt']].dtypes"
   ]
  },
  {
   "cell_type": "markdown",
   "id": "5c8b3c5d",
   "metadata": {},
   "source": [
    "Since we dropped rows and change few parts in the dataset, the indexing of the dataframe won't be coherent, we can simply reset it."
   ]
  },
  {
   "cell_type": "code",
   "execution_count": 23,
   "id": "b8c9863c",
   "metadata": {
    "scrolled": true
   },
   "outputs": [
    {
     "data": {
      "text/plain": [
       "Int64Index([    13,     58,    172,    173,    174,    175,    176,    177,\n",
       "               178,    179,\n",
       "            ...\n",
       "            180380, 180381, 180382, 180383, 180384, 180385, 180386, 180387,\n",
       "            180388, 180389],\n",
       "           dtype='int64', length=33461)"
      ]
     },
     "execution_count": 23,
     "metadata": {},
     "output_type": "execute_result"
    }
   ],
   "source": [
    "trending_youtube.index"
   ]
  },
  {
   "cell_type": "code",
   "execution_count": 24,
   "id": "6c8460c8",
   "metadata": {},
   "outputs": [],
   "source": [
    "trending_youtube.reset_index(drop=True, inplace=True)"
   ]
  },
  {
   "cell_type": "code",
   "execution_count": 25,
   "id": "0a030ca5",
   "metadata": {
    "scrolled": true
   },
   "outputs": [
    {
     "data": {
      "text/plain": [
       "RangeIndex(start=0, stop=33461, step=1)"
      ]
     },
     "execution_count": 25,
     "metadata": {},
     "output_type": "execute_result"
    }
   ],
   "source": [
    "trending_youtube.index"
   ]
  },
  {
   "cell_type": "code",
   "execution_count": 26,
   "id": "c9c03dd2-f8cf-45d7-8d10-909f97e093b9",
   "metadata": {},
   "outputs": [
    {
     "name": "stdout",
     "output_type": "stream",
     "text": [
      "<class 'pandas.core.frame.DataFrame'>\n",
      "RangeIndex: 33461 entries, 0 to 33460\n",
      "Data columns (total 16 columns):\n",
      " #   Column             Non-Null Count  Dtype         \n",
      "---  ------             --------------  -----         \n",
      " 0   video_id           33461 non-null  object        \n",
      " 1   title              33461 non-null  object        \n",
      " 2   publishedAt        33461 non-null  datetime64[ns]\n",
      " 3   channelId          33461 non-null  object        \n",
      " 4   channelTitle       33461 non-null  object        \n",
      " 5   categoryId         33461 non-null  int64         \n",
      " 6   trending_date      33461 non-null  datetime64[ns]\n",
      " 7   tags               33461 non-null  object        \n",
      " 8   view_count         33461 non-null  int64         \n",
      " 9   likes              33461 non-null  int64         \n",
      " 10  dislikes           33461 non-null  int64         \n",
      " 11  comment_count      33461 non-null  int64         \n",
      " 12  thumbnail_link     33461 non-null  object        \n",
      " 13  comments_disabled  33461 non-null  bool          \n",
      " 14  ratings_disabled   33461 non-null  bool          \n",
      " 15  description        33461 non-null  object        \n",
      "dtypes: bool(2), datetime64[ns](2), int64(5), object(7)\n",
      "memory usage: 3.6+ MB\n"
     ]
    }
   ],
   "source": [
    "trending_youtube.info()"
   ]
  },
  {
   "cell_type": "code",
   "execution_count": 27,
   "id": "53f02139-f7be-4877-a8ad-17786ffa49f6",
   "metadata": {},
   "outputs": [],
   "source": [
    "#creating dictionary for json file provided for category and category id\n",
    "category_dict = {}\n",
    "for i in US_category_id['items']:\n",
    "    category_dict[i['id']] = i['snippet']['title']"
   ]
  },
  {
   "cell_type": "code",
   "execution_count": 28,
   "id": "132e77a7-c54c-427b-b45e-7724bc9316a0",
   "metadata": {},
   "outputs": [],
   "source": [
    "#replacing the category id with category actual name \n",
    "def replace_categoryid(df):\n",
    "    if str(df) in category_dict:\n",
    "        return category_dict[str(df)]\n",
    "    \n",
    "trending_youtube['category'] = trending_youtube['categoryId'].apply(replace_categoryid)"
   ]
  },
  {
   "cell_type": "code",
   "execution_count": 29,
   "id": "12c3c4d3-fabe-449e-b490-815c67627dd4",
   "metadata": {},
   "outputs": [
    {
     "name": "stdout",
     "output_type": "stream",
     "text": [
      "<class 'pandas.core.frame.DataFrame'>\n",
      "RangeIndex: 33461 entries, 0 to 33460\n",
      "Data columns (total 17 columns):\n",
      " #   Column             Non-Null Count  Dtype         \n",
      "---  ------             --------------  -----         \n",
      " 0   video_id           33461 non-null  object        \n",
      " 1   title              33461 non-null  object        \n",
      " 2   publishedAt        33461 non-null  datetime64[ns]\n",
      " 3   channelId          33461 non-null  object        \n",
      " 4   channelTitle       33461 non-null  object        \n",
      " 5   categoryId         33461 non-null  int64         \n",
      " 6   trending_date      33461 non-null  datetime64[ns]\n",
      " 7   tags               33461 non-null  object        \n",
      " 8   view_count         33461 non-null  int64         \n",
      " 9   likes              33461 non-null  int64         \n",
      " 10  dislikes           33461 non-null  int64         \n",
      " 11  comment_count      33461 non-null  int64         \n",
      " 12  thumbnail_link     33461 non-null  object        \n",
      " 13  comments_disabled  33461 non-null  bool          \n",
      " 14  ratings_disabled   33461 non-null  bool          \n",
      " 15  description        33461 non-null  object        \n",
      " 16  category           33461 non-null  object        \n",
      "dtypes: bool(2), datetime64[ns](2), int64(5), object(8)\n",
      "memory usage: 3.9+ MB\n"
     ]
    }
   ],
   "source": [
    "trending_youtube.info()"
   ]
  },
  {
   "cell_type": "markdown",
   "id": "fe415fde-8ddd-4f73-948b-600df799c388",
   "metadata": {},
   "source": [
    "## EDA"
   ]
  },
  {
   "cell_type": "markdown",
   "id": "b1c14339-1647-4029-abaf-32f18ee57659",
   "metadata": {},
   "source": [
    "#### 1. What categories that youtube users in the US are interested in?"
   ]
  },
  {
   "cell_type": "code",
   "execution_count": 30,
   "id": "a6e89009-825a-4d27-acb7-633d52029ab7",
   "metadata": {},
   "outputs": [
    {
     "data": {
      "text/html": [
       "<div>\n",
       "<style scoped>\n",
       "    .dataframe tbody tr th:only-of-type {\n",
       "        vertical-align: middle;\n",
       "    }\n",
       "\n",
       "    .dataframe tbody tr th {\n",
       "        vertical-align: top;\n",
       "    }\n",
       "\n",
       "    .dataframe thead th {\n",
       "        text-align: right;\n",
       "    }\n",
       "</style>\n",
       "<table border=\"1\" class=\"dataframe\">\n",
       "  <thead>\n",
       "    <tr style=\"text-align: right;\">\n",
       "      <th></th>\n",
       "      <th>view_count</th>\n",
       "      <th>likes</th>\n",
       "      <th>dislikes</th>\n",
       "      <th>comment_count</th>\n",
       "    </tr>\n",
       "    <tr>\n",
       "      <th>category</th>\n",
       "      <th></th>\n",
       "      <th></th>\n",
       "      <th></th>\n",
       "      <th></th>\n",
       "    </tr>\n",
       "  </thead>\n",
       "  <tbody>\n",
       "    <tr>\n",
       "      <th>Autos &amp; Vehicles</th>\n",
       "      <td>706736972</td>\n",
       "      <td>29260372</td>\n",
       "      <td>303007</td>\n",
       "      <td>2414883</td>\n",
       "    </tr>\n",
       "    <tr>\n",
       "      <th>Comedy</th>\n",
       "      <td>3228354940</td>\n",
       "      <td>226173557</td>\n",
       "      <td>2221489</td>\n",
       "      <td>10589511</td>\n",
       "    </tr>\n",
       "    <tr>\n",
       "      <th>Education</th>\n",
       "      <td>1670831944</td>\n",
       "      <td>90901601</td>\n",
       "      <td>911502</td>\n",
       "      <td>4952216</td>\n",
       "    </tr>\n",
       "    <tr>\n",
       "      <th>Entertainment</th>\n",
       "      <td>19944918189</td>\n",
       "      <td>948104005</td>\n",
       "      <td>10791895</td>\n",
       "      <td>57001089</td>\n",
       "    </tr>\n",
       "    <tr>\n",
       "      <th>Film &amp; Animation</th>\n",
       "      <td>3268380121</td>\n",
       "      <td>134593541</td>\n",
       "      <td>1284913</td>\n",
       "      <td>8977381</td>\n",
       "    </tr>\n",
       "    <tr>\n",
       "      <th>Gaming</th>\n",
       "      <td>12684848298</td>\n",
       "      <td>636023959</td>\n",
       "      <td>7253253</td>\n",
       "      <td>45626499</td>\n",
       "    </tr>\n",
       "    <tr>\n",
       "      <th>Howto &amp; Style</th>\n",
       "      <td>1446260327</td>\n",
       "      <td>69960770</td>\n",
       "      <td>1472522</td>\n",
       "      <td>4692552</td>\n",
       "    </tr>\n",
       "    <tr>\n",
       "      <th>Music</th>\n",
       "      <td>26336837420</td>\n",
       "      <td>1522227993</td>\n",
       "      <td>19983675</td>\n",
       "      <td>153102646</td>\n",
       "    </tr>\n",
       "    <tr>\n",
       "      <th>News &amp; Politics</th>\n",
       "      <td>1833204267</td>\n",
       "      <td>25269437</td>\n",
       "      <td>1529512</td>\n",
       "      <td>6767135</td>\n",
       "    </tr>\n",
       "    <tr>\n",
       "      <th>Nonprofits &amp; Activism</th>\n",
       "      <td>38611288</td>\n",
       "      <td>3117567</td>\n",
       "      <td>24313</td>\n",
       "      <td>110400</td>\n",
       "    </tr>\n",
       "    <tr>\n",
       "      <th>People &amp; Blogs</th>\n",
       "      <td>5815755902</td>\n",
       "      <td>328354289</td>\n",
       "      <td>5879201</td>\n",
       "      <td>18994232</td>\n",
       "    </tr>\n",
       "    <tr>\n",
       "      <th>Pets &amp; Animals</th>\n",
       "      <td>212477284</td>\n",
       "      <td>9242364</td>\n",
       "      <td>85988</td>\n",
       "      <td>573291</td>\n",
       "    </tr>\n",
       "    <tr>\n",
       "      <th>Science &amp; Technology</th>\n",
       "      <td>2446588487</td>\n",
       "      <td>106057482</td>\n",
       "      <td>1458620</td>\n",
       "      <td>6424653</td>\n",
       "    </tr>\n",
       "    <tr>\n",
       "      <th>Sports</th>\n",
       "      <td>7166453427</td>\n",
       "      <td>166027147</td>\n",
       "      <td>2735213</td>\n",
       "      <td>14070473</td>\n",
       "    </tr>\n",
       "    <tr>\n",
       "      <th>Travel &amp; Events</th>\n",
       "      <td>232788391</td>\n",
       "      <td>12478570</td>\n",
       "      <td>110155</td>\n",
       "      <td>608815</td>\n",
       "    </tr>\n",
       "  </tbody>\n",
       "</table>\n",
       "</div>"
      ],
      "text/plain": [
       "                        view_count       likes  dislikes  comment_count\n",
       "category                                                               \n",
       "Autos & Vehicles         706736972    29260372    303007        2414883\n",
       "Comedy                  3228354940   226173557   2221489       10589511\n",
       "Education               1670831944    90901601    911502        4952216\n",
       "Entertainment          19944918189   948104005  10791895       57001089\n",
       "Film & Animation        3268380121   134593541   1284913        8977381\n",
       "Gaming                 12684848298   636023959   7253253       45626499\n",
       "Howto & Style           1446260327    69960770   1472522        4692552\n",
       "Music                  26336837420  1522227993  19983675      153102646\n",
       "News & Politics         1833204267    25269437   1529512        6767135\n",
       "Nonprofits & Activism     38611288     3117567     24313         110400\n",
       "People & Blogs          5815755902   328354289   5879201       18994232\n",
       "Pets & Animals           212477284     9242364     85988         573291\n",
       "Science & Technology    2446588487   106057482   1458620        6424653\n",
       "Sports                  7166453427   166027147   2735213       14070473\n",
       "Travel & Events          232788391    12478570    110155         608815"
      ]
     },
     "execution_count": 30,
     "metadata": {},
     "output_type": "execute_result"
    }
   ],
   "source": [
    "#Groupby and sum view count, likes, dislikes, comment_count  by category \n",
    "lst = ['view_count','likes','dislikes','comment_count','category']\n",
    "category_group = trending_youtube[lst].groupby('category').sum()\n",
    "category_group"
   ]
  },
  {
   "cell_type": "code",
   "execution_count": 31,
   "id": "9e6d9983-9ef1-4d4d-8511-e99a2ea8d727",
   "metadata": {},
   "outputs": [
    {
     "data": {
      "image/png": "[encoded data removed]",
      "text/plain": [
       "<Figure size 2000x1300 with 4 Axes>"
      ]
     },
     "metadata": {},
     "output_type": "display_data"
    }
   ],
   "source": [
    "#Plotting the 5 categories with largest view count, likes, dislikes, comment_count\n",
    "plt.figure(figsize = (20,13))\n",
    "plt.subplot(2,2,1)\n",
    "\n",
    "lst = ['likes','dislikes','comment_count','view_count',]\n",
    "font = {'family':'serif','color':'black','size':20}\n",
    "for i in range(0,len(lst)):\n",
    "    plt.subplot(2,2,i+1)\n",
    "    x = category_group[lst[i]].nlargest(5).index\n",
    "    y = category_group[lst[i]].nlargest(5)\n",
    "    sns.barplot(x = x,y = y)\n",
    "    title = \"Five Categories with Largest \" + lst[i]\n",
    "    plt.title(title,font)"
   ]
  },
  {
   "cell_type": "markdown",
   "id": "8248f34d-e28c-4ed8-a8bc-7e206dfc0cf6",
   "metadata": {},
   "source": [
    "Based on the diagrams above, the categories that most youtube's users search for on Youtube are music, entertainment, gaming, people, and sports, respectively."
   ]
  },
  {
   "cell_type": "code",
   "execution_count": 32,
   "id": "eca51ae9-11ff-47c7-8aee-3fdec7fd25d5",
   "metadata": {},
   "outputs": [
    {
     "data": {
      "image/png": "[encoded data removed]",
      "text/plain": [
       "<Figure size 2000x1300 with 4 Axes>"
      ]
     },
     "metadata": {},
     "output_type": "display_data"
    }
   ],
   "source": [
    "#Plotting the 5 categories with smallest view count, likes, dislikes, comment_count \n",
    "plt.figure(figsize = (20,13))\n",
    "plt.subplot(2,2,1)\n",
    "\n",
    "lst = ['likes','dislikes','view_count','comment_count']\n",
    "font = {'family':'serif','color':'black','size':20}\n",
    "for i in range(0,len(lst)):\n",
    "    plt.subplot(2,2,i+1)\n",
    "    x = category_group[lst[i]].nsmallest(5).index\n",
    "    y = category_group[lst[i]].nsmallest(5)\n",
    "    sns.barplot(x = x,y = y)\n",
    "    title = \"Five Categories with Smallest \" + lst[i]\n",
    "    plt.title(title,font)\n"
   ]
  },
  {
   "cell_type": "markdown",
   "id": "affb57f2-6252-45c8-b561-35cbad1813a7",
   "metadata": {},
   "source": [
    "Based on the diagrams above, youtube users are not interested much in the nonprofit, pet & animals, and travels category."
   ]
  },
  {
   "cell_type": "code",
   "execution_count": 34,
   "id": "51defcfc",
   "metadata": {
    "scrolled": false
   },
   "outputs": [
    {
     "data": {
      "text/html": [
       "<div>\n",
       "<style scoped>\n",
       "    .dataframe tbody tr th:only-of-type {\n",
       "        vertical-align: middle;\n",
       "    }\n",
       "\n",
       "    .dataframe tbody tr th {\n",
       "        vertical-align: top;\n",
       "    }\n",
       "\n",
       "    .dataframe thead th {\n",
       "        text-align: right;\n",
       "    }\n",
       "</style>\n",
       "<table border=\"1\" class=\"dataframe\">\n",
       "  <thead>\n",
       "    <tr style=\"text-align: right;\">\n",
       "      <th></th>\n",
       "      <th>video_id</th>\n",
       "      <th>title</th>\n",
       "      <th>publishedAt</th>\n",
       "      <th>channelId</th>\n",
       "      <th>channelTitle</th>\n",
       "      <th>categoryId</th>\n",
       "      <th>trending_date</th>\n",
       "      <th>tags</th>\n",
       "      <th>view_count</th>\n",
       "      <th>likes</th>\n",
       "      <th>dislikes</th>\n",
       "      <th>comment_count</th>\n",
       "      <th>thumbnail_link</th>\n",
       "      <th>comments_disabled</th>\n",
       "      <th>ratings_disabled</th>\n",
       "      <th>description</th>\n",
       "      <th>category</th>\n",
       "    </tr>\n",
       "  </thead>\n",
       "  <tbody>\n",
       "    <tr>\n",
       "      <th>0</th>\n",
       "      <td>W7VK4DUHvKU</td>\n",
       "      <td>Lil Yachty &amp; Future - Pardon Me (Official Video)</td>\n",
       "      <td>2020-08-11 19:00:10</td>\n",
       "      <td>UC1X3TRsCt36QPjF1p5f3HTg</td>\n",
       "      <td>LilYachtyVEVO</td>\n",
       "      <td>10</td>\n",
       "      <td>2020-08-12</td>\n",
       "      <td>Lil Yachty Lil Boat 3 Future Lil Yachty Pardon...</td>\n",
       "      <td>413372</td>\n",
       "      <td>26440</td>\n",
       "      <td>293</td>\n",
       "      <td>1495</td>\n",
       "      <td>https://i.ytimg.com/vi/W7VK4DUHvKU/default.jpg</td>\n",
       "      <td>False</td>\n",
       "      <td>False</td>\n",
       "      <td>Watch the official video for Lil Yachty &amp; Futu...</td>\n",
       "      <td>Music</td>\n",
       "    </tr>\n",
       "    <tr>\n",
       "      <th>1</th>\n",
       "      <td>JJk1ji23Ey8</td>\n",
       "      <td>Bonsai Fish Tank</td>\n",
       "      <td>2020-08-11 11:08:04</td>\n",
       "      <td>UCRxAgfYexGLlu1WHGIMUDqw</td>\n",
       "      <td>JunsKitchen</td>\n",
       "      <td>26</td>\n",
       "      <td>2020-08-12</td>\n",
       "      <td>taking cats walk jun junskitchen juns kitchen ...</td>\n",
       "      <td>307888</td>\n",
       "      <td>49300</td>\n",
       "      <td>139</td>\n",
       "      <td>2925</td>\n",
       "      <td>https://i.ytimg.com/vi/JJk1ji23Ey8/default.jpg</td>\n",
       "      <td>False</td>\n",
       "      <td>False</td>\n",
       "      <td>I've been wanting to do aquaponics (growing ve...</td>\n",
       "      <td>Howto &amp; Style</td>\n",
       "    </tr>\n",
       "  </tbody>\n",
       "</table>\n",
       "</div>"
      ],
      "text/plain": [
       "      video_id                                             title  \\\n",
       "0  W7VK4DUHvKU  Lil Yachty & Future - Pardon Me (Official Video)   \n",
       "1  JJk1ji23Ey8                                  Bonsai Fish Tank   \n",
       "\n",
       "          publishedAt                 channelId   channelTitle  categoryId  \\\n",
       "0 2020-08-11 19:00:10  UC1X3TRsCt36QPjF1p5f3HTg  LilYachtyVEVO          10   \n",
       "1 2020-08-11 11:08:04  UCRxAgfYexGLlu1WHGIMUDqw    JunsKitchen          26   \n",
       "\n",
       "  trending_date                                               tags  \\\n",
       "0    2020-08-12  Lil Yachty Lil Boat 3 Future Lil Yachty Pardon...   \n",
       "1    2020-08-12  taking cats walk jun junskitchen juns kitchen ...   \n",
       "\n",
       "   view_count  likes  dislikes  comment_count  \\\n",
       "0      413372  26440       293           1495   \n",
       "1      307888  49300       139           2925   \n",
       "\n",
       "                                   thumbnail_link  comments_disabled  \\\n",
       "0  https://i.ytimg.com/vi/W7VK4DUHvKU/default.jpg              False   \n",
       "1  https://i.ytimg.com/vi/JJk1ji23Ey8/default.jpg              False   \n",
       "\n",
       "   ratings_disabled                                        description  \\\n",
       "0             False  Watch the official video for Lil Yachty & Futu...   \n",
       "1             False  I've been wanting to do aquaponics (growing ve...   \n",
       "\n",
       "        category  \n",
       "0          Music  \n",
       "1  Howto & Style  "
      ]
     },
     "execution_count": 34,
     "metadata": {},
     "output_type": "execute_result"
    }
   ],
   "source": [
    "trending_youtube.head(2)"
   ]
  },
  {
   "cell_type": "code",
   "execution_count": 36,
   "id": "3d2a2c67",
   "metadata": {
    "scrolled": false
   },
   "outputs": [
    {
     "data": {
      "text/plain": [
       "0        10\n",
       "1        26\n",
       "2        26\n",
       "3        24\n",
       "4        24\n",
       "         ..\n",
       "33456    24\n",
       "33457    24\n",
       "33458    24\n",
       "33459    10\n",
       "33460    10\n",
       "Name: categoryId, Length: 33461, dtype: int64"
      ]
     },
     "execution_count": 36,
     "metadata": {},
     "output_type": "execute_result"
    }
   ],
   "source": [
    "trending_youtube.categoryId\t"
   ]
  },
  {
   "cell_type": "code",
   "execution_count": null,
   "id": "f1370339",
   "metadata": {},
   "outputs": [],
   "source": [
    "def count_words(main_data):\n",
    "    \n",
    "    word_counter = 0\n",
    "    \n",
    "    for texts in main_data[\"title\"]:\n",
    "        for words in texts:  \n",
    "            word_counter = word_counter + 1\n",
    "        \n",
    "    return word_counter"
   ]
  },
  {
   "cell_type": "code",
   "execution_count": null,
   "id": "665a753a",
   "metadata": {},
   "outputs": [],
   "source": [
    "def remove_space(text):\n",
    "    \"\"\"\n",
    "    remove extra spaces and ending space if any\n",
    "    \"\"\"\n",
    "    for space in spaces:\n",
    "        text = text.replace(space, ' ')\n",
    "    text = text.strip()\n",
    "    text = re.sub('\\s+', ' ', text)\n",
    "    return text\n",
    "def clean_special_punctuations(text):\n",
    "    for punc in special_punc_mappings:\n",
    "        if punc in text:\n",
    "            text = text.replace(punc, special_punc_mappings[punc])\n",
    "    # remove_diacritics don´t' ->  'don t'\n",
    "    #text = remove_diacritics(text)\n",
    "    return text\n",
    "def clean_number(text):\n",
    "    text = re.sub(r'(\\d+)([a-zA-Z])', '\\g<1> \\g<2>', text)\n",
    "    text = re.sub(r'(\\d+) (th|st|nd|rd) ', '\\g<1>\\g<2> ', text)\n",
    "    text = re.sub(r'(\\d+),(\\d+)', '\\g<1>\\g<2>', text)\n",
    "    text = re.sub(r'(\\d+)(e)(\\d+)','\\g<1> \\g<3>', text)\n",
    "    \n",
    "    return text\n",
    "def pre_clean_rare_words(text):\n",
    "    for rare_word in rare_words_mapping:\n",
    "        if rare_word in text:\n",
    "            text = text.replace(rare_word, rare_words_mapping[rare_word])\n",
    "\n",
    "    return text\n",
    "def clean_misspell(text):\n",
    "    for bad_word in mispell_dict:\n",
    "        if bad_word in text:\n",
    "            text = text.replace(bad_word, mispell_dict[bad_word])\n",
    "    return text\n",
    "\n",
    "import string\n",
    "regular_punct = list(string.punctuation)\n",
    "all_punct = list(set(regular_punct + extra_punct))\n",
    "# do not spacing - and .\n",
    "all_punct.remove('-')\n",
    "all_punct.remove('.')\n",
    "\n",
    "def spacing_punctuation(text):\n",
    "    \"\"\"\n",
    "    add space before and after punctuation and symbols\n",
    "    \"\"\"\n",
    "    for punc in all_punct:\n",
    "        if punc in text:\n",
    "            text = text.replace(punc, f' {punc} ')\n",
    "    return text\n",
    "def clean_repeat_words(text):\n",
    "    \n",
    "    text = re.sub(r\"\\b(I|i)(I|i)+ng\\b\", \"ing\", text) #this one is causing few issues(fixed via monkey patching in other dicts for now), need to check it..\n",
    "    text = re.sub(r\"(-+|\\.+)\", \" \", text)\n",
    "    return text\n",
    "\n",
    "def correct_contraction(x, dic):\n",
    "    for word in dic.keys():\n",
    "        if word in x:\n",
    "            x = x.replace(word, dic[word])\n",
    "    return x\n",
    "\n",
    "def correct_spelling(x, dic):\n",
    "    for word in dic.keys():\n",
    "        if word in x:\n",
    "            x = x.replace(word, dic[word])\n",
    "    return x"
   ]
  },
  {
   "cell_type": "code",
   "execution_count": null,
   "id": "03332e0f",
   "metadata": {},
   "outputs": [],
   "source": [
    "def preprocess(text):\n",
    "    \n",
    "    text = remove_space(text)\n",
    "    text = clean_special_punctuations(text)\n",
    "    text = clean_number(text)\n",
    "    text = pre_clean_rare_words(text)\n",
    "    text = clean_misspell(text)\n",
    "    text = spacing_punctuation(text)\n",
    "    text = clean_bad_case_words(text)\n",
    "    text = clean_repeat_words(text)\n",
    "    text = remove_space(text)\n",
    "    text = clean_text(text)\n",
    "    return text\n",
    "\n",
    "trending_youtube['title'] = trending_youtube['title'].progress_apply(lambda x:preprocess(x))\n",
    "# gc.collect()\n",
    "main_data"
   ]
  },
  {
   "cell_type": "markdown",
   "id": "77f1c358",
   "metadata": {},
   "source": [
    "## Stemming and lemmatizaiton"
   ]
  },
  {
   "cell_type": "code",
   "execution_count": null,
   "id": "2fecf9ed",
   "metadata": {},
   "outputs": [],
   "source": [
    "import nltk\n",
    "from nltk.stem import PorterStemmer, WordNetLemmatizer\n",
    "import nltk\n",
    "nltk.download('punkt')\n",
    "nltk.download('omw-1.4')\n",
    "from nltk.stem import WordNetLemmatizer"
   ]
  },
  {
   "cell_type": "code",
   "execution_count": null,
   "id": "602d4152",
   "metadata": {},
   "outputs": [],
   "source": [
    "porter_stemmer = PorterStemmer()\n",
    "wordnet_lemmatizer = WordNetLemmatizer()\n",
    "\n",
    "def lexicon_normalization(text):\n",
    "                          \n",
    "    # 1- Stemming\n",
    "    words_stem = porter_stemmer.stem(text)\n",
    "    \n",
    "    #  Lemmatization\n",
    "    words_lem = wordnet_lemmatizer.lemmatize(words_stem)\n",
    "    return words_lem\n",
    "main_data['title']= main_data['title'].progress_apply(lambda x: lexicon_normalization(x))\n",
    "main_data"
   ]
  },
  {
   "cell_type": "code",
   "execution_count": null,
   "id": "14c729df",
   "metadata": {},
   "outputs": [],
   "source": []
  },
  {
   "cell_type": "markdown",
   "id": "3e17c8b9",
   "metadata": {},
   "source": [
    "## Feature engineering "
   ]
  },
  {
   "cell_type": "code",
   "execution_count": 41,
   "id": "dc6fa638",
   "metadata": {},
   "outputs": [],
   "source": [
    "import pandas as pd\n",
    "from sklearn.feature_extraction.text import CountVectorizer\n",
    "from sklearn.preprocessing import OneHotEncoder\n",
    "from sklearn.compose import ColumnTransformer\n",
    "\n",
    "# # Create a CountVectorizer object for titles and tags\n",
    "# title_vectorizer = CountVectorizer()\n",
    "# tag_vectorizer = CountVectorizer()\n",
    "\n",
    "# # Fit the vectorizers on the titles and tags\n",
    "# title_counts = title_vectorizer.fit_transform(trending_youtube.title)\n",
    "# tag_counts = tag_vectorizer.fit_transform(trending_youtube.tags)\n",
    "\n",
    "# # Create an OneHotEncoder object for categories\n",
    "# category_encoder = OneHotEncoder()\n",
    "\n",
    "# Fit the encoder on the categories\n",
    "# category_encoded = category_encoder.fit_transform(pd.DataFrame(trending_youtube.category))\n",
    "\n",
    "# x =  np.hstack((title_counts.toarray(), tag_counts.toarray(), category_encoded.toarray()))\n",
    "x = np.array(trending_youtube.categoryId).reshape(-1, 1)\n",
    "y = trending_youtube.view_count"
   ]
  },
  {
   "cell_type": "code",
   "execution_count": 42,
   "id": "8803385d",
   "metadata": {},
   "outputs": [
    {
     "name": "stdout",
     "output_type": "stream",
     "text": [
      "MSE: 36216235830473.65\n",
      "R^2 score: 0.005790076749122686\n"
     ]
    }
   ],
   "source": [
    "import pandas as pd\n",
    "from sklearn.preprocessing import LabelEncoder, OneHotEncoder\n",
    "from sklearn.linear_model import LinearRegression\n",
    "from sklearn.pipeline import Pipeline\n",
    "\n",
    "# Train-test split\n",
    "from sklearn.model_selection import train_test_split\n",
    "X_train, X_test, y_train, y_test = train_test_split(x, y, test_size=0.2, random_state=42)\n",
    "\n",
    "# Create pipeline\n",
    "model = LinearRegression()\n",
    "pipeline = Pipeline([\n",
    "    (\"linear_regression\", model)\n",
    "])\n",
    "\n",
    "# Fit pipeline on training data\n",
    "pipeline.fit(X_train, y_train)\n",
    "\n",
    "# Evaluate pipeline on test data\n",
    "from sklearn.metrics import mean_squared_error, r2_score\n",
    "y_pred = pipeline.predict(X_test)\n",
    "mse = mean_squared_error(y_test, y_pred)\n",
    "r2 = r2_score(y_test, y_pred)\n",
    "\n",
    "print(\"MSE:\", mse)\n",
    "print(\"R^2 score:\", r2)\n"
   ]
  },
  {
   "cell_type": "code",
   "execution_count": null,
   "id": "81d39254",
   "metadata": {},
   "outputs": [],
   "source": [
    "# from sklearn.svm import LinearSVC\n",
    "\n",
    "# SVM_SPAM = Pipeline([('clf', LinearSVC())])\n",
    "\n",
    "# SVM_SPAM.fit(X_train, y_train)\n",
    "\n",
    "# predictions = SVM_SPAM.predict(X_test)\n",
    "\n",
    "# print(\"Precision, recall, and F1 were:\")\n",
    "# print(precision_score(y_test, predictions))\n",
    "# print(recall_score(y_test, predictions))\n",
    "# print(f1_score(y_test, predictions))  \n",
    "# print(\"\")\n",
    "# y_pred = logreg.predict(x_test)\n",
    "\n",
    "# classifiers = [(\"Naïve Bayes\", NB_SPAM),\n",
    "#                (\"SVM\", SVM_SPAM), \n",
    "#                (\"Random Forest\", RF_SPAM), \n",
    "#                (\"Decision Tree\", DT_SPAM), \n",
    "#                (\"Logistic Regression\", logistic_SPAM)]\n",
    "\n",
    "# for name, classifier in classifiers:\n",
    "#     classifier.fit(X_train, Y_train)\n",
    "#     predictions = classifier.predict(X_test)\n",
    "\n",
    "#     print(\"For \"+ name +\", precision, recall, and F1 were:\")\n",
    "#     print(precision_score(y_test, predictions))\n",
    "#     print(recall_score(y_test, predictions))\n",
    "#     print(f1_score(y_test, predictions))  \n",
    "#     print(\"\")"
   ]
  },
  {
   "cell_type": "code",
   "execution_count": null,
   "id": "6c2fe6b6",
   "metadata": {},
   "outputs": [],
   "source": [
    " from sklearn.svm import LinearSVC\n",
    "\n",
    "SVM_SPAM = Pipeline([('clf', LinearSVC())])\n",
    "\n",
    "SVM_SPAM.fit(X_train, y_train)\n",
    "\n",
    "predictions = SVM_SPAM.predict(X_test)\n",
    "\n",
    "print(\"Precision, recall, and F1 were:\")\n",
    "print(precision_score(y_test, predictions))\n",
    "print(recall_score(y_test, predictions))\n",
    "print(f1_score(y_test, predictions))  \n",
    "print(\"\")"
   ]
  },
  {
   "cell_type": "code",
   "execution_count": null,
   "id": "a5a308d4",
   "metadata": {},
   "outputs": [],
   "source": []
  }
 ],
 "metadata": {
  "kernelspec": {
   "display_name": "Python 3 (ipykernel)",
   "language": "python",
   "name": "python3"
  },
  "language_info": {
   "codemirror_mode": {
    "name": "ipython",
    "version": 3
   },
   "file_extension": ".py",
   "mimetype": "text/x-python",
   "name": "python",
   "nbconvert_exporter": "python",
   "pygments_lexer": "ipython3",
   "version": "3.9.13"
  }
 },
 "nbformat": 4,
 "nbformat_minor": 5
}

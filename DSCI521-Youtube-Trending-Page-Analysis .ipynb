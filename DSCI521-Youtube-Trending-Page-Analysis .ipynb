{
 "cells": [
  {
   "cell_type": "markdown",
   "id": "ffb6222c",
   "metadata": {},
   "source": [
    "# DSCI 521: Data Analysis and Interpretation <br> Term Project Phase 2: Youtube trending page analysis"
   ]
  },
  {
   "cell_type": "markdown",
   "id": "d96ad5a4",
   "metadata": {},
   "source": [
    "## Group members \n",
    "- Group member \n",
    "    - Name: Amira Bendjama\n",
    "    - Email: ab4745@drexel.edu\n",
    "- Group member \n",
    "    - Name: Thuy Hong Doan\n",
    "    - Email: td688@drexel.edu\n",
    "- Group member \n",
    "    - Name: Alsulami Meznah\n",
    "    - Email: mha54@drexel.edu"
   ]
  },
  {
   "cell_type": "markdown",
   "id": "fffda877",
   "metadata": {},
   "source": [
    "## Cleaning Youtube trending dataset \n",
    "\n",
    "Before starting the anaylsis, it is important to clean the dataset that the project relies on. The project cleaning consisted of: \n",
    "- Finding and deleting rows with a missing values, which were mainly in the Description column. \n",
    "- Replacing NaN in description with space.\n",
    "- Deleting rows with comments_disabled=True or ratings_disabled=True.\n",
    "- Fixing the Tags column,by Replacing \"[None]\" with space, and spliting tags with '|' and convert list to one string.\n",
    "- Dropping duplicates rows in video id column.\n",
    "- Converting date columns 'publishedAt', 'trending_date' to datetime type.\n",
    "- Reseting indexing of the dataframe\n"
   ]
  },
  {
   "cell_type": "code",
   "execution_count": 1,
   "id": "565e7698",
   "metadata": {},
   "outputs": [],
   "source": [
    "import pandas as pd\n",
    "import matplotlib.pyplot as plt\n",
    "import numpy as np\n",
    "import seaborn as sns\n",
    "sns.set(style='darkgrid')\n",
    "\n",
    "US_category_id = pd.read_json('data/US_category_id.json')\n",
    "trending_youtube = pd.read_csv('data/US_youtube_trending_data.csv')\n"
   ]
  },
  {
   "cell_type": "code",
   "execution_count": 2,
   "id": "ad0f3e45",
   "metadata": {},
   "outputs": [
    {
     "name": "stdout",
     "output_type": "stream",
     "text": [
      "<class 'pandas.core.frame.DataFrame'>\n",
      "RangeIndex: 180990 entries, 0 to 180989\n",
      "Data columns (total 16 columns):\n",
      " #   Column             Non-Null Count   Dtype \n",
      "---  ------             --------------   ----- \n",
      " 0   video_id           180990 non-null  object\n",
      " 1   title              180990 non-null  object\n",
      " 2   publishedAt        180990 non-null  object\n",
      " 3   channelId          180990 non-null  object\n",
      " 4   channelTitle       180990 non-null  object\n",
      " 5   categoryId         180990 non-null  int64 \n",
      " 6   trending_date      180990 non-null  object\n",
      " 7   tags               180990 non-null  object\n",
      " 8   view_count         180990 non-null  int64 \n",
      " 9   likes              180990 non-null  int64 \n",
      " 10  dislikes           180990 non-null  int64 \n",
      " 11  comment_count      180990 non-null  int64 \n",
      " 12  thumbnail_link     180990 non-null  object\n",
      " 13  comments_disabled  180990 non-null  bool  \n",
      " 14  ratings_disabled   180990 non-null  bool  \n",
      " 15  description        176978 non-null  object\n",
      "dtypes: bool(2), int64(5), object(9)\n",
      "memory usage: 19.7+ MB\n"
     ]
    }
   ],
   "source": [
    "# getting information about the dataset\n",
    "trending_youtube.info()"
   ]
  },
  {
   "cell_type": "code",
   "execution_count": 3,
   "id": "653576bf",
   "metadata": {},
   "outputs": [
    {
     "data": {
      "text/plain": [
       "video_id                0\n",
       "title                   0\n",
       "publishedAt             0\n",
       "channelId               0\n",
       "channelTitle            0\n",
       "categoryId              0\n",
       "trending_date           0\n",
       "tags                    0\n",
       "view_count              0\n",
       "likes                   0\n",
       "dislikes                0\n",
       "comment_count           0\n",
       "thumbnail_link          0\n",
       "comments_disabled       0\n",
       "ratings_disabled        0\n",
       "description          4012\n",
       "dtype: int64"
      ]
     },
     "execution_count": 3,
     "metadata": {},
     "output_type": "execute_result"
    }
   ],
   "source": [
    "# cleaning dataset \n",
    "# number of null values in the dataset\n",
    "trending_youtube.isnull().sum()"
   ]
  },
  {
   "cell_type": "markdown",
   "id": "1bd5b653",
   "metadata": {},
   "source": [
    "The description column has all null values. These are some of the rows whose description values are null."
   ]
  },
  {
   "cell_type": "code",
   "execution_count": 4,
   "id": "65e1bb7d",
   "metadata": {},
   "outputs": [
    {
     "data": {
      "text/html": [
       "<div>\n",
       "<style scoped>\n",
       "    .dataframe tbody tr th:only-of-type {\n",
       "        vertical-align: middle;\n",
       "    }\n",
       "\n",
       "    .dataframe tbody tr th {\n",
       "        vertical-align: top;\n",
       "    }\n",
       "\n",
       "    .dataframe thead th {\n",
       "        text-align: right;\n",
       "    }\n",
       "</style>\n",
       "<table border=\"1\" class=\"dataframe\">\n",
       "  <thead>\n",
       "    <tr style=\"text-align: right;\">\n",
       "      <th></th>\n",
       "      <th>video_id</th>\n",
       "      <th>title</th>\n",
       "      <th>publishedAt</th>\n",
       "      <th>channelId</th>\n",
       "      <th>channelTitle</th>\n",
       "      <th>categoryId</th>\n",
       "      <th>trending_date</th>\n",
       "      <th>tags</th>\n",
       "      <th>view_count</th>\n",
       "      <th>likes</th>\n",
       "      <th>dislikes</th>\n",
       "      <th>comment_count</th>\n",
       "      <th>thumbnail_link</th>\n",
       "      <th>comments_disabled</th>\n",
       "      <th>ratings_disabled</th>\n",
       "      <th>description</th>\n",
       "    </tr>\n",
       "  </thead>\n",
       "  <tbody>\n",
       "    <tr>\n",
       "      <th>223</th>\n",
       "      <td>NSuaUok-wTY</td>\n",
       "      <td>[1147] Locksmith Says My Videos Are BS... Lose...</td>\n",
       "      <td>2020-08-12T13:00:12Z</td>\n",
       "      <td>UCm9K6rby98W8JigLoZOh6FQ</td>\n",
       "      <td>LockPickingLawyer</td>\n",
       "      <td>27</td>\n",
       "      <td>2020-08-13T00:00:00Z</td>\n",
       "      <td>Lock|picking</td>\n",
       "      <td>422963</td>\n",
       "      <td>62939</td>\n",
       "      <td>168</td>\n",
       "      <td>7304</td>\n",
       "      <td>https://i.ytimg.com/vi/NSuaUok-wTY/default.jpg</td>\n",
       "      <td>False</td>\n",
       "      <td>False</td>\n",
       "      <td>NaN</td>\n",
       "    </tr>\n",
       "    <tr>\n",
       "      <th>249</th>\n",
       "      <td>NYXABBpPJss</td>\n",
       "      <td>When you get on the grill for your friends Bir...</td>\n",
       "      <td>2020-08-12T04:36:57Z</td>\n",
       "      <td>UCI8hY4ummWDZgFSjxU_HFNQ</td>\n",
       "      <td>Jeremiah Phillips</td>\n",
       "      <td>23</td>\n",
       "      <td>2020-08-13T00:00:00Z</td>\n",
       "      <td>[None]</td>\n",
       "      <td>193157</td>\n",
       "      <td>9057</td>\n",
       "      <td>148</td>\n",
       "      <td>666</td>\n",
       "      <td>https://i.ytimg.com/vi/NYXABBpPJss/default.jpg</td>\n",
       "      <td>False</td>\n",
       "      <td>False</td>\n",
       "      <td>NaN</td>\n",
       "    </tr>\n",
       "    <tr>\n",
       "      <th>446</th>\n",
       "      <td>NSuaUok-wTY</td>\n",
       "      <td>[1147] Locksmith Says My Videos Are BS... Lose...</td>\n",
       "      <td>2020-08-12T13:00:12Z</td>\n",
       "      <td>UCm9K6rby98W8JigLoZOh6FQ</td>\n",
       "      <td>LockPickingLawyer</td>\n",
       "      <td>27</td>\n",
       "      <td>2020-08-14T00:00:00Z</td>\n",
       "      <td>Lock|picking</td>\n",
       "      <td>511773</td>\n",
       "      <td>69610</td>\n",
       "      <td>214</td>\n",
       "      <td>7837</td>\n",
       "      <td>https://i.ytimg.com/vi/NSuaUok-wTY/default.jpg</td>\n",
       "      <td>False</td>\n",
       "      <td>False</td>\n",
       "      <td>NaN</td>\n",
       "    </tr>\n",
       "  </tbody>\n",
       "</table>\n",
       "</div>"
      ],
      "text/plain": [
       "        video_id                                              title  \\\n",
       "223  NSuaUok-wTY  [1147] Locksmith Says My Videos Are BS... Lose...   \n",
       "249  NYXABBpPJss  When you get on the grill for your friends Bir...   \n",
       "446  NSuaUok-wTY  [1147] Locksmith Says My Videos Are BS... Lose...   \n",
       "\n",
       "              publishedAt                 channelId       channelTitle  \\\n",
       "223  2020-08-12T13:00:12Z  UCm9K6rby98W8JigLoZOh6FQ  LockPickingLawyer   \n",
       "249  2020-08-12T04:36:57Z  UCI8hY4ummWDZgFSjxU_HFNQ  Jeremiah Phillips   \n",
       "446  2020-08-12T13:00:12Z  UCm9K6rby98W8JigLoZOh6FQ  LockPickingLawyer   \n",
       "\n",
       "     categoryId         trending_date          tags  view_count  likes  \\\n",
       "223          27  2020-08-13T00:00:00Z  Lock|picking      422963  62939   \n",
       "249          23  2020-08-13T00:00:00Z        [None]      193157   9057   \n",
       "446          27  2020-08-14T00:00:00Z  Lock|picking      511773  69610   \n",
       "\n",
       "     dislikes  comment_count                                  thumbnail_link  \\\n",
       "223       168           7304  https://i.ytimg.com/vi/NSuaUok-wTY/default.jpg   \n",
       "249       148            666  https://i.ytimg.com/vi/NYXABBpPJss/default.jpg   \n",
       "446       214           7837  https://i.ytimg.com/vi/NSuaUok-wTY/default.jpg   \n",
       "\n",
       "     comments_disabled  ratings_disabled description  \n",
       "223              False             False         NaN  \n",
       "249              False             False         NaN  \n",
       "446              False             False         NaN  "
      ]
     },
     "execution_count": 4,
     "metadata": {},
     "output_type": "execute_result"
    }
   ],
   "source": [
    "trending_youtube[trending_youtube[\"description\"].apply(lambda x: pd.isna(x))].head(3)"
   ]
  },
  {
   "cell_type": "code",
   "execution_count": 5,
   "id": "ae50ecec",
   "metadata": {},
   "outputs": [],
   "source": [
    "# Replace NaN in description with space\n",
    "trending_youtube[\"description\"].fillna(\" \", inplace=True)\n",
    "# Delete all rows with a missing values if any\n",
    "trending_youtube.dropna(inplace=True)"
   ]
  },
  {
   "cell_type": "code",
   "execution_count": 6,
   "id": "e90d891c",
   "metadata": {
    "scrolled": false
   },
   "outputs": [
    {
     "data": {
      "text/plain": [
       "0"
      ]
     },
     "execution_count": 6,
     "metadata": {},
     "output_type": "execute_result"
    }
   ],
   "source": [
    "# checking for the NAN values\n",
    "trending_youtube.isnull().sum().sum()"
   ]
  },
  {
   "cell_type": "code",
   "execution_count": 7,
   "id": "26a0c19c",
   "metadata": {},
   "outputs": [
    {
     "data": {
      "text/plain": [
       "(180990, 16)"
      ]
     },
     "execution_count": 7,
     "metadata": {},
     "output_type": "execute_result"
    }
   ],
   "source": [
    "trending_youtube.shape"
   ]
  },
  {
   "cell_type": "markdown",
   "id": "0ea7da0f",
   "metadata": {},
   "source": [
    "Since our main focus is to find factors that effect the trending of a video, any videos with disbaled comments of ratings will be exculded from our project."
   ]
  },
  {
   "cell_type": "code",
   "execution_count": 19,
   "id": "51e4d117",
   "metadata": {},
   "outputs": [
    {
     "data": {
      "text/plain": [
       "(177001, 16)"
      ]
     },
     "execution_count": 19,
     "metadata": {},
     "output_type": "execute_result"
    }
   ],
   "source": [
    "# delete rows with comments_disabled=True or ratings_disabled=True\n",
    "trending_youtube = trending_youtube[(trending_youtube['comments_disabled'] == False) &\n",
    "                    (trending_youtube['ratings_disabled'] == False)]\n",
    "trending_youtube.shape"
   ]
  },
  {
   "cell_type": "code",
   "execution_count": 21,
   "id": "ccb09104",
   "metadata": {
    "scrolled": false
   },
   "outputs": [
    {
     "data": {
      "text/plain": [
       "0    brawadis prank basketball skits ghost funny vi...\n",
       "1    Apex Legends Apex Legends characters new Apex ...\n",
       "2    jacksepticeye funny funny meme memes jacksepti...\n",
       "3    xxl freshman xxl freshmen 2020 xxl freshman 20...\n",
       "4    The LaBrant Family DIY Interior Design Makeove...\n",
       "5    Professor injury professor achilles professor ...\n",
       "6                                                     \n",
       "7                     cgpgrey education hello internet\n",
       "8    surprising dad father papa with dream car truc...\n",
       "9    Vengo De Nada Aleman Ovi Big Soto Trap Ovi Nat...\n",
       "Name: tags, dtype: object"
      ]
     },
     "execution_count": 21,
     "metadata": {},
     "output_type": "execute_result"
    }
   ],
   "source": [
    "trending_youtube[\"tags\"].head(10)"
   ]
  },
  {
   "cell_type": "markdown",
   "id": "dcb233fd",
   "metadata": {},
   "source": [
    "Tags columns is not comphrensive, that's why we need to convert \"none\" values into empty string and remove \"|\" to form one string for each row."
   ]
  },
  {
   "cell_type": "code",
   "execution_count": 23,
   "id": "2c41c455",
   "metadata": {
    "scrolled": true
   },
   "outputs": [
    {
     "data": {
      "text/plain": [
       "0    brawadis prank basketball skits ghost funny vi...\n",
       "1    Apex Legends Apex Legends characters new Apex ...\n",
       "2    jacksepticeye funny funny meme memes jacksepti...\n",
       "3    xxl freshman xxl freshmen 2020 xxl freshman 20...\n",
       "4    The LaBrant Family DIY Interior Design Makeove...\n",
       "5    Professor injury professor achilles professor ...\n",
       "6                                                     \n",
       "7                     cgpgrey education hello internet\n",
       "8    surprising dad father papa with dream car truc...\n",
       "9    Vengo De Nada Aleman Ovi Big Soto Trap Ovi Nat...\n",
       "Name: tags, dtype: object"
      ]
     },
     "execution_count": 23,
     "metadata": {},
     "output_type": "execute_result"
    }
   ],
   "source": [
    "# Replace [None] in tags with space \n",
    "trending_youtube.loc[trending_youtube['tags'] == '[None]', 'tags'] = ' '\n",
    "# split tags with '|' and convert list to one string\n",
    "trending_youtube['tags'] = [' '.join(tag) \\\n",
    "                       for tag in trending_youtube['tags'].str.split('|')]\n",
    "\n",
    "trending_youtube[\"tags\"].head(10)"
   ]
  },
  {
   "cell_type": "markdown",
   "id": "5b2ad6bd",
   "metadata": {},
   "source": [
    "There is a lot of duplicates rows in the dataset, where we can verify using video id column and unique() to get the real size of nonduplicates rows. That's any row with duplicate title and video id will be dropped from the dataset."
   ]
  },
  {
   "cell_type": "code",
   "execution_count": 11,
   "id": "3c70b1cd",
   "metadata": {
    "scrolled": false
   },
   "outputs": [
    {
     "data": {
      "text/plain": [
       "33140"
      ]
     },
     "execution_count": 11,
     "metadata": {},
     "output_type": "execute_result"
    }
   ],
   "source": [
    "len(trending_youtube['video_id'].unique())"
   ]
  },
  {
   "cell_type": "code",
   "execution_count": 12,
   "id": "d0871887",
   "metadata": {},
   "outputs": [
    {
     "data": {
      "text/plain": [
       "180990"
      ]
     },
     "execution_count": 12,
     "metadata": {},
     "output_type": "execute_result"
    }
   ],
   "source": [
    "len(trending_youtube['video_id'])"
   ]
  },
  {
   "cell_type": "code",
   "execution_count": 13,
   "id": "c391fa75",
   "metadata": {
    "scrolled": false
   },
   "outputs": [
    {
     "data": {
      "text/html": [
       "<div>\n",
       "<style scoped>\n",
       "    .dataframe tbody tr th:only-of-type {\n",
       "        vertical-align: middle;\n",
       "    }\n",
       "\n",
       "    .dataframe tbody tr th {\n",
       "        vertical-align: top;\n",
       "    }\n",
       "\n",
       "    .dataframe thead th {\n",
       "        text-align: right;\n",
       "    }\n",
       "</style>\n",
       "<table border=\"1\" class=\"dataframe\">\n",
       "  <thead>\n",
       "    <tr style=\"text-align: right;\">\n",
       "      <th></th>\n",
       "      <th>video_id</th>\n",
       "      <th>title</th>\n",
       "      <th>publishedAt</th>\n",
       "      <th>channelId</th>\n",
       "      <th>channelTitle</th>\n",
       "      <th>categoryId</th>\n",
       "      <th>trending_date</th>\n",
       "      <th>tags</th>\n",
       "      <th>view_count</th>\n",
       "      <th>likes</th>\n",
       "      <th>dislikes</th>\n",
       "      <th>comment_count</th>\n",
       "      <th>thumbnail_link</th>\n",
       "      <th>comments_disabled</th>\n",
       "      <th>ratings_disabled</th>\n",
       "      <th>description</th>\n",
       "    </tr>\n",
       "  </thead>\n",
       "  <tbody>\n",
       "    <tr>\n",
       "      <th>202</th>\n",
       "      <td>3C66w5Z0ixs</td>\n",
       "      <td>I ASKED HER TO BE MY GIRLFRIEND...</td>\n",
       "      <td>2020-08-11T19:20:14Z</td>\n",
       "      <td>UCvtRTOMP2TqYqu51xNrqAzg</td>\n",
       "      <td>Brawadis</td>\n",
       "      <td>22</td>\n",
       "      <td>2020-08-13T00:00:00Z</td>\n",
       "      <td>brawadis|prank|basketball|skits|ghost|funny vi...</td>\n",
       "      <td>3017834</td>\n",
       "      <td>183592</td>\n",
       "      <td>9506</td>\n",
       "      <td>41374</td>\n",
       "      <td>https://i.ytimg.com/vi/3C66w5Z0ixs/default.jpg</td>\n",
       "      <td>False</td>\n",
       "      <td>False</td>\n",
       "      <td>SUBSCRIBE to BRAWADIS ▶ http://bit.ly/Subscrib...</td>\n",
       "    </tr>\n",
       "    <tr>\n",
       "      <th>207</th>\n",
       "      <td>J78aPJ3VyNs</td>\n",
       "      <td>I left youtube for a month and THIS is what ha...</td>\n",
       "      <td>2020-08-11T16:34:06Z</td>\n",
       "      <td>UCYzPXprvl5Y-Sf0g4vX-m6g</td>\n",
       "      <td>jacksepticeye</td>\n",
       "      <td>24</td>\n",
       "      <td>2020-08-13T00:00:00Z</td>\n",
       "      <td>jacksepticeye|funny|funny meme|memes|jacksepti...</td>\n",
       "      <td>2802823</td>\n",
       "      <td>401421</td>\n",
       "      <td>3728</td>\n",
       "      <td>44546</td>\n",
       "      <td>https://i.ytimg.com/vi/J78aPJ3VyNs/default.jpg</td>\n",
       "      <td>False</td>\n",
       "      <td>False</td>\n",
       "      <td>I left youtube for a month and this is what ha...</td>\n",
       "    </tr>\n",
       "    <tr>\n",
       "      <th>209</th>\n",
       "      <td>M9Pmf9AB4Mo</td>\n",
       "      <td>Apex Legends | Stories from the Outlands – “Th...</td>\n",
       "      <td>2020-08-11T17:00:10Z</td>\n",
       "      <td>UC0ZV6M2THA81QT9hrVWJG3A</td>\n",
       "      <td>Apex Legends</td>\n",
       "      <td>20</td>\n",
       "      <td>2020-08-13T00:00:00Z</td>\n",
       "      <td>Apex Legends|Apex Legends characters|new Apex ...</td>\n",
       "      <td>2932421</td>\n",
       "      <td>153682</td>\n",
       "      <td>3281</td>\n",
       "      <td>17454</td>\n",
       "      <td>https://i.ytimg.com/vi/M9Pmf9AB4Mo/default.jpg</td>\n",
       "      <td>False</td>\n",
       "      <td>False</td>\n",
       "      <td>While running her own modding shop, Ramya Pare...</td>\n",
       "    </tr>\n",
       "    <tr>\n",
       "      <th>213</th>\n",
       "      <td>VIUo6yapDbc</td>\n",
       "      <td>Ultimate DIY Home Movie Theater for The LaBran...</td>\n",
       "      <td>2020-08-11T15:10:05Z</td>\n",
       "      <td>UCDVPcEbVLQgLZX0Rt6jo34A</td>\n",
       "      <td>Mr. Kate</td>\n",
       "      <td>26</td>\n",
       "      <td>2020-08-13T00:00:00Z</td>\n",
       "      <td>The LaBrant Family|DIY|Interior Design|Makeove...</td>\n",
       "      <td>1922758</td>\n",
       "      <td>54959</td>\n",
       "      <td>1758</td>\n",
       "      <td>2662</td>\n",
       "      <td>https://i.ytimg.com/vi/VIUo6yapDbc/default.jpg</td>\n",
       "      <td>False</td>\n",
       "      <td>False</td>\n",
       "      <td>Transforming The LaBrant Family's empty white ...</td>\n",
       "    </tr>\n",
       "    <tr>\n",
       "      <th>214</th>\n",
       "      <td>kXLn3HkpjaA</td>\n",
       "      <td>XXL 2020 Freshman Class Revealed - Official An...</td>\n",
       "      <td>2020-08-11T16:38:55Z</td>\n",
       "      <td>UCbg_UMjlHJg_19SZckaKajg</td>\n",
       "      <td>XXL</td>\n",
       "      <td>10</td>\n",
       "      <td>2020-08-13T00:00:00Z</td>\n",
       "      <td>xxl freshman|xxl freshmen|2020 xxl freshman|20...</td>\n",
       "      <td>944498</td>\n",
       "      <td>29016</td>\n",
       "      <td>2809</td>\n",
       "      <td>9278</td>\n",
       "      <td>https://i.ytimg.com/vi/kXLn3HkpjaA/default.jpg</td>\n",
       "      <td>False</td>\n",
       "      <td>False</td>\n",
       "      <td>Subscribe to XXL → http://bit.ly/subscribe-xxl...</td>\n",
       "    </tr>\n",
       "    <tr>\n",
       "      <th>...</th>\n",
       "      <td>...</td>\n",
       "      <td>...</td>\n",
       "      <td>...</td>\n",
       "      <td>...</td>\n",
       "      <td>...</td>\n",
       "      <td>...</td>\n",
       "      <td>...</td>\n",
       "      <td>...</td>\n",
       "      <td>...</td>\n",
       "      <td>...</td>\n",
       "      <td>...</td>\n",
       "      <td>...</td>\n",
       "      <td>...</td>\n",
       "      <td>...</td>\n",
       "      <td>...</td>\n",
       "      <td>...</td>\n",
       "    </tr>\n",
       "    <tr>\n",
       "      <th>180985</th>\n",
       "      <td>udIBOWYhoOc</td>\n",
       "      <td>RMU Exclusive: Bethune prez explains why he fi...</td>\n",
       "      <td>2023-01-24T04:04:47Z</td>\n",
       "      <td>UCjXB7nX8bL2U2sje8d212Yw</td>\n",
       "      <td>Roland S. Martin</td>\n",
       "      <td>25</td>\n",
       "      <td>2023-01-29T00:00:00Z</td>\n",
       "      <td>Roland Martin|#RolandMartinUnfiltered|Black St...</td>\n",
       "      <td>341921</td>\n",
       "      <td>5821</td>\n",
       "      <td>0</td>\n",
       "      <td>5022</td>\n",
       "      <td>https://i.ytimg.com/vi/udIBOWYhoOc/default.jpg</td>\n",
       "      <td>False</td>\n",
       "      <td>False</td>\n",
       "      <td>#RolandMartinUnfiltered Exclusive: Bethune Coo...</td>\n",
       "    </tr>\n",
       "    <tr>\n",
       "      <th>180986</th>\n",
       "      <td>InjrU5_MQB8</td>\n",
       "      <td>The Next Chapter.</td>\n",
       "      <td>2023-01-23T20:18:51Z</td>\n",
       "      <td>UCgUueMmSpcl-aCTt5CuCKQw</td>\n",
       "      <td>Grant Horvat Golf</td>\n",
       "      <td>17</td>\n",
       "      <td>2023-01-29T00:00:00Z</td>\n",
       "      <td>Golf|GoodGood|Grant Horvat|GM Golf</td>\n",
       "      <td>456361</td>\n",
       "      <td>23430</td>\n",
       "      <td>0</td>\n",
       "      <td>2387</td>\n",
       "      <td>https://i.ytimg.com/vi/InjrU5_MQB8/default.jpg</td>\n",
       "      <td>False</td>\n",
       "      <td>False</td>\n",
       "      <td>My Socials:https://instagram.com/granthorvat/M...</td>\n",
       "    </tr>\n",
       "    <tr>\n",
       "      <th>180987</th>\n",
       "      <td>7lWUBIN7PNE</td>\n",
       "      <td>organizing our NEW KITCHEN + decor shopping | ...</td>\n",
       "      <td>2023-01-24T19:30:27Z</td>\n",
       "      <td>UCxVEsOhpjLTRKNUSA8e0mfA</td>\n",
       "      <td>XO, MaCenna Vlogs</td>\n",
       "      <td>24</td>\n",
       "      <td>2023-01-29T00:00:00Z</td>\n",
       "      <td>vlogger|xo macenna|macenna diy|macenna vlogs|l...</td>\n",
       "      <td>255393</td>\n",
       "      <td>16301</td>\n",
       "      <td>0</td>\n",
       "      <td>921</td>\n",
       "      <td>https://i.ytimg.com/vi/7lWUBIN7PNE/default.jpg</td>\n",
       "      <td>False</td>\n",
       "      <td>False</td>\n",
       "      <td>I’ve been obsessed with Aurate jewelry for ove...</td>\n",
       "    </tr>\n",
       "    <tr>\n",
       "      <th>180988</th>\n",
       "      <td>3Sq1MPvP1-Q</td>\n",
       "      <td>The Undertaker Goes Sneaker Shopping With Complex</td>\n",
       "      <td>2023-01-23T15:00:02Z</td>\n",
       "      <td>UCE_--R1P5-kfBzHTca0dsnw</td>\n",
       "      <td>Complex</td>\n",
       "      <td>24</td>\n",
       "      <td>2023-01-29T00:00:00Z</td>\n",
       "      <td>sneakerhead|complex|complex originals|sneakers...</td>\n",
       "      <td>813428</td>\n",
       "      <td>35545</td>\n",
       "      <td>0</td>\n",
       "      <td>2421</td>\n",
       "      <td>https://i.ytimg.com/vi/3Sq1MPvP1-Q/default.jpg</td>\n",
       "      <td>False</td>\n",
       "      <td>False</td>\n",
       "      <td>The Undertaker goes Sneaker Shopping at Concep...</td>\n",
       "    </tr>\n",
       "    <tr>\n",
       "      <th>180989</th>\n",
       "      <td>oFvRXyPAyf8</td>\n",
       "      <td>Do Not Buy Forspoken Review Buy, Wait for Sale...</td>\n",
       "      <td>2023-01-23T14:00:22Z</td>\n",
       "      <td>UCK9_x1DImhU-eolIay5rb2Q</td>\n",
       "      <td>ACG</td>\n",
       "      <td>20</td>\n",
       "      <td>2023-01-29T00:00:00Z</td>\n",
       "      <td>acgreview|angrycentaurgaming|gameplay|ACG|gami...</td>\n",
       "      <td>624758</td>\n",
       "      <td>21047</td>\n",
       "      <td>0</td>\n",
       "      <td>3820</td>\n",
       "      <td>https://i.ytimg.com/vi/oFvRXyPAyf8/default.jpg</td>\n",
       "      <td>False</td>\n",
       "      <td>False</td>\n",
       "      <td>Welcome to Forspoken videogame review. Forspok...</td>\n",
       "    </tr>\n",
       "  </tbody>\n",
       "</table>\n",
       "<p>147850 rows × 16 columns</p>\n",
       "</div>"
      ],
      "text/plain": [
       "           video_id                                              title  \\\n",
       "202     3C66w5Z0ixs                 I ASKED HER TO BE MY GIRLFRIEND...   \n",
       "207     J78aPJ3VyNs  I left youtube for a month and THIS is what ha...   \n",
       "209     M9Pmf9AB4Mo  Apex Legends | Stories from the Outlands – “Th...   \n",
       "213     VIUo6yapDbc  Ultimate DIY Home Movie Theater for The LaBran...   \n",
       "214     kXLn3HkpjaA  XXL 2020 Freshman Class Revealed - Official An...   \n",
       "...             ...                                                ...   \n",
       "180985  udIBOWYhoOc  RMU Exclusive: Bethune prez explains why he fi...   \n",
       "180986  InjrU5_MQB8                                  The Next Chapter.   \n",
       "180987  7lWUBIN7PNE  organizing our NEW KITCHEN + decor shopping | ...   \n",
       "180988  3Sq1MPvP1-Q  The Undertaker Goes Sneaker Shopping With Complex   \n",
       "180989  oFvRXyPAyf8  Do Not Buy Forspoken Review Buy, Wait for Sale...   \n",
       "\n",
       "                 publishedAt                 channelId       channelTitle  \\\n",
       "202     2020-08-11T19:20:14Z  UCvtRTOMP2TqYqu51xNrqAzg           Brawadis   \n",
       "207     2020-08-11T16:34:06Z  UCYzPXprvl5Y-Sf0g4vX-m6g      jacksepticeye   \n",
       "209     2020-08-11T17:00:10Z  UC0ZV6M2THA81QT9hrVWJG3A       Apex Legends   \n",
       "213     2020-08-11T15:10:05Z  UCDVPcEbVLQgLZX0Rt6jo34A           Mr. Kate   \n",
       "214     2020-08-11T16:38:55Z  UCbg_UMjlHJg_19SZckaKajg                XXL   \n",
       "...                      ...                       ...                ...   \n",
       "180985  2023-01-24T04:04:47Z  UCjXB7nX8bL2U2sje8d212Yw   Roland S. Martin   \n",
       "180986  2023-01-23T20:18:51Z  UCgUueMmSpcl-aCTt5CuCKQw  Grant Horvat Golf   \n",
       "180987  2023-01-24T19:30:27Z  UCxVEsOhpjLTRKNUSA8e0mfA  XO, MaCenna Vlogs   \n",
       "180988  2023-01-23T15:00:02Z  UCE_--R1P5-kfBzHTca0dsnw            Complex   \n",
       "180989  2023-01-23T14:00:22Z  UCK9_x1DImhU-eolIay5rb2Q                ACG   \n",
       "\n",
       "        categoryId         trending_date  \\\n",
       "202             22  2020-08-13T00:00:00Z   \n",
       "207             24  2020-08-13T00:00:00Z   \n",
       "209             20  2020-08-13T00:00:00Z   \n",
       "213             26  2020-08-13T00:00:00Z   \n",
       "214             10  2020-08-13T00:00:00Z   \n",
       "...            ...                   ...   \n",
       "180985          25  2023-01-29T00:00:00Z   \n",
       "180986          17  2023-01-29T00:00:00Z   \n",
       "180987          24  2023-01-29T00:00:00Z   \n",
       "180988          24  2023-01-29T00:00:00Z   \n",
       "180989          20  2023-01-29T00:00:00Z   \n",
       "\n",
       "                                                     tags  view_count   likes  \\\n",
       "202     brawadis|prank|basketball|skits|ghost|funny vi...     3017834  183592   \n",
       "207     jacksepticeye|funny|funny meme|memes|jacksepti...     2802823  401421   \n",
       "209     Apex Legends|Apex Legends characters|new Apex ...     2932421  153682   \n",
       "213     The LaBrant Family|DIY|Interior Design|Makeove...     1922758   54959   \n",
       "214     xxl freshman|xxl freshmen|2020 xxl freshman|20...      944498   29016   \n",
       "...                                                   ...         ...     ...   \n",
       "180985  Roland Martin|#RolandMartinUnfiltered|Black St...      341921    5821   \n",
       "180986                 Golf|GoodGood|Grant Horvat|GM Golf      456361   23430   \n",
       "180987  vlogger|xo macenna|macenna diy|macenna vlogs|l...      255393   16301   \n",
       "180988  sneakerhead|complex|complex originals|sneakers...      813428   35545   \n",
       "180989  acgreview|angrycentaurgaming|gameplay|ACG|gami...      624758   21047   \n",
       "\n",
       "        dislikes  comment_count  \\\n",
       "202         9506          41374   \n",
       "207         3728          44546   \n",
       "209         3281          17454   \n",
       "213         1758           2662   \n",
       "214         2809           9278   \n",
       "...          ...            ...   \n",
       "180985         0           5022   \n",
       "180986         0           2387   \n",
       "180987         0            921   \n",
       "180988         0           2421   \n",
       "180989         0           3820   \n",
       "\n",
       "                                        thumbnail_link  comments_disabled  \\\n",
       "202     https://i.ytimg.com/vi/3C66w5Z0ixs/default.jpg              False   \n",
       "207     https://i.ytimg.com/vi/J78aPJ3VyNs/default.jpg              False   \n",
       "209     https://i.ytimg.com/vi/M9Pmf9AB4Mo/default.jpg              False   \n",
       "213     https://i.ytimg.com/vi/VIUo6yapDbc/default.jpg              False   \n",
       "214     https://i.ytimg.com/vi/kXLn3HkpjaA/default.jpg              False   \n",
       "...                                                ...                ...   \n",
       "180985  https://i.ytimg.com/vi/udIBOWYhoOc/default.jpg              False   \n",
       "180986  https://i.ytimg.com/vi/InjrU5_MQB8/default.jpg              False   \n",
       "180987  https://i.ytimg.com/vi/7lWUBIN7PNE/default.jpg              False   \n",
       "180988  https://i.ytimg.com/vi/3Sq1MPvP1-Q/default.jpg              False   \n",
       "180989  https://i.ytimg.com/vi/oFvRXyPAyf8/default.jpg              False   \n",
       "\n",
       "        ratings_disabled                                        description  \n",
       "202                False  SUBSCRIBE to BRAWADIS ▶ http://bit.ly/Subscrib...  \n",
       "207                False  I left youtube for a month and this is what ha...  \n",
       "209                False  While running her own modding shop, Ramya Pare...  \n",
       "213                False  Transforming The LaBrant Family's empty white ...  \n",
       "214                False  Subscribe to XXL → http://bit.ly/subscribe-xxl...  \n",
       "...                  ...                                                ...  \n",
       "180985             False  #RolandMartinUnfiltered Exclusive: Bethune Coo...  \n",
       "180986             False  My Socials:https://instagram.com/granthorvat/M...  \n",
       "180987             False  I’ve been obsessed with Aurate jewelry for ove...  \n",
       "180988             False  The Undertaker goes Sneaker Shopping at Concep...  \n",
       "180989             False  Welcome to Forspoken videogame review. Forspok...  \n",
       "\n",
       "[147850 rows x 16 columns]"
      ]
     },
     "execution_count": 13,
     "metadata": {},
     "output_type": "execute_result"
    }
   ],
   "source": [
    "# .drop_duplicates()\n",
    "# these are the duplicate values with same video id\n",
    "duplicates = trending_youtube[trending_youtube['video_id'].duplicated() == True]\n",
    "duplicates"
   ]
  },
  {
   "cell_type": "markdown",
   "id": "0c355f74",
   "metadata": {},
   "source": [
    "There is almost 7 duplicates for a single video! since while collecting dataset, the video can remain in the trending page for a while so when collecting the dataset it will get the video multiple times but with different viewer count and comments and other variables. so when we drop our duplicates we make sure to leave the last time the video was trending. "
   ]
  },
  {
   "cell_type": "code",
   "execution_count": 14,
   "id": "78fbba55",
   "metadata": {},
   "outputs": [
    {
     "data": {
      "text/html": [
       "<div>\n",
       "<style scoped>\n",
       "    .dataframe tbody tr th:only-of-type {\n",
       "        vertical-align: middle;\n",
       "    }\n",
       "\n",
       "    .dataframe tbody tr th {\n",
       "        vertical-align: top;\n",
       "    }\n",
       "\n",
       "    .dataframe thead th {\n",
       "        text-align: right;\n",
       "    }\n",
       "</style>\n",
       "<table border=\"1\" class=\"dataframe\">\n",
       "  <thead>\n",
       "    <tr style=\"text-align: right;\">\n",
       "      <th></th>\n",
       "      <th>video_id</th>\n",
       "      <th>title</th>\n",
       "      <th>publishedAt</th>\n",
       "      <th>channelId</th>\n",
       "      <th>channelTitle</th>\n",
       "      <th>categoryId</th>\n",
       "      <th>trending_date</th>\n",
       "      <th>tags</th>\n",
       "      <th>view_count</th>\n",
       "      <th>likes</th>\n",
       "      <th>dislikes</th>\n",
       "      <th>comment_count</th>\n",
       "      <th>thumbnail_link</th>\n",
       "      <th>comments_disabled</th>\n",
       "      <th>ratings_disabled</th>\n",
       "      <th>description</th>\n",
       "    </tr>\n",
       "  </thead>\n",
       "  <tbody>\n",
       "    <tr>\n",
       "      <th>2</th>\n",
       "      <td>J78aPJ3VyNs</td>\n",
       "      <td>I left youtube for a month and THIS is what ha...</td>\n",
       "      <td>2020-08-11T16:34:06Z</td>\n",
       "      <td>UCYzPXprvl5Y-Sf0g4vX-m6g</td>\n",
       "      <td>jacksepticeye</td>\n",
       "      <td>24</td>\n",
       "      <td>2020-08-12T00:00:00Z</td>\n",
       "      <td>jacksepticeye|funny|funny meme|memes|jacksepti...</td>\n",
       "      <td>2038853</td>\n",
       "      <td>353787</td>\n",
       "      <td>2628</td>\n",
       "      <td>40221</td>\n",
       "      <td>https://i.ytimg.com/vi/J78aPJ3VyNs/default.jpg</td>\n",
       "      <td>False</td>\n",
       "      <td>False</td>\n",
       "      <td>I left youtube for a month and this is what ha...</td>\n",
       "    </tr>\n",
       "    <tr>\n",
       "      <th>207</th>\n",
       "      <td>J78aPJ3VyNs</td>\n",
       "      <td>I left youtube for a month and THIS is what ha...</td>\n",
       "      <td>2020-08-11T16:34:06Z</td>\n",
       "      <td>UCYzPXprvl5Y-Sf0g4vX-m6g</td>\n",
       "      <td>jacksepticeye</td>\n",
       "      <td>24</td>\n",
       "      <td>2020-08-13T00:00:00Z</td>\n",
       "      <td>jacksepticeye|funny|funny meme|memes|jacksepti...</td>\n",
       "      <td>2802823</td>\n",
       "      <td>401421</td>\n",
       "      <td>3728</td>\n",
       "      <td>44546</td>\n",
       "      <td>https://i.ytimg.com/vi/J78aPJ3VyNs/default.jpg</td>\n",
       "      <td>False</td>\n",
       "      <td>False</td>\n",
       "      <td>I left youtube for a month and this is what ha...</td>\n",
       "    </tr>\n",
       "    <tr>\n",
       "      <th>442</th>\n",
       "      <td>J78aPJ3VyNs</td>\n",
       "      <td>I left youtube for a month and THIS is what ha...</td>\n",
       "      <td>2020-08-11T16:34:06Z</td>\n",
       "      <td>UCYzPXprvl5Y-Sf0g4vX-m6g</td>\n",
       "      <td>jacksepticeye</td>\n",
       "      <td>24</td>\n",
       "      <td>2020-08-14T00:00:00Z</td>\n",
       "      <td>jacksepticeye|funny|funny meme|memes|jacksepti...</td>\n",
       "      <td>3136088</td>\n",
       "      <td>427609</td>\n",
       "      <td>4009</td>\n",
       "      <td>46133</td>\n",
       "      <td>https://i.ytimg.com/vi/J78aPJ3VyNs/default.jpg</td>\n",
       "      <td>False</td>\n",
       "      <td>False</td>\n",
       "      <td>I left youtube for a month and this is what ha...</td>\n",
       "    </tr>\n",
       "    <tr>\n",
       "      <th>657</th>\n",
       "      <td>J78aPJ3VyNs</td>\n",
       "      <td>I left youtube for a month and THIS is what ha...</td>\n",
       "      <td>2020-08-11T16:34:06Z</td>\n",
       "      <td>UCYzPXprvl5Y-Sf0g4vX-m6g</td>\n",
       "      <td>jacksepticeye</td>\n",
       "      <td>24</td>\n",
       "      <td>2020-08-15T00:00:00Z</td>\n",
       "      <td>jacksepticeye|funny|funny meme|memes|jacksepti...</td>\n",
       "      <td>3309124</td>\n",
       "      <td>442555</td>\n",
       "      <td>4156</td>\n",
       "      <td>46699</td>\n",
       "      <td>https://i.ytimg.com/vi/J78aPJ3VyNs/default.jpg</td>\n",
       "      <td>False</td>\n",
       "      <td>False</td>\n",
       "      <td>I left youtube for a month and this is what ha...</td>\n",
       "    </tr>\n",
       "    <tr>\n",
       "      <th>909</th>\n",
       "      <td>J78aPJ3VyNs</td>\n",
       "      <td>I left youtube for a month and THIS is what ha...</td>\n",
       "      <td>2020-08-11T16:34:06Z</td>\n",
       "      <td>UCYzPXprvl5Y-Sf0g4vX-m6g</td>\n",
       "      <td>jacksepticeye</td>\n",
       "      <td>24</td>\n",
       "      <td>2020-08-16T00:00:00Z</td>\n",
       "      <td>jacksepticeye|funny|funny meme|memes|jacksepti...</td>\n",
       "      <td>3384892</td>\n",
       "      <td>448809</td>\n",
       "      <td>4209</td>\n",
       "      <td>47003</td>\n",
       "      <td>https://i.ytimg.com/vi/J78aPJ3VyNs/default.jpg</td>\n",
       "      <td>False</td>\n",
       "      <td>False</td>\n",
       "      <td>I left youtube for a month and this is what ha...</td>\n",
       "    </tr>\n",
       "    <tr>\n",
       "      <th>1159</th>\n",
       "      <td>J78aPJ3VyNs</td>\n",
       "      <td>I left youtube for a month and THIS is what ha...</td>\n",
       "      <td>2020-08-11T16:34:06Z</td>\n",
       "      <td>UCYzPXprvl5Y-Sf0g4vX-m6g</td>\n",
       "      <td>jacksepticeye</td>\n",
       "      <td>24</td>\n",
       "      <td>2020-08-17T00:00:00Z</td>\n",
       "      <td>jacksepticeye|funny|funny meme|memes|jacksepti...</td>\n",
       "      <td>3439181</td>\n",
       "      <td>453464</td>\n",
       "      <td>4246</td>\n",
       "      <td>47188</td>\n",
       "      <td>https://i.ytimg.com/vi/J78aPJ3VyNs/default.jpg</td>\n",
       "      <td>False</td>\n",
       "      <td>False</td>\n",
       "      <td>I left youtube for a month and this is what ha...</td>\n",
       "    </tr>\n",
       "    <tr>\n",
       "      <th>1399</th>\n",
       "      <td>J78aPJ3VyNs</td>\n",
       "      <td>I left youtube for a month and THIS is what ha...</td>\n",
       "      <td>2020-08-11T16:34:06Z</td>\n",
       "      <td>UCYzPXprvl5Y-Sf0g4vX-m6g</td>\n",
       "      <td>jacksepticeye</td>\n",
       "      <td>24</td>\n",
       "      <td>2020-08-18T00:00:00Z</td>\n",
       "      <td>jacksepticeye|funny|funny meme|memes|jacksepti...</td>\n",
       "      <td>3490530</td>\n",
       "      <td>457130</td>\n",
       "      <td>4269</td>\n",
       "      <td>47291</td>\n",
       "      <td>https://i.ytimg.com/vi/J78aPJ3VyNs/default.jpg</td>\n",
       "      <td>False</td>\n",
       "      <td>False</td>\n",
       "      <td>I left youtube for a month and this is what ha...</td>\n",
       "    </tr>\n",
       "  </tbody>\n",
       "</table>\n",
       "</div>"
      ],
      "text/plain": [
       "         video_id                                              title  \\\n",
       "2     J78aPJ3VyNs  I left youtube for a month and THIS is what ha...   \n",
       "207   J78aPJ3VyNs  I left youtube for a month and THIS is what ha...   \n",
       "442   J78aPJ3VyNs  I left youtube for a month and THIS is what ha...   \n",
       "657   J78aPJ3VyNs  I left youtube for a month and THIS is what ha...   \n",
       "909   J78aPJ3VyNs  I left youtube for a month and THIS is what ha...   \n",
       "1159  J78aPJ3VyNs  I left youtube for a month and THIS is what ha...   \n",
       "1399  J78aPJ3VyNs  I left youtube for a month and THIS is what ha...   \n",
       "\n",
       "               publishedAt                 channelId   channelTitle  \\\n",
       "2     2020-08-11T16:34:06Z  UCYzPXprvl5Y-Sf0g4vX-m6g  jacksepticeye   \n",
       "207   2020-08-11T16:34:06Z  UCYzPXprvl5Y-Sf0g4vX-m6g  jacksepticeye   \n",
       "442   2020-08-11T16:34:06Z  UCYzPXprvl5Y-Sf0g4vX-m6g  jacksepticeye   \n",
       "657   2020-08-11T16:34:06Z  UCYzPXprvl5Y-Sf0g4vX-m6g  jacksepticeye   \n",
       "909   2020-08-11T16:34:06Z  UCYzPXprvl5Y-Sf0g4vX-m6g  jacksepticeye   \n",
       "1159  2020-08-11T16:34:06Z  UCYzPXprvl5Y-Sf0g4vX-m6g  jacksepticeye   \n",
       "1399  2020-08-11T16:34:06Z  UCYzPXprvl5Y-Sf0g4vX-m6g  jacksepticeye   \n",
       "\n",
       "      categoryId         trending_date  \\\n",
       "2             24  2020-08-12T00:00:00Z   \n",
       "207           24  2020-08-13T00:00:00Z   \n",
       "442           24  2020-08-14T00:00:00Z   \n",
       "657           24  2020-08-15T00:00:00Z   \n",
       "909           24  2020-08-16T00:00:00Z   \n",
       "1159          24  2020-08-17T00:00:00Z   \n",
       "1399          24  2020-08-18T00:00:00Z   \n",
       "\n",
       "                                                   tags  view_count   likes  \\\n",
       "2     jacksepticeye|funny|funny meme|memes|jacksepti...     2038853  353787   \n",
       "207   jacksepticeye|funny|funny meme|memes|jacksepti...     2802823  401421   \n",
       "442   jacksepticeye|funny|funny meme|memes|jacksepti...     3136088  427609   \n",
       "657   jacksepticeye|funny|funny meme|memes|jacksepti...     3309124  442555   \n",
       "909   jacksepticeye|funny|funny meme|memes|jacksepti...     3384892  448809   \n",
       "1159  jacksepticeye|funny|funny meme|memes|jacksepti...     3439181  453464   \n",
       "1399  jacksepticeye|funny|funny meme|memes|jacksepti...     3490530  457130   \n",
       "\n",
       "      dislikes  comment_count                                  thumbnail_link  \\\n",
       "2         2628          40221  https://i.ytimg.com/vi/J78aPJ3VyNs/default.jpg   \n",
       "207       3728          44546  https://i.ytimg.com/vi/J78aPJ3VyNs/default.jpg   \n",
       "442       4009          46133  https://i.ytimg.com/vi/J78aPJ3VyNs/default.jpg   \n",
       "657       4156          46699  https://i.ytimg.com/vi/J78aPJ3VyNs/default.jpg   \n",
       "909       4209          47003  https://i.ytimg.com/vi/J78aPJ3VyNs/default.jpg   \n",
       "1159      4246          47188  https://i.ytimg.com/vi/J78aPJ3VyNs/default.jpg   \n",
       "1399      4269          47291  https://i.ytimg.com/vi/J78aPJ3VyNs/default.jpg   \n",
       "\n",
       "      comments_disabled  ratings_disabled  \\\n",
       "2                 False             False   \n",
       "207               False             False   \n",
       "442               False             False   \n",
       "657               False             False   \n",
       "909               False             False   \n",
       "1159              False             False   \n",
       "1399              False             False   \n",
       "\n",
       "                                            description  \n",
       "2     I left youtube for a month and this is what ha...  \n",
       "207   I left youtube for a month and this is what ha...  \n",
       "442   I left youtube for a month and this is what ha...  \n",
       "657   I left youtube for a month and this is what ha...  \n",
       "909   I left youtube for a month and this is what ha...  \n",
       "1159  I left youtube for a month and this is what ha...  \n",
       "1399  I left youtube for a month and this is what ha...  "
      ]
     },
     "execution_count": 14,
     "metadata": {},
     "output_type": "execute_result"
    }
   ],
   "source": [
    "trending_youtube[trending_youtube['video_id'] == \"J78aPJ3VyNs\"]"
   ]
  },
  {
   "cell_type": "code",
   "execution_count": 15,
   "id": "811ea33d",
   "metadata": {},
   "outputs": [
    {
     "data": {
      "text/plain": [
       "147850"
      ]
     },
     "execution_count": 15,
     "metadata": {},
     "output_type": "execute_result"
    }
   ],
   "source": [
    "len(duplicates['video_id'])"
   ]
  },
  {
   "cell_type": "code",
   "execution_count": 35,
   "id": "d3b34caf",
   "metadata": {},
   "outputs": [],
   "source": [
    "trending_youtube.drop_duplicates(subset=['title','video_id'], keep='last' , inplace= True)"
   ]
  },
  {
   "cell_type": "code",
   "execution_count": 37,
   "id": "06874b7a",
   "metadata": {},
   "outputs": [
    {
     "data": {
      "text/html": [
       "<div>\n",
       "<style scoped>\n",
       "    .dataframe tbody tr th:only-of-type {\n",
       "        vertical-align: middle;\n",
       "    }\n",
       "\n",
       "    .dataframe tbody tr th {\n",
       "        vertical-align: top;\n",
       "    }\n",
       "\n",
       "    .dataframe thead th {\n",
       "        text-align: right;\n",
       "    }\n",
       "</style>\n",
       "<table border=\"1\" class=\"dataframe\">\n",
       "  <thead>\n",
       "    <tr style=\"text-align: right;\">\n",
       "      <th></th>\n",
       "      <th>video_id</th>\n",
       "      <th>title</th>\n",
       "      <th>publishedAt</th>\n",
       "      <th>channelId</th>\n",
       "      <th>channelTitle</th>\n",
       "      <th>categoryId</th>\n",
       "      <th>trending_date</th>\n",
       "      <th>tags</th>\n",
       "      <th>view_count</th>\n",
       "      <th>likes</th>\n",
       "      <th>dislikes</th>\n",
       "      <th>comment_count</th>\n",
       "      <th>thumbnail_link</th>\n",
       "      <th>comments_disabled</th>\n",
       "      <th>ratings_disabled</th>\n",
       "      <th>description</th>\n",
       "    </tr>\n",
       "  </thead>\n",
       "  <tbody>\n",
       "    <tr>\n",
       "      <th>1399</th>\n",
       "      <td>J78aPJ3VyNs</td>\n",
       "      <td>I left youtube for a month and THIS is what ha...</td>\n",
       "      <td>2020-08-11T16:34:06Z</td>\n",
       "      <td>UCYzPXprvl5Y-Sf0g4vX-m6g</td>\n",
       "      <td>jacksepticeye</td>\n",
       "      <td>24</td>\n",
       "      <td>2020-08-18T00:00:00Z</td>\n",
       "      <td>jacksepticeye funny funny meme memes jacksepti...</td>\n",
       "      <td>3490530</td>\n",
       "      <td>457130</td>\n",
       "      <td>4269</td>\n",
       "      <td>47291</td>\n",
       "      <td>https://i.ytimg.com/vi/J78aPJ3VyNs/default.jpg</td>\n",
       "      <td>False</td>\n",
       "      <td>False</td>\n",
       "      <td>I left youtube for a month and this is what ha...</td>\n",
       "    </tr>\n",
       "  </tbody>\n",
       "</table>\n",
       "</div>"
      ],
      "text/plain": [
       "         video_id                                              title  \\\n",
       "1399  J78aPJ3VyNs  I left youtube for a month and THIS is what ha...   \n",
       "\n",
       "               publishedAt                 channelId   channelTitle  \\\n",
       "1399  2020-08-11T16:34:06Z  UCYzPXprvl5Y-Sf0g4vX-m6g  jacksepticeye   \n",
       "\n",
       "      categoryId         trending_date  \\\n",
       "1399          24  2020-08-18T00:00:00Z   \n",
       "\n",
       "                                                   tags  view_count   likes  \\\n",
       "1399  jacksepticeye funny funny meme memes jacksepti...     3490530  457130   \n",
       "\n",
       "      dislikes  comment_count                                  thumbnail_link  \\\n",
       "1399      4269          47291  https://i.ytimg.com/vi/J78aPJ3VyNs/default.jpg   \n",
       "\n",
       "      comments_disabled  ratings_disabled  \\\n",
       "1399              False             False   \n",
       "\n",
       "                                            description  \n",
       "1399  I left youtube for a month and this is what ha...  "
      ]
     },
     "execution_count": 37,
     "metadata": {},
     "output_type": "execute_result"
    }
   ],
   "source": [
    "# last updated video before leaving the trending page\n",
    "trending_youtube[trending_youtube['video_id'] == \"J78aPJ3VyNs\"]"
   ]
  },
  {
   "cell_type": "code",
   "execution_count": 16,
   "id": "d0f455fa",
   "metadata": {
    "scrolled": true
   },
   "outputs": [
    {
     "data": {
      "text/plain": [
       "180990"
      ]
     },
     "execution_count": 16,
     "metadata": {},
     "output_type": "execute_result"
    }
   ],
   "source": [
    "len(trending_youtube)"
   ]
  },
  {
   "cell_type": "markdown",
   "id": "3ff4a40b",
   "metadata": {},
   "source": [
    "Converting date columns from object to datetime type, to easily manipulate them in the analysis."
   ]
  },
  {
   "cell_type": "code",
   "execution_count": 41,
   "id": "14a13b96",
   "metadata": {},
   "outputs": [
    {
     "data": {
      "text/plain": [
       "video_id                     object\n",
       "title                        object\n",
       "publishedAt          datetime64[ns]\n",
       "channelId                    object\n",
       "channelTitle                 object\n",
       "categoryId                    int64\n",
       "trending_date        datetime64[ns]\n",
       "tags                         object\n",
       "view_count                    int64\n",
       "likes                         int64\n",
       "dislikes                      int64\n",
       "comment_count                 int64\n",
       "thumbnail_link               object\n",
       "comments_disabled              bool\n",
       "ratings_disabled               bool\n",
       "description                  object\n",
       "dtype: object"
      ]
     },
     "execution_count": 41,
     "metadata": {},
     "output_type": "execute_result"
    }
   ],
   "source": [
    "trending_youtube.dtypes"
   ]
  },
  {
   "cell_type": "code",
   "execution_count": 43,
   "id": "448e273e",
   "metadata": {},
   "outputs": [
    {
     "data": {
      "text/html": [
       "<div>\n",
       "<style scoped>\n",
       "    .dataframe tbody tr th:only-of-type {\n",
       "        vertical-align: middle;\n",
       "    }\n",
       "\n",
       "    .dataframe tbody tr th {\n",
       "        vertical-align: top;\n",
       "    }\n",
       "\n",
       "    .dataframe thead th {\n",
       "        text-align: right;\n",
       "    }\n",
       "</style>\n",
       "<table border=\"1\" class=\"dataframe\">\n",
       "  <thead>\n",
       "    <tr style=\"text-align: right;\">\n",
       "      <th></th>\n",
       "      <th>publishedAt</th>\n",
       "      <th>trending_date</th>\n",
       "    </tr>\n",
       "  </thead>\n",
       "  <tbody>\n",
       "    <tr>\n",
       "      <th>13</th>\n",
       "      <td>2020-08-11 19:00:10</td>\n",
       "      <td>2020-08-12</td>\n",
       "    </tr>\n",
       "    <tr>\n",
       "      <th>58</th>\n",
       "      <td>2020-08-11 11:08:04</td>\n",
       "      <td>2020-08-12</td>\n",
       "    </tr>\n",
       "    <tr>\n",
       "      <th>172</th>\n",
       "      <td>2020-08-07 18:30:06</td>\n",
       "      <td>2020-08-12</td>\n",
       "    </tr>\n",
       "    <tr>\n",
       "      <th>173</th>\n",
       "      <td>2020-08-07 09:30:04</td>\n",
       "      <td>2020-08-12</td>\n",
       "    </tr>\n",
       "    <tr>\n",
       "      <th>174</th>\n",
       "      <td>2020-08-06 19:47:12</td>\n",
       "      <td>2020-08-12</td>\n",
       "    </tr>\n",
       "  </tbody>\n",
       "</table>\n",
       "</div>"
      ],
      "text/plain": [
       "            publishedAt trending_date\n",
       "13  2020-08-11 19:00:10    2020-08-12\n",
       "58  2020-08-11 11:08:04    2020-08-12\n",
       "172 2020-08-07 18:30:06    2020-08-12\n",
       "173 2020-08-07 09:30:04    2020-08-12\n",
       "174 2020-08-06 19:47:12    2020-08-12"
      ]
     },
     "execution_count": 43,
     "metadata": {},
     "output_type": "execute_result"
    }
   ],
   "source": [
    "trending_youtube[['publishedAt', 'trending_date']].head()"
   ]
  },
  {
   "cell_type": "code",
   "execution_count": 45,
   "id": "3fcd62c3",
   "metadata": {},
   "outputs": [
    {
     "data": {
      "text/html": [
       "<div>\n",
       "<style scoped>\n",
       "    .dataframe tbody tr th:only-of-type {\n",
       "        vertical-align: middle;\n",
       "    }\n",
       "\n",
       "    .dataframe tbody tr th {\n",
       "        vertical-align: top;\n",
       "    }\n",
       "\n",
       "    .dataframe thead th {\n",
       "        text-align: right;\n",
       "    }\n",
       "</style>\n",
       "<table border=\"1\" class=\"dataframe\">\n",
       "  <thead>\n",
       "    <tr style=\"text-align: right;\">\n",
       "      <th></th>\n",
       "      <th>publishedAt</th>\n",
       "      <th>trending_date</th>\n",
       "    </tr>\n",
       "  </thead>\n",
       "  <tbody>\n",
       "    <tr>\n",
       "      <th>0</th>\n",
       "      <td>2020-08-11 19:00:10</td>\n",
       "      <td>2020-08-12</td>\n",
       "    </tr>\n",
       "    <tr>\n",
       "      <th>1</th>\n",
       "      <td>2020-08-11 11:08:04</td>\n",
       "      <td>2020-08-12</td>\n",
       "    </tr>\n",
       "    <tr>\n",
       "      <th>2</th>\n",
       "      <td>2020-08-07 18:30:06</td>\n",
       "      <td>2020-08-12</td>\n",
       "    </tr>\n",
       "    <tr>\n",
       "      <th>3</th>\n",
       "      <td>2020-08-07 09:30:04</td>\n",
       "      <td>2020-08-12</td>\n",
       "    </tr>\n",
       "    <tr>\n",
       "      <th>4</th>\n",
       "      <td>2020-08-06 19:47:12</td>\n",
       "      <td>2020-08-12</td>\n",
       "    </tr>\n",
       "  </tbody>\n",
       "</table>\n",
       "</div>"
      ],
      "text/plain": [
       "          publishedAt trending_date\n",
       "0 2020-08-11 19:00:10    2020-08-12\n",
       "1 2020-08-11 11:08:04    2020-08-12\n",
       "2 2020-08-07 18:30:06    2020-08-12\n",
       "3 2020-08-07 09:30:04    2020-08-12\n",
       "4 2020-08-06 19:47:12    2020-08-12"
      ]
     },
     "execution_count": 45,
     "metadata": {},
     "output_type": "execute_result"
    }
   ],
   "source": [
    "#Trending date column has object data type which needs to changed as datetime\n",
    "trending_youtube['trending_date'] = pd.to_datetime(trending_youtube['trending_date'], format = \"%Y-%m-%dT%H:%M:%SZ\")\n",
    "#The publishedAt column converted with the astype function\n",
    "trending_youtube['publishedAt'] = trending_youtube['publishedAt'].astype('datetime64[ns]')\n",
    "trending_youtube[['publishedAt', 'trending_date']].head()"
   ]
  },
  {
   "cell_type": "code",
   "execution_count": 47,
   "id": "c226655a",
   "metadata": {
    "scrolled": true
   },
   "outputs": [
    {
     "data": {
      "text/plain": [
       "trending_date    datetime64[ns]\n",
       "publishedAt      datetime64[ns]\n",
       "dtype: object"
      ]
     },
     "execution_count": 47,
     "metadata": {},
     "output_type": "execute_result"
    }
   ],
   "source": [
    "trending_youtube[['trending_date','publishedAt']].dtypes"
   ]
  },
  {
   "cell_type": "markdown",
   "id": "5c8b3c5d",
   "metadata": {},
   "source": [
    "Since we dropped rows and change few parts in the dataset, the indexing of the dataframe won't be coherent, we can simply reset it."
   ]
  },
  {
   "cell_type": "code",
   "execution_count": 17,
   "id": "b8c9863c",
   "metadata": {
    "scrolled": true
   },
   "outputs": [
    {
     "data": {
      "text/plain": [
       "Int64Index([     0,      1,      2,      3,      4,      5,      6,      7,\n",
       "                 8,      9,\n",
       "            ...\n",
       "            180980, 180981, 180982, 180983, 180984, 180985, 180986, 180987,\n",
       "            180988, 180989],\n",
       "           dtype='int64', length=180990)"
      ]
     },
     "execution_count": 17,
     "metadata": {},
     "output_type": "execute_result"
    }
   ],
   "source": [
    "trending_youtube.index"
   ]
  },
  {
   "cell_type": "code",
   "execution_count": 19,
   "id": "6c8460c8",
   "metadata": {},
   "outputs": [],
   "source": [
    "trending_youtube.reset_index(drop=True, inplace=True)"
   ]
  },
  {
   "cell_type": "code",
   "execution_count": 21,
   "id": "0a030ca5",
   "metadata": {
    "scrolled": true
   },
   "outputs": [
    {
     "data": {
      "text/plain": [
       "RangeIndex(start=0, stop=180990, step=1)"
      ]
     },
     "execution_count": 21,
     "metadata": {},
     "output_type": "execute_result"
    }
   ],
   "source": [
    "trending_youtube.index"
   ]
  },
  {
   "cell_type": "code",
   "execution_count": null,
   "id": "3d4066d6",
   "metadata": {},
   "outputs": [],
   "source": []
  }
 ],
 "metadata": {
  "kernelspec": {
   "display_name": "Python 3 (ipykernel)",
   "language": "python",
   "name": "python3"
  },
  "language_info": {
   "codemirror_mode": {
    "name": "ipython",
    "version": 3
   },
   "file_extension": ".py",
   "mimetype": "text/x-python",
   "name": "python",
   "nbconvert_exporter": "python",
   "pygments_lexer": "ipython3",
   "version": "3.9.7"
  }
 },
 "nbformat": 4,
 "nbformat_minor": 5
}

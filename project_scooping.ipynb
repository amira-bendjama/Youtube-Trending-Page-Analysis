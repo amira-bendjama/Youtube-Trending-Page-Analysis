{
 "cells": [
  {
   "cell_type": "markdown",
   "id": "53c88197",
   "metadata": {
    "id": "53c88197"
   },
   "source": [
    "# DSCI 521: Data Analysis and Interpretation <br> Term Project Phase 1: Scoping an analytics project"
   ]
  },
  {
   "cell_type": "markdown",
   "id": "06276e19",
   "metadata": {
    "id": "06276e19"
   },
   "source": [
    "## Group members \n",
    "- Group member \n",
    "    - Name: Amira Bendjama\n",
    "    - Email: ab4745@drexel.edu\n",
    "- Group member \n",
    "    - Name: Thuy Hong Doan\n",
    "    - Email: td688@drexel.edu\n",
    "- Group member \n",
    "    - Name: Alsulami Meznah\n",
    "    - Email: mha54@drexel.edu"
   ]
  },
  {
   "cell_type": "markdown",
   "id": "9ef10126",
   "metadata": {
    "id": "9ef10126"
   },
   "source": [
    "## Team members background:\n",
    "\n",
    "What areas/skills/domains does the team member presently identify with?\n",
    "Into which areas/skills/domains would the team member like to grow?\n",
    "\n",
    "- __Amira Bendjama__: is an Algerian Fulbrighter with a bachelor’s in computer science, and a master’s in networks and distributed systems. Her skill set varies from different programming languages, to problem solving and critical thinking. She worked with Youtube API V3 to retrieve dataset for [Valorant comments on Youtube](https://github.com/amira-bendjama/VALORANT-COMMENTS). \n",
    "\n",
    "- __Alsulami Meznah__: is a graduate student in Data Science. She majored in bachelor's degree was in Information Systems.  She has a good background on Java, Visual Basic, SQL. She looks forward to improving my skills and learning more about Python and R.\n",
    "\n",
    "- __Thuy Hong Doan__: graduated with a bachelor of business administration in Computer Information Systems. Her skill set varies from different programming languages, to analytical and problem solving skills. She worked with HTML, CSS, SQL, JavaScript, and Python. She plans to use her previous coding experience and understanding of data structure to help successfully complete this project.\n",
    "\n",
    "### Growth area \n",
    "\n",
    "We are looking to take on a project that presents real world data analysis challenges in order to align our skills with the type of work we would undertake in the professional world. Analyzing dataset is particularly challenging because of different steps we need to take before actualy analysis the dataset such cleaning the dataset, checking the correcteness, and thus is a good way to learn about data analysis."
   ]
  },
  {
   "cell_type": "markdown",
   "id": "151eb4bf",
   "metadata": {
    "id": "151eb4bf"
   },
   "source": [
    "## Topic summary \n",
    "\n",
    "YouTube is one of the leading video sharing and social media platform in the world. Thus, It had a huge impact on changing the marketing startegies by video promotion or sponsoring independent Youtubers, with its captivating features such as the recommendation page, and trending page. However, the later doesn’t have a clear indication of what makes a Youtube video trending. Hence, the speculation on what makes a video trending such as [Researching The Trending Tab (BTS)](https://www.youtube.com/watch?v=sEvtpj-uChA&ab_channel=Coffeezilla), [What Is YouTube Trending And How It Works](https://www.notion.so/project-scooping-427deb3f9cbc4c32949c17248bdc0a30#04a09cb6fee248398f38d2fa43a72052). The goal of the project is to perform EDA analysis on the dataset to find the patterns among trending videos and develop a classification model to attribute the factor that affects how popular a Youtube video will be. Those insights might be used by Youtube channels owned by tradational companies that seek to break into the new marketing field, or they can be used by individual Youtubers that seek to increase the popularity of their videos, without effecting their content creation. This project will relay on [dataset](https://www.kaggle.com/datasets/rsrishav/youtube-trending-video-dataset) from Kaggle which was collected using the Youtube API.\n",
    "\n"
   ]
  },
  {
   "cell_type": "markdown",
   "id": "a1b155c0",
   "metadata": {
    "id": "a1b155c0"
   },
   "source": [
    "## Term Project Phase 1: details \n",
    "\n",
    "__What is our dataset?__\n",
    "\n",
    "Dataset is collected using Youtube API, for different regions. However, the project will focus on United states' dataset. The data includes the video title, channel title, publish time, tags, views, likes and dislikes, description, and comment count, category.\n",
    "\n",
    "__What is the availability of relevant pre-processed data?__\n",
    "\n",
    "The dataset is available for the public in [Kaggle](https://www.kaggle.com/datasets/rsrishav/youtube-trending-video-dataset). \n",
    "\n",
    "__What will the analysis to do, who/what it will support?__ \n",
    "\n",
    "The EDA analysis on the dataset to find the patterns among trending videos and develop a classification model to find the factors. The questions we are trying to solve are: \n",
    "1. what are top most trending Categories? \n",
    "2. what is the impact of Likes,Dislikes and Comments.\n",
    "3. what is the most used words for titles, video description, tags?\n",
    "\n",
    "__Who would be interested in the data analysis?__\n",
    "- Adverstiser to sponsor Youtube videos that have the potenial to be trending\n",
    "- Youtube channels owned by companies that want to keep up with the trends for better preforming product ads. \n",
    "- Independent Youtubers who wants to make trending videos\n",
    "- Researchers to derive insight about behavior from Youtube trends and marketing startegies \n",
    "\n",
    "__Limitations__\n",
    "\n",
    "- The dataset is limited to several months and only 200 videos per day, and hence it could add some bias on the predictions. \n",
    "- World events that are relevent to only several months can effect the prediction greatly in a small dataset.\n",
    "- Absence of duration column in dataset, which is considered one of the factors to impact the trending videos.\n",
    "\n",
    "__Potential solutions__ \n",
    "- The results can be improved by extending the data collection to few years back, \n",
    "- Improving  the predection to ignore the irrelevent events. \n",
    "- Adding the duration column to the dataset\n"
   ]
  },
  {
   "cell_type": "markdown",
   "id": "e1736d83",
   "metadata": {
    "id": "e1736d83"
   },
   "source": [
    "__How the analysis might fit into an application or investigation?__ \n",
    "\n",
    "\n",
    "__Selection data for continued analysis, including justification:__ \n",
    "\n",
    "\n",
    "__How our analysis might be completed and disseminated?__\n",
    "\n",
    "The duration of the project won't allow to compare different classification models, \n",
    "\n",
    "\n",
    "\n",
    "### Potential Software used \n",
    "- Juypter notebook \n",
    "\n",
    "### Hardware used \n",
    "- Acer processor i5 RAM 8GB\n",
    "- Hp processor i7 RAM 8GB\n",
    "- Macbook Pro processor i5 RAM 8GB\n",
    "\n"
   ]
  },
  {
   "cell_type": "markdown",
   "id": "df7f48f7",
   "metadata": {},
   "source": [
    "# Exploratory Data Analysis "
   ]
  },
  {
   "cell_type": "markdown",
   "id": "cd7f299e",
   "metadata": {},
   "source": [
    "Loading the data from the csv file and into dataframe and to retrieve the categories for a specific video, we must load a json file since this is how the dataset was structured."
   ]
  },
  {
   "cell_type": "code",
   "execution_count": 6,
   "id": "67d98371",
   "metadata": {
    "scrolled": true
   },
   "outputs": [
    {
     "name": "stdout",
     "output_type": "stream",
     "text": [
      "Requirement already satisfied: matplotlib in c:\\users\\mira\\anaconda3\\envs\\amira\\lib\\site-packages (3.6.3)\n",
      "Requirement already satisfied: pillow>=6.2.0 in c:\\users\\mira\\anaconda3\\envs\\amira\\lib\\site-packages (from matplotlib) (9.4.0)\n",
      "Requirement already satisfied: contourpy>=1.0.1 in c:\\users\\mira\\anaconda3\\envs\\amira\\lib\\site-packages (from matplotlib) (1.0.7)\n",
      "Requirement already satisfied: python-dateutil>=2.7 in c:\\users\\mira\\anaconda3\\envs\\amira\\lib\\site-packages (from matplotlib) (2.8.2)\n",
      "Requirement already satisfied: cycler>=0.10 in c:\\users\\mira\\anaconda3\\envs\\amira\\lib\\site-packages (from matplotlib) (0.11.0)\n",
      "Requirement already satisfied: fonttools>=4.22.0 in c:\\users\\mira\\anaconda3\\envs\\amira\\lib\\site-packages (from matplotlib) (4.38.0)\n",
      "Requirement already satisfied: packaging>=20.0 in c:\\users\\mira\\anaconda3\\envs\\amira\\lib\\site-packages (from matplotlib) (21.3)\n",
      "Requirement already satisfied: numpy>=1.19 in c:\\users\\mira\\anaconda3\\envs\\amira\\lib\\site-packages (from matplotlib) (1.23.4)\n",
      "Requirement already satisfied: pyparsing>=2.2.1 in c:\\users\\mira\\anaconda3\\envs\\amira\\lib\\site-packages (from matplotlib) (3.0.9)\n",
      "Requirement already satisfied: kiwisolver>=1.0.1 in c:\\users\\mira\\anaconda3\\envs\\amira\\lib\\site-packages (from matplotlib) (1.4.4)\n",
      "Requirement already satisfied: six>=1.5 in c:\\users\\mira\\anaconda3\\envs\\amira\\lib\\site-packages (from python-dateutil>=2.7->matplotlib) (1.16.0)\n"
     ]
    }
   ],
   "source": [
    "!pip install matplotlib"
   ]
  },
  {
   "cell_type": "code",
   "execution_count": 7,
   "id": "05e8d360",
   "metadata": {},
   "outputs": [
    {
     "name": "stdout",
     "output_type": "stream",
     "text": [
      "Requirement already satisfied: seaborn in c:\\users\\mira\\anaconda3\\envs\\amira\\lib\\site-packages (0.12.2)\n",
      "Requirement already satisfied: matplotlib!=3.6.1,>=3.1 in c:\\users\\mira\\anaconda3\\envs\\amira\\lib\\site-packages (from seaborn) (3.6.3)\n",
      "Requirement already satisfied: numpy!=1.24.0,>=1.17 in c:\\users\\mira\\anaconda3\\envs\\amira\\lib\\site-packages (from seaborn) (1.23.4)\n",
      "Requirement already satisfied: pandas>=0.25 in c:\\users\\mira\\anaconda3\\envs\\amira\\lib\\site-packages (from seaborn) (1.5.0)\n",
      "Requirement already satisfied: cycler>=0.10 in c:\\users\\mira\\anaconda3\\envs\\amira\\lib\\site-packages (from matplotlib!=3.6.1,>=3.1->seaborn) (0.11.0)\n",
      "Requirement already satisfied: kiwisolver>=1.0.1 in c:\\users\\mira\\anaconda3\\envs\\amira\\lib\\site-packages (from matplotlib!=3.6.1,>=3.1->seaborn) (1.4.4)\n",
      "Requirement already satisfied: fonttools>=4.22.0 in c:\\users\\mira\\anaconda3\\envs\\amira\\lib\\site-packages (from matplotlib!=3.6.1,>=3.1->seaborn) (4.38.0)\n",
      "Requirement already satisfied: pillow>=6.2.0 in c:\\users\\mira\\anaconda3\\envs\\amira\\lib\\site-packages (from matplotlib!=3.6.1,>=3.1->seaborn) (9.4.0)\n",
      "Requirement already satisfied: contourpy>=1.0.1 in c:\\users\\mira\\anaconda3\\envs\\amira\\lib\\site-packages (from matplotlib!=3.6.1,>=3.1->seaborn) (1.0.7)\n",
      "Requirement already satisfied: pyparsing>=2.2.1 in c:\\users\\mira\\anaconda3\\envs\\amira\\lib\\site-packages (from matplotlib!=3.6.1,>=3.1->seaborn) (3.0.9)\n",
      "Requirement already satisfied: python-dateutil>=2.7 in c:\\users\\mira\\anaconda3\\envs\\amira\\lib\\site-packages (from matplotlib!=3.6.1,>=3.1->seaborn) (2.8.2)\n",
      "Requirement already satisfied: packaging>=20.0 in c:\\users\\mira\\anaconda3\\envs\\amira\\lib\\site-packages (from matplotlib!=3.6.1,>=3.1->seaborn) (21.3)\n",
      "Requirement already satisfied: pytz>=2020.1 in c:\\users\\mira\\anaconda3\\envs\\amira\\lib\\site-packages (from pandas>=0.25->seaborn) (2022.4)\n",
      "Requirement already satisfied: six>=1.5 in c:\\users\\mira\\anaconda3\\envs\\amira\\lib\\site-packages (from python-dateutil>=2.7->matplotlib!=3.6.1,>=3.1->seaborn) (1.16.0)\n"
     ]
    }
   ],
   "source": [
    "!pip install seaborn"
   ]
  },
  {
   "cell_type": "code",
   "execution_count": 8,
   "id": "8eeef509",
   "metadata": {
    "scrolled": true
   },
   "outputs": [],
   "source": [
    "import pandas as pd\n",
    "import matplotlib.pyplot as plt\n",
    "import numpy as np\n",
    "import seaborn as sns\n",
    "sns.set(style='darkgrid')\n",
    "\n",
    "US_category_id = pd.read_json('data/US_category_id.json')\n",
    "trending_youtube = pd.read_csv('data/US_youtube_trending_data.csv')\n",
    "\n",
    "\n"
   ]
  },
  {
   "cell_type": "markdown",
   "id": "d00748c3",
   "metadata": {},
   "source": [
    "Number of elements in the dataset"
   ]
  },
  {
   "cell_type": "code",
   "execution_count": 9,
   "id": "110955eb",
   "metadata": {},
   "outputs": [
    {
     "data": {
      "text/plain": [
       "((32, 3), (180390, 16))"
      ]
     },
     "execution_count": 9,
     "metadata": {},
     "output_type": "execute_result"
    }
   ],
   "source": [
    "US_category_id.shape , trending_youtube.shape"
   ]
  },
  {
   "cell_type": "markdown",
   "id": "306733de",
   "metadata": {},
   "source": [
    "Columns in the dataset"
   ]
  },
  {
   "cell_type": "code",
   "execution_count": 10,
   "id": "a081938c",
   "metadata": {},
   "outputs": [
    {
     "data": {
      "text/plain": [
       "Index(['video_id', 'title', 'publishedAt', 'channelId', 'channelTitle',\n",
       "       'categoryId', 'trending_date', 'tags', 'view_count', 'likes',\n",
       "       'dislikes', 'comment_count', 'thumbnail_link', 'comments_disabled',\n",
       "       'ratings_disabled', 'description'],\n",
       "      dtype='object')"
      ]
     },
     "execution_count": 10,
     "metadata": {},
     "output_type": "execute_result"
    }
   ],
   "source": [
    "trending_youtube.columns"
   ]
  },
  {
   "cell_type": "markdown",
   "id": "905e987a",
   "metadata": {},
   "source": [
    "Some of the columns are redundant for our analysis so we will drop them"
   ]
  },
  {
   "cell_type": "code",
   "execution_count": 11,
   "id": "990f5cbf",
   "metadata": {},
   "outputs": [],
   "source": [
    "trending_youtube.drop(['video_id','thumbnail_link', 'description'], axis=1, inplace=True)"
   ]
  },
  {
   "cell_type": "code",
   "execution_count": 12,
   "id": "66690e77",
   "metadata": {},
   "outputs": [
    {
     "data": {
      "text/plain": [
       "(180390, 13)"
      ]
     },
     "execution_count": 12,
     "metadata": {},
     "output_type": "execute_result"
    }
   ],
   "source": [
    "trending_youtube.shape"
   ]
  },
  {
   "cell_type": "code",
   "execution_count": 13,
   "id": "0ad3f781",
   "metadata": {},
   "outputs": [
    {
     "data": {
      "text/plain": [
       "title                object\n",
       "publishedAt          object\n",
       "channelId            object\n",
       "channelTitle         object\n",
       "categoryId            int64\n",
       "trending_date        object\n",
       "tags                 object\n",
       "view_count            int64\n",
       "likes                 int64\n",
       "dislikes              int64\n",
       "comment_count         int64\n",
       "comments_disabled      bool\n",
       "ratings_disabled       bool\n",
       "dtype: object"
      ]
     },
     "execution_count": 13,
     "metadata": {},
     "output_type": "execute_result"
    }
   ],
   "source": [
    "trending_youtube.dtypes"
   ]
  },
  {
   "cell_type": "markdown",
   "id": "5c9b7747",
   "metadata": {},
   "source": [
    "Trending date and publishedAt columns have object data type which needs to changed as datetime"
   ]
  },
  {
   "cell_type": "code",
   "execution_count": 14,
   "id": "58a9414b",
   "metadata": {},
   "outputs": [
    {
     "data": {
      "text/html": [
       "<div>\n",
       "<style scoped>\n",
       "    .dataframe tbody tr th:only-of-type {\n",
       "        vertical-align: middle;\n",
       "    }\n",
       "\n",
       "    .dataframe tbody tr th {\n",
       "        vertical-align: top;\n",
       "    }\n",
       "\n",
       "    .dataframe thead th {\n",
       "        text-align: right;\n",
       "    }\n",
       "</style>\n",
       "<table border=\"1\" class=\"dataframe\">\n",
       "  <thead>\n",
       "    <tr style=\"text-align: right;\">\n",
       "      <th></th>\n",
       "      <th>publishedAt</th>\n",
       "      <th>trending_date</th>\n",
       "    </tr>\n",
       "  </thead>\n",
       "  <tbody>\n",
       "    <tr>\n",
       "      <th>0</th>\n",
       "      <td>2020-08-11T19:20:14Z</td>\n",
       "      <td>2020-08-12T00:00:00Z</td>\n",
       "    </tr>\n",
       "    <tr>\n",
       "      <th>1</th>\n",
       "      <td>2020-08-11T17:00:10Z</td>\n",
       "      <td>2020-08-12T00:00:00Z</td>\n",
       "    </tr>\n",
       "    <tr>\n",
       "      <th>2</th>\n",
       "      <td>2020-08-11T16:34:06Z</td>\n",
       "      <td>2020-08-12T00:00:00Z</td>\n",
       "    </tr>\n",
       "    <tr>\n",
       "      <th>3</th>\n",
       "      <td>2020-08-11T16:38:55Z</td>\n",
       "      <td>2020-08-12T00:00:00Z</td>\n",
       "    </tr>\n",
       "    <tr>\n",
       "      <th>4</th>\n",
       "      <td>2020-08-11T15:10:05Z</td>\n",
       "      <td>2020-08-12T00:00:00Z</td>\n",
       "    </tr>\n",
       "  </tbody>\n",
       "</table>\n",
       "</div>"
      ],
      "text/plain": [
       "            publishedAt         trending_date\n",
       "0  2020-08-11T19:20:14Z  2020-08-12T00:00:00Z\n",
       "1  2020-08-11T17:00:10Z  2020-08-12T00:00:00Z\n",
       "2  2020-08-11T16:34:06Z  2020-08-12T00:00:00Z\n",
       "3  2020-08-11T16:38:55Z  2020-08-12T00:00:00Z\n",
       "4  2020-08-11T15:10:05Z  2020-08-12T00:00:00Z"
      ]
     },
     "execution_count": 14,
     "metadata": {},
     "output_type": "execute_result"
    }
   ],
   "source": [
    "trending_youtube[['publishedAt', 'trending_date']].head()"
   ]
  },
  {
   "cell_type": "markdown",
   "id": "75592a5e",
   "metadata": {},
   "source": [
    "For the trending date column, we need some reformatting. "
   ]
  },
  {
   "cell_type": "code",
   "execution_count": 15,
   "id": "27c1e69c",
   "metadata": {},
   "outputs": [],
   "source": [
    "trending_youtube['trending_date'] = pd.to_datetime(trending_youtube['trending_date'], format = \"%Y-%m-%dT%H:%M:%SZ\")"
   ]
  },
  {
   "cell_type": "markdown",
   "id": "c47a6878",
   "metadata": {},
   "source": [
    "The publishedAt column converted with the astype function"
   ]
  },
  {
   "cell_type": "code",
   "execution_count": 16,
   "id": "1e946f01",
   "metadata": {},
   "outputs": [],
   "source": [
    "trending_youtube['publishedAt'] = trending_youtube['publishedAt'].astype('datetime64[ns]')"
   ]
  },
  {
   "cell_type": "code",
   "execution_count": 17,
   "id": "6311dd75",
   "metadata": {},
   "outputs": [
    {
     "data": {
      "text/html": [
       "<div>\n",
       "<style scoped>\n",
       "    .dataframe tbody tr th:only-of-type {\n",
       "        vertical-align: middle;\n",
       "    }\n",
       "\n",
       "    .dataframe tbody tr th {\n",
       "        vertical-align: top;\n",
       "    }\n",
       "\n",
       "    .dataframe thead th {\n",
       "        text-align: right;\n",
       "    }\n",
       "</style>\n",
       "<table border=\"1\" class=\"dataframe\">\n",
       "  <thead>\n",
       "    <tr style=\"text-align: right;\">\n",
       "      <th></th>\n",
       "      <th>publishedAt</th>\n",
       "      <th>trending_date</th>\n",
       "    </tr>\n",
       "  </thead>\n",
       "  <tbody>\n",
       "    <tr>\n",
       "      <th>0</th>\n",
       "      <td>2020-08-11 19:20:14</td>\n",
       "      <td>2020-08-12</td>\n",
       "    </tr>\n",
       "    <tr>\n",
       "      <th>1</th>\n",
       "      <td>2020-08-11 17:00:10</td>\n",
       "      <td>2020-08-12</td>\n",
       "    </tr>\n",
       "    <tr>\n",
       "      <th>2</th>\n",
       "      <td>2020-08-11 16:34:06</td>\n",
       "      <td>2020-08-12</td>\n",
       "    </tr>\n",
       "    <tr>\n",
       "      <th>3</th>\n",
       "      <td>2020-08-11 16:38:55</td>\n",
       "      <td>2020-08-12</td>\n",
       "    </tr>\n",
       "    <tr>\n",
       "      <th>4</th>\n",
       "      <td>2020-08-11 15:10:05</td>\n",
       "      <td>2020-08-12</td>\n",
       "    </tr>\n",
       "  </tbody>\n",
       "</table>\n",
       "</div>"
      ],
      "text/plain": [
       "          publishedAt trending_date\n",
       "0 2020-08-11 19:20:14    2020-08-12\n",
       "1 2020-08-11 17:00:10    2020-08-12\n",
       "2 2020-08-11 16:34:06    2020-08-12\n",
       "3 2020-08-11 16:38:55    2020-08-12\n",
       "4 2020-08-11 15:10:05    2020-08-12"
      ]
     },
     "execution_count": 17,
     "metadata": {},
     "output_type": "execute_result"
    }
   ],
   "source": [
    "trending_youtube[['publishedAt', 'trending_date']].head()"
   ]
  },
  {
   "cell_type": "code",
   "execution_count": 18,
   "id": "3c2a495c",
   "metadata": {},
   "outputs": [
    {
     "data": {
      "text/plain": [
       "trending_date    datetime64[ns]\n",
       "publishedAt      datetime64[ns]\n",
       "dtype: object"
      ]
     },
     "execution_count": 18,
     "metadata": {},
     "output_type": "execute_result"
    }
   ],
   "source": [
    "trending_youtube[['trending_date','publishedAt']].dtypes\n"
   ]
  },
  {
   "cell_type": "markdown",
   "id": "4b05a7ac",
   "metadata": {},
   "source": [
    "The difference between the time a video is published and its trending time might be a useful piece of information for the analysis. Since both columns have datetime data type, we can easily calculate the time difference."
   ]
  },
  {
   "cell_type": "code",
   "execution_count": 19,
   "id": "97a6a335",
   "metadata": {},
   "outputs": [
    {
     "data": {
      "text/plain": [
       "0   0 days 04:39:46\n",
       "1   0 days 06:59:50\n",
       "2   0 days 07:25:54\n",
       "3   0 days 07:21:05\n",
       "4   0 days 08:49:55\n",
       "Name: time_diff, dtype: timedelta64[ns]"
      ]
     },
     "execution_count": 19,
     "metadata": {},
     "output_type": "execute_result"
    }
   ],
   "source": [
    "trending_youtube['time_diff'] = trending_youtube['trending_date'] - trending_youtube['publishedAt']\n",
    "trending_youtube['time_diff'].head()"
   ]
  },
  {
   "cell_type": "markdown",
   "id": "3491a25f",
   "metadata": {},
   "source": [
    "Most of the videos uploaded by different channels"
   ]
  },
  {
   "cell_type": "code",
   "execution_count": 20,
   "id": "065003dc",
   "metadata": {},
   "outputs": [
    {
     "data": {
      "text/plain": [
       "7057"
      ]
     },
     "execution_count": 20,
     "metadata": {},
     "output_type": "execute_result"
    }
   ],
   "source": [
    "trending_youtube.channelTitle.nunique()"
   ]
  },
  {
   "cell_type": "markdown",
   "id": "1a721f84",
   "metadata": {},
   "source": [
    "The data type of the time_diff column is timedelta. We need to convert it to a numerical variable to plot its distribution"
   ]
  },
  {
   "cell_type": "code",
   "execution_count": 21,
   "id": "0d60d232",
   "metadata": {},
   "outputs": [
    {
     "data": {
      "text/plain": [
       "81.59874107643314"
      ]
     },
     "execution_count": 21,
     "metadata": {},
     "output_type": "execute_result"
    }
   ],
   "source": [
    "trending_youtube['time_diff_hour'] = trending_youtube['time_diff'] / pd.Timedelta('1 hour')\n",
    "trending_youtube['time_diff_hour'].mean()"
   ]
  },
  {
   "cell_type": "code",
   "execution_count": 22,
   "id": "e6b7f1d5",
   "metadata": {},
   "outputs": [
    {
     "data": {
      "text/plain": [
       "3.399947544851381"
      ]
     },
     "execution_count": 22,
     "metadata": {},
     "output_type": "execute_result"
    }
   ],
   "source": [
    "trending_youtube['time_diff_hour'].mean() / 24"
   ]
  },
  {
   "cell_type": "markdown",
   "id": "8fd8f3c6",
   "metadata": {},
   "source": [
    "When we take the mean and divide by 24, we get the same value as the mean of the time_diff column.\n",
    "One type of visualization that gives us an overview of the distribution is the box plot."
   ]
  },
  {
   "cell_type": "code",
   "execution_count": 23,
   "id": "e01ca69c",
   "metadata": {},
   "outputs": [
    {
     "data": {
      "text/plain": [
       "<AxesSubplot: ylabel='time_diff_hour'>"
      ]
     },
     "execution_count": 23,
     "metadata": {},
     "output_type": "execute_result"
    },
    {
     "data": {
      "image/png": "[encoded data removed]",
      "text/plain": [
       "<Figure size 640x480 with 1 Axes>"
      ]
     },
     "metadata": {},
     "output_type": "display_data"
    }
   ],
   "source": [
    "sns.boxplot(data=trending_youtube, y='time_diff_hour')\n"
   ]
  },
  {
   "cell_type": "markdown",
   "id": "15b96fca",
   "metadata": {},
   "source": [
    "Eliminate the outliers"
   ]
  },
  {
   "cell_type": "code",
   "execution_count": 24,
   "id": "f7c1a929",
   "metadata": {},
   "outputs": [
    {
     "data": {
      "text/plain": [
       "180390"
      ]
     },
     "execution_count": 24,
     "metadata": {},
     "output_type": "execute_result"
    }
   ],
   "source": [
    "len(trending_youtube)"
   ]
  },
  {
   "cell_type": "code",
   "execution_count": 25,
   "id": "396aa58c",
   "metadata": {},
   "outputs": [
    {
     "data": {
      "text/plain": [
       "193"
      ]
     },
     "execution_count": 25,
     "metadata": {},
     "output_type": "execute_result"
    }
   ],
   "source": [
    "len(trending_youtube[trending_youtube.time_diff_hour > 600])\n"
   ]
  },
  {
   "cell_type": "code",
   "execution_count": 26,
   "id": "a72cbe90",
   "metadata": {},
   "outputs": [
    {
     "data": {
      "text/plain": [
       "180197"
      ]
     },
     "execution_count": 26,
     "metadata": {},
     "output_type": "execute_result"
    }
   ],
   "source": [
    "len(trending_youtube[trending_youtube.time_diff_hour <= 600])\n"
   ]
  },
  {
   "cell_type": "markdown",
   "id": "2112f93e",
   "metadata": {},
   "source": [
    "The displot function of Seaborn to create a histogram as below."
   ]
  },
  {
   "cell_type": "code",
   "execution_count": 27,
   "id": "de11870d",
   "metadata": {},
   "outputs": [
    {
     "data": {
      "text/plain": [
       "<seaborn.axisgrid.FacetGrid at 0x268bb95d790>"
      ]
     },
     "execution_count": 27,
     "metadata": {},
     "output_type": "execute_result"
    },
    {
     "data": {
      "image/png": "[encoded data removed]",
      "text/plain": [
       "<Figure size 750x500 with 1 Axes>"
      ]
     },
     "metadata": {},
     "output_type": "display_data"
    }
   ],
   "source": [
    "sns.displot(data=trending_youtube, x='time_diff_hour', kind='hist',aspect=1.5, bins=20)"
   ]
  },
  {
   "cell_type": "markdown",
   "id": "437c531a",
   "metadata": {},
   "source": [
    "compare the average views of trending videos published by these channels"
   ]
  },
  {
   "cell_type": "code",
   "execution_count": 28,
   "id": "14f5e5b3",
   "metadata": {},
   "outputs": [
    {
     "data": {
      "text/html": [
       "<div>\n",
       "<style scoped>\n",
       "    .dataframe tbody tr th:only-of-type {\n",
       "        vertical-align: middle;\n",
       "    }\n",
       "\n",
       "    .dataframe tbody tr th {\n",
       "        vertical-align: top;\n",
       "    }\n",
       "\n",
       "    .dataframe thead tr th {\n",
       "        text-align: left;\n",
       "    }\n",
       "\n",
       "    .dataframe thead tr:last-of-type th {\n",
       "        text-align: right;\n",
       "    }\n",
       "</style>\n",
       "<table border=\"1\" class=\"dataframe\">\n",
       "  <thead>\n",
       "    <tr>\n",
       "      <th></th>\n",
       "      <th colspan=\"2\" halign=\"left\">views_mil</th>\n",
       "    </tr>\n",
       "    <tr>\n",
       "      <th></th>\n",
       "      <th>mean</th>\n",
       "      <th>count</th>\n",
       "    </tr>\n",
       "    <tr>\n",
       "      <th>channelId</th>\n",
       "      <th></th>\n",
       "      <th></th>\n",
       "    </tr>\n",
       "  </thead>\n",
       "  <tbody>\n",
       "    <tr>\n",
       "      <th>UCDVYQ4Zhbm3S2dlz7P1GBDg</th>\n",
       "      <td>3.821924</td>\n",
       "      <td>1222</td>\n",
       "    </tr>\n",
       "    <tr>\n",
       "      <th>UCWJ2lWNubArHWmf3FIHbfcQ</th>\n",
       "      <td>2.191121</td>\n",
       "      <td>1067</td>\n",
       "    </tr>\n",
       "    <tr>\n",
       "      <th>UCpB959t8iPrxQWj7G6n0ctQ</th>\n",
       "      <td>4.805159</td>\n",
       "      <td>595</td>\n",
       "    </tr>\n",
       "    <tr>\n",
       "      <th>UCqZQlzSHbVJrwrn5XvzrzcA</th>\n",
       "      <td>1.232200</td>\n",
       "      <td>541</td>\n",
       "    </tr>\n",
       "    <tr>\n",
       "      <th>UCIPPMRA040LQr5QPyJEbmXA</th>\n",
       "      <td>10.070149</td>\n",
       "      <td>512</td>\n",
       "    </tr>\n",
       "    <tr>\n",
       "      <th>UCke6I9N4KfC968-yRcd5YRg</th>\n",
       "      <td>3.817033</td>\n",
       "      <td>491</td>\n",
       "    </tr>\n",
       "    <tr>\n",
       "      <th>UCRijo3ddMTht_IHyNSNXpNQ</th>\n",
       "      <td>7.365383</td>\n",
       "      <td>488</td>\n",
       "    </tr>\n",
       "    <tr>\n",
       "      <th>UCET00YnetHT7tOpu12v8jxg</th>\n",
       "      <td>1.122511</td>\n",
       "      <td>488</td>\n",
       "    </tr>\n",
       "    <tr>\n",
       "      <th>UCqFzWxSCi39LnW1JKFR3efg</th>\n",
       "      <td>3.252661</td>\n",
       "      <td>483</td>\n",
       "    </tr>\n",
       "    <tr>\n",
       "      <th>UCX6OQ3DkcsbYNE6H8uQQuVA</th>\n",
       "      <td>30.323988</td>\n",
       "      <td>474</td>\n",
       "    </tr>\n",
       "  </tbody>\n",
       "</table>\n",
       "</div>"
      ],
      "text/plain": [
       "                          views_mil      \n",
       "                               mean count\n",
       "channelId                                \n",
       "UCDVYQ4Zhbm3S2dlz7P1GBDg   3.821924  1222\n",
       "UCWJ2lWNubArHWmf3FIHbfcQ   2.191121  1067\n",
       "UCpB959t8iPrxQWj7G6n0ctQ   4.805159   595\n",
       "UCqZQlzSHbVJrwrn5XvzrzcA   1.232200   541\n",
       "UCIPPMRA040LQr5QPyJEbmXA  10.070149   512\n",
       "UCke6I9N4KfC968-yRcd5YRg   3.817033   491\n",
       "UCRijo3ddMTht_IHyNSNXpNQ   7.365383   488\n",
       "UCET00YnetHT7tOpu12v8jxg   1.122511   488\n",
       "UCqFzWxSCi39LnW1JKFR3efg   3.252661   483\n",
       "UCX6OQ3DkcsbYNE6H8uQQuVA  30.323988   474"
      ]
     },
     "execution_count": 28,
     "metadata": {},
     "output_type": "execute_result"
    }
   ],
   "source": [
    "trending_youtube['views_mil'] = trending_youtube['view_count'] / 1000000\n",
    "trending_youtube[['channelId','views_mil']].groupby('channelId')\\\n",
    ".agg(['mean','count'])\\\n",
    ".sort_values(by=('views_mil','count'), ascending=False)[:10]"
   ]
  },
  {
   "cell_type": "markdown",
   "id": "b5392fe6",
   "metadata": {},
   "source": [
    "The number of trending videos changes over time"
   ]
  },
  {
   "cell_type": "code",
   "execution_count": 29,
   "id": "eeaceafc",
   "metadata": {},
   "outputs": [],
   "source": [
    "daily = trending_youtube[['trending_date']].value_counts().reset_index()\\\n",
    ".sort_values(by='trending_date').reset_index(drop=True)"
   ]
  },
  {
   "cell_type": "code",
   "execution_count": 30,
   "id": "7e173686",
   "metadata": {},
   "outputs": [
    {
     "data": {
      "text/html": [
       "<div>\n",
       "<style scoped>\n",
       "    .dataframe tbody tr th:only-of-type {\n",
       "        vertical-align: middle;\n",
       "    }\n",
       "\n",
       "    .dataframe tbody tr th {\n",
       "        vertical-align: top;\n",
       "    }\n",
       "\n",
       "    .dataframe thead th {\n",
       "        text-align: right;\n",
       "    }\n",
       "</style>\n",
       "<table border=\"1\" class=\"dataframe\">\n",
       "  <thead>\n",
       "    <tr style=\"text-align: right;\">\n",
       "      <th></th>\n",
       "      <th>trending_date</th>\n",
       "      <th>0</th>\n",
       "    </tr>\n",
       "  </thead>\n",
       "  <tbody>\n",
       "    <tr>\n",
       "      <th>0</th>\n",
       "      <td>2020-08-12</td>\n",
       "      <td>200</td>\n",
       "    </tr>\n",
       "    <tr>\n",
       "      <th>1</th>\n",
       "      <td>2020-08-13</td>\n",
       "      <td>200</td>\n",
       "    </tr>\n",
       "    <tr>\n",
       "      <th>2</th>\n",
       "      <td>2020-08-14</td>\n",
       "      <td>200</td>\n",
       "    </tr>\n",
       "    <tr>\n",
       "      <th>3</th>\n",
       "      <td>2020-08-15</td>\n",
       "      <td>200</td>\n",
       "    </tr>\n",
       "    <tr>\n",
       "      <th>4</th>\n",
       "      <td>2020-08-16</td>\n",
       "      <td>200</td>\n",
       "    </tr>\n",
       "  </tbody>\n",
       "</table>\n",
       "</div>"
      ],
      "text/plain": [
       "  trending_date    0\n",
       "0    2020-08-12  200\n",
       "1    2020-08-13  200\n",
       "2    2020-08-14  200\n",
       "3    2020-08-15  200\n",
       "4    2020-08-16  200"
      ]
     },
     "execution_count": 30,
     "metadata": {},
     "output_type": "execute_result"
    }
   ],
   "source": [
    "daily.head()"
   ]
  },
  {
   "cell_type": "markdown",
   "id": "cedb5025",
   "metadata": {},
   "source": [
    "Generate a line plot based on the daily dataframe."
   ]
  },
  {
   "cell_type": "code",
   "execution_count": 31,
   "id": "5a9f6156",
   "metadata": {},
   "outputs": [
    {
     "data": {
      "text/plain": [
       "<seaborn.axisgrid.FacetGrid at 0x268b4f9fdc0>"
      ]
     },
     "execution_count": 31,
     "metadata": {},
     "output_type": "execute_result"
    },
    {
     "data": {
      "image/png": "[encoded data removed]",
      "text/plain": [
       "<Figure size 1250x500 with 1 Axes>"
      ]
     },
     "metadata": {},
     "output_type": "display_data"
    }
   ],
   "source": [
    "sns.relplot(data=daily, x='trending_date', y=0,\n",
    "kind='line', aspect=2.5)"
   ]
  },
  {
   "cell_type": "code",
   "execution_count": 32,
   "id": "2e047381-842b-47ac-977b-05f200d6f226",
   "metadata": {},
   "outputs": [],
   "source": [
    "#Hong"
   ]
  },
  {
   "cell_type": "code",
   "execution_count": 33,
   "id": "c3284642-5cbb-465b-a38c-90b549a5a5a6",
   "metadata": {},
   "outputs": [],
   "source": [
    "#creating dictionary for json file provided for category and category id\n",
    "category_dict = {}\n",
    "for i in US_category_id['items']:\n",
    "    category_dict[i['id']] = i['snippet']['title']"
   ]
  },
  {
   "cell_type": "code",
   "execution_count": 34,
   "id": "3c750259-e61f-4093-87f3-0ec6b8bd835d",
   "metadata": {},
   "outputs": [],
   "source": [
    "#replacing the category id with category actual name \n",
    "def replace_categoryid(df):\n",
    "    if str(df) in category_dict:\n",
    "        return category_dict[str(df)]\n",
    "    \n",
    "trending_youtube['category'] = trending_youtube['categoryId'].apply(replace_categoryid)\n"
   ]
  },
  {
   "cell_type": "code",
   "execution_count": 35,
   "id": "c7a38d78-422a-4f26-a694-6fd0dce1a188",
   "metadata": {},
   "outputs": [
    {
     "name": "stdout",
     "output_type": "stream",
     "text": [
      "<class 'pandas.core.frame.DataFrame'>\n",
      "RangeIndex: 180390 entries, 0 to 180389\n",
      "Data columns (total 17 columns):\n",
      " #   Column             Non-Null Count   Dtype          \n",
      "---  ------             --------------   -----          \n",
      " 0   title              180390 non-null  object         \n",
      " 1   publishedAt        180390 non-null  datetime64[ns] \n",
      " 2   channelId          180390 non-null  object         \n",
      " 3   channelTitle       180390 non-null  object         \n",
      " 4   categoryId         180390 non-null  int64          \n",
      " 5   trending_date      180390 non-null  datetime64[ns] \n",
      " 6   tags               180390 non-null  object         \n",
      " 7   view_count         180390 non-null  int64          \n",
      " 8   likes              180390 non-null  int64          \n",
      " 9   dislikes           180390 non-null  int64          \n",
      " 10  comment_count      180390 non-null  int64          \n",
      " 11  comments_disabled  180390 non-null  bool           \n",
      " 12  ratings_disabled   180390 non-null  bool           \n",
      " 13  time_diff          180390 non-null  timedelta64[ns]\n",
      " 14  time_diff_hour     180390 non-null  float64        \n",
      " 15  views_mil          180390 non-null  float64        \n",
      " 16  category           180390 non-null  object         \n",
      "dtypes: bool(2), datetime64[ns](2), float64(2), int64(5), object(5), timedelta64[ns](1)\n",
      "memory usage: 21.0+ MB\n"
     ]
    }
   ],
   "source": [
    "trending_youtube.info()"
   ]
  },
  {
   "cell_type": "code",
   "execution_count": 41,
   "id": "79b19909-6402-4d37-87ee-fc886ac93814",
   "metadata": {
    "scrolled": true
   },
   "outputs": [
    {
     "name": "stderr",
     "output_type": "stream",
     "text": [
      "C:\\Users\\mira\\AppData\\Local\\Temp\\ipykernel_5080\\4093669795.py:2: FutureWarning: The default value of numeric_only in DataFrameGroupBy.sum is deprecated. In a future version, numeric_only will default to False. Either specify numeric_only or select only columns which should be valid for the function.\n",
      "  category_group = trending_youtube.groupby(by = trending_youtube['category']).sum()\n"
     ]
    },
    {
     "data": {
      "text/html": [
       "<div>\n",
       "<style scoped>\n",
       "    .dataframe tbody tr th:only-of-type {\n",
       "        vertical-align: middle;\n",
       "    }\n",
       "\n",
       "    .dataframe tbody tr th {\n",
       "        vertical-align: top;\n",
       "    }\n",
       "\n",
       "    .dataframe thead th {\n",
       "        text-align: right;\n",
       "    }\n",
       "</style>\n",
       "<table border=\"1\" class=\"dataframe\">\n",
       "  <thead>\n",
       "    <tr style=\"text-align: right;\">\n",
       "      <th></th>\n",
       "      <th>categoryId</th>\n",
       "      <th>view_count</th>\n",
       "      <th>likes</th>\n",
       "      <th>dislikes</th>\n",
       "      <th>comment_count</th>\n",
       "      <th>comments_disabled</th>\n",
       "      <th>ratings_disabled</th>\n",
       "      <th>time_diff_hour</th>\n",
       "      <th>views_mil</th>\n",
       "    </tr>\n",
       "    <tr>\n",
       "      <th>category</th>\n",
       "      <th></th>\n",
       "      <th></th>\n",
       "      <th></th>\n",
       "      <th></th>\n",
       "      <th></th>\n",
       "      <th></th>\n",
       "      <th></th>\n",
       "      <th></th>\n",
       "      <th></th>\n",
       "    </tr>\n",
       "  </thead>\n",
       "  <tbody>\n",
       "    <tr>\n",
       "      <th>Autos &amp; Vehicles</th>\n",
       "      <td>6606</td>\n",
       "      <td>3203093015</td>\n",
       "      <td>146328549</td>\n",
       "      <td>1408858</td>\n",
       "      <td>12269306</td>\n",
       "      <td>6</td>\n",
       "      <td>11</td>\n",
       "      <td>2.469770e+05</td>\n",
       "      <td>3203.093015</td>\n",
       "    </tr>\n",
       "    <tr>\n",
       "      <th>Comedy</th>\n",
       "      <td>221099</td>\n",
       "      <td>16846787128</td>\n",
       "      <td>1160920755</td>\n",
       "      <td>11174623</td>\n",
       "      <td>57672635</td>\n",
       "      <td>9</td>\n",
       "      <td>15</td>\n",
       "      <td>7.868969e+05</td>\n",
       "      <td>16846.787128</td>\n",
       "    </tr>\n",
       "    <tr>\n",
       "      <th>Education</th>\n",
       "      <td>117909</td>\n",
       "      <td>7860308353</td>\n",
       "      <td>437383254</td>\n",
       "      <td>4040488</td>\n",
       "      <td>25287441</td>\n",
       "      <td>40</td>\n",
       "      <td>30</td>\n",
       "      <td>3.439149e+05</td>\n",
       "      <td>7860.308353</td>\n",
       "    </tr>\n",
       "    <tr>\n",
       "      <th>Entertainment</th>\n",
       "      <td>868512</td>\n",
       "      <td>111485797504</td>\n",
       "      <td>5473099612</td>\n",
       "      <td>62549431</td>\n",
       "      <td>333751870</td>\n",
       "      <td>500</td>\n",
       "      <td>132</td>\n",
       "      <td>3.047833e+06</td>\n",
       "      <td>111485.797504</td>\n",
       "    </tr>\n",
       "    <tr>\n",
       "      <th>Film &amp; Animation</th>\n",
       "      <td>7165</td>\n",
       "      <td>16648573530</td>\n",
       "      <td>726106705</td>\n",
       "      <td>6686643</td>\n",
       "      <td>51362729</td>\n",
       "      <td>91</td>\n",
       "      <td>83</td>\n",
       "      <td>5.764911e+05</td>\n",
       "      <td>16648.573530</td>\n",
       "    </tr>\n",
       "    <tr>\n",
       "      <th>Gaming</th>\n",
       "      <td>702540</td>\n",
       "      <td>62850477795</td>\n",
       "      <td>3422629644</td>\n",
       "      <td>38395646</td>\n",
       "      <td>260768558</td>\n",
       "      <td>323</td>\n",
       "      <td>220</td>\n",
       "      <td>2.686034e+06</td>\n",
       "      <td>62850.477795</td>\n",
       "    </tr>\n",
       "    <tr>\n",
       "      <th>Howto &amp; Style</th>\n",
       "      <td>131352</td>\n",
       "      <td>6443826304</td>\n",
       "      <td>332200139</td>\n",
       "      <td>7266989</td>\n",
       "      <td>24954470</td>\n",
       "      <td>47</td>\n",
       "      <td>25</td>\n",
       "      <td>3.981859e+05</td>\n",
       "      <td>6443.826304</td>\n",
       "    </tr>\n",
       "    <tr>\n",
       "      <th>Music</th>\n",
       "      <td>295210</td>\n",
       "      <td>130640325016</td>\n",
       "      <td>8609591063</td>\n",
       "      <td>106002834</td>\n",
       "      <td>961391431</td>\n",
       "      <td>73</td>\n",
       "      <td>107</td>\n",
       "      <td>2.506194e+06</td>\n",
       "      <td>130640.325016</td>\n",
       "    </tr>\n",
       "    <tr>\n",
       "      <th>News &amp; Politics</th>\n",
       "      <td>174750</td>\n",
       "      <td>15670539220</td>\n",
       "      <td>202028974</td>\n",
       "      <td>9979392</td>\n",
       "      <td>44950529</td>\n",
       "      <td>746</td>\n",
       "      <td>79</td>\n",
       "      <td>6.869117e+05</td>\n",
       "      <td>15670.539220</td>\n",
       "    </tr>\n",
       "    <tr>\n",
       "      <th>Nonprofits &amp; Activism</th>\n",
       "      <td>3306</td>\n",
       "      <td>279268359</td>\n",
       "      <td>12837346</td>\n",
       "      <td>112968</td>\n",
       "      <td>887347</td>\n",
       "      <td>0</td>\n",
       "      <td>0</td>\n",
       "      <td>1.527509e+04</td>\n",
       "      <td>279.268359</td>\n",
       "    </tr>\n",
       "    <tr>\n",
       "      <th>People &amp; Blogs</th>\n",
       "      <td>348656</td>\n",
       "      <td>28448015654</td>\n",
       "      <td>1638252882</td>\n",
       "      <td>31225806</td>\n",
       "      <td>105814736</td>\n",
       "      <td>325</td>\n",
       "      <td>187</td>\n",
       "      <td>1.290908e+06</td>\n",
       "      <td>28448.015654</td>\n",
       "    </tr>\n",
       "    <tr>\n",
       "      <th>Pets &amp; Animals</th>\n",
       "      <td>12060</td>\n",
       "      <td>954098284</td>\n",
       "      <td>43386151</td>\n",
       "      <td>395656</td>\n",
       "      <td>2886247</td>\n",
       "      <td>0</td>\n",
       "      <td>8</td>\n",
       "      <td>6.557284e+04</td>\n",
       "      <td>954.098284</td>\n",
       "    </tr>\n",
       "    <tr>\n",
       "      <th>Science &amp; Technology</th>\n",
       "      <td>154000</td>\n",
       "      <td>14437108020</td>\n",
       "      <td>597505800</td>\n",
       "      <td>9343119</td>\n",
       "      <td>33959437</td>\n",
       "      <td>434</td>\n",
       "      <td>40</td>\n",
       "      <td>4.276619e+05</td>\n",
       "      <td>14437.108020</td>\n",
       "    </tr>\n",
       "    <tr>\n",
       "      <th>Sports</th>\n",
       "      <td>336974</td>\n",
       "      <td>38211101163</td>\n",
       "      <td>951157614</td>\n",
       "      <td>15843036</td>\n",
       "      <td>78183729</td>\n",
       "      <td>54</td>\n",
       "      <td>127</td>\n",
       "      <td>1.566855e+06</td>\n",
       "      <td>38211.101163</td>\n",
       "    </tr>\n",
       "    <tr>\n",
       "      <th>Travel &amp; Events</th>\n",
       "      <td>18544</td>\n",
       "      <td>1017776751</td>\n",
       "      <td>54281888</td>\n",
       "      <td>453556</td>\n",
       "      <td>3045954</td>\n",
       "      <td>3</td>\n",
       "      <td>4</td>\n",
       "      <td>7.388540e+04</td>\n",
       "      <td>1017.776751</td>\n",
       "    </tr>\n",
       "  </tbody>\n",
       "</table>\n",
       "</div>"
      ],
      "text/plain": [
       "                       categoryId    view_count       likes   dislikes  \\\n",
       "category                                                                 \n",
       "Autos & Vehicles             6606    3203093015   146328549    1408858   \n",
       "Comedy                     221099   16846787128  1160920755   11174623   \n",
       "Education                  117909    7860308353   437383254    4040488   \n",
       "Entertainment              868512  111485797504  5473099612   62549431   \n",
       "Film & Animation             7165   16648573530   726106705    6686643   \n",
       "Gaming                     702540   62850477795  3422629644   38395646   \n",
       "Howto & Style              131352    6443826304   332200139    7266989   \n",
       "Music                      295210  130640325016  8609591063  106002834   \n",
       "News & Politics            174750   15670539220   202028974    9979392   \n",
       "Nonprofits & Activism        3306     279268359    12837346     112968   \n",
       "People & Blogs             348656   28448015654  1638252882   31225806   \n",
       "Pets & Animals              12060     954098284    43386151     395656   \n",
       "Science & Technology       154000   14437108020   597505800    9343119   \n",
       "Sports                     336974   38211101163   951157614   15843036   \n",
       "Travel & Events             18544    1017776751    54281888     453556   \n",
       "\n",
       "                       comment_count  comments_disabled  ratings_disabled  \\\n",
       "category                                                                    \n",
       "Autos & Vehicles            12269306                  6                11   \n",
       "Comedy                      57672635                  9                15   \n",
       "Education                   25287441                 40                30   \n",
       "Entertainment              333751870                500               132   \n",
       "Film & Animation            51362729                 91                83   \n",
       "Gaming                     260768558                323               220   \n",
       "Howto & Style               24954470                 47                25   \n",
       "Music                      961391431                 73               107   \n",
       "News & Politics             44950529                746                79   \n",
       "Nonprofits & Activism         887347                  0                 0   \n",
       "People & Blogs             105814736                325               187   \n",
       "Pets & Animals               2886247                  0                 8   \n",
       "Science & Technology        33959437                434                40   \n",
       "Sports                      78183729                 54               127   \n",
       "Travel & Events              3045954                  3                 4   \n",
       "\n",
       "                       time_diff_hour      views_mil  \n",
       "category                                              \n",
       "Autos & Vehicles         2.469770e+05    3203.093015  \n",
       "Comedy                   7.868969e+05   16846.787128  \n",
       "Education                3.439149e+05    7860.308353  \n",
       "Entertainment            3.047833e+06  111485.797504  \n",
       "Film & Animation         5.764911e+05   16648.573530  \n",
       "Gaming                   2.686034e+06   62850.477795  \n",
       "Howto & Style            3.981859e+05    6443.826304  \n",
       "Music                    2.506194e+06  130640.325016  \n",
       "News & Politics          6.869117e+05   15670.539220  \n",
       "Nonprofits & Activism    1.527509e+04     279.268359  \n",
       "People & Blogs           1.290908e+06   28448.015654  \n",
       "Pets & Animals           6.557284e+04     954.098284  \n",
       "Science & Technology     4.276619e+05   14437.108020  \n",
       "Sports                   1.566855e+06   38211.101163  \n",
       "Travel & Events          7.388540e+04    1017.776751  "
      ]
     },
     "execution_count": 41,
     "metadata": {},
     "output_type": "execute_result"
    }
   ],
   "source": [
    "#Groupby category\n",
    "category_group = trending_youtube.groupby(by = trending_youtube['category']).sum()\n",
    "category_group\n"
   ]
  },
  {
   "cell_type": "code",
   "execution_count": 37,
   "id": "9d85431c-6ec1-423b-ba41-0551641b65b3",
   "metadata": {},
   "outputs": [
    {
     "data": {
      "image/png": "[encoded data removed]",
      "text/plain": [
       "<Figure size 2000x800 with 4 Axes>"
      ]
     },
     "metadata": {},
     "output_type": "display_data"
    }
   ],
   "source": [
    "#Plotting the 5 categories with largest view count, likes, dislikes, comment_count}\n",
    "plt.figure(figsize = (20,8))\n",
    "plt.subplot(2,2,1)\n",
    "\n",
    "list = ['view_count','likes','dislikes','comment_count']\n",
    "\n",
    "for i in range(0,4):\n",
    "    plt.subplot(2,2,i+1)\n",
    "    x = category_group[list[i]].nlargest(5).index\n",
    "    y = category_group[list[i]].nlargest(5)\n",
    "    sns.barplot(x = x,y = y)"
   ]
  },
  {
   "cell_type": "code",
   "execution_count": 38,
   "id": "1751f13e-0c18-4c11-93d0-881d98dd768e",
   "metadata": {},
   "outputs": [
    {
     "data": {
      "image/png": "[encoded data removed]",
      "text/plain": [
       "<Figure size 2000x800 with 4 Axes>"
      ]
     },
     "metadata": {},
     "output_type": "display_data"
    }
   ],
   "source": [
    "#Plotting the 5 Categories with smallest view count, likes, dislikes, comment_count \n",
    "plt.figure(figsize = (20,8))\n",
    "plt.subplot(2,2,1)\n",
    "\n",
    "list = ['view_count','likes','dislikes','comment_count']\n",
    "\n",
    "for i in range(0,4):\n",
    "    plt.subplot(2,2,i+1)\n",
    "    x = category_group[list[i]].nsmallest(5).index\n",
    "    y = category_group[list[i]].nsmallest(5)\n",
    "    sns.barplot(x = x,y = y)\n"
   ]
  }
 ],
 "metadata": {
  "colab": {
   "provenance": []
  },
  "kernelspec": {
   "display_name": "Python 3 (ipykernel)",
   "language": "python",
   "name": "python3"
  },
  "language_info": {
   "codemirror_mode": {
    "name": "ipython",
    "version": 3
   },
   "file_extension": ".py",
   "mimetype": "text/x-python",
   "name": "python",
   "nbconvert_exporter": "python",
   "pygments_lexer": "ipython3",
   "version": "3.9.13"
  }
 },
 "nbformat": 4,
 "nbformat_minor": 5
}

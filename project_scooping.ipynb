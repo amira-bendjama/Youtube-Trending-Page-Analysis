{
 "cells": [
  {
   "cell_type": "markdown",
   "id": "53c88197",
   "metadata": {
    "id": "53c88197"
   },
   "source": [
    "# DSCI 521: Data Analysis and Interpretation <br> Term Project Phase 1: Scoping an analytics project"
   ]
  },
  {
   "cell_type": "markdown",
   "id": "06276e19",
   "metadata": {
    "id": "06276e19"
   },
   "source": [
    "## Group members \n",
    "- Group member \n",
    "    - Name: Amira Bendjama\n",
    "    - Email: ab4745@drexel.edu\n",
    "- Group member \n",
    "    - Name: Thuy Hong Doan\n",
    "    - Email: td688@drexel.edu\n",
    "- Group member \n",
    "    - Name: Alsulami Meznah\n",
    "    - Email: mha54@drexel.edu"
   ]
  },
  {
   "cell_type": "markdown",
   "id": "9ef10126",
   "metadata": {
    "id": "9ef10126"
   },
   "source": [
    "## Team members background:\n",
    "\n",
    "What areas/skills/domains does the team member presently identify with?\n",
    "Into which areas/skills/domains would the team member like to grow?\n",
    "\n",
    "- __Amira Bendjama__: is an Algerian Fulbrighter with a bachelor’s in computer science, and a master’s in networks and distributed systems. Her skill set varies from different programming languages, to problem solving and critical thinking. She worked with Youtube API V3 to retrieve dataset for [Valorant comments on Youtube](https://github.com/amira-bendjama/VALORANT-COMMENTS). \n",
    "\n",
    "- __Alsulami Meznah__: is a graduate student in Data Science. She majored in bachelor's degree was in Information Systems.  She has a good background on Java, Visual Basic, SQL. She looks forward to improving my skills and learning more about Python and R.\n",
    "\n",
    "- __Thuy Hong Doan__: graduated with a bachelor of business administration in Computer Information Systems. Her skill set varies from different programming languages, to analytical and problem solving skills. She worked with HTML, CSS, SQL, JavaScript, and Python. She plans to use her previous coding experience and understanding of data structure to help successfully complete this project.\n",
    "\n",
    "### Growth area \n",
    "\n",
    "We are looking to take on a project that presents real world data analysis challenges in order to align our skills with the type of work we would undertake in the professional world. Analyzing dataset is particularly challenging because of different steps we need to take before actualy analysis the dataset such cleaning the dataset, checking the correcteness, and thus is a good way to learn about data analysis."
   ]
  },
  {
   "cell_type": "markdown",
   "id": "151eb4bf",
   "metadata": {
    "id": "151eb4bf"
   },
   "source": [
    "## Topic summary \n",
    "\n",
    "YouTube is one of the leading video sharing and social media platform in the world. Thus, It had a huge impact on changing the marketing startegies by video promotion or sponsoring independent Youtubers, with its captivating features such as the recommendation page, and trending page. However, the later doesn’t have a clear indication of what makes a Youtube video trending. Hence, the speculation on what makes a video trending such as [Researching The Trending Tab (BTS)](https://www.youtube.com/watch?v=sEvtpj-uChA&ab_channel=Coffeezilla), [What Is YouTube Trending And How It Works](https://www.notion.so/project-scooping-427deb3f9cbc4c32949c17248bdc0a30#04a09cb6fee248398f38d2fa43a72052). The goal of the project is to perform EDA analysis on the dataset to find the patterns among trending videos and develop a classification model to attribute the factor that affects how popular a Youtube video will be. Those insights might be used by Youtube channels owned by tradational companies that seek to break into the new marketing field, or they can be used by individual Youtubers that seek to increase the popularity of their videos, without effecting their content creation. This project will relay on [dataset](https://www.kaggle.com/datasets/rsrishav/youtube-trending-video-dataset) from Kaggle which was collected using the Youtube API.\n",
    "\n"
   ]
  },
  {
   "cell_type": "markdown",
   "id": "a1b155c0",
   "metadata": {
    "id": "a1b155c0"
   },
   "source": [
    "## Term Project Phase 1: details \n",
    "\n",
    "__What is our selected dataset and why?__\n",
    "\n",
    "The selected dataset is collected using Youtube API. It includes several months of data on daily trending YouTube videos, with up to 200 listed trending videos per day, for different regions. However, the project will focus on the United states' dataset, because of two factors: First, it is a majority English-speaking country, where English content is the most viewed and shared, and Second the USA is leading the trends in the platform and around the world. The dataset includes the video title, channel title, publish time, tags, views, likes and dislikes, description, and comment count, category.\n",
    "\n",
    "__What is the availability of relevant pre-processed data?__\n",
    "\n",
    "The dataset is available for the public in [Kaggle](https://www.kaggle.com/datasets/rsrishav/youtube-trending-video-dataset). \n",
    "\n",
    "__What will the analysis to do, who/what it will support?__ \n",
    "\n",
    "The EDA analysis on the dataset to find the patterns among trending videos and develop a classification model to find the factors. The questions we are trying to solve are: \n",
    "1. what are top most trending Categories? \n",
    "2. what is the impact of Likes,Dislikes and Comments.\n",
    "3. what is the most used words for titles, video description, tags?\n",
    "\n",
    "__Who would be interested in the data analysis?__\n",
    "\n",
    "- Adverstiser to sponsor Youtube videos that have the potenial to be trending\n",
    "- Youtube channels owned by companies that want to keep up with the trends for better preforming product ads. \n",
    "- Independent Youtubers who wants to make trending videos\n",
    "- Researchers to derive insight about behavior from Youtube trends and marketing startegies\n",
    "\n",
    "__How your analysis might be completed and disseminated?__\n",
    "\n",
    "The analysis will be shared in kaggle and github for public use.\n",
    "\n",
    "__How your analysis might fit into an application or investigation?__ \n",
    "\n",
    "This analysis enables YouTube to predict the lifecycle of popular content so that it can adapt its economic strategy. YouTubers, or content creators, get money from their videos as well. For many YouTubers, YouTube is their sole source of income, and this will assist producers in analyzing their content life cycle and making necessary modifications. Feedback from viewers, for example, is a crucial part for YouTubers because it allows them to understand how their material is being received by people and shows YouTube and YouTubers how interactive features affect the performance of their videos on the social network. Also, The analysis can be helpful across other social media platforms, such as Twitch, and Facebook gaming, where the latter relay heavily on capturing the attention of live viewers, which will be suitable to implement the same factors and techniques used in most popular video streaming platform. \n",
    "\n",
    "\n",
    "__Limitations__\n",
    "\n",
    "- The dataset is limited to several months and only 200 videos per day, and hence it could add some bias on the predictions. \n",
    "- World events that are relevent to only several months can effect the prediction greatly in a small dataset.\n",
    "- Absence of duration column in dataset, which is considered one of the factors to impact the trending videos.\n",
    "\n",
    "__Potential solutions__ \n",
    "\n",
    "- The results can be improved by extending the data collection to few years back, \n",
    "- Improving  the predection to ignore the irrelevent events. \n",
    "- Adding the duration column to the dataset\n"
   ]
  },
  {
   "cell_type": "markdown",
   "id": "e1736d83",
   "metadata": {
    "id": "e1736d83"
   },
   "source": [
    "### Potential Software used \n",
    "- Juypter notebook \n",
    "\n",
    "### Hardware used \n",
    "- Acer processor i5 RAM 8GB\n",
    "- Hp processor i7 RAM 8GB\n",
    "- Macbook Pro processor i5 RAM 8GB\n",
    "\n"
   ]
  },
  {
   "cell_type": "markdown",
   "id": "df7f48f7",
   "metadata": {},
   "source": [
    "# Exploratory Data Analysis "
   ]
  },
  {
   "cell_type": "markdown",
   "id": "cd7f299e",
   "metadata": {},
   "source": [
    "Loading the data from the csv file and into dataframe and to retrieve the categories for a specific video, we must load a json file since this is how the dataset was structured."
   ]
  },
  {
   "cell_type": "code",
   "execution_count": 1,
   "id": "67d98371",
   "metadata": {
    "scrolled": true
   },
   "outputs": [
    {
     "name": "stdout",
     "output_type": "stream",
     "text": [
      "Requirement already satisfied: matplotlib in /Users/zoedoan/opt/anaconda3/lib/python3.9/site-packages (3.5.1)\n",
      "Requirement already satisfied: pyparsing>=2.2.1 in /Users/zoedoan/opt/anaconda3/lib/python3.9/site-packages (from matplotlib) (3.0.4)\n",
      "Requirement already satisfied: pillow>=6.2.0 in /Users/zoedoan/opt/anaconda3/lib/python3.9/site-packages (from matplotlib) (9.0.1)\n",
      "Requirement already satisfied: cycler>=0.10 in /Users/zoedoan/opt/anaconda3/lib/python3.9/site-packages (from matplotlib) (0.11.0)\n",
      "Requirement already satisfied: fonttools>=4.22.0 in /Users/zoedoan/opt/anaconda3/lib/python3.9/site-packages (from matplotlib) (4.25.0)\n",
      "Requirement already satisfied: numpy>=1.17 in /Users/zoedoan/opt/anaconda3/lib/python3.9/site-packages (from matplotlib) (1.21.5)\n",
      "Requirement already satisfied: packaging>=20.0 in /Users/zoedoan/opt/anaconda3/lib/python3.9/site-packages (from matplotlib) (21.3)\n",
      "Requirement already satisfied: python-dateutil>=2.7 in /Users/zoedoan/opt/anaconda3/lib/python3.9/site-packages (from matplotlib) (2.8.2)\n",
      "Requirement already satisfied: kiwisolver>=1.0.1 in /Users/zoedoan/opt/anaconda3/lib/python3.9/site-packages (from matplotlib) (1.3.2)\n",
      "Requirement already satisfied: six>=1.5 in /Users/zoedoan/opt/anaconda3/lib/python3.9/site-packages (from python-dateutil>=2.7->matplotlib) (1.16.0)\n"
     ]
    }
   ],
   "source": [
    "!pip install matplotlib"
   ]
  },
  {
   "cell_type": "code",
   "execution_count": 2,
   "id": "05e8d360",
   "metadata": {},
   "outputs": [
    {
     "name": "stdout",
     "output_type": "stream",
     "text": [
      "Requirement already satisfied: seaborn in /Users/zoedoan/opt/anaconda3/lib/python3.9/site-packages (0.11.2)\n",
      "Requirement already satisfied: pandas>=0.23 in /Users/zoedoan/opt/anaconda3/lib/python3.9/site-packages (from seaborn) (1.4.2)\n",
      "Requirement already satisfied: scipy>=1.0 in /Users/zoedoan/opt/anaconda3/lib/python3.9/site-packages (from seaborn) (1.7.3)\n",
      "Requirement already satisfied: numpy>=1.15 in /Users/zoedoan/opt/anaconda3/lib/python3.9/site-packages (from seaborn) (1.21.5)\n",
      "Requirement already satisfied: matplotlib>=2.2 in /Users/zoedoan/opt/anaconda3/lib/python3.9/site-packages (from seaborn) (3.5.1)\n",
      "Requirement already satisfied: python-dateutil>=2.7 in /Users/zoedoan/opt/anaconda3/lib/python3.9/site-packages (from matplotlib>=2.2->seaborn) (2.8.2)\n",
      "Requirement already satisfied: pyparsing>=2.2.1 in /Users/zoedoan/opt/anaconda3/lib/python3.9/site-packages (from matplotlib>=2.2->seaborn) (3.0.4)\n",
      "Requirement already satisfied: cycler>=0.10 in /Users/zoedoan/opt/anaconda3/lib/python3.9/site-packages (from matplotlib>=2.2->seaborn) (0.11.0)\n",
      "Requirement already satisfied: fonttools>=4.22.0 in /Users/zoedoan/opt/anaconda3/lib/python3.9/site-packages (from matplotlib>=2.2->seaborn) (4.25.0)\n",
      "Requirement already satisfied: kiwisolver>=1.0.1 in /Users/zoedoan/opt/anaconda3/lib/python3.9/site-packages (from matplotlib>=2.2->seaborn) (1.3.2)\n",
      "Requirement already satisfied: pillow>=6.2.0 in /Users/zoedoan/opt/anaconda3/lib/python3.9/site-packages (from matplotlib>=2.2->seaborn) (9.0.1)\n",
      "Requirement already satisfied: packaging>=20.0 in /Users/zoedoan/opt/anaconda3/lib/python3.9/site-packages (from matplotlib>=2.2->seaborn) (21.3)\n",
      "Requirement already satisfied: pytz>=2020.1 in /Users/zoedoan/opt/anaconda3/lib/python3.9/site-packages (from pandas>=0.23->seaborn) (2021.3)\n",
      "Requirement already satisfied: six>=1.5 in /Users/zoedoan/opt/anaconda3/lib/python3.9/site-packages (from python-dateutil>=2.7->matplotlib>=2.2->seaborn) (1.16.0)\n"
     ]
    }
   ],
   "source": [
    "!pip install seaborn"
   ]
  },
  {
   "cell_type": "code",
   "execution_count": 3,
   "id": "8eeef509",
   "metadata": {
    "scrolled": true
   },
   "outputs": [],
   "source": [
    "import pandas as pd\n",
    "import matplotlib.pyplot as plt\n",
    "import numpy as np\n",
    "import seaborn as sns\n",
    "sns.set(style='darkgrid')\n",
    "\n",
    "US_category_id = pd.read_json('data/US_category_id.json')\n",
    "trending_youtube = pd.read_csv('data/US_youtube_trending_data.csv')\n",
    "\n",
    "\n"
   ]
  },
  {
   "cell_type": "markdown",
   "id": "d00748c3",
   "metadata": {},
   "source": [
    "Number of elements in the dataset"
   ]
  },
  {
   "cell_type": "code",
   "execution_count": 4,
   "id": "110955eb",
   "metadata": {},
   "outputs": [
    {
     "data": {
      "text/plain": [
       "((32, 3), (180990, 16))"
      ]
     },
     "execution_count": 4,
     "metadata": {},
     "output_type": "execute_result"
    }
   ],
   "source": [
    "US_category_id.shape , trending_youtube.shape"
   ]
  },
  {
   "cell_type": "markdown",
   "id": "306733de",
   "metadata": {},
   "source": [
    "Columns in the dataset"
   ]
  },
  {
   "cell_type": "code",
   "execution_count": 5,
   "id": "a081938c",
   "metadata": {},
   "outputs": [
    {
     "data": {
      "text/plain": [
       "Index(['video_id', 'title', 'publishedAt', 'channelId', 'channelTitle',\n",
       "       'categoryId', 'trending_date', 'tags', 'view_count', 'likes',\n",
       "       'dislikes', 'comment_count', 'thumbnail_link', 'comments_disabled',\n",
       "       'ratings_disabled', 'description'],\n",
       "      dtype='object')"
      ]
     },
     "execution_count": 5,
     "metadata": {},
     "output_type": "execute_result"
    }
   ],
   "source": [
    "trending_youtube.columns"
   ]
  },
  {
   "cell_type": "markdown",
   "id": "905e987a",
   "metadata": {},
   "source": [
    "Some of the columns are redundant for our analysis so we will drop them"
   ]
  },
  {
   "cell_type": "code",
   "execution_count": 6,
   "id": "990f5cbf",
   "metadata": {},
   "outputs": [],
   "source": [
    "trending_youtube.drop(['video_id','thumbnail_link', 'description'], axis=1, inplace=True)"
   ]
  },
  {
   "cell_type": "code",
   "execution_count": 7,
   "id": "66690e77",
   "metadata": {},
   "outputs": [
    {
     "data": {
      "text/plain": [
       "(180990, 13)"
      ]
     },
     "execution_count": 7,
     "metadata": {},
     "output_type": "execute_result"
    }
   ],
   "source": [
    "trending_youtube.shape"
   ]
  },
  {
   "cell_type": "code",
   "execution_count": 8,
   "id": "0ad3f781",
   "metadata": {},
   "outputs": [
    {
     "data": {
      "text/plain": [
       "title                object\n",
       "publishedAt          object\n",
       "channelId            object\n",
       "channelTitle         object\n",
       "categoryId            int64\n",
       "trending_date        object\n",
       "tags                 object\n",
       "view_count            int64\n",
       "likes                 int64\n",
       "dislikes              int64\n",
       "comment_count         int64\n",
       "comments_disabled      bool\n",
       "ratings_disabled       bool\n",
       "dtype: object"
      ]
     },
     "execution_count": 8,
     "metadata": {},
     "output_type": "execute_result"
    }
   ],
   "source": [
    "trending_youtube.dtypes"
   ]
  },
  {
   "cell_type": "markdown",
   "id": "5c9b7747",
   "metadata": {},
   "source": [
    "Trending date and publishedAt columns have object data type which needs to changed as datetime"
   ]
  },
  {
   "cell_type": "code",
   "execution_count": 9,
   "id": "58a9414b",
   "metadata": {},
   "outputs": [
    {
     "data": {
      "text/html": [
       "<div>\n",
       "<style scoped>\n",
       "    .dataframe tbody tr th:only-of-type {\n",
       "        vertical-align: middle;\n",
       "    }\n",
       "\n",
       "    .dataframe tbody tr th {\n",
       "        vertical-align: top;\n",
       "    }\n",
       "\n",
       "    .dataframe thead th {\n",
       "        text-align: right;\n",
       "    }\n",
       "</style>\n",
       "<table border=\"1\" class=\"dataframe\">\n",
       "  <thead>\n",
       "    <tr style=\"text-align: right;\">\n",
       "      <th></th>\n",
       "      <th>publishedAt</th>\n",
       "      <th>trending_date</th>\n",
       "    </tr>\n",
       "  </thead>\n",
       "  <tbody>\n",
       "    <tr>\n",
       "      <th>0</th>\n",
       "      <td>2020-08-11T19:20:14Z</td>\n",
       "      <td>2020-08-12T00:00:00Z</td>\n",
       "    </tr>\n",
       "    <tr>\n",
       "      <th>1</th>\n",
       "      <td>2020-08-11T17:00:10Z</td>\n",
       "      <td>2020-08-12T00:00:00Z</td>\n",
       "    </tr>\n",
       "    <tr>\n",
       "      <th>2</th>\n",
       "      <td>2020-08-11T16:34:06Z</td>\n",
       "      <td>2020-08-12T00:00:00Z</td>\n",
       "    </tr>\n",
       "    <tr>\n",
       "      <th>3</th>\n",
       "      <td>2020-08-11T16:38:55Z</td>\n",
       "      <td>2020-08-12T00:00:00Z</td>\n",
       "    </tr>\n",
       "    <tr>\n",
       "      <th>4</th>\n",
       "      <td>2020-08-11T15:10:05Z</td>\n",
       "      <td>2020-08-12T00:00:00Z</td>\n",
       "    </tr>\n",
       "  </tbody>\n",
       "</table>\n",
       "</div>"
      ],
      "text/plain": [
       "            publishedAt         trending_date\n",
       "0  2020-08-11T19:20:14Z  2020-08-12T00:00:00Z\n",
       "1  2020-08-11T17:00:10Z  2020-08-12T00:00:00Z\n",
       "2  2020-08-11T16:34:06Z  2020-08-12T00:00:00Z\n",
       "3  2020-08-11T16:38:55Z  2020-08-12T00:00:00Z\n",
       "4  2020-08-11T15:10:05Z  2020-08-12T00:00:00Z"
      ]
     },
     "execution_count": 9,
     "metadata": {},
     "output_type": "execute_result"
    }
   ],
   "source": [
    "trending_youtube[['publishedAt', 'trending_date']].head()"
   ]
  },
  {
   "cell_type": "markdown",
   "id": "75592a5e",
   "metadata": {},
   "source": [
    "For the trending date column, we need some reformatting. "
   ]
  },
  {
   "cell_type": "code",
   "execution_count": 10,
   "id": "27c1e69c",
   "metadata": {},
   "outputs": [],
   "source": [
    "trending_youtube['trending_date'] = pd.to_datetime(trending_youtube['trending_date'], format = \"%Y-%m-%dT%H:%M:%SZ\")"
   ]
  },
  {
   "cell_type": "markdown",
   "id": "c47a6878",
   "metadata": {},
   "source": [
    "The publishedAt column converted with the astype function"
   ]
  },
  {
   "cell_type": "code",
   "execution_count": 11,
   "id": "1e946f01",
   "metadata": {},
   "outputs": [],
   "source": [
    "trending_youtube['publishedAt'] = trending_youtube['publishedAt'].astype('datetime64[ns]')"
   ]
  },
  {
   "cell_type": "code",
   "execution_count": 12,
   "id": "6311dd75",
   "metadata": {},
   "outputs": [
    {
     "data": {
      "text/html": [
       "<div>\n",
       "<style scoped>\n",
       "    .dataframe tbody tr th:only-of-type {\n",
       "        vertical-align: middle;\n",
       "    }\n",
       "\n",
       "    .dataframe tbody tr th {\n",
       "        vertical-align: top;\n",
       "    }\n",
       "\n",
       "    .dataframe thead th {\n",
       "        text-align: right;\n",
       "    }\n",
       "</style>\n",
       "<table border=\"1\" class=\"dataframe\">\n",
       "  <thead>\n",
       "    <tr style=\"text-align: right;\">\n",
       "      <th></th>\n",
       "      <th>publishedAt</th>\n",
       "      <th>trending_date</th>\n",
       "    </tr>\n",
       "  </thead>\n",
       "  <tbody>\n",
       "    <tr>\n",
       "      <th>0</th>\n",
       "      <td>2020-08-11 19:20:14</td>\n",
       "      <td>2020-08-12</td>\n",
       "    </tr>\n",
       "    <tr>\n",
       "      <th>1</th>\n",
       "      <td>2020-08-11 17:00:10</td>\n",
       "      <td>2020-08-12</td>\n",
       "    </tr>\n",
       "    <tr>\n",
       "      <th>2</th>\n",
       "      <td>2020-08-11 16:34:06</td>\n",
       "      <td>2020-08-12</td>\n",
       "    </tr>\n",
       "    <tr>\n",
       "      <th>3</th>\n",
       "      <td>2020-08-11 16:38:55</td>\n",
       "      <td>2020-08-12</td>\n",
       "    </tr>\n",
       "    <tr>\n",
       "      <th>4</th>\n",
       "      <td>2020-08-11 15:10:05</td>\n",
       "      <td>2020-08-12</td>\n",
       "    </tr>\n",
       "  </tbody>\n",
       "</table>\n",
       "</div>"
      ],
      "text/plain": [
       "          publishedAt trending_date\n",
       "0 2020-08-11 19:20:14    2020-08-12\n",
       "1 2020-08-11 17:00:10    2020-08-12\n",
       "2 2020-08-11 16:34:06    2020-08-12\n",
       "3 2020-08-11 16:38:55    2020-08-12\n",
       "4 2020-08-11 15:10:05    2020-08-12"
      ]
     },
     "execution_count": 12,
     "metadata": {},
     "output_type": "execute_result"
    }
   ],
   "source": [
    "trending_youtube[['publishedAt', 'trending_date']].head()"
   ]
  },
  {
   "cell_type": "code",
   "execution_count": 13,
   "id": "3c2a495c",
   "metadata": {},
   "outputs": [
    {
     "data": {
      "text/plain": [
       "trending_date    datetime64[ns]\n",
       "publishedAt      datetime64[ns]\n",
       "dtype: object"
      ]
     },
     "execution_count": 13,
     "metadata": {},
     "output_type": "execute_result"
    }
   ],
   "source": [
    "trending_youtube[['trending_date','publishedAt']].dtypes\n"
   ]
  },
  {
   "cell_type": "markdown",
   "id": "4b05a7ac",
   "metadata": {},
   "source": [
    "The difference between the time a video is published and its trending time might be a useful piece of information for the analysis. Since both columns have datetime data type, we can easily calculate the time difference."
   ]
  },
  {
   "cell_type": "code",
   "execution_count": 14,
   "id": "97a6a335",
   "metadata": {},
   "outputs": [
    {
     "data": {
      "text/plain": [
       "0   0 days 04:39:46\n",
       "1   0 days 06:59:50\n",
       "2   0 days 07:25:54\n",
       "3   0 days 07:21:05\n",
       "4   0 days 08:49:55\n",
       "Name: time_diff, dtype: timedelta64[ns]"
      ]
     },
     "execution_count": 14,
     "metadata": {},
     "output_type": "execute_result"
    }
   ],
   "source": [
    "trending_youtube['time_diff'] = trending_youtube['trending_date'] - trending_youtube['publishedAt']\n",
    "trending_youtube['time_diff'].head()"
   ]
  },
  {
   "cell_type": "markdown",
   "id": "3491a25f",
   "metadata": {},
   "source": [
    "Most of the videos uploaded by different channels"
   ]
  },
  {
   "cell_type": "code",
   "execution_count": 15,
   "id": "065003dc",
   "metadata": {},
   "outputs": [
    {
     "data": {
      "text/plain": [
       "7072"
      ]
     },
     "execution_count": 15,
     "metadata": {},
     "output_type": "execute_result"
    }
   ],
   "source": [
    "trending_youtube.channelTitle.nunique()"
   ]
  },
  {
   "cell_type": "markdown",
   "id": "1a721f84",
   "metadata": {},
   "source": [
    "The data type of the time_diff column is timedelta. We need to convert it to a numerical variable to plot its distribution"
   ]
  },
  {
   "cell_type": "code",
   "execution_count": 16,
   "id": "0d60d232",
   "metadata": {},
   "outputs": [
    {
     "data": {
      "text/plain": [
       "81.57050923469019"
      ]
     },
     "execution_count": 16,
     "metadata": {},
     "output_type": "execute_result"
    }
   ],
   "source": [
    "trending_youtube['time_diff_hour'] = trending_youtube['time_diff'] / pd.Timedelta('1 hour')\n",
    "trending_youtube['time_diff_hour'].mean()"
   ]
  },
  {
   "cell_type": "code",
   "execution_count": 17,
   "id": "e6b7f1d5",
   "metadata": {},
   "outputs": [
    {
     "data": {
      "text/plain": [
       "3.3987712181120915"
      ]
     },
     "execution_count": 17,
     "metadata": {},
     "output_type": "execute_result"
    }
   ],
   "source": [
    "trending_youtube['time_diff_hour'].mean() / 24"
   ]
  },
  {
   "cell_type": "markdown",
   "id": "8fd8f3c6",
   "metadata": {},
   "source": [
    "When we take the mean and divide by 24, we get the same value as the mean of the time_diff column.\n",
    "One type of visualization that gives us an overview of the distribution is the box plot."
   ]
  },
  {
   "cell_type": "code",
   "execution_count": 18,
   "id": "e01ca69c",
   "metadata": {},
   "outputs": [
    {
     "data": {
      "text/plain": [
       "<AxesSubplot:ylabel='time_diff_hour'>"
      ]
     },
     "execution_count": 18,
     "metadata": {},
     "output_type": "execute_result"
    },
    {
     "data": {
      "image/png": "[encoded data removed]",
      "text/plain": [
       "<Figure size 432x288 with 1 Axes>"
      ]
     },
     "metadata": {},
     "output_type": "display_data"
    }
   ],
   "source": [
    "sns.boxplot(data=trending_youtube, y='time_diff_hour')\n"
   ]
  },
  {
   "cell_type": "markdown",
   "id": "15b96fca",
   "metadata": {},
   "source": [
    "Eliminate the outliers"
   ]
  },
  {
   "cell_type": "code",
   "execution_count": 19,
   "id": "f7c1a929",
   "metadata": {},
   "outputs": [
    {
     "data": {
      "text/plain": [
       "180990"
      ]
     },
     "execution_count": 19,
     "metadata": {},
     "output_type": "execute_result"
    }
   ],
   "source": [
    "len(trending_youtube)"
   ]
  },
  {
   "cell_type": "code",
   "execution_count": 20,
   "id": "396aa58c",
   "metadata": {},
   "outputs": [
    {
     "data": {
      "text/plain": [
       "193"
      ]
     },
     "execution_count": 20,
     "metadata": {},
     "output_type": "execute_result"
    }
   ],
   "source": [
    "len(trending_youtube[trending_youtube.time_diff_hour > 600])\n"
   ]
  },
  {
   "cell_type": "code",
   "execution_count": 21,
   "id": "a72cbe90",
   "metadata": {},
   "outputs": [
    {
     "data": {
      "text/plain": [
       "180797"
      ]
     },
     "execution_count": 21,
     "metadata": {},
     "output_type": "execute_result"
    }
   ],
   "source": [
    "len(trending_youtube[trending_youtube.time_diff_hour <= 600])\n"
   ]
  },
  {
   "cell_type": "markdown",
   "id": "2112f93e",
   "metadata": {},
   "source": [
    "The displot function of Seaborn to create a histogram as below."
   ]
  },
  {
   "cell_type": "code",
   "execution_count": 22,
   "id": "de11870d",
   "metadata": {},
   "outputs": [
    {
     "data": {
      "text/plain": [
       "<seaborn.axisgrid.FacetGrid at 0x7fde8052d190>"
      ]
     },
     "execution_count": 22,
     "metadata": {},
     "output_type": "execute_result"
    },
    {
     "data": {
      "image/png": "[encoded data removed]",
      "text/plain": [
       "<Figure size 540x360 with 1 Axes>"
      ]
     },
     "metadata": {},
     "output_type": "display_data"
    }
   ],
   "source": [
    "sns.displot(data=trending_youtube, x='time_diff_hour', kind='hist',aspect=1.5, bins=20)"
   ]
  },
  {
   "cell_type": "markdown",
   "id": "437c531a",
   "metadata": {},
   "source": [
    "compare the average views of trending videos published by these channels"
   ]
  },
  {
   "cell_type": "code",
   "execution_count": 23,
   "id": "14f5e5b3",
   "metadata": {},
   "outputs": [
    {
     "data": {
      "text/html": [
       "<div>\n",
       "<style scoped>\n",
       "    .dataframe tbody tr th:only-of-type {\n",
       "        vertical-align: middle;\n",
       "    }\n",
       "\n",
       "    .dataframe tbody tr th {\n",
       "        vertical-align: top;\n",
       "    }\n",
       "\n",
       "    .dataframe thead tr th {\n",
       "        text-align: left;\n",
       "    }\n",
       "\n",
       "    .dataframe thead tr:last-of-type th {\n",
       "        text-align: right;\n",
       "    }\n",
       "</style>\n",
       "<table border=\"1\" class=\"dataframe\">\n",
       "  <thead>\n",
       "    <tr>\n",
       "      <th></th>\n",
       "      <th colspan=\"2\" halign=\"left\">views_mil</th>\n",
       "    </tr>\n",
       "    <tr>\n",
       "      <th></th>\n",
       "      <th>mean</th>\n",
       "      <th>count</th>\n",
       "    </tr>\n",
       "    <tr>\n",
       "      <th>channelId</th>\n",
       "      <th></th>\n",
       "      <th></th>\n",
       "    </tr>\n",
       "  </thead>\n",
       "  <tbody>\n",
       "    <tr>\n",
       "      <th>UCDVYQ4Zhbm3S2dlz7P1GBDg</th>\n",
       "      <td>3.820689</td>\n",
       "      <td>1228</td>\n",
       "    </tr>\n",
       "    <tr>\n",
       "      <th>UCWJ2lWNubArHWmf3FIHbfcQ</th>\n",
       "      <td>2.189698</td>\n",
       "      <td>1074</td>\n",
       "    </tr>\n",
       "    <tr>\n",
       "      <th>UCpB959t8iPrxQWj7G6n0ctQ</th>\n",
       "      <td>4.799959</td>\n",
       "      <td>596</td>\n",
       "    </tr>\n",
       "    <tr>\n",
       "      <th>UCqZQlzSHbVJrwrn5XvzrzcA</th>\n",
       "      <td>1.231949</td>\n",
       "      <td>543</td>\n",
       "    </tr>\n",
       "    <tr>\n",
       "      <th>UCIPPMRA040LQr5QPyJEbmXA</th>\n",
       "      <td>10.070149</td>\n",
       "      <td>512</td>\n",
       "    </tr>\n",
       "    <tr>\n",
       "      <th>UCke6I9N4KfC968-yRcd5YRg</th>\n",
       "      <td>3.814751</td>\n",
       "      <td>492</td>\n",
       "    </tr>\n",
       "    <tr>\n",
       "      <th>UCRijo3ddMTht_IHyNSNXpNQ</th>\n",
       "      <td>7.361311</td>\n",
       "      <td>489</td>\n",
       "    </tr>\n",
       "    <tr>\n",
       "      <th>UCET00YnetHT7tOpu12v8jxg</th>\n",
       "      <td>1.122511</td>\n",
       "      <td>488</td>\n",
       "    </tr>\n",
       "    <tr>\n",
       "      <th>UCqFzWxSCi39LnW1JKFR3efg</th>\n",
       "      <td>3.248411</td>\n",
       "      <td>486</td>\n",
       "    </tr>\n",
       "    <tr>\n",
       "      <th>UCX6OQ3DkcsbYNE6H8uQQuVA</th>\n",
       "      <td>30.323988</td>\n",
       "      <td>474</td>\n",
       "    </tr>\n",
       "  </tbody>\n",
       "</table>\n",
       "</div>"
      ],
      "text/plain": [
       "                          views_mil      \n",
       "                               mean count\n",
       "channelId                                \n",
       "UCDVYQ4Zhbm3S2dlz7P1GBDg   3.820689  1228\n",
       "UCWJ2lWNubArHWmf3FIHbfcQ   2.189698  1074\n",
       "UCpB959t8iPrxQWj7G6n0ctQ   4.799959   596\n",
       "UCqZQlzSHbVJrwrn5XvzrzcA   1.231949   543\n",
       "UCIPPMRA040LQr5QPyJEbmXA  10.070149   512\n",
       "UCke6I9N4KfC968-yRcd5YRg   3.814751   492\n",
       "UCRijo3ddMTht_IHyNSNXpNQ   7.361311   489\n",
       "UCET00YnetHT7tOpu12v8jxg   1.122511   488\n",
       "UCqFzWxSCi39LnW1JKFR3efg   3.248411   486\n",
       "UCX6OQ3DkcsbYNE6H8uQQuVA  30.323988   474"
      ]
     },
     "execution_count": 23,
     "metadata": {},
     "output_type": "execute_result"
    }
   ],
   "source": [
    "trending_youtube['views_mil'] = trending_youtube['view_count'] / 1000000\n",
    "trending_youtube[['channelId','views_mil']].groupby('channelId')\\\n",
    ".agg(['mean','count'])\\\n",
    ".sort_values(by=('views_mil','count'), ascending=False)[:10]"
   ]
  },
  {
   "cell_type": "markdown",
   "id": "b5392fe6",
   "metadata": {},
   "source": [
    "The number of trending videos changes over time"
   ]
  },
  {
   "cell_type": "code",
   "execution_count": 24,
   "id": "eeaceafc",
   "metadata": {},
   "outputs": [],
   "source": [
    "daily = trending_youtube[['trending_date']].value_counts().reset_index()\\\n",
    ".sort_values(by='trending_date').reset_index(drop=True)"
   ]
  },
  {
   "cell_type": "code",
   "execution_count": 25,
   "id": "7e173686",
   "metadata": {},
   "outputs": [
    {
     "data": {
      "text/html": [
       "<div>\n",
       "<style scoped>\n",
       "    .dataframe tbody tr th:only-of-type {\n",
       "        vertical-align: middle;\n",
       "    }\n",
       "\n",
       "    .dataframe tbody tr th {\n",
       "        vertical-align: top;\n",
       "    }\n",
       "\n",
       "    .dataframe thead th {\n",
       "        text-align: right;\n",
       "    }\n",
       "</style>\n",
       "<table border=\"1\" class=\"dataframe\">\n",
       "  <thead>\n",
       "    <tr style=\"text-align: right;\">\n",
       "      <th></th>\n",
       "      <th>trending_date</th>\n",
       "      <th>0</th>\n",
       "    </tr>\n",
       "  </thead>\n",
       "  <tbody>\n",
       "    <tr>\n",
       "      <th>0</th>\n",
       "      <td>2020-08-12</td>\n",
       "      <td>200</td>\n",
       "    </tr>\n",
       "    <tr>\n",
       "      <th>1</th>\n",
       "      <td>2020-08-13</td>\n",
       "      <td>200</td>\n",
       "    </tr>\n",
       "    <tr>\n",
       "      <th>2</th>\n",
       "      <td>2020-08-14</td>\n",
       "      <td>200</td>\n",
       "    </tr>\n",
       "    <tr>\n",
       "      <th>3</th>\n",
       "      <td>2020-08-15</td>\n",
       "      <td>200</td>\n",
       "    </tr>\n",
       "    <tr>\n",
       "      <th>4</th>\n",
       "      <td>2020-08-16</td>\n",
       "      <td>200</td>\n",
       "    </tr>\n",
       "  </tbody>\n",
       "</table>\n",
       "</div>"
      ],
      "text/plain": [
       "  trending_date    0\n",
       "0    2020-08-12  200\n",
       "1    2020-08-13  200\n",
       "2    2020-08-14  200\n",
       "3    2020-08-15  200\n",
       "4    2020-08-16  200"
      ]
     },
     "execution_count": 25,
     "metadata": {},
     "output_type": "execute_result"
    }
   ],
   "source": [
    "daily.head()"
   ]
  },
  {
   "cell_type": "markdown",
   "id": "cedb5025",
   "metadata": {},
   "source": [
    "Generate a line plot based on the daily dataframe."
   ]
  },
  {
   "cell_type": "code",
   "execution_count": 26,
   "id": "5a9f6156",
   "metadata": {},
   "outputs": [
    {
     "data": {
      "text/plain": [
       "<seaborn.axisgrid.FacetGrid at 0x7fde84371f40>"
      ]
     },
     "execution_count": 26,
     "metadata": {},
     "output_type": "execute_result"
    },
    {
     "data": {
      "image/png": "[encoded data removed]",
      "text/plain": [
       "<Figure size 900x360 with 1 Axes>"
      ]
     },
     "metadata": {},
     "output_type": "display_data"
    }
   ],
   "source": [
    "sns.relplot(data=daily, x='trending_date', y=0,\n",
    "kind='line', aspect=2.5)"
   ]
  },
  {
   "cell_type": "markdown",
   "id": "5feae6b4-cc82-4cdc-a73f-f4b042cb250f",
   "metadata": {},
   "source": [
    "#### What categories that youtube users in the US are interested in?"
   ]
  },
  {
   "cell_type": "code",
   "execution_count": 35,
   "id": "c3284642-5cbb-465b-a38c-90b549a5a5a6",
   "metadata": {},
   "outputs": [],
   "source": [
    "#creating dictionary for json file provided for category and category id\n",
    "category_dict = {}\n",
    "for i in US_category_id['items']:\n",
    "    category_dict[i['id']] = i['snippet']['title']"
   ]
  },
  {
   "cell_type": "code",
   "execution_count": 28,
   "id": "3c750259-e61f-4093-87f3-0ec6b8bd835d",
   "metadata": {},
   "outputs": [],
   "source": [
    "#replacing the category id with category actual name \n",
    "def replace_categoryid(df):\n",
    "    if str(df) in category_dict:\n",
    "        return category_dict[str(df)]\n",
    "    \n",
    "trending_youtube['category'] = trending_youtube['categoryId'].apply(replace_categoryid)"
   ]
  },
  {
   "cell_type": "code",
   "execution_count": 37,
   "id": "c7a38d78-422a-4f26-a694-6fd0dce1a188",
   "metadata": {},
   "outputs": [
    {
     "name": "stdout",
     "output_type": "stream",
     "text": [
      "<class 'pandas.core.frame.DataFrame'>\n",
      "RangeIndex: 180990 entries, 0 to 180989\n",
      "Data columns (total 17 columns):\n",
      " #   Column             Non-Null Count   Dtype          \n",
      "---  ------             --------------   -----          \n",
      " 0   title              180990 non-null  object         \n",
      " 1   publishedAt        180990 non-null  datetime64[ns] \n",
      " 2   channelId          180990 non-null  object         \n",
      " 3   channelTitle       180990 non-null  object         \n",
      " 4   categoryId         180990 non-null  int64          \n",
      " 5   trending_date      180990 non-null  datetime64[ns] \n",
      " 6   tags               180990 non-null  object         \n",
      " 7   view_count         180990 non-null  int64          \n",
      " 8   likes              180990 non-null  int64          \n",
      " 9   dislikes           180990 non-null  int64          \n",
      " 10  comment_count      180990 non-null  int64          \n",
      " 11  comments_disabled  180990 non-null  bool           \n",
      " 12  ratings_disabled   180990 non-null  bool           \n",
      " 13  time_diff          180990 non-null  timedelta64[ns]\n",
      " 14  time_diff_hour     180990 non-null  float64        \n",
      " 15  views_mil          180990 non-null  float64        \n",
      " 16  category           180990 non-null  object         \n",
      "dtypes: bool(2), datetime64[ns](2), float64(2), int64(5), object(5), timedelta64[ns](1)\n",
      "memory usage: 21.1+ MB\n"
     ]
    }
   ],
   "source": [
    "trending_youtube.info()"
   ]
  },
  {
   "cell_type": "code",
   "execution_count": 33,
   "id": "79b19909-6402-4d37-87ee-fc886ac93814",
   "metadata": {
    "scrolled": true
   },
   "outputs": [
    {
     "data": {
      "text/html": [
       "<div>\n",
       "<style scoped>\n",
       "    .dataframe tbody tr th:only-of-type {\n",
       "        vertical-align: middle;\n",
       "    }\n",
       "\n",
       "    .dataframe tbody tr th {\n",
       "        vertical-align: top;\n",
       "    }\n",
       "\n",
       "    .dataframe thead th {\n",
       "        text-align: right;\n",
       "    }\n",
       "</style>\n",
       "<table border=\"1\" class=\"dataframe\">\n",
       "  <thead>\n",
       "    <tr style=\"text-align: right;\">\n",
       "      <th></th>\n",
       "      <th>view_count</th>\n",
       "      <th>likes</th>\n",
       "      <th>dislikes</th>\n",
       "      <th>comment_count</th>\n",
       "    </tr>\n",
       "    <tr>\n",
       "      <th>category</th>\n",
       "      <th></th>\n",
       "      <th></th>\n",
       "      <th></th>\n",
       "      <th></th>\n",
       "    </tr>\n",
       "  </thead>\n",
       "  <tbody>\n",
       "    <tr>\n",
       "      <th>Autos &amp; Vehicles</th>\n",
       "      <td>3215645620</td>\n",
       "      <td>146890258</td>\n",
       "      <td>1408858</td>\n",
       "      <td>12308501</td>\n",
       "    </tr>\n",
       "    <tr>\n",
       "      <th>Comedy</th>\n",
       "      <td>16874950519</td>\n",
       "      <td>1162541307</td>\n",
       "      <td>11174623</td>\n",
       "      <td>57797099</td>\n",
       "    </tr>\n",
       "    <tr>\n",
       "      <th>Education</th>\n",
       "      <td>7883596987</td>\n",
       "      <td>438369415</td>\n",
       "      <td>4040488</td>\n",
       "      <td>25341680</td>\n",
       "    </tr>\n",
       "    <tr>\n",
       "      <th>Entertainment</th>\n",
       "      <td>111616817334</td>\n",
       "      <td>5479026698</td>\n",
       "      <td>62549431</td>\n",
       "      <td>334163346</td>\n",
       "    </tr>\n",
       "    <tr>\n",
       "      <th>Film &amp; Animation</th>\n",
       "      <td>16730332730</td>\n",
       "      <td>727141429</td>\n",
       "      <td>6686643</td>\n",
       "      <td>51436522</td>\n",
       "    </tr>\n",
       "    <tr>\n",
       "      <th>Gaming</th>\n",
       "      <td>62919711086</td>\n",
       "      <td>3425458004</td>\n",
       "      <td>38395646</td>\n",
       "      <td>261000687</td>\n",
       "    </tr>\n",
       "    <tr>\n",
       "      <th>Howto &amp; Style</th>\n",
       "      <td>6450455913</td>\n",
       "      <td>332634247</td>\n",
       "      <td>7266989</td>\n",
       "      <td>25001099</td>\n",
       "    </tr>\n",
       "    <tr>\n",
       "      <th>Music</th>\n",
       "      <td>130848937603</td>\n",
       "      <td>8623293550</td>\n",
       "      <td>106002834</td>\n",
       "      <td>962685521</td>\n",
       "    </tr>\n",
       "    <tr>\n",
       "      <th>News &amp; Politics</th>\n",
       "      <td>15688337016</td>\n",
       "      <td>202447837</td>\n",
       "      <td>9979392</td>\n",
       "      <td>45007198</td>\n",
       "    </tr>\n",
       "    <tr>\n",
       "      <th>Nonprofits &amp; Activism</th>\n",
       "      <td>279268359</td>\n",
       "      <td>12837346</td>\n",
       "      <td>112968</td>\n",
       "      <td>887347</td>\n",
       "    </tr>\n",
       "    <tr>\n",
       "      <th>People &amp; Blogs</th>\n",
       "      <td>28479946686</td>\n",
       "      <td>1640481551</td>\n",
       "      <td>31225806</td>\n",
       "      <td>105945588</td>\n",
       "    </tr>\n",
       "    <tr>\n",
       "      <th>Pets &amp; Animals</th>\n",
       "      <td>956728088</td>\n",
       "      <td>43532270</td>\n",
       "      <td>395656</td>\n",
       "      <td>2896836</td>\n",
       "    </tr>\n",
       "    <tr>\n",
       "      <th>Science &amp; Technology</th>\n",
       "      <td>14465200257</td>\n",
       "      <td>598625720</td>\n",
       "      <td>9343119</td>\n",
       "      <td>34020397</td>\n",
       "    </tr>\n",
       "    <tr>\n",
       "      <th>Sports</th>\n",
       "      <td>38342706414</td>\n",
       "      <td>953501482</td>\n",
       "      <td>15843036</td>\n",
       "      <td>78438895</td>\n",
       "    </tr>\n",
       "    <tr>\n",
       "      <th>Travel &amp; Events</th>\n",
       "      <td>1021116369</td>\n",
       "      <td>54363747</td>\n",
       "      <td>453556</td>\n",
       "      <td>3051409</td>\n",
       "    </tr>\n",
       "  </tbody>\n",
       "</table>\n",
       "</div>"
      ],
      "text/plain": [
       "                         view_count       likes   dislikes  comment_count\n",
       "category                                                                 \n",
       "Autos & Vehicles         3215645620   146890258    1408858       12308501\n",
       "Comedy                  16874950519  1162541307   11174623       57797099\n",
       "Education                7883596987   438369415    4040488       25341680\n",
       "Entertainment          111616817334  5479026698   62549431      334163346\n",
       "Film & Animation        16730332730   727141429    6686643       51436522\n",
       "Gaming                  62919711086  3425458004   38395646      261000687\n",
       "Howto & Style            6450455913   332634247    7266989       25001099\n",
       "Music                  130848937603  8623293550  106002834      962685521\n",
       "News & Politics         15688337016   202447837    9979392       45007198\n",
       "Nonprofits & Activism     279268359    12837346     112968         887347\n",
       "People & Blogs          28479946686  1640481551   31225806      105945588\n",
       "Pets & Animals            956728088    43532270     395656        2896836\n",
       "Science & Technology    14465200257   598625720    9343119       34020397\n",
       "Sports                  38342706414   953501482   15843036       78438895\n",
       "Travel & Events          1021116369    54363747     453556        3051409"
      ]
     },
     "execution_count": 33,
     "metadata": {},
     "output_type": "execute_result"
    }
   ],
   "source": [
    "#Groupby and sum view count, likes, dislikes, comment_count  by category \n",
    "lst = ['view_count','likes','dislikes','comment_count','category']\n",
    "category_group = trending_youtube[lst].groupby('category').sum()\n",
    "category_group\n"
   ]
  },
  {
   "cell_type": "code",
   "execution_count": 31,
   "id": "9d85431c-6ec1-423b-ba41-0551641b65b3",
   "metadata": {},
   "outputs": [
    {
     "data": {
      "image/png": "[encoded data removed]",
      "text/plain": [
       "<Figure size 1440x936 with 4 Axes>"
      ]
     },
     "metadata": {},
     "output_type": "display_data"
    }
   ],
   "source": [
    "#Plotting the 5 categories with largest view count, likes, dislikes, comment_count\n",
    "plt.figure(figsize = (20,13))\n",
    "plt.subplot(2,2,1)\n",
    "\n",
    "lst = ['view_count','likes','dislikes','comment_count']\n",
    "font = {'family':'serif','color':'black','size':20}\n",
    "for i in range(0,len(lst)):\n",
    "    plt.subplot(2,2,i+1)\n",
    "    x = category_group[lst[i]].nlargest(5).index\n",
    "    y = category_group[lst[i]].nlargest(5)\n",
    "    sns.barplot(x = x,y = y)\n",
    "    title = \"Five Categories with Largest \" + lst[i]\n",
    "    plt.title(title,font)"
   ]
  },
  {
   "cell_type": "markdown",
   "id": "d513e67d-b9c6-46cd-90ce-096019a95701",
   "metadata": {},
   "source": [
    "Based on the diagrams above, the categories that most youtube's users search for on Youtube are music, entertainment, gaming, people, and sports, respectively."
   ]
  },
  {
   "cell_type": "code",
   "execution_count": 34,
   "id": "42f94118-ebb4-4403-8a03-fce97bed8bdb",
   "metadata": {
    "tags": []
   },
   "outputs": [
    {
     "data": {
      "image/png": "[encoded data removed]",
      "text/plain": [
       "<Figure size 1440x936 with 4 Axes>"
      ]
     },
     "metadata": {},
     "output_type": "display_data"
    }
   ],
   "source": [
    "#Plotting the 5 categories with smallest view count, likes, dislikes, comment_count \n",
    "plt.figure(figsize = (20,13))\n",
    "plt.subplot(2,2,1)\n",
    "\n",
    "lst = ['view_count','likes','dislikes','comment_count']\n",
    "font = {'family':'serif','color':'black','size':20}\n",
    "for i in range(0,len(lst)):\n",
    "    plt.subplot(2,2,i+1)\n",
    "    x = category_group[lst[i]].nsmallest(5).index\n",
    "    y = category_group[lst[i]].nsmallest(5)\n",
    "    sns.barplot(x = x,y = y)\n",
    "    title = \"Five Categories with Smallest \" + lst[i]\n",
    "    plt.title(title,font)\n"
   ]
  },
  {
   "cell_type": "markdown",
   "id": "48d723d8-9966-4d67-be5f-f8b0f15f9748",
   "metadata": {},
   "source": [
    "Based on the diagrams above, youtube users are not interested much in the nonprofit, pet & animals, and travels category."
   ]
  }
 ],
 "metadata": {
  "colab": {
   "provenance": []
  },
  "kernelspec": {
   "display_name": "Python 3 (ipykernel)",
   "language": "python",
   "name": "python3"
  },
  "language_info": {
   "codemirror_mode": {
    "name": "ipython",
    "version": 3
   },
   "file_extension": ".py",
   "mimetype": "text/x-python",
   "name": "python",
   "nbconvert_exporter": "python",
   "pygments_lexer": "ipython3",
   "version": "3.9.13"
  }
 },
 "nbformat": 4,
 "nbformat_minor": 5
}

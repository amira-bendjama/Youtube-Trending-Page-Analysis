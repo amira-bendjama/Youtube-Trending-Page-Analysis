{
 "cells": [
  {
   "cell_type": "markdown",
   "id": "53c88197",
   "metadata": {
    "id": "53c88197"
   },
   "source": [
    "# DSCI 521: Data Analysis and Interpretation <br> Term Project Phase 1: Scoping an analytics project"
   ]
  },
  {
   "cell_type": "markdown",
   "id": "06276e19",
   "metadata": {
    "id": "06276e19"
   },
   "source": [
    "## Group members \n",
    "- Group member \n",
    "    - Name: Amira Bendjama\n",
    "    - Email: ab4745@drexel.edu\n",
    "- Group member \n",
    "    - Name: Thuy Hong Doan\n",
    "    - Email: td688@drexel.edu\n",
    "- Group member \n",
    "    - Name: Alsulami Meznah\n",
    "    - Email: mha54@drexel.edu"
   ]
  },
  {
   "cell_type": "markdown",
   "id": "9ef10126",
   "metadata": {
    "id": "9ef10126"
   },
   "source": [
    "## Team members background:\n",
    "\n",
    "- __Amira Bendjama__: is an Algerian Fulbrighter with a bachelor’s in computer science, and a master’s in networks and distributed systems. Her skill set varies from different programming languages to problem-solving and critical thinking. She worked with Youtube API V3 to retrieve the dataset for [Valorant comments on Youtube](https://github.com/amira-bendjama/VALORANT-COMMENTS). \n",
    "\n",
    "- __Alsulami Meznah__: is a graduate student in Data Science. She majored in a bachelor's degree in Information Systems.  She has a good background in Java, Visual Basic, and SQL. She looks forward to improving my skills and learning more about Python and R.\n",
    "\n",
    "- __Thuy Hong Doan__: graduated with a bachelor of business administration in Computer Information Systems. Her skill set varies from different programming languages to analytical and problem-solving skills. She worked with HTML, CSS, SQL, JavaScript, and Python. She plans to use her previous coding experience and understanding of data structure to help successfully complete this project.\n",
    "\n",
    "### Growth area \n",
    "\n",
    "We are looking to take on a project that presents real-world data analysis challenges in order to align our skills with the type of work we would undertake in the professional world. Analyzing a dataset is particularly challenging because of the different steps to take before actually analyzing the dataset such as cleaning the dataset, and checking the correctness, and thus is a good way to learn about data analysis."
   ]
  },
  {
   "cell_type": "markdown",
   "id": "151eb4bf",
   "metadata": {
    "id": "151eb4bf"
   },
   "source": [
    "## Topic Summary \n",
    "\n",
    "YouTube is one of the leading video-sharing and social media platforms in the world. Thus, It had a huge impact on changing the marketing strategies through video promotion or sponsoring independent Youtubers, with its captivating features such as the recommendation page, and trending page. However, the latter doesn’t have a clear indication of what makes a Youtube video trending. Hence, the speculation on what makes a video trending such as [Researching The Trending Tab (BTS)](https://www.youtube.com/watch?v=sEvtpj-uChA&ab_channel=Coffeezilla), [What Is YouTube Trending And How It Works](https://www.notion.so/project-scooping-427deb3f9cbc4c32949c17248bdc0a30#04a09cb6fee248398f38d2fa43a72052). The goal of the project is to perform EDA analysis on the dataset to find the patterns among trending videos and develop a classification model to attribute the factor that affects how popular a Youtube video will be. Those insights might be used by Youtube channels owned by traditional companies that seek to break into the new marketing field, or they can be used by individual Youtubers that seek to increase the popularity of their videos, without affecting their content creation. This project will rely on [dataset](https://www.kaggle.com/datasets/rsrishav/youtube-trending-video-dataset) from Kaggle which was collected using the Youtube API.\n"
   ]
  },
  {
   "cell_type": "markdown",
   "id": "a1b155c0",
   "metadata": {
    "id": "a1b155c0"
   },
   "source": [
    "## Term Project Phase 1: details \n",
    "\n",
    "__What is our selected dataset and why?__\n",
    "\n",
    "The selected dataset is collected using Youtube API. It includes several months of data on daily trending YouTube videos, with up to 200 listed trending videos per day, for different regions. However, the project will focus on the United states' dataset, because of two factors: First, it is a majority English-speaking country, where English content is the most viewed and shared, and Second the USA is leading the trends in the platform and around the world. The dataset includes the video title, channel title, publish time, tags, views, likes and dislikes, description, and comment count, category.\n",
    "\n",
    "__What is the availability of relevant pre-processed data?__\n",
    "\n",
    "The dataset is available for the public on [Kaggle](https://www.kaggle.com/datasets/rsrishav/youtube-trending-video-dataset). \n",
    "\n",
    "__What will the analysis do, and who/what it will support?__ \n",
    "\n",
    "The EDA analysis on the dataset to find the patterns among trending videos and develop a classification model to find the factors. The questions we are trying to solve are: \n",
    "1. what are the top most trending Categories? \n",
    "2. what is the impact of Likes, Dislikes and Comments.\n",
    "3. what are the most used words for titles, video descriptions, and tags?\n",
    "\n",
    "__Who would be interested in the data analysis?__\n",
    "\n",
    "- Advertiser to sponsor Youtube videos that have the potential to be trending\n",
    "- Youtube channels owned by companies that want to keep up with the trends for better-performing product ads. \n",
    "- Independent Youtubers who want to make trending videos\n",
    "- Researchers to derive insight into behavior from Youtube trends and marketing strategies\n",
    "\n",
    "__How your analysis might be completed and disseminated?__\n",
    "\n",
    "The analysis will be shared in Kaggle and GitHub for public use.\n",
    "\n",
    "__How your analysis might fit into an application or investigation?__ \n",
    "\n",
    "This analysis enables YouTube to predict the lifecycle of popular content so that it can adapt its economic strategy. YouTubers, or content creators, get money from their videos as well. For many YouTubers, YouTube is their sole source of income, and this will assist producers in analyzing their content life cycle and making necessary modifications. Feedback from viewers, for example, is a crucial part for YouTubers because it allows them to understand how their material is being received by people and shows YouTube and YouTubers how interactive features affect the performance of their videos on social networks. Also, The analysis can be helpful across other social media platforms, such as Twitch, and Facebook gaming, where the latter relay heavily on capturing the attention of live viewers, which will be suitable to implement the same factors and techniques used in most popular video streaming platform. \n",
    "\n",
    "\n",
    "__Limitations__\n",
    "\n",
    "- The dataset is limited to several months and only 200 videos per day, and hence it could add some bias to the predictions. \n",
    "- World events that are relevant to only several months can affect the prediction greatly in a small dataset.\n",
    "- Absence of a duration column in the dataset, which is considered one of the factors to impact the trending videos.\n",
    "\n",
    "__Potential solutions__ \n",
    "\n",
    "- The results can be improved by extending the data collection to a few years back, \n",
    "- Improving the prediction to ignore irrelevant events. \n",
    "- Adding the duration column to the dataset\n"
   ]
  },
  {
   "cell_type": "markdown",
   "id": "e1736d83",
   "metadata": {
    "id": "e1736d83"
   },
   "source": [
    "### Potential Software used \n",
    "- Juypter notebook \n",
    "\n",
    "### Hardware used \n",
    "- Acer processor i5 RAM 8GB\n",
    "- Hp processor i7 RAM 8GB\n",
    "- Macbook Pro processor i5 RAM 8GB\n",
    "\n"
   ]
  },
  {
   "cell_type": "markdown",
   "id": "df7f48f7",
   "metadata": {},
   "source": [
    "# Exploratory Data Analysis "
   ]
  },
  {
   "cell_type": "markdown",
   "id": "cd7f299e",
   "metadata": {},
   "source": [
    "Loading the data from the CSV file and into dataframe and retrieving the categories for a specific video, we must load a JSON file since this is how the dataset was structured."
   ]
  },
  {
   "cell_type": "code",
   "execution_count": 1,
   "id": "67d98371",
   "metadata": {
    "scrolled": true
   },
   "outputs": [
    {
     "name": "stdout",
     "output_type": "stream",
     "text": [
      "Requirement already satisfied: matplotlib in c:\\users\\mira\\anaconda3\\envs\\amira\\lib\\site-packages (3.6.3)\n",
      "Requirement already satisfied: kiwisolver>=1.0.1 in c:\\users\\mira\\anaconda3\\envs\\amira\\lib\\site-packages (from matplotlib) (1.4.4)\n",
      "Requirement already satisfied: packaging>=20.0 in c:\\users\\mira\\anaconda3\\envs\\amira\\lib\\site-packages (from matplotlib) (21.3)\n",
      "Requirement already satisfied: contourpy>=1.0.1 in c:\\users\\mira\\anaconda3\\envs\\amira\\lib\\site-packages (from matplotlib) (1.0.7)\n",
      "Requirement already satisfied: pillow>=6.2.0 in c:\\users\\mira\\anaconda3\\envs\\amira\\lib\\site-packages (from matplotlib) (9.4.0)\n",
      "Requirement already satisfied: pyparsing>=2.2.1 in c:\\users\\mira\\anaconda3\\envs\\amira\\lib\\site-packages (from matplotlib) (3.0.9)\n",
      "Requirement already satisfied: numpy>=1.19 in c:\\users\\mira\\anaconda3\\envs\\amira\\lib\\site-packages (from matplotlib) (1.23.5)\n",
      "Requirement already satisfied: cycler>=0.10 in c:\\users\\mira\\anaconda3\\envs\\amira\\lib\\site-packages (from matplotlib) (0.11.0)\n",
      "Requirement already satisfied: python-dateutil>=2.7 in c:\\users\\mira\\anaconda3\\envs\\amira\\lib\\site-packages (from matplotlib) (2.8.2)\n",
      "Requirement already satisfied: fonttools>=4.22.0 in c:\\users\\mira\\anaconda3\\envs\\amira\\lib\\site-packages (from matplotlib) (4.38.0)\n",
      "Requirement already satisfied: six>=1.5 in c:\\users\\mira\\anaconda3\\envs\\amira\\lib\\site-packages (from python-dateutil>=2.7->matplotlib) (1.16.0)\n"
     ]
    }
   ],
   "source": [
    "!pip install matplotlib"
   ]
  },
  {
   "cell_type": "code",
   "execution_count": 2,
   "id": "05e8d360",
   "metadata": {},
   "outputs": [
    {
     "name": "stdout",
     "output_type": "stream",
     "text": [
      "Requirement already satisfied: seaborn in c:\\users\\mira\\anaconda3\\envs\\amira\\lib\\site-packages (0.12.2)\n",
      "Requirement already satisfied: matplotlib!=3.6.1,>=3.1 in c:\\users\\mira\\anaconda3\\envs\\amira\\lib\\site-packages (from seaborn) (3.6.3)\n",
      "Requirement already satisfied: pandas>=0.25 in c:\\users\\mira\\anaconda3\\envs\\amira\\lib\\site-packages (from seaborn) (1.5.2)\n",
      "Requirement already satisfied: numpy!=1.24.0,>=1.17 in c:\\users\\mira\\anaconda3\\envs\\amira\\lib\\site-packages (from seaborn) (1.23.5)\n",
      "Requirement already satisfied: cycler>=0.10 in c:\\users\\mira\\anaconda3\\envs\\amira\\lib\\site-packages (from matplotlib!=3.6.1,>=3.1->seaborn) (0.11.0)\n",
      "Requirement already satisfied: pillow>=6.2.0 in c:\\users\\mira\\anaconda3\\envs\\amira\\lib\\site-packages (from matplotlib!=3.6.1,>=3.1->seaborn) (9.4.0)\n",
      "Requirement already satisfied: fonttools>=4.22.0 in c:\\users\\mira\\anaconda3\\envs\\amira\\lib\\site-packages (from matplotlib!=3.6.1,>=3.1->seaborn) (4.38.0)\n",
      "Requirement already satisfied: python-dateutil>=2.7 in c:\\users\\mira\\anaconda3\\envs\\amira\\lib\\site-packages (from matplotlib!=3.6.1,>=3.1->seaborn) (2.8.2)\n",
      "Requirement already satisfied: contourpy>=1.0.1 in c:\\users\\mira\\anaconda3\\envs\\amira\\lib\\site-packages (from matplotlib!=3.6.1,>=3.1->seaborn) (1.0.7)\n",
      "Requirement already satisfied: pyparsing>=2.2.1 in c:\\users\\mira\\anaconda3\\envs\\amira\\lib\\site-packages (from matplotlib!=3.6.1,>=3.1->seaborn) (3.0.9)\n",
      "Requirement already satisfied: kiwisolver>=1.0.1 in c:\\users\\mira\\anaconda3\\envs\\amira\\lib\\site-packages (from matplotlib!=3.6.1,>=3.1->seaborn) (1.4.4)\n",
      "Requirement already satisfied: packaging>=20.0 in c:\\users\\mira\\anaconda3\\envs\\amira\\lib\\site-packages (from matplotlib!=3.6.1,>=3.1->seaborn) (21.3)\n",
      "Requirement already satisfied: pytz>=2020.1 in c:\\users\\mira\\anaconda3\\envs\\amira\\lib\\site-packages (from pandas>=0.25->seaborn) (2022.7)\n",
      "Requirement already satisfied: six>=1.5 in c:\\users\\mira\\anaconda3\\envs\\amira\\lib\\site-packages (from python-dateutil>=2.7->matplotlib!=3.6.1,>=3.1->seaborn) (1.16.0)\n"
     ]
    }
   ],
   "source": [
    "!pip install seaborn"
   ]
  },
  {
   "cell_type": "code",
   "execution_count": 21,
   "id": "8eeef509",
   "metadata": {
    "scrolled": true
   },
   "outputs": [],
   "source": [
    "import pandas as pd\n",
    "import matplotlib.pyplot as plt\n",
    "import numpy as np\n",
    "import seaborn as sns\n",
    "sns.set(style='darkgrid')\n",
    "\n",
    "US_category_id = pd.read_json('data/US_category_id.json')\n",
    "trending_youtube = pd.read_csv('data/US_youtube_trending_data.csv')\n",
    "\n",
    "\n"
   ]
  },
  {
   "cell_type": "markdown",
   "id": "d00748c3",
   "metadata": {},
   "source": [
    "Number of elements in the dataset"
   ]
  },
  {
   "cell_type": "code",
   "execution_count": 22,
   "id": "110955eb",
   "metadata": {},
   "outputs": [
    {
     "data": {
      "text/plain": [
       "((32, 3), (180990, 16))"
      ]
     },
     "execution_count": 22,
     "metadata": {},
     "output_type": "execute_result"
    }
   ],
   "source": [
    "US_category_id.shape , trending_youtube.shape"
   ]
  },
  {
   "cell_type": "markdown",
   "id": "306733de",
   "metadata": {},
   "source": [
    "Columns in the dataset"
   ]
  },
  {
   "cell_type": "code",
   "execution_count": 23,
   "id": "a081938c",
   "metadata": {},
   "outputs": [
    {
     "data": {
      "text/plain": [
       "Index(['video_id', 'title', 'publishedAt', 'channelId', 'channelTitle',\n",
       "       'categoryId', 'trending_date', 'tags', 'view_count', 'likes',\n",
       "       'dislikes', 'comment_count', 'thumbnail_link', 'comments_disabled',\n",
       "       'ratings_disabled', 'description'],\n",
       "      dtype='object')"
      ]
     },
     "execution_count": 23,
     "metadata": {},
     "output_type": "execute_result"
    }
   ],
   "source": [
    "trending_youtube.columns"
   ]
  },
  {
   "cell_type": "code",
   "execution_count": 37,
   "id": "66690e77",
   "metadata": {},
   "outputs": [
    {
     "data": {
      "text/plain": [
       "(177598, 16)"
      ]
     },
     "execution_count": 37,
     "metadata": {},
     "output_type": "execute_result"
    }
   ],
   "source": [
    "trending_youtube.shape"
   ]
  },
  {
   "cell_type": "code",
   "execution_count": 38,
   "id": "0ad3f781",
   "metadata": {},
   "outputs": [
    {
     "name": "stdout",
     "output_type": "stream",
     "text": [
      "<class 'pandas.core.frame.DataFrame'>\n",
      "Int64Index: 177598 entries, 0 to 180989\n",
      "Data columns (total 16 columns):\n",
      " #   Column             Non-Null Count   Dtype \n",
      "---  ------             --------------   ----- \n",
      " 0   video_id           177598 non-null  object\n",
      " 1   title              177598 non-null  object\n",
      " 2   publishedAt        177598 non-null  object\n",
      " 3   channelId          177598 non-null  object\n",
      " 4   channelTitle       177598 non-null  object\n",
      " 5   categoryId         177598 non-null  int64 \n",
      " 6   trending_date      177598 non-null  object\n",
      " 7   tags               177598 non-null  object\n",
      " 8   view_count         177598 non-null  int64 \n",
      " 9   likes              177598 non-null  int64 \n",
      " 10  dislikes           177598 non-null  int64 \n",
      " 11  comment_count      177598 non-null  int64 \n",
      " 12  thumbnail_link     177598 non-null  object\n",
      " 13  comments_disabled  177598 non-null  bool  \n",
      " 14  ratings_disabled   177598 non-null  bool  \n",
      " 15  description        177598 non-null  object\n",
      "dtypes: bool(2), int64(5), object(9)\n",
      "memory usage: 20.7+ MB\n"
     ]
    }
   ],
   "source": [
    "trending_youtube.info()"
   ]
  },
  {
   "cell_type": "code",
   "execution_count": 39,
   "id": "5ba847e2",
   "metadata": {},
   "outputs": [
    {
     "data": {
      "text/plain": [
       "video_id             0\n",
       "title                0\n",
       "publishedAt          0\n",
       "channelId            0\n",
       "channelTitle         0\n",
       "categoryId           0\n",
       "trending_date        0\n",
       "tags                 0\n",
       "view_count           0\n",
       "likes                0\n",
       "dislikes             0\n",
       "comment_count        0\n",
       "thumbnail_link       0\n",
       "comments_disabled    0\n",
       "ratings_disabled     0\n",
       "description          0\n",
       "dtype: int64"
      ]
     },
     "execution_count": 39,
     "metadata": {},
     "output_type": "execute_result"
    }
   ],
   "source": [
    "# cleaning dataset \n",
    "# number of null values in the dataset\n",
    "trending_youtube.isnull().sum()"
   ]
  },
  {
   "cell_type": "markdown",
   "id": "e9fd97ff",
   "metadata": {},
   "source": [
    "The description column has all null values. These are some of the rows whose description values are null."
   ]
  },
  {
   "cell_type": "code",
   "execution_count": 40,
   "id": "25e18319",
   "metadata": {},
   "outputs": [
    {
     "data": {
      "text/html": [
       "<div>\n",
       "<style scoped>\n",
       "    .dataframe tbody tr th:only-of-type {\n",
       "        vertical-align: middle;\n",
       "    }\n",
       "\n",
       "    .dataframe tbody tr th {\n",
       "        vertical-align: top;\n",
       "    }\n",
       "\n",
       "    .dataframe thead th {\n",
       "        text-align: right;\n",
       "    }\n",
       "</style>\n",
       "<table border=\"1\" class=\"dataframe\">\n",
       "  <thead>\n",
       "    <tr style=\"text-align: right;\">\n",
       "      <th></th>\n",
       "      <th>video_id</th>\n",
       "      <th>title</th>\n",
       "      <th>publishedAt</th>\n",
       "      <th>channelId</th>\n",
       "      <th>channelTitle</th>\n",
       "      <th>categoryId</th>\n",
       "      <th>trending_date</th>\n",
       "      <th>tags</th>\n",
       "      <th>view_count</th>\n",
       "      <th>likes</th>\n",
       "      <th>dislikes</th>\n",
       "      <th>comment_count</th>\n",
       "      <th>thumbnail_link</th>\n",
       "      <th>comments_disabled</th>\n",
       "      <th>ratings_disabled</th>\n",
       "      <th>description</th>\n",
       "    </tr>\n",
       "  </thead>\n",
       "  <tbody>\n",
       "  </tbody>\n",
       "</table>\n",
       "</div>"
      ],
      "text/plain": [
       "Empty DataFrame\n",
       "Columns: [video_id, title, publishedAt, channelId, channelTitle, categoryId, trending_date, tags, view_count, likes, dislikes, comment_count, thumbnail_link, comments_disabled, ratings_disabled, description]\n",
       "Index: []"
      ]
     },
     "execution_count": 40,
     "metadata": {},
     "output_type": "execute_result"
    }
   ],
   "source": [
    "trending_youtube[trending_youtube[\"description\"].apply(lambda x: pd.isna(x))].head(3)"
   ]
  },
  {
   "cell_type": "code",
   "execution_count": 41,
   "id": "33889541",
   "metadata": {},
   "outputs": [
    {
     "data": {
      "text/plain": [
       "0"
      ]
     },
     "execution_count": 41,
     "metadata": {},
     "output_type": "execute_result"
    }
   ],
   "source": [
    "# Replace NaN in description with space\n",
    "trending_youtube[\"description\"].fillna(\" \", inplace=True)\n",
    "# Delete all rows with a missing values if any\n",
    "trending_youtube.dropna(inplace=True)\n",
    "# checking for the NAN values\n",
    "trending_youtube.isnull().sum().sum()"
   ]
  },
  {
   "cell_type": "code",
   "execution_count": 42,
   "id": "94720349",
   "metadata": {},
   "outputs": [
    {
     "data": {
      "text/plain": [
       "(177598, 16)"
      ]
     },
     "execution_count": 42,
     "metadata": {},
     "output_type": "execute_result"
    }
   ],
   "source": [
    "trending_youtube.shape"
   ]
  },
  {
   "cell_type": "markdown",
   "id": "ac458236",
   "metadata": {},
   "source": [
    "Since our main focus is to find factors that effect the trending of a video, any videos with disbaled comments of ratings will be exculded from our project."
   ]
  },
  {
   "cell_type": "code",
   "execution_count": 43,
   "id": "e5e21bd2",
   "metadata": {},
   "outputs": [
    {
     "data": {
      "text/plain": [
       "(177598, 16)"
      ]
     },
     "execution_count": 43,
     "metadata": {},
     "output_type": "execute_result"
    }
   ],
   "source": [
    "# delete rows with comments_disabled=True or ratings_disabled=True\n",
    "trending_youtube = trending_youtube[(trending_youtube['comments_disabled'] == False) &\n",
    "                    (trending_youtube['ratings_disabled'] == False)]\n",
    "trending_youtube.shape"
   ]
  },
  {
   "cell_type": "code",
   "execution_count": 44,
   "id": "4f6bb1bf",
   "metadata": {},
   "outputs": [
    {
     "data": {
      "text/plain": [
       "0    brawadis prank basketball skits ghost funny vi...\n",
       "1    Apex Legends Apex Legends characters new Apex ...\n",
       "2    jacksepticeye funny funny meme memes jacksepti...\n",
       "3    xxl freshman xxl freshmen 2020 xxl freshman 20...\n",
       "4    The LaBrant Family DIY Interior Design Makeove...\n",
       "5    Professor injury professor achilles professor ...\n",
       "6                                                     \n",
       "7                     cgpgrey education hello internet\n",
       "8    surprising dad father papa with dream car truc...\n",
       "9    Vengo De Nada Aleman Ovi Big Soto Trap Ovi Nat...\n",
       "Name: tags, dtype: object"
      ]
     },
     "execution_count": 44,
     "metadata": {},
     "output_type": "execute_result"
    }
   ],
   "source": [
    "trending_youtube[\"tags\"].head(10)"
   ]
  },
  {
   "cell_type": "code",
   "execution_count": 45,
   "id": "f1d9165a",
   "metadata": {},
   "outputs": [
    {
     "data": {
      "text/plain": [
       "0    brawadis prank basketball skits ghost funny vi...\n",
       "1    Apex Legends Apex Legends characters new Apex ...\n",
       "2    jacksepticeye funny funny meme memes jacksepti...\n",
       "3    xxl freshman xxl freshmen 2020 xxl freshman 20...\n",
       "4    The LaBrant Family DIY Interior Design Makeove...\n",
       "5    Professor injury professor achilles professor ...\n",
       "6                                                     \n",
       "7                     cgpgrey education hello internet\n",
       "8    surprising dad father papa with dream car truc...\n",
       "9    Vengo De Nada Aleman Ovi Big Soto Trap Ovi Nat...\n",
       "Name: tags, dtype: object"
      ]
     },
     "execution_count": 45,
     "metadata": {},
     "output_type": "execute_result"
    }
   ],
   "source": [
    "# Replace [None] in tags with space \n",
    "trending_youtube.loc[trending_youtube['tags'] == '[None]', 'tags'] = ' '\n",
    "# split tags with '|' and convert list to one string\n",
    "trending_youtube['tags'] = [' '.join(tag) \\\n",
    "                       for tag in trending_youtube['tags'].str.split('|')]\n",
    "\n",
    "trending_youtube[\"tags\"].head(10)"
   ]
  },
  {
   "cell_type": "code",
   "execution_count": 47,
   "id": "bb67e54a",
   "metadata": {},
   "outputs": [
    {
     "data": {
      "text/html": [
       "<div>\n",
       "<style scoped>\n",
       "    .dataframe tbody tr th:only-of-type {\n",
       "        vertical-align: middle;\n",
       "    }\n",
       "\n",
       "    .dataframe tbody tr th {\n",
       "        vertical-align: top;\n",
       "    }\n",
       "\n",
       "    .dataframe thead th {\n",
       "        text-align: right;\n",
       "    }\n",
       "</style>\n",
       "<table border=\"1\" class=\"dataframe\">\n",
       "  <thead>\n",
       "    <tr style=\"text-align: right;\">\n",
       "      <th></th>\n",
       "      <th>video_id</th>\n",
       "      <th>title</th>\n",
       "      <th>publishedAt</th>\n",
       "      <th>channelId</th>\n",
       "      <th>channelTitle</th>\n",
       "      <th>categoryId</th>\n",
       "      <th>trending_date</th>\n",
       "      <th>tags</th>\n",
       "      <th>view_count</th>\n",
       "      <th>likes</th>\n",
       "      <th>dislikes</th>\n",
       "      <th>comment_count</th>\n",
       "      <th>thumbnail_link</th>\n",
       "      <th>comments_disabled</th>\n",
       "      <th>ratings_disabled</th>\n",
       "      <th>description</th>\n",
       "    </tr>\n",
       "  </thead>\n",
       "  <tbody>\n",
       "    <tr>\n",
       "      <th>202</th>\n",
       "      <td>3C66w5Z0ixs</td>\n",
       "      <td>I ASKED HER TO BE MY GIRLFRIEND...</td>\n",
       "      <td>2020-08-11T19:20:14Z</td>\n",
       "      <td>UCvtRTOMP2TqYqu51xNrqAzg</td>\n",
       "      <td>Brawadis</td>\n",
       "      <td>22</td>\n",
       "      <td>2020-08-13T00:00:00Z</td>\n",
       "      <td>brawadis prank basketball skits ghost funny vi...</td>\n",
       "      <td>3017834</td>\n",
       "      <td>183592</td>\n",
       "      <td>9506</td>\n",
       "      <td>41374</td>\n",
       "      <td>https://i.ytimg.com/vi/3C66w5Z0ixs/default.jpg</td>\n",
       "      <td>False</td>\n",
       "      <td>False</td>\n",
       "      <td>SUBSCRIBE to BRAWADIS ▶ http://bit.ly/Subscrib...</td>\n",
       "    </tr>\n",
       "    <tr>\n",
       "      <th>207</th>\n",
       "      <td>J78aPJ3VyNs</td>\n",
       "      <td>I left youtube for a month and THIS is what ha...</td>\n",
       "      <td>2020-08-11T16:34:06Z</td>\n",
       "      <td>UCYzPXprvl5Y-Sf0g4vX-m6g</td>\n",
       "      <td>jacksepticeye</td>\n",
       "      <td>24</td>\n",
       "      <td>2020-08-13T00:00:00Z</td>\n",
       "      <td>jacksepticeye funny funny meme memes jacksepti...</td>\n",
       "      <td>2802823</td>\n",
       "      <td>401421</td>\n",
       "      <td>3728</td>\n",
       "      <td>44546</td>\n",
       "      <td>https://i.ytimg.com/vi/J78aPJ3VyNs/default.jpg</td>\n",
       "      <td>False</td>\n",
       "      <td>False</td>\n",
       "      <td>I left youtube for a month and this is what ha...</td>\n",
       "    </tr>\n",
       "    <tr>\n",
       "      <th>209</th>\n",
       "      <td>M9Pmf9AB4Mo</td>\n",
       "      <td>Apex Legends | Stories from the Outlands – “Th...</td>\n",
       "      <td>2020-08-11T17:00:10Z</td>\n",
       "      <td>UC0ZV6M2THA81QT9hrVWJG3A</td>\n",
       "      <td>Apex Legends</td>\n",
       "      <td>20</td>\n",
       "      <td>2020-08-13T00:00:00Z</td>\n",
       "      <td>Apex Legends Apex Legends characters new Apex ...</td>\n",
       "      <td>2932421</td>\n",
       "      <td>153682</td>\n",
       "      <td>3281</td>\n",
       "      <td>17454</td>\n",
       "      <td>https://i.ytimg.com/vi/M9Pmf9AB4Mo/default.jpg</td>\n",
       "      <td>False</td>\n",
       "      <td>False</td>\n",
       "      <td>While running her own modding shop, Ramya Pare...</td>\n",
       "    </tr>\n",
       "    <tr>\n",
       "      <th>213</th>\n",
       "      <td>VIUo6yapDbc</td>\n",
       "      <td>Ultimate DIY Home Movie Theater for The LaBran...</td>\n",
       "      <td>2020-08-11T15:10:05Z</td>\n",
       "      <td>UCDVPcEbVLQgLZX0Rt6jo34A</td>\n",
       "      <td>Mr. Kate</td>\n",
       "      <td>26</td>\n",
       "      <td>2020-08-13T00:00:00Z</td>\n",
       "      <td>The LaBrant Family DIY Interior Design Makeove...</td>\n",
       "      <td>1922758</td>\n",
       "      <td>54959</td>\n",
       "      <td>1758</td>\n",
       "      <td>2662</td>\n",
       "      <td>https://i.ytimg.com/vi/VIUo6yapDbc/default.jpg</td>\n",
       "      <td>False</td>\n",
       "      <td>False</td>\n",
       "      <td>Transforming The LaBrant Family's empty white ...</td>\n",
       "    </tr>\n",
       "    <tr>\n",
       "      <th>214</th>\n",
       "      <td>kXLn3HkpjaA</td>\n",
       "      <td>XXL 2020 Freshman Class Revealed - Official An...</td>\n",
       "      <td>2020-08-11T16:38:55Z</td>\n",
       "      <td>UCbg_UMjlHJg_19SZckaKajg</td>\n",
       "      <td>XXL</td>\n",
       "      <td>10</td>\n",
       "      <td>2020-08-13T00:00:00Z</td>\n",
       "      <td>xxl freshman xxl freshmen 2020 xxl freshman 20...</td>\n",
       "      <td>944498</td>\n",
       "      <td>29016</td>\n",
       "      <td>2809</td>\n",
       "      <td>9278</td>\n",
       "      <td>https://i.ytimg.com/vi/kXLn3HkpjaA/default.jpg</td>\n",
       "      <td>False</td>\n",
       "      <td>False</td>\n",
       "      <td>Subscribe to XXL → http://bit.ly/subscribe-xxl...</td>\n",
       "    </tr>\n",
       "    <tr>\n",
       "      <th>...</th>\n",
       "      <td>...</td>\n",
       "      <td>...</td>\n",
       "      <td>...</td>\n",
       "      <td>...</td>\n",
       "      <td>...</td>\n",
       "      <td>...</td>\n",
       "      <td>...</td>\n",
       "      <td>...</td>\n",
       "      <td>...</td>\n",
       "      <td>...</td>\n",
       "      <td>...</td>\n",
       "      <td>...</td>\n",
       "      <td>...</td>\n",
       "      <td>...</td>\n",
       "      <td>...</td>\n",
       "      <td>...</td>\n",
       "    </tr>\n",
       "    <tr>\n",
       "      <th>180985</th>\n",
       "      <td>udIBOWYhoOc</td>\n",
       "      <td>RMU Exclusive: Bethune prez explains why he fi...</td>\n",
       "      <td>2023-01-24T04:04:47Z</td>\n",
       "      <td>UCjXB7nX8bL2U2sje8d212Yw</td>\n",
       "      <td>Roland S. Martin</td>\n",
       "      <td>25</td>\n",
       "      <td>2023-01-29T00:00:00Z</td>\n",
       "      <td>Roland Martin #RolandMartinUnfiltered Black St...</td>\n",
       "      <td>341921</td>\n",
       "      <td>5821</td>\n",
       "      <td>0</td>\n",
       "      <td>5022</td>\n",
       "      <td>https://i.ytimg.com/vi/udIBOWYhoOc/default.jpg</td>\n",
       "      <td>False</td>\n",
       "      <td>False</td>\n",
       "      <td>#RolandMartinUnfiltered Exclusive: Bethune Coo...</td>\n",
       "    </tr>\n",
       "    <tr>\n",
       "      <th>180986</th>\n",
       "      <td>InjrU5_MQB8</td>\n",
       "      <td>The Next Chapter.</td>\n",
       "      <td>2023-01-23T20:18:51Z</td>\n",
       "      <td>UCgUueMmSpcl-aCTt5CuCKQw</td>\n",
       "      <td>Grant Horvat Golf</td>\n",
       "      <td>17</td>\n",
       "      <td>2023-01-29T00:00:00Z</td>\n",
       "      <td>Golf GoodGood Grant Horvat GM Golf</td>\n",
       "      <td>456361</td>\n",
       "      <td>23430</td>\n",
       "      <td>0</td>\n",
       "      <td>2387</td>\n",
       "      <td>https://i.ytimg.com/vi/InjrU5_MQB8/default.jpg</td>\n",
       "      <td>False</td>\n",
       "      <td>False</td>\n",
       "      <td>My Socials:https://instagram.com/granthorvat/M...</td>\n",
       "    </tr>\n",
       "    <tr>\n",
       "      <th>180987</th>\n",
       "      <td>7lWUBIN7PNE</td>\n",
       "      <td>organizing our NEW KITCHEN + decor shopping | ...</td>\n",
       "      <td>2023-01-24T19:30:27Z</td>\n",
       "      <td>UCxVEsOhpjLTRKNUSA8e0mfA</td>\n",
       "      <td>XO, MaCenna Vlogs</td>\n",
       "      <td>24</td>\n",
       "      <td>2023-01-29T00:00:00Z</td>\n",
       "      <td>vlogger xo macenna macenna diy macenna vlogs l...</td>\n",
       "      <td>255393</td>\n",
       "      <td>16301</td>\n",
       "      <td>0</td>\n",
       "      <td>921</td>\n",
       "      <td>https://i.ytimg.com/vi/7lWUBIN7PNE/default.jpg</td>\n",
       "      <td>False</td>\n",
       "      <td>False</td>\n",
       "      <td>I’ve been obsessed with Aurate jewelry for ove...</td>\n",
       "    </tr>\n",
       "    <tr>\n",
       "      <th>180988</th>\n",
       "      <td>3Sq1MPvP1-Q</td>\n",
       "      <td>The Undertaker Goes Sneaker Shopping With Complex</td>\n",
       "      <td>2023-01-23T15:00:02Z</td>\n",
       "      <td>UCE_--R1P5-kfBzHTca0dsnw</td>\n",
       "      <td>Complex</td>\n",
       "      <td>24</td>\n",
       "      <td>2023-01-29T00:00:00Z</td>\n",
       "      <td>sneakerhead complex complex originals sneakers...</td>\n",
       "      <td>813428</td>\n",
       "      <td>35545</td>\n",
       "      <td>0</td>\n",
       "      <td>2421</td>\n",
       "      <td>https://i.ytimg.com/vi/3Sq1MPvP1-Q/default.jpg</td>\n",
       "      <td>False</td>\n",
       "      <td>False</td>\n",
       "      <td>The Undertaker goes Sneaker Shopping at Concep...</td>\n",
       "    </tr>\n",
       "    <tr>\n",
       "      <th>180989</th>\n",
       "      <td>oFvRXyPAyf8</td>\n",
       "      <td>Do Not Buy Forspoken Review Buy, Wait for Sale...</td>\n",
       "      <td>2023-01-23T14:00:22Z</td>\n",
       "      <td>UCK9_x1DImhU-eolIay5rb2Q</td>\n",
       "      <td>ACG</td>\n",
       "      <td>20</td>\n",
       "      <td>2023-01-29T00:00:00Z</td>\n",
       "      <td>acgreview angrycentaurgaming gameplay ACG gami...</td>\n",
       "      <td>624758</td>\n",
       "      <td>21047</td>\n",
       "      <td>0</td>\n",
       "      <td>3820</td>\n",
       "      <td>https://i.ytimg.com/vi/oFvRXyPAyf8/default.jpg</td>\n",
       "      <td>False</td>\n",
       "      <td>False</td>\n",
       "      <td>Welcome to Forspoken videogame review. Forspok...</td>\n",
       "    </tr>\n",
       "  </tbody>\n",
       "</table>\n",
       "<p>145021 rows × 16 columns</p>\n",
       "</div>"
      ],
      "text/plain": [
       "           video_id                                              title  \\\n",
       "202     3C66w5Z0ixs                 I ASKED HER TO BE MY GIRLFRIEND...   \n",
       "207     J78aPJ3VyNs  I left youtube for a month and THIS is what ha...   \n",
       "209     M9Pmf9AB4Mo  Apex Legends | Stories from the Outlands – “Th...   \n",
       "213     VIUo6yapDbc  Ultimate DIY Home Movie Theater for The LaBran...   \n",
       "214     kXLn3HkpjaA  XXL 2020 Freshman Class Revealed - Official An...   \n",
       "...             ...                                                ...   \n",
       "180985  udIBOWYhoOc  RMU Exclusive: Bethune prez explains why he fi...   \n",
       "180986  InjrU5_MQB8                                  The Next Chapter.   \n",
       "180987  7lWUBIN7PNE  organizing our NEW KITCHEN + decor shopping | ...   \n",
       "180988  3Sq1MPvP1-Q  The Undertaker Goes Sneaker Shopping With Complex   \n",
       "180989  oFvRXyPAyf8  Do Not Buy Forspoken Review Buy, Wait for Sale...   \n",
       "\n",
       "                 publishedAt                 channelId       channelTitle  \\\n",
       "202     2020-08-11T19:20:14Z  UCvtRTOMP2TqYqu51xNrqAzg           Brawadis   \n",
       "207     2020-08-11T16:34:06Z  UCYzPXprvl5Y-Sf0g4vX-m6g      jacksepticeye   \n",
       "209     2020-08-11T17:00:10Z  UC0ZV6M2THA81QT9hrVWJG3A       Apex Legends   \n",
       "213     2020-08-11T15:10:05Z  UCDVPcEbVLQgLZX0Rt6jo34A           Mr. Kate   \n",
       "214     2020-08-11T16:38:55Z  UCbg_UMjlHJg_19SZckaKajg                XXL   \n",
       "...                      ...                       ...                ...   \n",
       "180985  2023-01-24T04:04:47Z  UCjXB7nX8bL2U2sje8d212Yw   Roland S. Martin   \n",
       "180986  2023-01-23T20:18:51Z  UCgUueMmSpcl-aCTt5CuCKQw  Grant Horvat Golf   \n",
       "180987  2023-01-24T19:30:27Z  UCxVEsOhpjLTRKNUSA8e0mfA  XO, MaCenna Vlogs   \n",
       "180988  2023-01-23T15:00:02Z  UCE_--R1P5-kfBzHTca0dsnw            Complex   \n",
       "180989  2023-01-23T14:00:22Z  UCK9_x1DImhU-eolIay5rb2Q                ACG   \n",
       "\n",
       "        categoryId         trending_date  \\\n",
       "202             22  2020-08-13T00:00:00Z   \n",
       "207             24  2020-08-13T00:00:00Z   \n",
       "209             20  2020-08-13T00:00:00Z   \n",
       "213             26  2020-08-13T00:00:00Z   \n",
       "214             10  2020-08-13T00:00:00Z   \n",
       "...            ...                   ...   \n",
       "180985          25  2023-01-29T00:00:00Z   \n",
       "180986          17  2023-01-29T00:00:00Z   \n",
       "180987          24  2023-01-29T00:00:00Z   \n",
       "180988          24  2023-01-29T00:00:00Z   \n",
       "180989          20  2023-01-29T00:00:00Z   \n",
       "\n",
       "                                                     tags  view_count   likes  \\\n",
       "202     brawadis prank basketball skits ghost funny vi...     3017834  183592   \n",
       "207     jacksepticeye funny funny meme memes jacksepti...     2802823  401421   \n",
       "209     Apex Legends Apex Legends characters new Apex ...     2932421  153682   \n",
       "213     The LaBrant Family DIY Interior Design Makeove...     1922758   54959   \n",
       "214     xxl freshman xxl freshmen 2020 xxl freshman 20...      944498   29016   \n",
       "...                                                   ...         ...     ...   \n",
       "180985  Roland Martin #RolandMartinUnfiltered Black St...      341921    5821   \n",
       "180986                 Golf GoodGood Grant Horvat GM Golf      456361   23430   \n",
       "180987  vlogger xo macenna macenna diy macenna vlogs l...      255393   16301   \n",
       "180988  sneakerhead complex complex originals sneakers...      813428   35545   \n",
       "180989  acgreview angrycentaurgaming gameplay ACG gami...      624758   21047   \n",
       "\n",
       "        dislikes  comment_count  \\\n",
       "202         9506          41374   \n",
       "207         3728          44546   \n",
       "209         3281          17454   \n",
       "213         1758           2662   \n",
       "214         2809           9278   \n",
       "...          ...            ...   \n",
       "180985         0           5022   \n",
       "180986         0           2387   \n",
       "180987         0            921   \n",
       "180988         0           2421   \n",
       "180989         0           3820   \n",
       "\n",
       "                                        thumbnail_link  comments_disabled  \\\n",
       "202     https://i.ytimg.com/vi/3C66w5Z0ixs/default.jpg              False   \n",
       "207     https://i.ytimg.com/vi/J78aPJ3VyNs/default.jpg              False   \n",
       "209     https://i.ytimg.com/vi/M9Pmf9AB4Mo/default.jpg              False   \n",
       "213     https://i.ytimg.com/vi/VIUo6yapDbc/default.jpg              False   \n",
       "214     https://i.ytimg.com/vi/kXLn3HkpjaA/default.jpg              False   \n",
       "...                                                ...                ...   \n",
       "180985  https://i.ytimg.com/vi/udIBOWYhoOc/default.jpg              False   \n",
       "180986  https://i.ytimg.com/vi/InjrU5_MQB8/default.jpg              False   \n",
       "180987  https://i.ytimg.com/vi/7lWUBIN7PNE/default.jpg              False   \n",
       "180988  https://i.ytimg.com/vi/3Sq1MPvP1-Q/default.jpg              False   \n",
       "180989  https://i.ytimg.com/vi/oFvRXyPAyf8/default.jpg              False   \n",
       "\n",
       "        ratings_disabled                                        description  \n",
       "202                False  SUBSCRIBE to BRAWADIS ▶ http://bit.ly/Subscrib...  \n",
       "207                False  I left youtube for a month and this is what ha...  \n",
       "209                False  While running her own modding shop, Ramya Pare...  \n",
       "213                False  Transforming The LaBrant Family's empty white ...  \n",
       "214                False  Subscribe to XXL → http://bit.ly/subscribe-xxl...  \n",
       "...                  ...                                                ...  \n",
       "180985             False  #RolandMartinUnfiltered Exclusive: Bethune Coo...  \n",
       "180986             False  My Socials:https://instagram.com/granthorvat/M...  \n",
       "180987             False  I’ve been obsessed with Aurate jewelry for ove...  \n",
       "180988             False  The Undertaker goes Sneaker Shopping at Concep...  \n",
       "180989             False  Welcome to Forspoken videogame review. Forspok...  \n",
       "\n",
       "[145021 rows x 16 columns]"
      ]
     },
     "execution_count": 47,
     "metadata": {},
     "output_type": "execute_result"
    }
   ],
   "source": [
    "# .drop_duplicates()\n",
    "# these are the duplicate values with same video id\n",
    "duplicates = trending_youtube[trending_youtube['video_id'].duplicated() == True]\n",
    "duplicates"
   ]
  },
  {
   "cell_type": "markdown",
   "id": "e2092f9b",
   "metadata": {},
   "source": [
    "There is almost 7 duplicates for a single video! since while collecting dataset, the video can remain in the trending page for a while so when collecting the dataset it will get the video multiple times but with different viewer count and comments and other variables. so when we drop our duplicates we make sure to leave the last time the video was trending."
   ]
  },
  {
   "cell_type": "code",
   "execution_count": 48,
   "id": "1fd049dd",
   "metadata": {},
   "outputs": [
    {
     "data": {
      "text/html": [
       "<div>\n",
       "<style scoped>\n",
       "    .dataframe tbody tr th:only-of-type {\n",
       "        vertical-align: middle;\n",
       "    }\n",
       "\n",
       "    .dataframe tbody tr th {\n",
       "        vertical-align: top;\n",
       "    }\n",
       "\n",
       "    .dataframe thead th {\n",
       "        text-align: right;\n",
       "    }\n",
       "</style>\n",
       "<table border=\"1\" class=\"dataframe\">\n",
       "  <thead>\n",
       "    <tr style=\"text-align: right;\">\n",
       "      <th></th>\n",
       "      <th>video_id</th>\n",
       "      <th>title</th>\n",
       "      <th>publishedAt</th>\n",
       "      <th>channelId</th>\n",
       "      <th>channelTitle</th>\n",
       "      <th>categoryId</th>\n",
       "      <th>trending_date</th>\n",
       "      <th>tags</th>\n",
       "      <th>view_count</th>\n",
       "      <th>likes</th>\n",
       "      <th>dislikes</th>\n",
       "      <th>comment_count</th>\n",
       "      <th>thumbnail_link</th>\n",
       "      <th>comments_disabled</th>\n",
       "      <th>ratings_disabled</th>\n",
       "      <th>description</th>\n",
       "    </tr>\n",
       "  </thead>\n",
       "  <tbody>\n",
       "    <tr>\n",
       "      <th>2</th>\n",
       "      <td>J78aPJ3VyNs</td>\n",
       "      <td>I left youtube for a month and THIS is what ha...</td>\n",
       "      <td>2020-08-11T16:34:06Z</td>\n",
       "      <td>UCYzPXprvl5Y-Sf0g4vX-m6g</td>\n",
       "      <td>jacksepticeye</td>\n",
       "      <td>24</td>\n",
       "      <td>2020-08-12T00:00:00Z</td>\n",
       "      <td>jacksepticeye funny funny meme memes jacksepti...</td>\n",
       "      <td>2038853</td>\n",
       "      <td>353787</td>\n",
       "      <td>2628</td>\n",
       "      <td>40221</td>\n",
       "      <td>https://i.ytimg.com/vi/J78aPJ3VyNs/default.jpg</td>\n",
       "      <td>False</td>\n",
       "      <td>False</td>\n",
       "      <td>I left youtube for a month and this is what ha...</td>\n",
       "    </tr>\n",
       "    <tr>\n",
       "      <th>207</th>\n",
       "      <td>J78aPJ3VyNs</td>\n",
       "      <td>I left youtube for a month and THIS is what ha...</td>\n",
       "      <td>2020-08-11T16:34:06Z</td>\n",
       "      <td>UCYzPXprvl5Y-Sf0g4vX-m6g</td>\n",
       "      <td>jacksepticeye</td>\n",
       "      <td>24</td>\n",
       "      <td>2020-08-13T00:00:00Z</td>\n",
       "      <td>jacksepticeye funny funny meme memes jacksepti...</td>\n",
       "      <td>2802823</td>\n",
       "      <td>401421</td>\n",
       "      <td>3728</td>\n",
       "      <td>44546</td>\n",
       "      <td>https://i.ytimg.com/vi/J78aPJ3VyNs/default.jpg</td>\n",
       "      <td>False</td>\n",
       "      <td>False</td>\n",
       "      <td>I left youtube for a month and this is what ha...</td>\n",
       "    </tr>\n",
       "    <tr>\n",
       "      <th>442</th>\n",
       "      <td>J78aPJ3VyNs</td>\n",
       "      <td>I left youtube for a month and THIS is what ha...</td>\n",
       "      <td>2020-08-11T16:34:06Z</td>\n",
       "      <td>UCYzPXprvl5Y-Sf0g4vX-m6g</td>\n",
       "      <td>jacksepticeye</td>\n",
       "      <td>24</td>\n",
       "      <td>2020-08-14T00:00:00Z</td>\n",
       "      <td>jacksepticeye funny funny meme memes jacksepti...</td>\n",
       "      <td>3136088</td>\n",
       "      <td>427609</td>\n",
       "      <td>4009</td>\n",
       "      <td>46133</td>\n",
       "      <td>https://i.ytimg.com/vi/J78aPJ3VyNs/default.jpg</td>\n",
       "      <td>False</td>\n",
       "      <td>False</td>\n",
       "      <td>I left youtube for a month and this is what ha...</td>\n",
       "    </tr>\n",
       "    <tr>\n",
       "      <th>657</th>\n",
       "      <td>J78aPJ3VyNs</td>\n",
       "      <td>I left youtube for a month and THIS is what ha...</td>\n",
       "      <td>2020-08-11T16:34:06Z</td>\n",
       "      <td>UCYzPXprvl5Y-Sf0g4vX-m6g</td>\n",
       "      <td>jacksepticeye</td>\n",
       "      <td>24</td>\n",
       "      <td>2020-08-15T00:00:00Z</td>\n",
       "      <td>jacksepticeye funny funny meme memes jacksepti...</td>\n",
       "      <td>3309124</td>\n",
       "      <td>442555</td>\n",
       "      <td>4156</td>\n",
       "      <td>46699</td>\n",
       "      <td>https://i.ytimg.com/vi/J78aPJ3VyNs/default.jpg</td>\n",
       "      <td>False</td>\n",
       "      <td>False</td>\n",
       "      <td>I left youtube for a month and this is what ha...</td>\n",
       "    </tr>\n",
       "    <tr>\n",
       "      <th>909</th>\n",
       "      <td>J78aPJ3VyNs</td>\n",
       "      <td>I left youtube for a month and THIS is what ha...</td>\n",
       "      <td>2020-08-11T16:34:06Z</td>\n",
       "      <td>UCYzPXprvl5Y-Sf0g4vX-m6g</td>\n",
       "      <td>jacksepticeye</td>\n",
       "      <td>24</td>\n",
       "      <td>2020-08-16T00:00:00Z</td>\n",
       "      <td>jacksepticeye funny funny meme memes jacksepti...</td>\n",
       "      <td>3384892</td>\n",
       "      <td>448809</td>\n",
       "      <td>4209</td>\n",
       "      <td>47003</td>\n",
       "      <td>https://i.ytimg.com/vi/J78aPJ3VyNs/default.jpg</td>\n",
       "      <td>False</td>\n",
       "      <td>False</td>\n",
       "      <td>I left youtube for a month and this is what ha...</td>\n",
       "    </tr>\n",
       "    <tr>\n",
       "      <th>1159</th>\n",
       "      <td>J78aPJ3VyNs</td>\n",
       "      <td>I left youtube for a month and THIS is what ha...</td>\n",
       "      <td>2020-08-11T16:34:06Z</td>\n",
       "      <td>UCYzPXprvl5Y-Sf0g4vX-m6g</td>\n",
       "      <td>jacksepticeye</td>\n",
       "      <td>24</td>\n",
       "      <td>2020-08-17T00:00:00Z</td>\n",
       "      <td>jacksepticeye funny funny meme memes jacksepti...</td>\n",
       "      <td>3439181</td>\n",
       "      <td>453464</td>\n",
       "      <td>4246</td>\n",
       "      <td>47188</td>\n",
       "      <td>https://i.ytimg.com/vi/J78aPJ3VyNs/default.jpg</td>\n",
       "      <td>False</td>\n",
       "      <td>False</td>\n",
       "      <td>I left youtube for a month and this is what ha...</td>\n",
       "    </tr>\n",
       "    <tr>\n",
       "      <th>1399</th>\n",
       "      <td>J78aPJ3VyNs</td>\n",
       "      <td>I left youtube for a month and THIS is what ha...</td>\n",
       "      <td>2020-08-11T16:34:06Z</td>\n",
       "      <td>UCYzPXprvl5Y-Sf0g4vX-m6g</td>\n",
       "      <td>jacksepticeye</td>\n",
       "      <td>24</td>\n",
       "      <td>2020-08-18T00:00:00Z</td>\n",
       "      <td>jacksepticeye funny funny meme memes jacksepti...</td>\n",
       "      <td>3490530</td>\n",
       "      <td>457130</td>\n",
       "      <td>4269</td>\n",
       "      <td>47291</td>\n",
       "      <td>https://i.ytimg.com/vi/J78aPJ3VyNs/default.jpg</td>\n",
       "      <td>False</td>\n",
       "      <td>False</td>\n",
       "      <td>I left youtube for a month and this is what ha...</td>\n",
       "    </tr>\n",
       "  </tbody>\n",
       "</table>\n",
       "</div>"
      ],
      "text/plain": [
       "         video_id                                              title  \\\n",
       "2     J78aPJ3VyNs  I left youtube for a month and THIS is what ha...   \n",
       "207   J78aPJ3VyNs  I left youtube for a month and THIS is what ha...   \n",
       "442   J78aPJ3VyNs  I left youtube for a month and THIS is what ha...   \n",
       "657   J78aPJ3VyNs  I left youtube for a month and THIS is what ha...   \n",
       "909   J78aPJ3VyNs  I left youtube for a month and THIS is what ha...   \n",
       "1159  J78aPJ3VyNs  I left youtube for a month and THIS is what ha...   \n",
       "1399  J78aPJ3VyNs  I left youtube for a month and THIS is what ha...   \n",
       "\n",
       "               publishedAt                 channelId   channelTitle  \\\n",
       "2     2020-08-11T16:34:06Z  UCYzPXprvl5Y-Sf0g4vX-m6g  jacksepticeye   \n",
       "207   2020-08-11T16:34:06Z  UCYzPXprvl5Y-Sf0g4vX-m6g  jacksepticeye   \n",
       "442   2020-08-11T16:34:06Z  UCYzPXprvl5Y-Sf0g4vX-m6g  jacksepticeye   \n",
       "657   2020-08-11T16:34:06Z  UCYzPXprvl5Y-Sf0g4vX-m6g  jacksepticeye   \n",
       "909   2020-08-11T16:34:06Z  UCYzPXprvl5Y-Sf0g4vX-m6g  jacksepticeye   \n",
       "1159  2020-08-11T16:34:06Z  UCYzPXprvl5Y-Sf0g4vX-m6g  jacksepticeye   \n",
       "1399  2020-08-11T16:34:06Z  UCYzPXprvl5Y-Sf0g4vX-m6g  jacksepticeye   \n",
       "\n",
       "      categoryId         trending_date  \\\n",
       "2             24  2020-08-12T00:00:00Z   \n",
       "207           24  2020-08-13T00:00:00Z   \n",
       "442           24  2020-08-14T00:00:00Z   \n",
       "657           24  2020-08-15T00:00:00Z   \n",
       "909           24  2020-08-16T00:00:00Z   \n",
       "1159          24  2020-08-17T00:00:00Z   \n",
       "1399          24  2020-08-18T00:00:00Z   \n",
       "\n",
       "                                                   tags  view_count   likes  \\\n",
       "2     jacksepticeye funny funny meme memes jacksepti...     2038853  353787   \n",
       "207   jacksepticeye funny funny meme memes jacksepti...     2802823  401421   \n",
       "442   jacksepticeye funny funny meme memes jacksepti...     3136088  427609   \n",
       "657   jacksepticeye funny funny meme memes jacksepti...     3309124  442555   \n",
       "909   jacksepticeye funny funny meme memes jacksepti...     3384892  448809   \n",
       "1159  jacksepticeye funny funny meme memes jacksepti...     3439181  453464   \n",
       "1399  jacksepticeye funny funny meme memes jacksepti...     3490530  457130   \n",
       "\n",
       "      dislikes  comment_count                                  thumbnail_link  \\\n",
       "2         2628          40221  https://i.ytimg.com/vi/J78aPJ3VyNs/default.jpg   \n",
       "207       3728          44546  https://i.ytimg.com/vi/J78aPJ3VyNs/default.jpg   \n",
       "442       4009          46133  https://i.ytimg.com/vi/J78aPJ3VyNs/default.jpg   \n",
       "657       4156          46699  https://i.ytimg.com/vi/J78aPJ3VyNs/default.jpg   \n",
       "909       4209          47003  https://i.ytimg.com/vi/J78aPJ3VyNs/default.jpg   \n",
       "1159      4246          47188  https://i.ytimg.com/vi/J78aPJ3VyNs/default.jpg   \n",
       "1399      4269          47291  https://i.ytimg.com/vi/J78aPJ3VyNs/default.jpg   \n",
       "\n",
       "      comments_disabled  ratings_disabled  \\\n",
       "2                 False             False   \n",
       "207               False             False   \n",
       "442               False             False   \n",
       "657               False             False   \n",
       "909               False             False   \n",
       "1159              False             False   \n",
       "1399              False             False   \n",
       "\n",
       "                                            description  \n",
       "2     I left youtube for a month and this is what ha...  \n",
       "207   I left youtube for a month and this is what ha...  \n",
       "442   I left youtube for a month and this is what ha...  \n",
       "657   I left youtube for a month and this is what ha...  \n",
       "909   I left youtube for a month and this is what ha...  \n",
       "1159  I left youtube for a month and this is what ha...  \n",
       "1399  I left youtube for a month and this is what ha...  "
      ]
     },
     "execution_count": 48,
     "metadata": {},
     "output_type": "execute_result"
    }
   ],
   "source": [
    "trending_youtube[trending_youtube['video_id'] == \"J78aPJ3VyNs\"]"
   ]
  },
  {
   "cell_type": "code",
   "execution_count": 49,
   "id": "18ea7b0c",
   "metadata": {},
   "outputs": [
    {
     "data": {
      "text/plain": [
       "145021"
      ]
     },
     "execution_count": 49,
     "metadata": {},
     "output_type": "execute_result"
    }
   ],
   "source": [
    "len(duplicates['video_id'])"
   ]
  },
  {
   "cell_type": "code",
   "execution_count": 50,
   "id": "32b99687",
   "metadata": {},
   "outputs": [],
   "source": [
    "trending_youtube.drop_duplicates(subset=['title','video_id'], keep='last' , inplace= True)"
   ]
  },
  {
   "cell_type": "code",
   "execution_count": 51,
   "id": "5563f1a5",
   "metadata": {},
   "outputs": [
    {
     "data": {
      "text/html": [
       "<div>\n",
       "<style scoped>\n",
       "    .dataframe tbody tr th:only-of-type {\n",
       "        vertical-align: middle;\n",
       "    }\n",
       "\n",
       "    .dataframe tbody tr th {\n",
       "        vertical-align: top;\n",
       "    }\n",
       "\n",
       "    .dataframe thead th {\n",
       "        text-align: right;\n",
       "    }\n",
       "</style>\n",
       "<table border=\"1\" class=\"dataframe\">\n",
       "  <thead>\n",
       "    <tr style=\"text-align: right;\">\n",
       "      <th></th>\n",
       "      <th>video_id</th>\n",
       "      <th>title</th>\n",
       "      <th>publishedAt</th>\n",
       "      <th>channelId</th>\n",
       "      <th>channelTitle</th>\n",
       "      <th>categoryId</th>\n",
       "      <th>trending_date</th>\n",
       "      <th>tags</th>\n",
       "      <th>view_count</th>\n",
       "      <th>likes</th>\n",
       "      <th>dislikes</th>\n",
       "      <th>comment_count</th>\n",
       "      <th>thumbnail_link</th>\n",
       "      <th>comments_disabled</th>\n",
       "      <th>ratings_disabled</th>\n",
       "      <th>description</th>\n",
       "    </tr>\n",
       "  </thead>\n",
       "  <tbody>\n",
       "    <tr>\n",
       "      <th>1399</th>\n",
       "      <td>J78aPJ3VyNs</td>\n",
       "      <td>I left youtube for a month and THIS is what ha...</td>\n",
       "      <td>2020-08-11T16:34:06Z</td>\n",
       "      <td>UCYzPXprvl5Y-Sf0g4vX-m6g</td>\n",
       "      <td>jacksepticeye</td>\n",
       "      <td>24</td>\n",
       "      <td>2020-08-18T00:00:00Z</td>\n",
       "      <td>jacksepticeye funny funny meme memes jacksepti...</td>\n",
       "      <td>3490530</td>\n",
       "      <td>457130</td>\n",
       "      <td>4269</td>\n",
       "      <td>47291</td>\n",
       "      <td>https://i.ytimg.com/vi/J78aPJ3VyNs/default.jpg</td>\n",
       "      <td>False</td>\n",
       "      <td>False</td>\n",
       "      <td>I left youtube for a month and this is what ha...</td>\n",
       "    </tr>\n",
       "  </tbody>\n",
       "</table>\n",
       "</div>"
      ],
      "text/plain": [
       "         video_id                                              title  \\\n",
       "1399  J78aPJ3VyNs  I left youtube for a month and THIS is what ha...   \n",
       "\n",
       "               publishedAt                 channelId   channelTitle  \\\n",
       "1399  2020-08-11T16:34:06Z  UCYzPXprvl5Y-Sf0g4vX-m6g  jacksepticeye   \n",
       "\n",
       "      categoryId         trending_date  \\\n",
       "1399          24  2020-08-18T00:00:00Z   \n",
       "\n",
       "                                                   tags  view_count   likes  \\\n",
       "1399  jacksepticeye funny funny meme memes jacksepti...     3490530  457130   \n",
       "\n",
       "      dislikes  comment_count                                  thumbnail_link  \\\n",
       "1399      4269          47291  https://i.ytimg.com/vi/J78aPJ3VyNs/default.jpg   \n",
       "\n",
       "      comments_disabled  ratings_disabled  \\\n",
       "1399              False             False   \n",
       "\n",
       "                                            description  \n",
       "1399  I left youtube for a month and this is what ha...  "
      ]
     },
     "execution_count": 51,
     "metadata": {},
     "output_type": "execute_result"
    }
   ],
   "source": [
    "# last updated video before leaving the trending page\n",
    "trending_youtube[trending_youtube['video_id'] == \"J78aPJ3VyNs\"]"
   ]
  },
  {
   "cell_type": "code",
   "execution_count": 52,
   "id": "e3f0d858",
   "metadata": {},
   "outputs": [
    {
     "data": {
      "text/plain": [
       "33590"
      ]
     },
     "execution_count": 52,
     "metadata": {},
     "output_type": "execute_result"
    }
   ],
   "source": [
    "len(trending_youtube)"
   ]
  },
  {
   "cell_type": "code",
   "execution_count": 54,
   "id": "27c1e69c",
   "metadata": {},
   "outputs": [],
   "source": [
    "#Trending date column has object data type which needs to changed as datetime\n",
    "trending_youtube['trending_date'] = pd.to_datetime(trending_youtube['trending_date'], format = \"%Y-%m-%dT%H:%M:%SZ\")"
   ]
  },
  {
   "cell_type": "code",
   "execution_count": 55,
   "id": "1e946f01",
   "metadata": {},
   "outputs": [],
   "source": [
    "#The publishedAt column converted with the astype function\n",
    "trending_youtube['publishedAt'] = trending_youtube['publishedAt'].astype('datetime64[ns]')"
   ]
  },
  {
   "cell_type": "code",
   "execution_count": 56,
   "id": "6311dd75",
   "metadata": {},
   "outputs": [
    {
     "data": {
      "text/html": [
       "<div>\n",
       "<style scoped>\n",
       "    .dataframe tbody tr th:only-of-type {\n",
       "        vertical-align: middle;\n",
       "    }\n",
       "\n",
       "    .dataframe tbody tr th {\n",
       "        vertical-align: top;\n",
       "    }\n",
       "\n",
       "    .dataframe thead th {\n",
       "        text-align: right;\n",
       "    }\n",
       "</style>\n",
       "<table border=\"1\" class=\"dataframe\">\n",
       "  <thead>\n",
       "    <tr style=\"text-align: right;\">\n",
       "      <th></th>\n",
       "      <th>publishedAt</th>\n",
       "      <th>trending_date</th>\n",
       "    </tr>\n",
       "  </thead>\n",
       "  <tbody>\n",
       "    <tr>\n",
       "      <th>13</th>\n",
       "      <td>2020-08-11 19:00:10</td>\n",
       "      <td>2020-08-12</td>\n",
       "    </tr>\n",
       "    <tr>\n",
       "      <th>58</th>\n",
       "      <td>2020-08-11 11:08:04</td>\n",
       "      <td>2020-08-12</td>\n",
       "    </tr>\n",
       "    <tr>\n",
       "      <th>172</th>\n",
       "      <td>2020-08-07 18:30:06</td>\n",
       "      <td>2020-08-12</td>\n",
       "    </tr>\n",
       "    <tr>\n",
       "      <th>173</th>\n",
       "      <td>2020-08-07 09:30:04</td>\n",
       "      <td>2020-08-12</td>\n",
       "    </tr>\n",
       "    <tr>\n",
       "      <th>174</th>\n",
       "      <td>2020-08-06 19:47:12</td>\n",
       "      <td>2020-08-12</td>\n",
       "    </tr>\n",
       "  </tbody>\n",
       "</table>\n",
       "</div>"
      ],
      "text/plain": [
       "            publishedAt trending_date\n",
       "13  2020-08-11 19:00:10    2020-08-12\n",
       "58  2020-08-11 11:08:04    2020-08-12\n",
       "172 2020-08-07 18:30:06    2020-08-12\n",
       "173 2020-08-07 09:30:04    2020-08-12\n",
       "174 2020-08-06 19:47:12    2020-08-12"
      ]
     },
     "execution_count": 56,
     "metadata": {},
     "output_type": "execute_result"
    }
   ],
   "source": [
    "trending_youtube[['publishedAt', 'trending_date']].head()"
   ]
  },
  {
   "cell_type": "code",
   "execution_count": 57,
   "id": "3c2a495c",
   "metadata": {},
   "outputs": [
    {
     "data": {
      "text/plain": [
       "trending_date    datetime64[ns]\n",
       "publishedAt      datetime64[ns]\n",
       "dtype: object"
      ]
     },
     "execution_count": 57,
     "metadata": {},
     "output_type": "execute_result"
    }
   ],
   "source": [
    "trending_youtube[['trending_date','publishedAt']].dtypes\n"
   ]
  },
  {
   "cell_type": "markdown",
   "id": "9277d9f5",
   "metadata": {},
   "source": [
    "Since we dropped rows and change few parts in the dataset, the indexing of the dataframe won't be coherent, we can simply reset it."
   ]
  },
  {
   "cell_type": "code",
   "execution_count": 58,
   "id": "2bafd09c",
   "metadata": {},
   "outputs": [
    {
     "data": {
      "text/plain": [
       "Int64Index([    13,     58,    172,    173,    174,    175,    176,    177,\n",
       "               178,    179,\n",
       "            ...\n",
       "            180980, 180981, 180982, 180983, 180984, 180985, 180986, 180987,\n",
       "            180988, 180989],\n",
       "           dtype='int64', length=33590)"
      ]
     },
     "execution_count": 58,
     "metadata": {},
     "output_type": "execute_result"
    }
   ],
   "source": [
    "trending_youtube.index"
   ]
  },
  {
   "cell_type": "code",
   "execution_count": 59,
   "id": "a913c0a1",
   "metadata": {},
   "outputs": [],
   "source": [
    "trending_youtube.reset_index(drop=True, inplace=True)"
   ]
  },
  {
   "cell_type": "code",
   "execution_count": 60,
   "id": "062bb0dc",
   "metadata": {},
   "outputs": [
    {
     "data": {
      "text/plain": [
       "RangeIndex(start=0, stop=33590, step=1)"
      ]
     },
     "execution_count": 60,
     "metadata": {},
     "output_type": "execute_result"
    }
   ],
   "source": [
    "trending_youtube.index"
   ]
  },
  {
   "cell_type": "code",
   "execution_count": 62,
   "id": "97a6a335",
   "metadata": {},
   "outputs": [
    {
     "data": {
      "text/plain": [
       "0   0 days 04:59:50\n",
       "1   0 days 12:51:56\n",
       "2   4 days 05:29:54\n",
       "3   4 days 14:29:56\n",
       "4   5 days 04:12:48\n",
       "Name: time_diff, dtype: timedelta64[ns]"
      ]
     },
     "execution_count": 62,
     "metadata": {},
     "output_type": "execute_result"
    }
   ],
   "source": [
    "# create time_diff colume to calculate the difference between the time a video is published and its trending time\n",
    "trending_youtube['time_diff'] = trending_youtube['trending_date'] - trending_youtube['publishedAt']\n",
    "trending_youtube['time_diff'].head()"
   ]
  },
  {
   "cell_type": "code",
   "execution_count": 63,
   "id": "065003dc",
   "metadata": {},
   "outputs": [
    {
     "data": {
      "text/plain": [
       "6947"
      ]
     },
     "execution_count": 63,
     "metadata": {},
     "output_type": "execute_result"
    }
   ],
   "source": [
    "trending_youtube.channelTitle.nunique() #check the number of unique channels."
   ]
  },
  {
   "cell_type": "code",
   "execution_count": 64,
   "id": "0d60d232",
   "metadata": {},
   "outputs": [],
   "source": [
    "# convert time_diff to a numerical variable to plot its distribution\n",
    "#convert it to hours\n",
    "trending_youtube['time_diff_hour'] = trending_youtube['time_diff'] / pd.Timedelta('1 hour')"
   ]
  },
  {
   "cell_type": "code",
   "execution_count": 65,
   "id": "2088bdff",
   "metadata": {},
   "outputs": [
    {
     "data": {
      "text/plain": [
       "126.8738911382392"
      ]
     },
     "execution_count": 65,
     "metadata": {},
     "output_type": "execute_result"
    }
   ],
   "source": [
    "trending_youtube['time_diff_hour'].mean()"
   ]
  },
  {
   "cell_type": "code",
   "execution_count": 66,
   "id": "9d397e2b",
   "metadata": {},
   "outputs": [
    {
     "data": {
      "text/plain": [
       "125.99694444444444"
      ]
     },
     "execution_count": 66,
     "metadata": {},
     "output_type": "execute_result"
    }
   ],
   "source": [
    "trending_youtube['time_diff_hour'].median()\n"
   ]
  },
  {
   "cell_type": "code",
   "execution_count": 67,
   "id": "340e389f",
   "metadata": {},
   "outputs": [
    {
     "data": {
      "text/plain": [
       "45.958005139788085"
      ]
     },
     "execution_count": 67,
     "metadata": {},
     "output_type": "execute_result"
    }
   ],
   "source": [
    "trending_youtube['time_diff_hour'].std()"
   ]
  },
  {
   "cell_type": "code",
   "execution_count": 68,
   "id": "e6b7f1d5",
   "metadata": {},
   "outputs": [
    {
     "data": {
      "text/plain": [
       "5.286412130759967"
      ]
     },
     "execution_count": 68,
     "metadata": {},
     "output_type": "execute_result"
    }
   ],
   "source": [
    "#take the mean and divide by 24\n",
    "trending_youtube['time_diff_hour'].mean() / 24"
   ]
  },
  {
   "cell_type": "code",
   "execution_count": 69,
   "id": "e01ca69c",
   "metadata": {},
   "outputs": [
    {
     "data": {
      "image/png": "[encoded data removed]",
      "text/plain": [
       "<Figure size 432x288 with 1 Axes>"
      ]
     },
     "metadata": {},
     "output_type": "display_data"
    }
   ],
   "source": [
    "#use a box plot for visualization to give us an overview of the distribution\n",
    "a = sns.boxplot(data=trending_youtube, y='time_diff_hour')\n",
    "a.set(xlabel='Time diffrence', ylabel='')\n",
    "_ = plt.title(\"Time difference of trending videos\", fontsize = 18)"
   ]
  },
  {
   "cell_type": "markdown",
   "id": "15b96fca",
   "metadata": {},
   "source": [
    "Eliminate the outliers"
   ]
  },
  {
   "cell_type": "code",
   "execution_count": 70,
   "id": "f7c1a929",
   "metadata": {},
   "outputs": [
    {
     "data": {
      "text/plain": [
       "33590"
      ]
     },
     "execution_count": 70,
     "metadata": {},
     "output_type": "execute_result"
    }
   ],
   "source": [
    "len(trending_youtube)"
   ]
  },
  {
   "cell_type": "code",
   "execution_count": 71,
   "id": "396aa58c",
   "metadata": {},
   "outputs": [
    {
     "data": {
      "text/plain": [
       "40"
      ]
     },
     "execution_count": 71,
     "metadata": {},
     "output_type": "execute_result"
    }
   ],
   "source": [
    "len(trending_youtube[trending_youtube.time_diff_hour > 600])"
   ]
  },
  {
   "cell_type": "code",
   "execution_count": 72,
   "id": "a72cbe90",
   "metadata": {},
   "outputs": [
    {
     "data": {
      "text/plain": [
       "33550"
      ]
     },
     "execution_count": 72,
     "metadata": {},
     "output_type": "execute_result"
    }
   ],
   "source": [
    "len(trending_youtube[trending_youtube.time_diff_hour <= 600])"
   ]
  },
  {
   "cell_type": "markdown",
   "id": "437c531a",
   "metadata": {},
   "source": [
    "compare the average views of trending videos published by these channels"
   ]
  },
  {
   "cell_type": "code",
   "execution_count": 73,
   "id": "14f5e5b3",
   "metadata": {},
   "outputs": [
    {
     "data": {
      "text/html": [
       "<div>\n",
       "<style scoped>\n",
       "    .dataframe tbody tr th:only-of-type {\n",
       "        vertical-align: middle;\n",
       "    }\n",
       "\n",
       "    .dataframe tbody tr th {\n",
       "        vertical-align: top;\n",
       "    }\n",
       "\n",
       "    .dataframe thead tr th {\n",
       "        text-align: left;\n",
       "    }\n",
       "\n",
       "    .dataframe thead tr:last-of-type th {\n",
       "        text-align: right;\n",
       "    }\n",
       "</style>\n",
       "<table border=\"1\" class=\"dataframe\">\n",
       "  <thead>\n",
       "    <tr>\n",
       "      <th></th>\n",
       "      <th colspan=\"2\" halign=\"left\">views_mil</th>\n",
       "    </tr>\n",
       "    <tr>\n",
       "      <th></th>\n",
       "      <th>mean</th>\n",
       "      <th>count</th>\n",
       "    </tr>\n",
       "    <tr>\n",
       "      <th>channelId</th>\n",
       "      <th></th>\n",
       "      <th></th>\n",
       "    </tr>\n",
       "  </thead>\n",
       "  <tbody>\n",
       "    <tr>\n",
       "      <th>UCDVYQ4Zhbm3S2dlz7P1GBDg</th>\n",
       "      <td>2.485232</td>\n",
       "      <td>322</td>\n",
       "    </tr>\n",
       "    <tr>\n",
       "      <th>UCWJ2lWNubArHWmf3FIHbfcQ</th>\n",
       "      <td>2.203794</td>\n",
       "      <td>291</td>\n",
       "    </tr>\n",
       "    <tr>\n",
       "      <th>UCqZQlzSHbVJrwrn5XvzrzcA</th>\n",
       "      <td>1.330555</td>\n",
       "      <td>126</td>\n",
       "    </tr>\n",
       "    <tr>\n",
       "      <th>UCpB959t8iPrxQWj7G6n0ctQ</th>\n",
       "      <td>5.381445</td>\n",
       "      <td>117</td>\n",
       "    </tr>\n",
       "    <tr>\n",
       "      <th>UCke6I9N4KfC968-yRcd5YRg</th>\n",
       "      <td>4.302834</td>\n",
       "      <td>105</td>\n",
       "    </tr>\n",
       "    <tr>\n",
       "      <th>UCET00YnetHT7tOpu12v8jxg</th>\n",
       "      <td>1.080848</td>\n",
       "      <td>101</td>\n",
       "    </tr>\n",
       "    <tr>\n",
       "      <th>UCiWLfSweyRNmLpgEHekhoAg</th>\n",
       "      <td>1.262062</td>\n",
       "      <td>93</td>\n",
       "    </tr>\n",
       "    <tr>\n",
       "      <th>UCqFzWxSCi39LnW1JKFR3efg</th>\n",
       "      <td>3.492296</td>\n",
       "      <td>85</td>\n",
       "    </tr>\n",
       "    <tr>\n",
       "      <th>UCtI0Hodo5o5dUb67FeUjDeA</th>\n",
       "      <td>1.290633</td>\n",
       "      <td>81</td>\n",
       "    </tr>\n",
       "    <tr>\n",
       "      <th>UCHnyfMqiRRG1u-2MsSQLbXA</th>\n",
       "      <td>3.251403</td>\n",
       "      <td>78</td>\n",
       "    </tr>\n",
       "  </tbody>\n",
       "</table>\n",
       "</div>"
      ],
      "text/plain": [
       "                         views_mil      \n",
       "                              mean count\n",
       "channelId                               \n",
       "UCDVYQ4Zhbm3S2dlz7P1GBDg  2.485232   322\n",
       "UCWJ2lWNubArHWmf3FIHbfcQ  2.203794   291\n",
       "UCqZQlzSHbVJrwrn5XvzrzcA  1.330555   126\n",
       "UCpB959t8iPrxQWj7G6n0ctQ  5.381445   117\n",
       "UCke6I9N4KfC968-yRcd5YRg  4.302834   105\n",
       "UCET00YnetHT7tOpu12v8jxg  1.080848   101\n",
       "UCiWLfSweyRNmLpgEHekhoAg  1.262062    93\n",
       "UCqFzWxSCi39LnW1JKFR3efg  3.492296    85\n",
       "UCtI0Hodo5o5dUb67FeUjDeA  1.290633    81\n",
       "UCHnyfMqiRRG1u-2MsSQLbXA  3.251403    78"
      ]
     },
     "execution_count": 73,
     "metadata": {},
     "output_type": "execute_result"
    }
   ],
   "source": [
    "#compare the average views of trending videos published by these channels\n",
    "trending_youtube['views_mil'] = trending_youtube['view_count'] / 1000000\n",
    "trending_youtube[['channelId','views_mil']].groupby('channelId')\\\n",
    ".agg(['mean','count'])\\\n",
    ".sort_values(by=('views_mil','count'), ascending=False)[:10]"
   ]
  },
  {
   "cell_type": "markdown",
   "id": "b5392fe6",
   "metadata": {},
   "source": [
    "The number of trending videos changes over time"
   ]
  },
  {
   "cell_type": "code",
   "execution_count": 74,
   "id": "eeaceafc",
   "metadata": {},
   "outputs": [],
   "source": [
    "#The number of trending videos changes over time\n",
    "daily = trending_youtube[['trending_date']].value_counts().reset_index()\\\n",
    ".sort_values(by='trending_date').reset_index(drop=True)"
   ]
  },
  {
   "cell_type": "code",
   "execution_count": 75,
   "id": "7e173686",
   "metadata": {},
   "outputs": [
    {
     "data": {
      "text/html": [
       "<div>\n",
       "<style scoped>\n",
       "    .dataframe tbody tr th:only-of-type {\n",
       "        vertical-align: middle;\n",
       "    }\n",
       "\n",
       "    .dataframe tbody tr th {\n",
       "        vertical-align: top;\n",
       "    }\n",
       "\n",
       "    .dataframe thead th {\n",
       "        text-align: right;\n",
       "    }\n",
       "</style>\n",
       "<table border=\"1\" class=\"dataframe\">\n",
       "  <thead>\n",
       "    <tr style=\"text-align: right;\">\n",
       "      <th></th>\n",
       "      <th>trending_date</th>\n",
       "      <th>0</th>\n",
       "    </tr>\n",
       "  </thead>\n",
       "  <tbody>\n",
       "    <tr>\n",
       "      <th>0</th>\n",
       "      <td>2020-08-12</td>\n",
       "      <td>30</td>\n",
       "    </tr>\n",
       "    <tr>\n",
       "      <th>1</th>\n",
       "      <td>2020-08-13</td>\n",
       "      <td>28</td>\n",
       "    </tr>\n",
       "    <tr>\n",
       "      <th>2</th>\n",
       "      <td>2020-08-14</td>\n",
       "      <td>25</td>\n",
       "    </tr>\n",
       "    <tr>\n",
       "      <th>3</th>\n",
       "      <td>2020-08-15</td>\n",
       "      <td>52</td>\n",
       "    </tr>\n",
       "    <tr>\n",
       "      <th>4</th>\n",
       "      <td>2020-08-16</td>\n",
       "      <td>51</td>\n",
       "    </tr>\n",
       "  </tbody>\n",
       "</table>\n",
       "</div>"
      ],
      "text/plain": [
       "  trending_date   0\n",
       "0    2020-08-12  30\n",
       "1    2020-08-13  28\n",
       "2    2020-08-14  25\n",
       "3    2020-08-15  52\n",
       "4    2020-08-16  51"
      ]
     },
     "execution_count": 75,
     "metadata": {},
     "output_type": "execute_result"
    }
   ],
   "source": [
    "daily.head()"
   ]
  },
  {
   "cell_type": "code",
   "execution_count": 76,
   "id": "5a9f6156",
   "metadata": {},
   "outputs": [
    {
     "data": {
      "image/png": "[encoded data removed]",
      "text/plain": [
       "<Figure size 900x360 with 1 Axes>"
      ]
     },
     "metadata": {},
     "output_type": "display_data"
    }
   ],
   "source": [
    "#Generate a line plot based over time\n",
    "a = sns.relplot(data=daily, x='trending_date', y=0,\n",
    "kind='line', aspect=2.5)\n",
    "a.set( xlabel='dates', ylabel='Number of videos')\n",
    "_ = plt.title(\"Number of trending videos over time\", fontsize = 20)"
   ]
  },
  {
   "cell_type": "markdown",
   "id": "5feae6b4-cc82-4cdc-a73f-f4b042cb250f",
   "metadata": {},
   "source": [
    "#### What categories that youtube users in the US are interested in?"
   ]
  },
  {
   "cell_type": "code",
   "execution_count": 77,
   "id": "c3284642-5cbb-465b-a38c-90b549a5a5a6",
   "metadata": {},
   "outputs": [],
   "source": [
    "#creating dictionary for json file provided for category and category id\n",
    "category_dict = {}\n",
    "for i in US_category_id['items']:\n",
    "    category_dict[i['id']] = i['snippet']['title']"
   ]
  },
  {
   "cell_type": "code",
   "execution_count": 80,
   "id": "3c750259-e61f-4093-87f3-0ec6b8bd835d",
   "metadata": {},
   "outputs": [],
   "source": [
    "#replacing the category id with category actual name \n",
    "def replace_categoryid(df):\n",
    "    if str(df) in category_dict:\n",
    "        return category_dict[str(df)]\n",
    "    \n",
    "trending_youtube['category'] = trending_youtube['categoryId'].apply(replace_categoryid)"
   ]
  },
  {
   "cell_type": "code",
   "execution_count": 82,
   "id": "c7a38d78-422a-4f26-a694-6fd0dce1a188",
   "metadata": {},
   "outputs": [
    {
     "name": "stdout",
     "output_type": "stream",
     "text": [
      "<class 'pandas.core.frame.DataFrame'>\n",
      "RangeIndex: 33590 entries, 0 to 33589\n",
      "Data columns (total 20 columns):\n",
      " #   Column             Non-Null Count  Dtype          \n",
      "---  ------             --------------  -----          \n",
      " 0   video_id           33590 non-null  object         \n",
      " 1   title              33590 non-null  object         \n",
      " 2   publishedAt        33590 non-null  datetime64[ns] \n",
      " 3   channelId          33590 non-null  object         \n",
      " 4   channelTitle       33590 non-null  object         \n",
      " 5   categoryId         33590 non-null  int64          \n",
      " 6   trending_date      33590 non-null  datetime64[ns] \n",
      " 7   tags               33590 non-null  object         \n",
      " 8   view_count         33590 non-null  int64          \n",
      " 9   likes              33590 non-null  int64          \n",
      " 10  dislikes           33590 non-null  int64          \n",
      " 11  comment_count      33590 non-null  int64          \n",
      " 12  thumbnail_link     33590 non-null  object         \n",
      " 13  comments_disabled  33590 non-null  bool           \n",
      " 14  ratings_disabled   33590 non-null  bool           \n",
      " 15  description        33590 non-null  object         \n",
      " 16  time_diff          33590 non-null  timedelta64[ns]\n",
      " 17  time_diff_hour     33590 non-null  float64        \n",
      " 18  views_mil          33590 non-null  float64        \n",
      " 19  category           33590 non-null  object         \n",
      "dtypes: bool(2), datetime64[ns](2), float64(2), int64(5), object(8), timedelta64[ns](1)\n",
      "memory usage: 4.7+ MB\n"
     ]
    }
   ],
   "source": [
    "trending_youtube.info()"
   ]
  },
  {
   "cell_type": "code",
   "execution_count": 83,
   "id": "79b19909-6402-4d37-87ee-fc886ac93814",
   "metadata": {
    "scrolled": true
   },
   "outputs": [
    {
     "data": {
      "text/html": [
       "<div>\n",
       "<style scoped>\n",
       "    .dataframe tbody tr th:only-of-type {\n",
       "        vertical-align: middle;\n",
       "    }\n",
       "\n",
       "    .dataframe tbody tr th {\n",
       "        vertical-align: top;\n",
       "    }\n",
       "\n",
       "    .dataframe thead th {\n",
       "        text-align: right;\n",
       "    }\n",
       "</style>\n",
       "<table border=\"1\" class=\"dataframe\">\n",
       "  <thead>\n",
       "    <tr style=\"text-align: right;\">\n",
       "      <th></th>\n",
       "      <th>view_count</th>\n",
       "      <th>likes</th>\n",
       "      <th>dislikes</th>\n",
       "      <th>comment_count</th>\n",
       "    </tr>\n",
       "    <tr>\n",
       "      <th>category</th>\n",
       "      <th></th>\n",
       "      <th></th>\n",
       "      <th></th>\n",
       "      <th></th>\n",
       "    </tr>\n",
       "  </thead>\n",
       "  <tbody>\n",
       "    <tr>\n",
       "      <th>Autos &amp; Vehicles</th>\n",
       "      <td>707827683</td>\n",
       "      <td>29292332</td>\n",
       "      <td>303007</td>\n",
       "      <td>2416743</td>\n",
       "    </tr>\n",
       "    <tr>\n",
       "      <th>Comedy</th>\n",
       "      <td>3233653382</td>\n",
       "      <td>226454731</td>\n",
       "      <td>2221489</td>\n",
       "      <td>10606038</td>\n",
       "    </tr>\n",
       "    <tr>\n",
       "      <th>Education</th>\n",
       "      <td>1677548721</td>\n",
       "      <td>91158491</td>\n",
       "      <td>911502</td>\n",
       "      <td>4969294</td>\n",
       "    </tr>\n",
       "    <tr>\n",
       "      <th>Entertainment</th>\n",
       "      <td>19975628646</td>\n",
       "      <td>949606941</td>\n",
       "      <td>10791895</td>\n",
       "      <td>57087827</td>\n",
       "    </tr>\n",
       "    <tr>\n",
       "      <th>Film &amp; Animation</th>\n",
       "      <td>3288770975</td>\n",
       "      <td>134900276</td>\n",
       "      <td>1284913</td>\n",
       "      <td>8997815</td>\n",
       "    </tr>\n",
       "    <tr>\n",
       "      <th>Gaming</th>\n",
       "      <td>12707874639</td>\n",
       "      <td>636812388</td>\n",
       "      <td>7253253</td>\n",
       "      <td>45685185</td>\n",
       "    </tr>\n",
       "    <tr>\n",
       "      <th>Howto &amp; Style</th>\n",
       "      <td>1447019696</td>\n",
       "      <td>69999732</td>\n",
       "      <td>1472522</td>\n",
       "      <td>4695396</td>\n",
       "    </tr>\n",
       "    <tr>\n",
       "      <th>Music</th>\n",
       "      <td>26411475050</td>\n",
       "      <td>1526689149</td>\n",
       "      <td>19983675</td>\n",
       "      <td>153471463</td>\n",
       "    </tr>\n",
       "    <tr>\n",
       "      <th>News &amp; Politics</th>\n",
       "      <td>1835850452</td>\n",
       "      <td>25305055</td>\n",
       "      <td>1529512</td>\n",
       "      <td>6777888</td>\n",
       "    </tr>\n",
       "    <tr>\n",
       "      <th>Nonprofits &amp; Activism</th>\n",
       "      <td>38611288</td>\n",
       "      <td>3117567</td>\n",
       "      <td>24313</td>\n",
       "      <td>110400</td>\n",
       "    </tr>\n",
       "    <tr>\n",
       "      <th>People &amp; Blogs</th>\n",
       "      <td>5826261532</td>\n",
       "      <td>329129996</td>\n",
       "      <td>5879201</td>\n",
       "      <td>19036545</td>\n",
       "    </tr>\n",
       "    <tr>\n",
       "      <th>Pets &amp; Animals</th>\n",
       "      <td>212731692</td>\n",
       "      <td>9249465</td>\n",
       "      <td>85988</td>\n",
       "      <td>573669</td>\n",
       "    </tr>\n",
       "    <tr>\n",
       "      <th>Science &amp; Technology</th>\n",
       "      <td>2449296072</td>\n",
       "      <td>106156012</td>\n",
       "      <td>1458620</td>\n",
       "      <td>6431125</td>\n",
       "    </tr>\n",
       "    <tr>\n",
       "      <th>Sports</th>\n",
       "      <td>7181195823</td>\n",
       "      <td>166281961</td>\n",
       "      <td>2735213</td>\n",
       "      <td>14088953</td>\n",
       "    </tr>\n",
       "    <tr>\n",
       "      <th>Travel &amp; Events</th>\n",
       "      <td>233076181</td>\n",
       "      <td>12482509</td>\n",
       "      <td>110155</td>\n",
       "      <td>609093</td>\n",
       "    </tr>\n",
       "  </tbody>\n",
       "</table>\n",
       "</div>"
      ],
      "text/plain": [
       "                        view_count       likes  dislikes  comment_count\n",
       "category                                                               \n",
       "Autos & Vehicles         707827683    29292332    303007        2416743\n",
       "Comedy                  3233653382   226454731   2221489       10606038\n",
       "Education               1677548721    91158491    911502        4969294\n",
       "Entertainment          19975628646   949606941  10791895       57087827\n",
       "Film & Animation        3288770975   134900276   1284913        8997815\n",
       "Gaming                 12707874639   636812388   7253253       45685185\n",
       "Howto & Style           1447019696    69999732   1472522        4695396\n",
       "Music                  26411475050  1526689149  19983675      153471463\n",
       "News & Politics         1835850452    25305055   1529512        6777888\n",
       "Nonprofits & Activism     38611288     3117567     24313         110400\n",
       "People & Blogs          5826261532   329129996   5879201       19036545\n",
       "Pets & Animals           212731692     9249465     85988         573669\n",
       "Science & Technology    2449296072   106156012   1458620        6431125\n",
       "Sports                  7181195823   166281961   2735213       14088953\n",
       "Travel & Events          233076181    12482509    110155         609093"
      ]
     },
     "execution_count": 83,
     "metadata": {},
     "output_type": "execute_result"
    }
   ],
   "source": [
    "#Groupby and sum view count, likes, dislikes, comment_count  by category \n",
    "lst = ['view_count','likes','dislikes','comment_count','category']\n",
    "category_group = trending_youtube[lst].groupby('category').sum()\n",
    "category_group\n"
   ]
  },
  {
   "cell_type": "code",
   "execution_count": 84,
   "id": "9d85431c-6ec1-423b-ba41-0551641b65b3",
   "metadata": {
    "scrolled": true
   },
   "outputs": [
    {
     "data": {
      "image/png": "[encoded data removed]",
      "text/plain": [
       "<Figure size 1440x936 with 4 Axes>"
      ]
     },
     "metadata": {},
     "output_type": "display_data"
    }
   ],
   "source": [
    "#Plotting the 5 categories with largest view count, likes, dislikes, comment_count\n",
    "plt.figure(figsize = (20,13))\n",
    "plt.subplot(2,2,1)\n",
    "\n",
    "lst = ['likes','dislikes','comment_count','view_count',]\n",
    "font = {'family':'serif','color':'black','size':20}\n",
    "for i in range(0,len(lst)):\n",
    "    plt.subplot(2,2,i+1)\n",
    "    x = category_group[lst[i]].nlargest(5).index\n",
    "    y = category_group[lst[i]].nlargest(5)\n",
    "    sns.barplot(x = x,y = y)\n",
    "    title = \"Five Categories with Largest \" + lst[i]\n",
    "    plt.title(title,font)"
   ]
  },
  {
   "cell_type": "markdown",
   "id": "d513e67d-b9c6-46cd-90ce-096019a95701",
   "metadata": {},
   "source": [
    "Based on the diagrams above, the categories that most youtube's users search for on Youtube are music, entertainment, gaming, people, and sports, respectively."
   ]
  },
  {
   "cell_type": "code",
   "execution_count": 85,
   "id": "42f94118-ebb4-4403-8a03-fce97bed8bdb",
   "metadata": {
    "tags": []
   },
   "outputs": [
    {
     "data": {
      "image/png": "[encoded data removed]",
      "text/plain": [
       "<Figure size 1440x936 with 4 Axes>"
      ]
     },
     "metadata": {},
     "output_type": "display_data"
    }
   ],
   "source": [
    "#Plotting the 5 categories with smallest view count, likes, dislikes, comment_count \n",
    "plt.figure(figsize = (20,13))\n",
    "plt.subplot(2,2,1)\n",
    "\n",
    "lst = ['likes','dislikes','view_count','comment_count']\n",
    "font = {'family':'serif','color':'black','size':20}\n",
    "for i in range(0,len(lst)):\n",
    "    plt.subplot(2,2,i+1)\n",
    "    x = category_group[lst[i]].nsmallest(5).index\n",
    "    y = category_group[lst[i]].nsmallest(5)\n",
    "    sns.barplot(x = x,y = y)\n",
    "    title = \"Five Categories with Smallest \" + lst[i]\n",
    "    plt.title(title,font)\n"
   ]
  },
  {
   "cell_type": "markdown",
   "id": "48d723d8-9966-4d67-be5f-f8b0f15f9748",
   "metadata": {},
   "source": [
    "Based on the diagrams above, youtube users are not interested much in the nonprofit, pet & animals, and travels category."
   ]
  },
  {
   "cell_type": "code",
   "execution_count": null,
   "id": "1fd001cd",
   "metadata": {},
   "outputs": [],
   "source": [
    "#function to perform min-max normalization on a column\n",
    "def min_max_normalize(col):\n",
    "    return (col - col.min()) / (col.max() - col.min())\n",
    "\n",
    "# normalize the view_count, likes, dislikes, and comment_count columns using min-max normalization\n",
    "view_count_normalized = min_max_normalize(trending_youtube['view_count'])\n",
    "likes_normalized = min_max_normalize(trending_youtube['likes'])\n",
    "dislikes_normalized = min_max_normalize(trending_youtube['dislikes'])\n",
    "comment_count_normalized = min_max_normalize(trending_youtube['comment_count'])"
   ]
  },
  {
   "cell_type": "code",
   "execution_count": 98,
   "id": "32eaef45",
   "metadata": {},
   "outputs": [
    {
     "name": "stdout",
     "output_type": "stream",
     "text": [
      "0    0.001488\n",
      "1    0.001108\n",
      "2    0.004459\n",
      "3    0.003377\n",
      "4    0.006199\n",
      "Name: view_count, dtype: float64\n",
      "0    0.001649\n",
      "1    0.003076\n",
      "2    0.006536\n",
      "3    0.002751\n",
      "4    0.010579\n",
      "Name: likes, dtype: float64\n",
      "0    0.000333\n",
      "1    0.000158\n",
      "2    0.004249\n",
      "3    0.000643\n",
      "4    0.001054\n",
      "Name: dislikes, dtype: float64\n",
      "0    0.000222\n",
      "1    0.000434\n",
      "2    0.002059\n",
      "3    0.000357\n",
      "4    0.001078\n",
      "Name: comment_count, dtype: float64\n"
     ]
    }
   ],
   "source": [
    "print(view_count_normalized.head())\n",
    "print(likes_normalized.head())\n",
    "print(dislikes_normalized.head())\n",
    "print(comment_count_normalized.head())"
   ]
  },
  {
   "cell_type": "markdown",
   "id": "b217f623",
   "metadata": {},
   "source": [
    "##### Time lag analysis"
   ]
  },
  {
   "cell_type": "markdown",
   "id": "493fbcb0",
   "metadata": {},
   "source": [
    " The time lag between when a video is published and when it first appears on the trending list, and identify any factors that may cause this delay"
   ]
  },
  {
   "cell_type": "code",
   "execution_count": 99,
   "id": "b41df602",
   "metadata": {},
   "outputs": [
    {
     "data": {
      "image/png": "[encoded data removed]",
      "text/plain": [
       "<Figure size 432x288 with 1 Axes>"
      ]
     },
     "metadata": {},
     "output_type": "display_data"
    },
    {
     "name": "stdout",
     "output_type": "stream",
     "text": [
      "\n",
      "Factor: channelId\n",
      "channelId\n",
      "UCVZnJqm6IN89xK359XiXmIw    35.0\n",
      "UCxMMA6NjRPaVH52iGRe7VpA    32.0\n",
      "UCvmofFg-oZc4jvBUIfZbjzg    31.0\n",
      "UCjQbTcszB-gRhDByY9WhySw    30.0\n",
      "UCsmvyN1ioujLMALHNKVnsSA    26.0\n",
      "UCiJUp_NBW2D_UMQIvq2nlPg    26.0\n",
      "UCWEtnEiVwUy7mwFeshyAWLA    22.0\n",
      "UCMmvhaKpOxeyneANESIYXcA    20.0\n",
      "UC9M7-jzdU8CVrQo1JwmIdWA    17.0\n",
      "UCSFOWOgB_s52kkhzRaCS2gQ    17.0\n",
      "Name: time_lag, dtype: float64\n",
      "\n",
      "Factor: categoryId\n",
      "categoryId\n",
      "29    5.777778\n",
      "15    5.239437\n",
      "10    5.144784\n",
      "1     5.127085\n",
      "25    5.122731\n",
      "23    5.115693\n",
      "24    5.031722\n",
      "26    4.965554\n",
      "22    4.949066\n",
      "27    4.896168\n",
      "Name: time_lag, dtype: float64\n",
      "\n",
      "Factor: tags\n",
      "tags\n",
      "Liverpool FC LFC Liverpool Anfield Melwood Liverpool Football Club premier league klopp liverpool Klopp Inside LFC Mohamed Salah Salah hat-trick Old Trafford Manchester United 0-5 Liverpool Manchester Vs Liverpool 0-5 Highlights Mohamed Salah best in the world                                                                                                                                                                                                            36.0\n",
      "Jada Pinkett Smith Jada Pinkett Smith chris rock chris rock chris rock will smith full video will smith chris rock gi jane 2 guardian oscars oscars 2022 oscars 2022 will smith chris rock uncensored will smith will smith chris rock will smith hits chris rock will smith oscars will smith punches chris rock will smith slaps chris rock will smith smacks chris rock will smith slap will smith punch will smith hitting chris rock will smith banned from oscars jada    35.0\n",
      "TV Series Hilarious Music Songs Highlights Simon Cowell Howie Mandel Terry Crews America's Got Talent AGT Best Auditions Sofia Vergara New AGT Full Performance AGT Full Performances Season 16 America's Got Talent Season 16 AGT 16 America's Got Talent 2021 agt america's got talent america's got talent auditions agt auditions heidi klum judges performance golden buzzer golden buzzer performance victory brinker juliet's waltz collective golden buzzer             35.0\n",
      "Australia India day five fourth Test Gabba highlights Rishabh Pant Cheteshwar Pujara Shubman Gill                                                                                                                                                                                                                                                                                                                                                                               35.0\n",
      "britain's got talent britains got talent talent bgt ant and dec ant dec simon cowell david walliams alesha dixon amanda holden Britain's Got Talent Unseen BGT Unseen got talent bgt auditions bgt judges britains got talent auditions british talent show ant and dec on bgt Great Britain amazing auditions london auditions BGT 2022 Britain's Got Talent 2022 witch bgt bgt witch scary bgt bgt scary witch scary audition bgt witch audition                              33.0\n",
      "sketch comedy skit meme weird silly bc canada canadian amateur studio funny asmr reaction video tik tok youtube kelowna clip vlog casual positive comedian costume dressing up youtuber sketches surreal                                                                                                                                                                                                                                                                        32.0\n",
      "dazn boxing highlights full fight ko knockout top 10 The DAZN Boxing Show Pelea Boxeo Pugile dazn boxing anthony joshua oleksandr usyk usyk                                                                                                                                                                                                                                                                                                                                     31.0\n",
      "international women's day what is international women's day celebrating international women's day feminism feminist women's day history of feminism suffrage history of suffrage women in Britain women in history women educational videos history history for kids primary school school classroom resources lessons educational video history resources classroom resources edtech learning teaching learning resources teaching resources clickview                         31.0\n",
      "jimmy jimmy kimmel jimmy kimmel live late night talk show funny comedic comedy clip comedian mean tweets Monologue Guillermo Hollywood Los Angeles Live Audience Studio Oscars Red Carpet Regina Hall Coda Best Picture Will Smith Chris Rock The Slap Oscars Slap Jada Smith Denzel Washington Diddy Academy Awards Vanity Fair Oscar Incident Timothy Chalamet Julia Fox Celebrities Acceptance Speech GI Jane                                                                30.0\n",
      "NATO Vox.com explain explainer russia vladimir putin vox vox atlas Russian president Putin Ukraine latest news russia news russian history warsaw pact warsaw pact vs nato nato news zelensky president ukraine president zelensky volodymyr zelensky russian invasion russia invades ukraine why is putin invading ukraine why is russia invading ukraine ukraine explained ukraine 2022 russia vs ukraine russia vs ukraine war update ukraine putin ukraine russia news      30.0\n",
      "Name: time_lag, dtype: float64\n"
     ]
    }
   ],
   "source": [
    "# Create a new column for time lag between publishing and trending\n",
    "trending_youtube['time_lag'] = (trending_youtube['trending_date'] - trending_youtube['publishedAt']).dt.days\n",
    "\n",
    "# Plot time lag distribution\n",
    "plt.hist(trending_youtube['time_lag'], bins=30)\n",
    "plt.title('Time Lag Distribution')\n",
    "plt.xlabel('Days')\n",
    "plt.ylabel('Frequency')\n",
    "plt.show()\n",
    "\n",
    "# Identify factors that may cause delays\n",
    "delay_factors = ['channelId', 'categoryId', 'tags']\n",
    "for factor in delay_factors:\n",
    "    print('\\nFactor:', factor)\n",
    "    print(trending_youtube.groupby(factor)['time_lag'].mean().sort_values(ascending=False).head(10))"
   ]
  },
  {
   "cell_type": "markdown",
   "id": "4fbf7ae9",
   "metadata": {},
   "source": [
    "By understanding the factors that may cause delays in a video's appearance on the trending list, content creators and marketers can make more informed decisions about the topics, timing, and promotion strategies for their videos to maximize their chances of success on YouTube."
   ]
  },
  {
   "cell_type": "markdown",
   "id": "8a28615c",
   "metadata": {},
   "source": [
    "###### Time-of-day and day-of-week analysis"
   ]
  },
  {
   "cell_type": "markdown",
   "id": "77452cd9",
   "metadata": {},
   "source": [
    "Calculate the average view count for videos published on different days of the week or at different times of day..."
   ]
  },
  {
   "cell_type": "code",
   "execution_count": 100,
   "id": "cf55d3fd",
   "metadata": {},
   "outputs": [
    {
     "data": {
      "image/png": "[encoded data removed]",
      "text/plain": [
       "<Figure size 432x288 with 1 Axes>"
      ]
     },
     "metadata": {},
     "output_type": "display_data"
    }
   ],
   "source": [
    "trending_youtube['hour'] = trending_youtube['publishedAt'].dt.hour\n",
    "trending_youtube['day_of_week'] = trending_youtube['publishedAt'].dt.day_name()\n",
    "# Group by day of week and calculate average view count\n",
    "daily_view_count = trending_youtube.groupby('day_of_week')['view_count'].mean()\n",
    "\n",
    "# Plot average view count by day of week\n",
    "plt.bar(daily_view_count.index, daily_view_count.values)\n",
    "plt.title('Average View Count by Day of Week')\n",
    "plt.xlabel('Day of Week')\n",
    "plt.ylabel('Average View Count')\n",
    "plt.show()"
   ]
  },
  {
   "cell_type": "markdown",
   "id": "db9637a9",
   "metadata": {},
   "source": [
    "Analyzing the time-of-day and day-of-week trends can help content creators and marketers make more informed decisions about when to publish their videos, how to promote them, and how to optimize their content to maximize their reach and engagement on YouTube."
   ]
  },
  {
   "cell_type": "markdown",
   "id": "de49f6c7",
   "metadata": {},
   "source": [
    "##### Time difference between publication and trending by category"
   ]
  },
  {
   "cell_type": "code",
   "execution_count": 101,
   "id": "85745449",
   "metadata": {},
   "outputs": [
    {
     "data": {
      "image/png": "[encoded data removed]",
      "text/plain": [
       "<Figure size 576x720 with 3 Axes>"
      ]
     },
     "metadata": {},
     "output_type": "display_data"
    }
   ],
   "source": [
    "# Group the data by category and calculate the average time difference, view count, and engagement rate for each category\n",
    "category_stats = trending_youtube.groupby('categoryId').agg({\n",
    "    'time_diff': 'mean',\n",
    "    'view_count': 'mean',\n",
    "    'likes': 'sum',\n",
    "    'dislikes': 'sum',\n",
    "    'comment_count': 'sum'\n",
    "})\n",
    "\n",
    "# Calculate engagement rate as the sum of likes, dislikes, and comments divided by view count\n",
    "category_stats['engagement_rate'] = (category_stats['likes'] + category_stats['dislikes'] + category_stats['comment_count']) / category_stats['view_count']\n",
    "\n",
    "# Find the top 10 categories by engagement rate\n",
    "top_categories = category_stats.sort_values('engagement_rate', ascending=False).head(10)\n",
    "\n",
    "# Plot the average time difference, view count, and engagement rate for the top 10 categories\n",
    "fig, ax = plt.subplots(3, 1, figsize=(8, 10))\n",
    "ax[0].bar(top_categories.index, top_categories['time_diff'])\n",
    "ax[0].set_ylabel('Average Time Difference (days)')\n",
    "ax[1].bar(top_categories.index, top_categories['view_count'])\n",
    "ax[1].set_ylabel('Average View Count')\n",
    "ax[2].bar(top_categories.index, top_categories['engagement_rate'])\n",
    "ax[2].set_ylabel('Average Engagement Rate')\n",
    "plt.tight_layout()\n",
    "plt.show()"
   ]
  },
  {
   "cell_type": "markdown",
   "id": "76c499a6",
   "metadata": {},
   "source": [
    "That helps identify patterns in how quickly videos become popular on the platform and any factors that may influence the speed of their rise to popularity. By analyzing the time difference between publication and trending for videos in different categories, the analysis can also help identify whether certain categories or topics tend to become popular more quickly or slowly, and can provide insights into the preferences and behavior of YouTube users. "
   ]
  },
  {
   "cell_type": "code",
   "execution_count": null,
   "id": "c4a310dc",
   "metadata": {},
   "outputs": [],
   "source": []
  }
 ],
 "metadata": {
  "colab": {
   "provenance": []
  },
  "kernelspec": {
   "display_name": "Python 3 (ipykernel)",
   "language": "python",
   "name": "python3"
  },
  "language_info": {
   "codemirror_mode": {
    "name": "ipython",
    "version": 3
   },
   "file_extension": ".py",
   "mimetype": "text/x-python",
   "name": "python",
   "nbconvert_exporter": "python",
   "pygments_lexer": "ipython3",
   "version": "3.9.12"
  }
 },
 "nbformat": 4,
 "nbformat_minor": 5
}
